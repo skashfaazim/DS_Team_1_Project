{
 "cells": [
  {
   "cell_type": "code",
   "execution_count": null,
   "id": "c51cc408",
   "metadata": {},
   "outputs": [
    {
     "data": {
      "application/vnd.plotly.v1+json": {
       "config": {
        "plotlyServerURL": "https://plot.ly"
       },
       "data": [
        {
         "alignmentgroup": "True",
         "hovertemplate": "User Type=casual<br>hour_label=%{x}<br>Avg Rentals=%{y}<extra></extra>",
         "legendgroup": "casual",
         "marker": {
          "color": "rgb(102,194,165)",
          "pattern": {
           "shape": ""
          }
         },
         "name": "casual",
         "offsetgroup": "casual",
         "orientation": "v",
         "showlegend": true,
         "textposition": "auto",
         "type": "bar",
         "x": [
          "00:00",
          "01:00",
          "02:00",
          "03:00",
          "04:00",
          "05:00",
          "06:00",
          "07:00",
          "08:00",
          "09:00",
          "10:00",
          "11:00",
          "12:00",
          "13:00",
          "14:00",
          "15:00",
          "16:00",
          "17:00",
          "18:00",
          "19:00",
          "20:00",
          "21:00",
          "22:00",
          "23:00"
         ],
         "xaxis": "x",
         "y": {
          "bdata": "rlv6FxpRJEClP2c7PgQaQFLULYCOFhNAuq3fFze6BUAQdOQiKRD0Py52iXs+lfY/cLownkClEEB1bBSqKxwmQIXqCgf0rTVAGQg/ey7kPkBqfg9MGD1HQDL3jqYxxU1ALdACLdASUUDnh0XKwBNSQPB0a35Y5FJAg2xDQPG5UkD7wlJysW9SQBkxYsSIkVJA+HiP93iPTkAqozIqo2JIQN7jPd7jHUJAF2iBFmhBPEALtEALtEA2QGD6pV/6ZS5A",
          "dtype": "f8"
         },
         "yaxis": "y"
        },
        {
         "alignmentgroup": "True",
         "hovertemplate": "User Type=registered<br>hour_label=%{x}<br>Avg Rentals=%{y}<extra></extra>",
         "legendgroup": "registered",
         "marker": {
          "color": "rgb(252,141,98)",
          "pattern": {
           "shape": ""
          }
         },
         "name": "registered",
         "offsetgroup": "registered",
         "orientation": "v",
         "showlegend": true,
         "textposition": "auto",
         "type": "bar",
         "x": [
          "00:00",
          "01:00",
          "02:00",
          "03:00",
          "04:00",
          "05:00",
          "06:00",
          "07:00",
          "08:00",
          "09:00",
          "10:00",
          "11:00",
          "12:00",
          "13:00",
          "14:00",
          "15:00",
          "16:00",
          "17:00",
          "18:00",
          "19:00",
          "20:00",
          "21:00",
          "22:00",
          "23:00"
         ],
         "xaxis": "x",
         "y": {
          "bdata": "/JHTfK3eRUC+0p+zHd86QAWzpBwQGTJABnDHaeAFIkBlTLAgX2UUQJP0n0B3ejJA8ocDHn/4UUD8BangTiBpQJ8LOdJNFXVAHk1jimGNZ0BQEhSRPMxfQG0tmXtHk2JAC7RAC7QgZ0DkzzD9R6tmQLoH+vgzrGRALemot30KZkB6WhudoMdtQC5btmzZMnhA5D3e4z3GdkBBC7RAC2xwQJh+6Zd+uWdA3uM93uMBYkBURmVURkVbQIdwCIdwKFJA",
          "dtype": "f8"
         },
         "yaxis": "y"
        }
       ],
       "layout": {
        "barmode": "group",
        "legend": {
         "title": {
          "text": "User Type"
         },
         "tracegroupgap": 0
        },
        "template": {
         "data": {
          "bar": [
           {
            "error_x": {
             "color": "#2a3f5f"
            },
            "error_y": {
             "color": "#2a3f5f"
            },
            "marker": {
             "line": {
              "color": "#E5ECF6",
              "width": 0.5
             },
             "pattern": {
              "fillmode": "overlay",
              "size": 10,
              "solidity": 0.2
             }
            },
            "type": "bar"
           }
          ],
          "barpolar": [
           {
            "marker": {
             "line": {
              "color": "#E5ECF6",
              "width": 0.5
             },
             "pattern": {
              "fillmode": "overlay",
              "size": 10,
              "solidity": 0.2
             }
            },
            "type": "barpolar"
           }
          ],
          "carpet": [
           {
            "aaxis": {
             "endlinecolor": "#2a3f5f",
             "gridcolor": "white",
             "linecolor": "white",
             "minorgridcolor": "white",
             "startlinecolor": "#2a3f5f"
            },
            "baxis": {
             "endlinecolor": "#2a3f5f",
             "gridcolor": "white",
             "linecolor": "white",
             "minorgridcolor": "white",
             "startlinecolor": "#2a3f5f"
            },
            "type": "carpet"
           }
          ],
          "choropleth": [
           {
            "colorbar": {
             "outlinewidth": 0,
             "ticks": ""
            },
            "type": "choropleth"
           }
          ],
          "contour": [
           {
            "colorbar": {
             "outlinewidth": 0,
             "ticks": ""
            },
            "colorscale": [
             [
              0,
              "#0d0887"
             ],
             [
              0.1111111111111111,
              "#46039f"
             ],
             [
              0.2222222222222222,
              "#7201a8"
             ],
             [
              0.3333333333333333,
              "#9c179e"
             ],
             [
              0.4444444444444444,
              "#bd3786"
             ],
             [
              0.5555555555555556,
              "#d8576b"
             ],
             [
              0.6666666666666666,
              "#ed7953"
             ],
             [
              0.7777777777777778,
              "#fb9f3a"
             ],
             [
              0.8888888888888888,
              "#fdca26"
             ],
             [
              1,
              "#f0f921"
             ]
            ],
            "type": "contour"
           }
          ],
          "contourcarpet": [
           {
            "colorbar": {
             "outlinewidth": 0,
             "ticks": ""
            },
            "type": "contourcarpet"
           }
          ],
          "heatmap": [
           {
            "colorbar": {
             "outlinewidth": 0,
             "ticks": ""
            },
            "colorscale": [
             [
              0,
              "#0d0887"
             ],
             [
              0.1111111111111111,
              "#46039f"
             ],
             [
              0.2222222222222222,
              "#7201a8"
             ],
             [
              0.3333333333333333,
              "#9c179e"
             ],
             [
              0.4444444444444444,
              "#bd3786"
             ],
             [
              0.5555555555555556,
              "#d8576b"
             ],
             [
              0.6666666666666666,
              "#ed7953"
             ],
             [
              0.7777777777777778,
              "#fb9f3a"
             ],
             [
              0.8888888888888888,
              "#fdca26"
             ],
             [
              1,
              "#f0f921"
             ]
            ],
            "type": "heatmap"
           }
          ],
          "histogram": [
           {
            "marker": {
             "pattern": {
              "fillmode": "overlay",
              "size": 10,
              "solidity": 0.2
             }
            },
            "type": "histogram"
           }
          ],
          "histogram2d": [
           {
            "colorbar": {
             "outlinewidth": 0,
             "ticks": ""
            },
            "colorscale": [
             [
              0,
              "#0d0887"
             ],
             [
              0.1111111111111111,
              "#46039f"
             ],
             [
              0.2222222222222222,
              "#7201a8"
             ],
             [
              0.3333333333333333,
              "#9c179e"
             ],
             [
              0.4444444444444444,
              "#bd3786"
             ],
             [
              0.5555555555555556,
              "#d8576b"
             ],
             [
              0.6666666666666666,
              "#ed7953"
             ],
             [
              0.7777777777777778,
              "#fb9f3a"
             ],
             [
              0.8888888888888888,
              "#fdca26"
             ],
             [
              1,
              "#f0f921"
             ]
            ],
            "type": "histogram2d"
           }
          ],
          "histogram2dcontour": [
           {
            "colorbar": {
             "outlinewidth": 0,
             "ticks": ""
            },
            "colorscale": [
             [
              0,
              "#0d0887"
             ],
             [
              0.1111111111111111,
              "#46039f"
             ],
             [
              0.2222222222222222,
              "#7201a8"
             ],
             [
              0.3333333333333333,
              "#9c179e"
             ],
             [
              0.4444444444444444,
              "#bd3786"
             ],
             [
              0.5555555555555556,
              "#d8576b"
             ],
             [
              0.6666666666666666,
              "#ed7953"
             ],
             [
              0.7777777777777778,
              "#fb9f3a"
             ],
             [
              0.8888888888888888,
              "#fdca26"
             ],
             [
              1,
              "#f0f921"
             ]
            ],
            "type": "histogram2dcontour"
           }
          ],
          "mesh3d": [
           {
            "colorbar": {
             "outlinewidth": 0,
             "ticks": ""
            },
            "type": "mesh3d"
           }
          ],
          "parcoords": [
           {
            "line": {
             "colorbar": {
              "outlinewidth": 0,
              "ticks": ""
             }
            },
            "type": "parcoords"
           }
          ],
          "pie": [
           {
            "automargin": true,
            "type": "pie"
           }
          ],
          "scatter": [
           {
            "fillpattern": {
             "fillmode": "overlay",
             "size": 10,
             "solidity": 0.2
            },
            "type": "scatter"
           }
          ],
          "scatter3d": [
           {
            "line": {
             "colorbar": {
              "outlinewidth": 0,
              "ticks": ""
             }
            },
            "marker": {
             "colorbar": {
              "outlinewidth": 0,
              "ticks": ""
             }
            },
            "type": "scatter3d"
           }
          ],
          "scattercarpet": [
           {
            "marker": {
             "colorbar": {
              "outlinewidth": 0,
              "ticks": ""
             }
            },
            "type": "scattercarpet"
           }
          ],
          "scattergeo": [
           {
            "marker": {
             "colorbar": {
              "outlinewidth": 0,
              "ticks": ""
             }
            },
            "type": "scattergeo"
           }
          ],
          "scattergl": [
           {
            "marker": {
             "colorbar": {
              "outlinewidth": 0,
              "ticks": ""
             }
            },
            "type": "scattergl"
           }
          ],
          "scattermap": [
           {
            "marker": {
             "colorbar": {
              "outlinewidth": 0,
              "ticks": ""
             }
            },
            "type": "scattermap"
           }
          ],
          "scattermapbox": [
           {
            "marker": {
             "colorbar": {
              "outlinewidth": 0,
              "ticks": ""
             }
            },
            "type": "scattermapbox"
           }
          ],
          "scatterpolar": [
           {
            "marker": {
             "colorbar": {
              "outlinewidth": 0,
              "ticks": ""
             }
            },
            "type": "scatterpolar"
           }
          ],
          "scatterpolargl": [
           {
            "marker": {
             "colorbar": {
              "outlinewidth": 0,
              "ticks": ""
             }
            },
            "type": "scatterpolargl"
           }
          ],
          "scatterternary": [
           {
            "marker": {
             "colorbar": {
              "outlinewidth": 0,
              "ticks": ""
             }
            },
            "type": "scatterternary"
           }
          ],
          "surface": [
           {
            "colorbar": {
             "outlinewidth": 0,
             "ticks": ""
            },
            "colorscale": [
             [
              0,
              "#0d0887"
             ],
             [
              0.1111111111111111,
              "#46039f"
             ],
             [
              0.2222222222222222,
              "#7201a8"
             ],
             [
              0.3333333333333333,
              "#9c179e"
             ],
             [
              0.4444444444444444,
              "#bd3786"
             ],
             [
              0.5555555555555556,
              "#d8576b"
             ],
             [
              0.6666666666666666,
              "#ed7953"
             ],
             [
              0.7777777777777778,
              "#fb9f3a"
             ],
             [
              0.8888888888888888,
              "#fdca26"
             ],
             [
              1,
              "#f0f921"
             ]
            ],
            "type": "surface"
           }
          ],
          "table": [
           {
            "cells": {
             "fill": {
              "color": "#EBF0F8"
             },
             "line": {
              "color": "white"
             }
            },
            "header": {
             "fill": {
              "color": "#C8D4E3"
             },
             "line": {
              "color": "white"
             }
            },
            "type": "table"
           }
          ]
         },
         "layout": {
          "annotationdefaults": {
           "arrowcolor": "#2a3f5f",
           "arrowhead": 0,
           "arrowwidth": 1
          },
          "autotypenumbers": "strict",
          "coloraxis": {
           "colorbar": {
            "outlinewidth": 0,
            "ticks": ""
           }
          },
          "colorscale": {
           "diverging": [
            [
             0,
             "#8e0152"
            ],
            [
             0.1,
             "#c51b7d"
            ],
            [
             0.2,
             "#de77ae"
            ],
            [
             0.3,
             "#f1b6da"
            ],
            [
             0.4,
             "#fde0ef"
            ],
            [
             0.5,
             "#f7f7f7"
            ],
            [
             0.6,
             "#e6f5d0"
            ],
            [
             0.7,
             "#b8e186"
            ],
            [
             0.8,
             "#7fbc41"
            ],
            [
             0.9,
             "#4d9221"
            ],
            [
             1,
             "#276419"
            ]
           ],
           "sequential": [
            [
             0,
             "#0d0887"
            ],
            [
             0.1111111111111111,
             "#46039f"
            ],
            [
             0.2222222222222222,
             "#7201a8"
            ],
            [
             0.3333333333333333,
             "#9c179e"
            ],
            [
             0.4444444444444444,
             "#bd3786"
            ],
            [
             0.5555555555555556,
             "#d8576b"
            ],
            [
             0.6666666666666666,
             "#ed7953"
            ],
            [
             0.7777777777777778,
             "#fb9f3a"
            ],
            [
             0.8888888888888888,
             "#fdca26"
            ],
            [
             1,
             "#f0f921"
            ]
           ],
           "sequentialminus": [
            [
             0,
             "#0d0887"
            ],
            [
             0.1111111111111111,
             "#46039f"
            ],
            [
             0.2222222222222222,
             "#7201a8"
            ],
            [
             0.3333333333333333,
             "#9c179e"
            ],
            [
             0.4444444444444444,
             "#bd3786"
            ],
            [
             0.5555555555555556,
             "#d8576b"
            ],
            [
             0.6666666666666666,
             "#ed7953"
            ],
            [
             0.7777777777777778,
             "#fb9f3a"
            ],
            [
             0.8888888888888888,
             "#fdca26"
            ],
            [
             1,
             "#f0f921"
            ]
           ]
          },
          "colorway": [
           "#636efa",
           "#EF553B",
           "#00cc96",
           "#ab63fa",
           "#FFA15A",
           "#19d3f3",
           "#FF6692",
           "#B6E880",
           "#FF97FF",
           "#FECB52"
          ],
          "font": {
           "color": "#2a3f5f"
          },
          "geo": {
           "bgcolor": "white",
           "lakecolor": "white",
           "landcolor": "#E5ECF6",
           "showlakes": true,
           "showland": true,
           "subunitcolor": "white"
          },
          "hoverlabel": {
           "align": "left"
          },
          "hovermode": "closest",
          "mapbox": {
           "style": "light"
          },
          "paper_bgcolor": "white",
          "plot_bgcolor": "#E5ECF6",
          "polar": {
           "angularaxis": {
            "gridcolor": "white",
            "linecolor": "white",
            "ticks": ""
           },
           "bgcolor": "#E5ECF6",
           "radialaxis": {
            "gridcolor": "white",
            "linecolor": "white",
            "ticks": ""
           }
          },
          "scene": {
           "xaxis": {
            "backgroundcolor": "#E5ECF6",
            "gridcolor": "white",
            "gridwidth": 2,
            "linecolor": "white",
            "showbackground": true,
            "ticks": "",
            "zerolinecolor": "white"
           },
           "yaxis": {
            "backgroundcolor": "#E5ECF6",
            "gridcolor": "white",
            "gridwidth": 2,
            "linecolor": "white",
            "showbackground": true,
            "ticks": "",
            "zerolinecolor": "white"
           },
           "zaxis": {
            "backgroundcolor": "#E5ECF6",
            "gridcolor": "white",
            "gridwidth": 2,
            "linecolor": "white",
            "showbackground": true,
            "ticks": "",
            "zerolinecolor": "white"
           }
          },
          "shapedefaults": {
           "line": {
            "color": "#2a3f5f"
           }
          },
          "ternary": {
           "aaxis": {
            "gridcolor": "white",
            "linecolor": "white",
            "ticks": ""
           },
           "baxis": {
            "gridcolor": "white",
            "linecolor": "white",
            "ticks": ""
           },
           "bgcolor": "#E5ECF6",
           "caxis": {
            "gridcolor": "white",
            "linecolor": "white",
            "ticks": ""
           }
          },
          "title": {
           "x": 0.05
          },
          "xaxis": {
           "automargin": true,
           "gridcolor": "white",
           "linecolor": "white",
           "ticks": "",
           "title": {
            "standoff": 15
           },
           "zerolinecolor": "white",
           "zerolinewidth": 2
          },
          "yaxis": {
           "automargin": true,
           "gridcolor": "white",
           "linecolor": "white",
           "ticks": "",
           "title": {
            "standoff": 15
           },
           "zerolinecolor": "white",
           "zerolinewidth": 2
          }
         }
        },
        "title": {
         "text": "Average Hourly Demand (Casual vs Registered)"
        },
        "xaxis": {
         "anchor": "y",
         "domain": [
          0,
          1
         ],
         "title": {
          "text": "Hour of Day"
         }
        },
        "yaxis": {
         "anchor": "x",
         "domain": [
          0,
          1
         ],
         "title": {
          "text": "Average Rentals"
         }
        }
       }
      }
     },
     "metadata": {},
     "output_type": "display_data"
    },
    {
     "data": {
      "application/vnd.plotly.v1+json": {
       "config": {
        "plotlyServerURL": "https://plot.ly"
       },
       "data": [
        {
         "hovertemplate": "day_type=Weekend/Holiday<br>hour_label=%{x}<br>cnt=%{y}<extra></extra>",
         "legendgroup": "Weekend/Holiday",
         "line": {
          "color": "rgb(136, 204, 238)",
          "dash": "solid"
         },
         "marker": {
          "symbol": "circle"
         },
         "mode": "lines+markers",
         "name": "Weekend/Holiday",
         "orientation": "v",
         "showlegend": true,
         "type": "scatter",
         "x": [
          "00:00",
          "01:00",
          "02:00",
          "03:00",
          "04:00",
          "05:00",
          "06:00",
          "07:00",
          "08:00",
          "09:00",
          "10:00",
          "11:00",
          "12:00",
          "13:00",
          "14:00",
          "15:00",
          "16:00",
          "17:00",
          "18:00",
          "19:00",
          "20:00",
          "21:00",
          "22:00",
          "23:00"
         ],
         "xaxis": "x",
         "y": {
          "bdata": "3lulKX6JV0CzDrTdWyVSQItwS82G/UtAeD49bsb+OkBFuKVmw/4gQC+DUcCh+SBAdmIndmLHMUBERERERMRDQKuqqqqqylhAVVVVVVV1ZUAncAIncFJwQH/sx37sH3RALL7iK75id0AncAIncMJ3QPuxH/uxR3dALuVSLuUCd0DFV3zFV4x2QJdyKZdyaXRA1oG2e6ukcUDLOtB2bxVtQKf4JRFSzWVAPW7G/jC4YUDG/jBYODJdQLd7qzTFL1ZA",
          "dtype": "f8"
         },
         "yaxis": "y"
        },
        {
         "hovertemplate": "day_type=Working Day<br>hour_label=%{x}<br>cnt=%{y}<extra></extra>",
         "legendgroup": "Working Day",
         "line": {
          "color": "rgb(204, 102, 119)",
          "dash": "solid"
         },
         "marker": {
          "symbol": "circle"
         },
         "mode": "lines+markers",
         "name": "Working Day",
         "orientation": "v",
         "showlegend": true,
         "type": "scatter",
         "x": [
          "00:00",
          "01:00",
          "02:00",
          "03:00",
          "04:00",
          "05:00",
          "06:00",
          "07:00",
          "08:00",
          "09:00",
          "10:00",
          "11:00",
          "12:00",
          "13:00",
          "14:00",
          "15:00",
          "16:00",
          "17:00",
          "18:00",
          "19:00",
          "20:00",
          "21:00",
          "22:00",
          "23:00"
         ],
         "xaxis": "x",
         "y": {
          "bdata": "dp1adTfQQkByCU/LzXYxQDAYDAaDwSJAzvsUlwzBFEC/hYBRqskVQGVNWVPWVDhAvIEyUhLfWECru4EyUqJxQCq8tLfpCH1A4z5NFCvVbUDURLFSRURhQNtBfzO4PGRApB5LPEGKaUDawRFEWk9pQGm9gG1Od2dApPUCtjl9aUAIfuAHfkRyQLVSK7VSH4BAHhxBpPUyfkAsqmF2cHR1QMXHfbcU2m5AR8c0g9oTZ0B+AEk0OiZhQCgZi2qY3VVA",
          "dtype": "f8"
         },
         "yaxis": "y"
        }
       ],
       "layout": {
        "legend": {
         "title": {
          "text": "day_type"
         },
         "tracegroupgap": 0
        },
        "template": {
         "data": {
          "bar": [
           {
            "error_x": {
             "color": "#2a3f5f"
            },
            "error_y": {
             "color": "#2a3f5f"
            },
            "marker": {
             "line": {
              "color": "#E5ECF6",
              "width": 0.5
             },
             "pattern": {
              "fillmode": "overlay",
              "size": 10,
              "solidity": 0.2
             }
            },
            "type": "bar"
           }
          ],
          "barpolar": [
           {
            "marker": {
             "line": {
              "color": "#E5ECF6",
              "width": 0.5
             },
             "pattern": {
              "fillmode": "overlay",
              "size": 10,
              "solidity": 0.2
             }
            },
            "type": "barpolar"
           }
          ],
          "carpet": [
           {
            "aaxis": {
             "endlinecolor": "#2a3f5f",
             "gridcolor": "white",
             "linecolor": "white",
             "minorgridcolor": "white",
             "startlinecolor": "#2a3f5f"
            },
            "baxis": {
             "endlinecolor": "#2a3f5f",
             "gridcolor": "white",
             "linecolor": "white",
             "minorgridcolor": "white",
             "startlinecolor": "#2a3f5f"
            },
            "type": "carpet"
           }
          ],
          "choropleth": [
           {
            "colorbar": {
             "outlinewidth": 0,
             "ticks": ""
            },
            "type": "choropleth"
           }
          ],
          "contour": [
           {
            "colorbar": {
             "outlinewidth": 0,
             "ticks": ""
            },
            "colorscale": [
             [
              0,
              "#0d0887"
             ],
             [
              0.1111111111111111,
              "#46039f"
             ],
             [
              0.2222222222222222,
              "#7201a8"
             ],
             [
              0.3333333333333333,
              "#9c179e"
             ],
             [
              0.4444444444444444,
              "#bd3786"
             ],
             [
              0.5555555555555556,
              "#d8576b"
             ],
             [
              0.6666666666666666,
              "#ed7953"
             ],
             [
              0.7777777777777778,
              "#fb9f3a"
             ],
             [
              0.8888888888888888,
              "#fdca26"
             ],
             [
              1,
              "#f0f921"
             ]
            ],
            "type": "contour"
           }
          ],
          "contourcarpet": [
           {
            "colorbar": {
             "outlinewidth": 0,
             "ticks": ""
            },
            "type": "contourcarpet"
           }
          ],
          "heatmap": [
           {
            "colorbar": {
             "outlinewidth": 0,
             "ticks": ""
            },
            "colorscale": [
             [
              0,
              "#0d0887"
             ],
             [
              0.1111111111111111,
              "#46039f"
             ],
             [
              0.2222222222222222,
              "#7201a8"
             ],
             [
              0.3333333333333333,
              "#9c179e"
             ],
             [
              0.4444444444444444,
              "#bd3786"
             ],
             [
              0.5555555555555556,
              "#d8576b"
             ],
             [
              0.6666666666666666,
              "#ed7953"
             ],
             [
              0.7777777777777778,
              "#fb9f3a"
             ],
             [
              0.8888888888888888,
              "#fdca26"
             ],
             [
              1,
              "#f0f921"
             ]
            ],
            "type": "heatmap"
           }
          ],
          "histogram": [
           {
            "marker": {
             "pattern": {
              "fillmode": "overlay",
              "size": 10,
              "solidity": 0.2
             }
            },
            "type": "histogram"
           }
          ],
          "histogram2d": [
           {
            "colorbar": {
             "outlinewidth": 0,
             "ticks": ""
            },
            "colorscale": [
             [
              0,
              "#0d0887"
             ],
             [
              0.1111111111111111,
              "#46039f"
             ],
             [
              0.2222222222222222,
              "#7201a8"
             ],
             [
              0.3333333333333333,
              "#9c179e"
             ],
             [
              0.4444444444444444,
              "#bd3786"
             ],
             [
              0.5555555555555556,
              "#d8576b"
             ],
             [
              0.6666666666666666,
              "#ed7953"
             ],
             [
              0.7777777777777778,
              "#fb9f3a"
             ],
             [
              0.8888888888888888,
              "#fdca26"
             ],
             [
              1,
              "#f0f921"
             ]
            ],
            "type": "histogram2d"
           }
          ],
          "histogram2dcontour": [
           {
            "colorbar": {
             "outlinewidth": 0,
             "ticks": ""
            },
            "colorscale": [
             [
              0,
              "#0d0887"
             ],
             [
              0.1111111111111111,
              "#46039f"
             ],
             [
              0.2222222222222222,
              "#7201a8"
             ],
             [
              0.3333333333333333,
              "#9c179e"
             ],
             [
              0.4444444444444444,
              "#bd3786"
             ],
             [
              0.5555555555555556,
              "#d8576b"
             ],
             [
              0.6666666666666666,
              "#ed7953"
             ],
             [
              0.7777777777777778,
              "#fb9f3a"
             ],
             [
              0.8888888888888888,
              "#fdca26"
             ],
             [
              1,
              "#f0f921"
             ]
            ],
            "type": "histogram2dcontour"
           }
          ],
          "mesh3d": [
           {
            "colorbar": {
             "outlinewidth": 0,
             "ticks": ""
            },
            "type": "mesh3d"
           }
          ],
          "parcoords": [
           {
            "line": {
             "colorbar": {
              "outlinewidth": 0,
              "ticks": ""
             }
            },
            "type": "parcoords"
           }
          ],
          "pie": [
           {
            "automargin": true,
            "type": "pie"
           }
          ],
          "scatter": [
           {
            "fillpattern": {
             "fillmode": "overlay",
             "size": 10,
             "solidity": 0.2
            },
            "type": "scatter"
           }
          ],
          "scatter3d": [
           {
            "line": {
             "colorbar": {
              "outlinewidth": 0,
              "ticks": ""
             }
            },
            "marker": {
             "colorbar": {
              "outlinewidth": 0,
              "ticks": ""
             }
            },
            "type": "scatter3d"
           }
          ],
          "scattercarpet": [
           {
            "marker": {
             "colorbar": {
              "outlinewidth": 0,
              "ticks": ""
             }
            },
            "type": "scattercarpet"
           }
          ],
          "scattergeo": [
           {
            "marker": {
             "colorbar": {
              "outlinewidth": 0,
              "ticks": ""
             }
            },
            "type": "scattergeo"
           }
          ],
          "scattergl": [
           {
            "marker": {
             "colorbar": {
              "outlinewidth": 0,
              "ticks": ""
             }
            },
            "type": "scattergl"
           }
          ],
          "scattermap": [
           {
            "marker": {
             "colorbar": {
              "outlinewidth": 0,
              "ticks": ""
             }
            },
            "type": "scattermap"
           }
          ],
          "scattermapbox": [
           {
            "marker": {
             "colorbar": {
              "outlinewidth": 0,
              "ticks": ""
             }
            },
            "type": "scattermapbox"
           }
          ],
          "scatterpolar": [
           {
            "marker": {
             "colorbar": {
              "outlinewidth": 0,
              "ticks": ""
             }
            },
            "type": "scatterpolar"
           }
          ],
          "scatterpolargl": [
           {
            "marker": {
             "colorbar": {
              "outlinewidth": 0,
              "ticks": ""
             }
            },
            "type": "scatterpolargl"
           }
          ],
          "scatterternary": [
           {
            "marker": {
             "colorbar": {
              "outlinewidth": 0,
              "ticks": ""
             }
            },
            "type": "scatterternary"
           }
          ],
          "surface": [
           {
            "colorbar": {
             "outlinewidth": 0,
             "ticks": ""
            },
            "colorscale": [
             [
              0,
              "#0d0887"
             ],
             [
              0.1111111111111111,
              "#46039f"
             ],
             [
              0.2222222222222222,
              "#7201a8"
             ],
             [
              0.3333333333333333,
              "#9c179e"
             ],
             [
              0.4444444444444444,
              "#bd3786"
             ],
             [
              0.5555555555555556,
              "#d8576b"
             ],
             [
              0.6666666666666666,
              "#ed7953"
             ],
             [
              0.7777777777777778,
              "#fb9f3a"
             ],
             [
              0.8888888888888888,
              "#fdca26"
             ],
             [
              1,
              "#f0f921"
             ]
            ],
            "type": "surface"
           }
          ],
          "table": [
           {
            "cells": {
             "fill": {
              "color": "#EBF0F8"
             },
             "line": {
              "color": "white"
             }
            },
            "header": {
             "fill": {
              "color": "#C8D4E3"
             },
             "line": {
              "color": "white"
             }
            },
            "type": "table"
           }
          ]
         },
         "layout": {
          "annotationdefaults": {
           "arrowcolor": "#2a3f5f",
           "arrowhead": 0,
           "arrowwidth": 1
          },
          "autotypenumbers": "strict",
          "coloraxis": {
           "colorbar": {
            "outlinewidth": 0,
            "ticks": ""
           }
          },
          "colorscale": {
           "diverging": [
            [
             0,
             "#8e0152"
            ],
            [
             0.1,
             "#c51b7d"
            ],
            [
             0.2,
             "#de77ae"
            ],
            [
             0.3,
             "#f1b6da"
            ],
            [
             0.4,
             "#fde0ef"
            ],
            [
             0.5,
             "#f7f7f7"
            ],
            [
             0.6,
             "#e6f5d0"
            ],
            [
             0.7,
             "#b8e186"
            ],
            [
             0.8,
             "#7fbc41"
            ],
            [
             0.9,
             "#4d9221"
            ],
            [
             1,
             "#276419"
            ]
           ],
           "sequential": [
            [
             0,
             "#0d0887"
            ],
            [
             0.1111111111111111,
             "#46039f"
            ],
            [
             0.2222222222222222,
             "#7201a8"
            ],
            [
             0.3333333333333333,
             "#9c179e"
            ],
            [
             0.4444444444444444,
             "#bd3786"
            ],
            [
             0.5555555555555556,
             "#d8576b"
            ],
            [
             0.6666666666666666,
             "#ed7953"
            ],
            [
             0.7777777777777778,
             "#fb9f3a"
            ],
            [
             0.8888888888888888,
             "#fdca26"
            ],
            [
             1,
             "#f0f921"
            ]
           ],
           "sequentialminus": [
            [
             0,
             "#0d0887"
            ],
            [
             0.1111111111111111,
             "#46039f"
            ],
            [
             0.2222222222222222,
             "#7201a8"
            ],
            [
             0.3333333333333333,
             "#9c179e"
            ],
            [
             0.4444444444444444,
             "#bd3786"
            ],
            [
             0.5555555555555556,
             "#d8576b"
            ],
            [
             0.6666666666666666,
             "#ed7953"
            ],
            [
             0.7777777777777778,
             "#fb9f3a"
            ],
            [
             0.8888888888888888,
             "#fdca26"
            ],
            [
             1,
             "#f0f921"
            ]
           ]
          },
          "colorway": [
           "#636efa",
           "#EF553B",
           "#00cc96",
           "#ab63fa",
           "#FFA15A",
           "#19d3f3",
           "#FF6692",
           "#B6E880",
           "#FF97FF",
           "#FECB52"
          ],
          "font": {
           "color": "#2a3f5f"
          },
          "geo": {
           "bgcolor": "white",
           "lakecolor": "white",
           "landcolor": "#E5ECF6",
           "showlakes": true,
           "showland": true,
           "subunitcolor": "white"
          },
          "hoverlabel": {
           "align": "left"
          },
          "hovermode": "closest",
          "mapbox": {
           "style": "light"
          },
          "paper_bgcolor": "white",
          "plot_bgcolor": "#E5ECF6",
          "polar": {
           "angularaxis": {
            "gridcolor": "white",
            "linecolor": "white",
            "ticks": ""
           },
           "bgcolor": "#E5ECF6",
           "radialaxis": {
            "gridcolor": "white",
            "linecolor": "white",
            "ticks": ""
           }
          },
          "scene": {
           "xaxis": {
            "backgroundcolor": "#E5ECF6",
            "gridcolor": "white",
            "gridwidth": 2,
            "linecolor": "white",
            "showbackground": true,
            "ticks": "",
            "zerolinecolor": "white"
           },
           "yaxis": {
            "backgroundcolor": "#E5ECF6",
            "gridcolor": "white",
            "gridwidth": 2,
            "linecolor": "white",
            "showbackground": true,
            "ticks": "",
            "zerolinecolor": "white"
           },
           "zaxis": {
            "backgroundcolor": "#E5ECF6",
            "gridcolor": "white",
            "gridwidth": 2,
            "linecolor": "white",
            "showbackground": true,
            "ticks": "",
            "zerolinecolor": "white"
           }
          },
          "shapedefaults": {
           "line": {
            "color": "#2a3f5f"
           }
          },
          "ternary": {
           "aaxis": {
            "gridcolor": "white",
            "linecolor": "white",
            "ticks": ""
           },
           "baxis": {
            "gridcolor": "white",
            "linecolor": "white",
            "ticks": ""
           },
           "bgcolor": "#E5ECF6",
           "caxis": {
            "gridcolor": "white",
            "linecolor": "white",
            "ticks": ""
           }
          },
          "title": {
           "x": 0.05
          },
          "xaxis": {
           "automargin": true,
           "gridcolor": "white",
           "linecolor": "white",
           "ticks": "",
           "title": {
            "standoff": 15
           },
           "zerolinecolor": "white",
           "zerolinewidth": 2
          },
          "yaxis": {
           "automargin": true,
           "gridcolor": "white",
           "linecolor": "white",
           "ticks": "",
           "title": {
            "standoff": 15
           },
           "zerolinecolor": "white",
           "zerolinewidth": 2
          }
         }
        },
        "title": {
         "text": "Average Hourly Demand: Weekday vs Weekend"
        },
        "xaxis": {
         "anchor": "y",
         "domain": [
          0,
          1
         ],
         "title": {
          "text": "Hour of Day"
         }
        },
        "yaxis": {
         "anchor": "x",
         "domain": [
          0,
          1
         ],
         "title": {
          "text": "Average Rentals"
         }
        }
       }
      }
     },
     "metadata": {},
     "output_type": "display_data"
    },
    {
     "data": {
      "application/vnd.plotly.v1+json": {
       "config": {
        "plotlyServerURL": "https://plot.ly"
       },
       "data": [
        {
         "coloraxis": "coloraxis",
         "hovertemplate": "temp=%{x}<br>cnt=%{y}<br>count=%{z}<extra></extra>",
         "name": "",
         "nbinsx": 30,
         "nbinsy": 30,
         "type": "histogram2d",
         "x": {
          "bdata": "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",
          "dtype": "f8"
         },
         "xaxis": "x",
         "xbingroup": "x",
         "y": {
          "bdata": "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",
          "dtype": "i2"
         },
         "yaxis": "y",
         "ybingroup": "y"
        }
       ],
       "layout": {
        "coloraxis": {
         "colorbar": {
          "title": {
           "text": "count"
          }
         },
         "colorscale": [
          [
           0,
           "#000004"
          ],
          [
           0.1111111111111111,
           "#180f3d"
          ],
          [
           0.2222222222222222,
           "#440f76"
          ],
          [
           0.3333333333333333,
           "#721f81"
          ],
          [
           0.4444444444444444,
           "#9e2f7f"
          ],
          [
           0.5555555555555556,
           "#cd4071"
          ],
          [
           0.6666666666666666,
           "#f1605d"
          ],
          [
           0.7777777777777778,
           "#fd9668"
          ],
          [
           0.8888888888888888,
           "#feca8d"
          ],
          [
           1,
           "#fcfdbf"
          ]
         ]
        },
        "legend": {
         "tracegroupgap": 0
        },
        "template": {
         "data": {
          "bar": [
           {
            "error_x": {
             "color": "#2a3f5f"
            },
            "error_y": {
             "color": "#2a3f5f"
            },
            "marker": {
             "line": {
              "color": "#E5ECF6",
              "width": 0.5
             },
             "pattern": {
              "fillmode": "overlay",
              "size": 10,
              "solidity": 0.2
             }
            },
            "type": "bar"
           }
          ],
          "barpolar": [
           {
            "marker": {
             "line": {
              "color": "#E5ECF6",
              "width": 0.5
             },
             "pattern": {
              "fillmode": "overlay",
              "size": 10,
              "solidity": 0.2
             }
            },
            "type": "barpolar"
           }
          ],
          "carpet": [
           {
            "aaxis": {
             "endlinecolor": "#2a3f5f",
             "gridcolor": "white",
             "linecolor": "white",
             "minorgridcolor": "white",
             "startlinecolor": "#2a3f5f"
            },
            "baxis": {
             "endlinecolor": "#2a3f5f",
             "gridcolor": "white",
             "linecolor": "white",
             "minorgridcolor": "white",
             "startlinecolor": "#2a3f5f"
            },
            "type": "carpet"
           }
          ],
          "choropleth": [
           {
            "colorbar": {
             "outlinewidth": 0,
             "ticks": ""
            },
            "type": "choropleth"
           }
          ],
          "contour": [
           {
            "colorbar": {
             "outlinewidth": 0,
             "ticks": ""
            },
            "colorscale": [
             [
              0,
              "#0d0887"
             ],
             [
              0.1111111111111111,
              "#46039f"
             ],
             [
              0.2222222222222222,
              "#7201a8"
             ],
             [
              0.3333333333333333,
              "#9c179e"
             ],
             [
              0.4444444444444444,
              "#bd3786"
             ],
             [
              0.5555555555555556,
              "#d8576b"
             ],
             [
              0.6666666666666666,
              "#ed7953"
             ],
             [
              0.7777777777777778,
              "#fb9f3a"
             ],
             [
              0.8888888888888888,
              "#fdca26"
             ],
             [
              1,
              "#f0f921"
             ]
            ],
            "type": "contour"
           }
          ],
          "contourcarpet": [
           {
            "colorbar": {
             "outlinewidth": 0,
             "ticks": ""
            },
            "type": "contourcarpet"
           }
          ],
          "heatmap": [
           {
            "colorbar": {
             "outlinewidth": 0,
             "ticks": ""
            },
            "colorscale": [
             [
              0,
              "#0d0887"
             ],
             [
              0.1111111111111111,
              "#46039f"
             ],
             [
              0.2222222222222222,
              "#7201a8"
             ],
             [
              0.3333333333333333,
              "#9c179e"
             ],
             [
              0.4444444444444444,
              "#bd3786"
             ],
             [
              0.5555555555555556,
              "#d8576b"
             ],
             [
              0.6666666666666666,
              "#ed7953"
             ],
             [
              0.7777777777777778,
              "#fb9f3a"
             ],
             [
              0.8888888888888888,
              "#fdca26"
             ],
             [
              1,
              "#f0f921"
             ]
            ],
            "type": "heatmap"
           }
          ],
          "histogram": [
           {
            "marker": {
             "pattern": {
              "fillmode": "overlay",
              "size": 10,
              "solidity": 0.2
             }
            },
            "type": "histogram"
           }
          ],
          "histogram2d": [
           {
            "colorbar": {
             "outlinewidth": 0,
             "ticks": ""
            },
            "colorscale": [
             [
              0,
              "#0d0887"
             ],
             [
              0.1111111111111111,
              "#46039f"
             ],
             [
              0.2222222222222222,
              "#7201a8"
             ],
             [
              0.3333333333333333,
              "#9c179e"
             ],
             [
              0.4444444444444444,
              "#bd3786"
             ],
             [
              0.5555555555555556,
              "#d8576b"
             ],
             [
              0.6666666666666666,
              "#ed7953"
             ],
             [
              0.7777777777777778,
              "#fb9f3a"
             ],
             [
              0.8888888888888888,
              "#fdca26"
             ],
             [
              1,
              "#f0f921"
             ]
            ],
            "type": "histogram2d"
           }
          ],
          "histogram2dcontour": [
           {
            "colorbar": {
             "outlinewidth": 0,
             "ticks": ""
            },
            "colorscale": [
             [
              0,
              "#0d0887"
             ],
             [
              0.1111111111111111,
              "#46039f"
             ],
             [
              0.2222222222222222,
              "#7201a8"
             ],
             [
              0.3333333333333333,
              "#9c179e"
             ],
             [
              0.4444444444444444,
              "#bd3786"
             ],
             [
              0.5555555555555556,
              "#d8576b"
             ],
             [
              0.6666666666666666,
              "#ed7953"
             ],
             [
              0.7777777777777778,
              "#fb9f3a"
             ],
             [
              0.8888888888888888,
              "#fdca26"
             ],
             [
              1,
              "#f0f921"
             ]
            ],
            "type": "histogram2dcontour"
           }
          ],
          "mesh3d": [
           {
            "colorbar": {
             "outlinewidth": 0,
             "ticks": ""
            },
            "type": "mesh3d"
           }
          ],
          "parcoords": [
           {
            "line": {
             "colorbar": {
              "outlinewidth": 0,
              "ticks": ""
             }
            },
            "type": "parcoords"
           }
          ],
          "pie": [
           {
            "automargin": true,
            "type": "pie"
           }
          ],
          "scatter": [
           {
            "fillpattern": {
             "fillmode": "overlay",
             "size": 10,
             "solidity": 0.2
            },
            "type": "scatter"
           }
          ],
          "scatter3d": [
           {
            "line": {
             "colorbar": {
              "outlinewidth": 0,
              "ticks": ""
             }
            },
            "marker": {
             "colorbar": {
              "outlinewidth": 0,
              "ticks": ""
             }
            },
            "type": "scatter3d"
           }
          ],
          "scattercarpet": [
           {
            "marker": {
             "colorbar": {
              "outlinewidth": 0,
              "ticks": ""
             }
            },
            "type": "scattercarpet"
           }
          ],
          "scattergeo": [
           {
            "marker": {
             "colorbar": {
              "outlinewidth": 0,
              "ticks": ""
             }
            },
            "type": "scattergeo"
           }
          ],
          "scattergl": [
           {
            "marker": {
             "colorbar": {
              "outlinewidth": 0,
              "ticks": ""
             }
            },
            "type": "scattergl"
           }
          ],
          "scattermap": [
           {
            "marker": {
             "colorbar": {
              "outlinewidth": 0,
              "ticks": ""
             }
            },
            "type": "scattermap"
           }
          ],
          "scattermapbox": [
           {
            "marker": {
             "colorbar": {
              "outlinewidth": 0,
              "ticks": ""
             }
            },
            "type": "scattermapbox"
           }
          ],
          "scatterpolar": [
           {
            "marker": {
             "colorbar": {
              "outlinewidth": 0,
              "ticks": ""
             }
            },
            "type": "scatterpolar"
           }
          ],
          "scatterpolargl": [
           {
            "marker": {
             "colorbar": {
              "outlinewidth": 0,
              "ticks": ""
             }
            },
            "type": "scatterpolargl"
           }
          ],
          "scatterternary": [
           {
            "marker": {
             "colorbar": {
              "outlinewidth": 0,
              "ticks": ""
             }
            },
            "type": "scatterternary"
           }
          ],
          "surface": [
           {
            "colorbar": {
             "outlinewidth": 0,
             "ticks": ""
            },
            "colorscale": [
             [
              0,
              "#0d0887"
             ],
             [
              0.1111111111111111,
              "#46039f"
             ],
             [
              0.2222222222222222,
              "#7201a8"
             ],
             [
              0.3333333333333333,
              "#9c179e"
             ],
             [
              0.4444444444444444,
              "#bd3786"
             ],
             [
              0.5555555555555556,
              "#d8576b"
             ],
             [
              0.6666666666666666,
              "#ed7953"
             ],
             [
              0.7777777777777778,
              "#fb9f3a"
             ],
             [
              0.8888888888888888,
              "#fdca26"
             ],
             [
              1,
              "#f0f921"
             ]
            ],
            "type": "surface"
           }
          ],
          "table": [
           {
            "cells": {
             "fill": {
              "color": "#EBF0F8"
             },
             "line": {
              "color": "white"
             }
            },
            "header": {
             "fill": {
              "color": "#C8D4E3"
             },
             "line": {
              "color": "white"
             }
            },
            "type": "table"
           }
          ]
         },
         "layout": {
          "annotationdefaults": {
           "arrowcolor": "#2a3f5f",
           "arrowhead": 0,
           "arrowwidth": 1
          },
          "autotypenumbers": "strict",
          "coloraxis": {
           "colorbar": {
            "outlinewidth": 0,
            "ticks": ""
           }
          },
          "colorscale": {
           "diverging": [
            [
             0,
             "#8e0152"
            ],
            [
             0.1,
             "#c51b7d"
            ],
            [
             0.2,
             "#de77ae"
            ],
            [
             0.3,
             "#f1b6da"
            ],
            [
             0.4,
             "#fde0ef"
            ],
            [
             0.5,
             "#f7f7f7"
            ],
            [
             0.6,
             "#e6f5d0"
            ],
            [
             0.7,
             "#b8e186"
            ],
            [
             0.8,
             "#7fbc41"
            ],
            [
             0.9,
             "#4d9221"
            ],
            [
             1,
             "#276419"
            ]
           ],
           "sequential": [
            [
             0,
             "#0d0887"
            ],
            [
             0.1111111111111111,
             "#46039f"
            ],
            [
             0.2222222222222222,
             "#7201a8"
            ],
            [
             0.3333333333333333,
             "#9c179e"
            ],
            [
             0.4444444444444444,
             "#bd3786"
            ],
            [
             0.5555555555555556,
             "#d8576b"
            ],
            [
             0.6666666666666666,
             "#ed7953"
            ],
            [
             0.7777777777777778,
             "#fb9f3a"
            ],
            [
             0.8888888888888888,
             "#fdca26"
            ],
            [
             1,
             "#f0f921"
            ]
           ],
           "sequentialminus": [
            [
             0,
             "#0d0887"
            ],
            [
             0.1111111111111111,
             "#46039f"
            ],
            [
             0.2222222222222222,
             "#7201a8"
            ],
            [
             0.3333333333333333,
             "#9c179e"
            ],
            [
             0.4444444444444444,
             "#bd3786"
            ],
            [
             0.5555555555555556,
             "#d8576b"
            ],
            [
             0.6666666666666666,
             "#ed7953"
            ],
            [
             0.7777777777777778,
             "#fb9f3a"
            ],
            [
             0.8888888888888888,
             "#fdca26"
            ],
            [
             1,
             "#f0f921"
            ]
           ]
          },
          "colorway": [
           "#636efa",
           "#EF553B",
           "#00cc96",
           "#ab63fa",
           "#FFA15A",
           "#19d3f3",
           "#FF6692",
           "#B6E880",
           "#FF97FF",
           "#FECB52"
          ],
          "font": {
           "color": "#2a3f5f"
          },
          "geo": {
           "bgcolor": "white",
           "lakecolor": "white",
           "landcolor": "#E5ECF6",
           "showlakes": true,
           "showland": true,
           "subunitcolor": "white"
          },
          "hoverlabel": {
           "align": "left"
          },
          "hovermode": "closest",
          "mapbox": {
           "style": "light"
          },
          "paper_bgcolor": "white",
          "plot_bgcolor": "#E5ECF6",
          "polar": {
           "angularaxis": {
            "gridcolor": "white",
            "linecolor": "white",
            "ticks": ""
           },
           "bgcolor": "#E5ECF6",
           "radialaxis": {
            "gridcolor": "white",
            "linecolor": "white",
            "ticks": ""
           }
          },
          "scene": {
           "xaxis": {
            "backgroundcolor": "#E5ECF6",
            "gridcolor": "white",
            "gridwidth": 2,
            "linecolor": "white",
            "showbackground": true,
            "ticks": "",
            "zerolinecolor": "white"
           },
           "yaxis": {
            "backgroundcolor": "#E5ECF6",
            "gridcolor": "white",
            "gridwidth": 2,
            "linecolor": "white",
            "showbackground": true,
            "ticks": "",
            "zerolinecolor": "white"
           },
           "zaxis": {
            "backgroundcolor": "#E5ECF6",
            "gridcolor": "white",
            "gridwidth": 2,
            "linecolor": "white",
            "showbackground": true,
            "ticks": "",
            "zerolinecolor": "white"
           }
          },
          "shapedefaults": {
           "line": {
            "color": "#2a3f5f"
           }
          },
          "ternary": {
           "aaxis": {
            "gridcolor": "white",
            "linecolor": "white",
            "ticks": ""
           },
           "baxis": {
            "gridcolor": "white",
            "linecolor": "white",
            "ticks": ""
           },
           "bgcolor": "#E5ECF6",
           "caxis": {
            "gridcolor": "white",
            "linecolor": "white",
            "ticks": ""
           }
          },
          "title": {
           "x": 0.05
          },
          "xaxis": {
           "automargin": true,
           "gridcolor": "white",
           "linecolor": "white",
           "ticks": "",
           "title": {
            "standoff": 15
           },
           "zerolinecolor": "white",
           "zerolinewidth": 2
          },
          "yaxis": {
           "automargin": true,
           "gridcolor": "white",
           "linecolor": "white",
           "ticks": "",
           "title": {
            "standoff": 15
           },
           "zerolinecolor": "white",
           "zerolinewidth": 2
          }
         }
        },
        "title": {
         "text": "Density: Temperature vs Total Rentals"
        },
        "xaxis": {
         "anchor": "y",
         "domain": [
          0,
          1
         ],
         "title": {
          "text": "Normalized Temperature"
         }
        },
        "yaxis": {
         "anchor": "x",
         "domain": [
          0,
          1
         ],
         "title": {
          "text": "Total Rentals"
         }
        }
       }
      }
     },
     "metadata": {},
     "output_type": "display_data"
    },
    {
     "data": {
      "application/vnd.plotly.v1+json": {
       "config": {
        "plotlyServerURL": "https://plot.ly"
       },
       "data": [
        {
         "alignmentgroup": "True",
         "hovertemplate": "Day Type=Weekend/Holiday<br>Season=%{x}<br>Average Rentals=%{y}<extra></extra>",
         "legendgroup": "Weekend/Holiday",
         "marker": {
          "color": "#636efa",
          "pattern": {
           "shape": ""
          }
         },
         "name": "Weekend/Holiday",
         "offsetgroup": "Weekend/Holiday",
         "orientation": "v",
         "showlegend": true,
         "textposition": "auto",
         "type": "bar",
         "x": [
          "Fall",
          "Spring",
          "Summer",
          "Winter"
         ],
         "xaxis": "x",
         "y": {
          "bdata": "Q3kN5TX+sUC3bdu2bRa0QKuqqqqqYrVAN+9TXDKioUA=",
          "dtype": "f8"
         },
         "yaxis": "y"
        },
        {
         "alignmentgroup": "True",
         "hovertemplate": "Day Type=Working Day<br>Season=%{x}<br>Average Rentals=%{y}<extra></extra>",
         "legendgroup": "Working Day",
         "marker": {
          "color": "#EF553B",
          "pattern": {
           "shape": ""
          }
         },
         "name": "Working Day",
         "offsetgroup": "Working Day",
         "orientation": "v",
         "showlegend": true,
         "textposition": "auto",
         "type": "bar",
         "x": [
          "Fall",
          "Spring",
          "Summer",
          "Winter"
         ],
         "xaxis": "x",
         "y": {
          "bdata": "FSbej5yxskAAAAAAqj6zQGZEH1AdVrZAVVVVVRW5pUA=",
          "dtype": "f8"
         },
         "yaxis": "y"
        }
       ],
       "layout": {
        "barmode": "group",
        "legend": {
         "title": {
          "text": "Day Type"
         },
         "tracegroupgap": 0
        },
        "template": {
         "data": {
          "bar": [
           {
            "error_x": {
             "color": "#2a3f5f"
            },
            "error_y": {
             "color": "#2a3f5f"
            },
            "marker": {
             "line": {
              "color": "#E5ECF6",
              "width": 0.5
             },
             "pattern": {
              "fillmode": "overlay",
              "size": 10,
              "solidity": 0.2
             }
            },
            "type": "bar"
           }
          ],
          "barpolar": [
           {
            "marker": {
             "line": {
              "color": "#E5ECF6",
              "width": 0.5
             },
             "pattern": {
              "fillmode": "overlay",
              "size": 10,
              "solidity": 0.2
             }
            },
            "type": "barpolar"
           }
          ],
          "carpet": [
           {
            "aaxis": {
             "endlinecolor": "#2a3f5f",
             "gridcolor": "white",
             "linecolor": "white",
             "minorgridcolor": "white",
             "startlinecolor": "#2a3f5f"
            },
            "baxis": {
             "endlinecolor": "#2a3f5f",
             "gridcolor": "white",
             "linecolor": "white",
             "minorgridcolor": "white",
             "startlinecolor": "#2a3f5f"
            },
            "type": "carpet"
           }
          ],
          "choropleth": [
           {
            "colorbar": {
             "outlinewidth": 0,
             "ticks": ""
            },
            "type": "choropleth"
           }
          ],
          "contour": [
           {
            "colorbar": {
             "outlinewidth": 0,
             "ticks": ""
            },
            "colorscale": [
             [
              0,
              "#0d0887"
             ],
             [
              0.1111111111111111,
              "#46039f"
             ],
             [
              0.2222222222222222,
              "#7201a8"
             ],
             [
              0.3333333333333333,
              "#9c179e"
             ],
             [
              0.4444444444444444,
              "#bd3786"
             ],
             [
              0.5555555555555556,
              "#d8576b"
             ],
             [
              0.6666666666666666,
              "#ed7953"
             ],
             [
              0.7777777777777778,
              "#fb9f3a"
             ],
             [
              0.8888888888888888,
              "#fdca26"
             ],
             [
              1,
              "#f0f921"
             ]
            ],
            "type": "contour"
           }
          ],
          "contourcarpet": [
           {
            "colorbar": {
             "outlinewidth": 0,
             "ticks": ""
            },
            "type": "contourcarpet"
           }
          ],
          "heatmap": [
           {
            "colorbar": {
             "outlinewidth": 0,
             "ticks": ""
            },
            "colorscale": [
             [
              0,
              "#0d0887"
             ],
             [
              0.1111111111111111,
              "#46039f"
             ],
             [
              0.2222222222222222,
              "#7201a8"
             ],
             [
              0.3333333333333333,
              "#9c179e"
             ],
             [
              0.4444444444444444,
              "#bd3786"
             ],
             [
              0.5555555555555556,
              "#d8576b"
             ],
             [
              0.6666666666666666,
              "#ed7953"
             ],
             [
              0.7777777777777778,
              "#fb9f3a"
             ],
             [
              0.8888888888888888,
              "#fdca26"
             ],
             [
              1,
              "#f0f921"
             ]
            ],
            "type": "heatmap"
           }
          ],
          "histogram": [
           {
            "marker": {
             "pattern": {
              "fillmode": "overlay",
              "size": 10,
              "solidity": 0.2
             }
            },
            "type": "histogram"
           }
          ],
          "histogram2d": [
           {
            "colorbar": {
             "outlinewidth": 0,
             "ticks": ""
            },
            "colorscale": [
             [
              0,
              "#0d0887"
             ],
             [
              0.1111111111111111,
              "#46039f"
             ],
             [
              0.2222222222222222,
              "#7201a8"
             ],
             [
              0.3333333333333333,
              "#9c179e"
             ],
             [
              0.4444444444444444,
              "#bd3786"
             ],
             [
              0.5555555555555556,
              "#d8576b"
             ],
             [
              0.6666666666666666,
              "#ed7953"
             ],
             [
              0.7777777777777778,
              "#fb9f3a"
             ],
             [
              0.8888888888888888,
              "#fdca26"
             ],
             [
              1,
              "#f0f921"
             ]
            ],
            "type": "histogram2d"
           }
          ],
          "histogram2dcontour": [
           {
            "colorbar": {
             "outlinewidth": 0,
             "ticks": ""
            },
            "colorscale": [
             [
              0,
              "#0d0887"
             ],
             [
              0.1111111111111111,
              "#46039f"
             ],
             [
              0.2222222222222222,
              "#7201a8"
             ],
             [
              0.3333333333333333,
              "#9c179e"
             ],
             [
              0.4444444444444444,
              "#bd3786"
             ],
             [
              0.5555555555555556,
              "#d8576b"
             ],
             [
              0.6666666666666666,
              "#ed7953"
             ],
             [
              0.7777777777777778,
              "#fb9f3a"
             ],
             [
              0.8888888888888888,
              "#fdca26"
             ],
             [
              1,
              "#f0f921"
             ]
            ],
            "type": "histogram2dcontour"
           }
          ],
          "mesh3d": [
           {
            "colorbar": {
             "outlinewidth": 0,
             "ticks": ""
            },
            "type": "mesh3d"
           }
          ],
          "parcoords": [
           {
            "line": {
             "colorbar": {
              "outlinewidth": 0,
              "ticks": ""
             }
            },
            "type": "parcoords"
           }
          ],
          "pie": [
           {
            "automargin": true,
            "type": "pie"
           }
          ],
          "scatter": [
           {
            "fillpattern": {
             "fillmode": "overlay",
             "size": 10,
             "solidity": 0.2
            },
            "type": "scatter"
           }
          ],
          "scatter3d": [
           {
            "line": {
             "colorbar": {
              "outlinewidth": 0,
              "ticks": ""
             }
            },
            "marker": {
             "colorbar": {
              "outlinewidth": 0,
              "ticks": ""
             }
            },
            "type": "scatter3d"
           }
          ],
          "scattercarpet": [
           {
            "marker": {
             "colorbar": {
              "outlinewidth": 0,
              "ticks": ""
             }
            },
            "type": "scattercarpet"
           }
          ],
          "scattergeo": [
           {
            "marker": {
             "colorbar": {
              "outlinewidth": 0,
              "ticks": ""
             }
            },
            "type": "scattergeo"
           }
          ],
          "scattergl": [
           {
            "marker": {
             "colorbar": {
              "outlinewidth": 0,
              "ticks": ""
             }
            },
            "type": "scattergl"
           }
          ],
          "scattermap": [
           {
            "marker": {
             "colorbar": {
              "outlinewidth": 0,
              "ticks": ""
             }
            },
            "type": "scattermap"
           }
          ],
          "scattermapbox": [
           {
            "marker": {
             "colorbar": {
              "outlinewidth": 0,
              "ticks": ""
             }
            },
            "type": "scattermapbox"
           }
          ],
          "scatterpolar": [
           {
            "marker": {
             "colorbar": {
              "outlinewidth": 0,
              "ticks": ""
             }
            },
            "type": "scatterpolar"
           }
          ],
          "scatterpolargl": [
           {
            "marker": {
             "colorbar": {
              "outlinewidth": 0,
              "ticks": ""
             }
            },
            "type": "scatterpolargl"
           }
          ],
          "scatterternary": [
           {
            "marker": {
             "colorbar": {
              "outlinewidth": 0,
              "ticks": ""
             }
            },
            "type": "scatterternary"
           }
          ],
          "surface": [
           {
            "colorbar": {
             "outlinewidth": 0,
             "ticks": ""
            },
            "colorscale": [
             [
              0,
              "#0d0887"
             ],
             [
              0.1111111111111111,
              "#46039f"
             ],
             [
              0.2222222222222222,
              "#7201a8"
             ],
             [
              0.3333333333333333,
              "#9c179e"
             ],
             [
              0.4444444444444444,
              "#bd3786"
             ],
             [
              0.5555555555555556,
              "#d8576b"
             ],
             [
              0.6666666666666666,
              "#ed7953"
             ],
             [
              0.7777777777777778,
              "#fb9f3a"
             ],
             [
              0.8888888888888888,
              "#fdca26"
             ],
             [
              1,
              "#f0f921"
             ]
            ],
            "type": "surface"
           }
          ],
          "table": [
           {
            "cells": {
             "fill": {
              "color": "#EBF0F8"
             },
             "line": {
              "color": "white"
             }
            },
            "header": {
             "fill": {
              "color": "#C8D4E3"
             },
             "line": {
              "color": "white"
             }
            },
            "type": "table"
           }
          ]
         },
         "layout": {
          "annotationdefaults": {
           "arrowcolor": "#2a3f5f",
           "arrowhead": 0,
           "arrowwidth": 1
          },
          "autotypenumbers": "strict",
          "coloraxis": {
           "colorbar": {
            "outlinewidth": 0,
            "ticks": ""
           }
          },
          "colorscale": {
           "diverging": [
            [
             0,
             "#8e0152"
            ],
            [
             0.1,
             "#c51b7d"
            ],
            [
             0.2,
             "#de77ae"
            ],
            [
             0.3,
             "#f1b6da"
            ],
            [
             0.4,
             "#fde0ef"
            ],
            [
             0.5,
             "#f7f7f7"
            ],
            [
             0.6,
             "#e6f5d0"
            ],
            [
             0.7,
             "#b8e186"
            ],
            [
             0.8,
             "#7fbc41"
            ],
            [
             0.9,
             "#4d9221"
            ],
            [
             1,
             "#276419"
            ]
           ],
           "sequential": [
            [
             0,
             "#0d0887"
            ],
            [
             0.1111111111111111,
             "#46039f"
            ],
            [
             0.2222222222222222,
             "#7201a8"
            ],
            [
             0.3333333333333333,
             "#9c179e"
            ],
            [
             0.4444444444444444,
             "#bd3786"
            ],
            [
             0.5555555555555556,
             "#d8576b"
            ],
            [
             0.6666666666666666,
             "#ed7953"
            ],
            [
             0.7777777777777778,
             "#fb9f3a"
            ],
            [
             0.8888888888888888,
             "#fdca26"
            ],
            [
             1,
             "#f0f921"
            ]
           ],
           "sequentialminus": [
            [
             0,
             "#0d0887"
            ],
            [
             0.1111111111111111,
             "#46039f"
            ],
            [
             0.2222222222222222,
             "#7201a8"
            ],
            [
             0.3333333333333333,
             "#9c179e"
            ],
            [
             0.4444444444444444,
             "#bd3786"
            ],
            [
             0.5555555555555556,
             "#d8576b"
            ],
            [
             0.6666666666666666,
             "#ed7953"
            ],
            [
             0.7777777777777778,
             "#fb9f3a"
            ],
            [
             0.8888888888888888,
             "#fdca26"
            ],
            [
             1,
             "#f0f921"
            ]
           ]
          },
          "colorway": [
           "#636efa",
           "#EF553B",
           "#00cc96",
           "#ab63fa",
           "#FFA15A",
           "#19d3f3",
           "#FF6692",
           "#B6E880",
           "#FF97FF",
           "#FECB52"
          ],
          "font": {
           "color": "#2a3f5f"
          },
          "geo": {
           "bgcolor": "white",
           "lakecolor": "white",
           "landcolor": "#E5ECF6",
           "showlakes": true,
           "showland": true,
           "subunitcolor": "white"
          },
          "hoverlabel": {
           "align": "left"
          },
          "hovermode": "closest",
          "mapbox": {
           "style": "light"
          },
          "paper_bgcolor": "white",
          "plot_bgcolor": "#E5ECF6",
          "polar": {
           "angularaxis": {
            "gridcolor": "white",
            "linecolor": "white",
            "ticks": ""
           },
           "bgcolor": "#E5ECF6",
           "radialaxis": {
            "gridcolor": "white",
            "linecolor": "white",
            "ticks": ""
           }
          },
          "scene": {
           "xaxis": {
            "backgroundcolor": "#E5ECF6",
            "gridcolor": "white",
            "gridwidth": 2,
            "linecolor": "white",
            "showbackground": true,
            "ticks": "",
            "zerolinecolor": "white"
           },
           "yaxis": {
            "backgroundcolor": "#E5ECF6",
            "gridcolor": "white",
            "gridwidth": 2,
            "linecolor": "white",
            "showbackground": true,
            "ticks": "",
            "zerolinecolor": "white"
           },
           "zaxis": {
            "backgroundcolor": "#E5ECF6",
            "gridcolor": "white",
            "gridwidth": 2,
            "linecolor": "white",
            "showbackground": true,
            "ticks": "",
            "zerolinecolor": "white"
           }
          },
          "shapedefaults": {
           "line": {
            "color": "#2a3f5f"
           }
          },
          "ternary": {
           "aaxis": {
            "gridcolor": "white",
            "linecolor": "white",
            "ticks": ""
           },
           "baxis": {
            "gridcolor": "white",
            "linecolor": "white",
            "ticks": ""
           },
           "bgcolor": "#E5ECF6",
           "caxis": {
            "gridcolor": "white",
            "linecolor": "white",
            "ticks": ""
           }
          },
          "title": {
           "x": 0.05
          },
          "xaxis": {
           "automargin": true,
           "gridcolor": "white",
           "linecolor": "white",
           "ticks": "",
           "title": {
            "standoff": 15
           },
           "zerolinecolor": "white",
           "zerolinewidth": 2
          },
          "yaxis": {
           "automargin": true,
           "gridcolor": "white",
           "linecolor": "white",
           "ticks": "",
           "title": {
            "standoff": 15
           },
           "zerolinecolor": "white",
           "zerolinewidth": 2
          }
         }
        },
        "title": {
         "text": "Average Usage by Season and Day Type"
        },
        "xaxis": {
         "anchor": "y",
         "domain": [
          0,
          1
         ],
         "title": {
          "text": "Season"
         }
        },
        "yaxis": {
         "anchor": "x",
         "domain": [
          0,
          1
         ],
         "title": {
          "text": "Average Rentals"
         }
        }
       }
      }
     },
     "metadata": {},
     "output_type": "display_data"
    },
    {
     "data": {
      "application/vnd.plotly.v1+json": {
       "config": {
        "plotlyServerURL": "https://plot.ly"
       },
       "data": [
        {
         "mode": "lines+markers",
         "name": "Casual",
         "type": "scatter",
         "x": [
          "2011-01",
          "2011-02",
          "2011-03",
          "2011-04",
          "2011-05",
          "2011-06",
          "2011-07",
          "2011-08",
          "2011-09",
          "2011-10",
          "2011-11",
          "2011-12",
          "2012-01",
          "2012-02",
          "2012-03",
          "2012-04",
          "2012-05",
          "2012-06",
          "2012-07",
          "2012-08",
          "2012-09",
          "2012-10",
          "2012-11",
          "2012-12"
         ],
         "y": {
          "bdata": "AQwAAGMkAAB9VgAAx60AABEnAQClngEACS0CALOdAgBkBQMA6mcDANSkAwDUxQMA3egDAO4KBABwhgQAqBwFAHPJBQCRcgYAehUHADe+BwA5aQgAI/AIADRCCQDxdQkA",
          "dtype": "i4"
         }
        },
        {
         "mode": "lines+markers",
         "name": "Registered",
         "type": "scatter",
         "x": [
          "2011-01",
          "2011-02",
          "2011-03",
          "2011-04",
          "2011-05",
          "2011-06",
          "2011-07",
          "2011-08",
          "2011-09",
          "2011-10",
          "2011-11",
          "2011-12",
          "2012-01",
          "2012-02",
          "2012-03",
          "2012-04",
          "2012-05",
          "2012-06",
          "2012-07",
          "2012-08",
          "2012-09",
          "2012-10",
          "2012-11",
          "2012-12"
         ],
         "y": {
          "bdata": "LIkAACEtAQA09QEAgBADAMOpBADHYgYAgPwHAMmhCQDSKwsAw6sMAPD9DQALMg8A6ogQALr5EQBDAhQAmxQWAOlkGAAZ1BoAh0wdALHpHwB8lCIASxYlAJIYJwAWyCgA",
          "dtype": "i4"
         }
        }
       ],
       "layout": {
        "template": {
         "data": {
          "bar": [
           {
            "error_x": {
             "color": "#2a3f5f"
            },
            "error_y": {
             "color": "#2a3f5f"
            },
            "marker": {
             "line": {
              "color": "#E5ECF6",
              "width": 0.5
             },
             "pattern": {
              "fillmode": "overlay",
              "size": 10,
              "solidity": 0.2
             }
            },
            "type": "bar"
           }
          ],
          "barpolar": [
           {
            "marker": {
             "line": {
              "color": "#E5ECF6",
              "width": 0.5
             },
             "pattern": {
              "fillmode": "overlay",
              "size": 10,
              "solidity": 0.2
             }
            },
            "type": "barpolar"
           }
          ],
          "carpet": [
           {
            "aaxis": {
             "endlinecolor": "#2a3f5f",
             "gridcolor": "white",
             "linecolor": "white",
             "minorgridcolor": "white",
             "startlinecolor": "#2a3f5f"
            },
            "baxis": {
             "endlinecolor": "#2a3f5f",
             "gridcolor": "white",
             "linecolor": "white",
             "minorgridcolor": "white",
             "startlinecolor": "#2a3f5f"
            },
            "type": "carpet"
           }
          ],
          "choropleth": [
           {
            "colorbar": {
             "outlinewidth": 0,
             "ticks": ""
            },
            "type": "choropleth"
           }
          ],
          "contour": [
           {
            "colorbar": {
             "outlinewidth": 0,
             "ticks": ""
            },
            "colorscale": [
             [
              0,
              "#0d0887"
             ],
             [
              0.1111111111111111,
              "#46039f"
             ],
             [
              0.2222222222222222,
              "#7201a8"
             ],
             [
              0.3333333333333333,
              "#9c179e"
             ],
             [
              0.4444444444444444,
              "#bd3786"
             ],
             [
              0.5555555555555556,
              "#d8576b"
             ],
             [
              0.6666666666666666,
              "#ed7953"
             ],
             [
              0.7777777777777778,
              "#fb9f3a"
             ],
             [
              0.8888888888888888,
              "#fdca26"
             ],
             [
              1,
              "#f0f921"
             ]
            ],
            "type": "contour"
           }
          ],
          "contourcarpet": [
           {
            "colorbar": {
             "outlinewidth": 0,
             "ticks": ""
            },
            "type": "contourcarpet"
           }
          ],
          "heatmap": [
           {
            "colorbar": {
             "outlinewidth": 0,
             "ticks": ""
            },
            "colorscale": [
             [
              0,
              "#0d0887"
             ],
             [
              0.1111111111111111,
              "#46039f"
             ],
             [
              0.2222222222222222,
              "#7201a8"
             ],
             [
              0.3333333333333333,
              "#9c179e"
             ],
             [
              0.4444444444444444,
              "#bd3786"
             ],
             [
              0.5555555555555556,
              "#d8576b"
             ],
             [
              0.6666666666666666,
              "#ed7953"
             ],
             [
              0.7777777777777778,
              "#fb9f3a"
             ],
             [
              0.8888888888888888,
              "#fdca26"
             ],
             [
              1,
              "#f0f921"
             ]
            ],
            "type": "heatmap"
           }
          ],
          "histogram": [
           {
            "marker": {
             "pattern": {
              "fillmode": "overlay",
              "size": 10,
              "solidity": 0.2
             }
            },
            "type": "histogram"
           }
          ],
          "histogram2d": [
           {
            "colorbar": {
             "outlinewidth": 0,
             "ticks": ""
            },
            "colorscale": [
             [
              0,
              "#0d0887"
             ],
             [
              0.1111111111111111,
              "#46039f"
             ],
             [
              0.2222222222222222,
              "#7201a8"
             ],
             [
              0.3333333333333333,
              "#9c179e"
             ],
             [
              0.4444444444444444,
              "#bd3786"
             ],
             [
              0.5555555555555556,
              "#d8576b"
             ],
             [
              0.6666666666666666,
              "#ed7953"
             ],
             [
              0.7777777777777778,
              "#fb9f3a"
             ],
             [
              0.8888888888888888,
              "#fdca26"
             ],
             [
              1,
              "#f0f921"
             ]
            ],
            "type": "histogram2d"
           }
          ],
          "histogram2dcontour": [
           {
            "colorbar": {
             "outlinewidth": 0,
             "ticks": ""
            },
            "colorscale": [
             [
              0,
              "#0d0887"
             ],
             [
              0.1111111111111111,
              "#46039f"
             ],
             [
              0.2222222222222222,
              "#7201a8"
             ],
             [
              0.3333333333333333,
              "#9c179e"
             ],
             [
              0.4444444444444444,
              "#bd3786"
             ],
             [
              0.5555555555555556,
              "#d8576b"
             ],
             [
              0.6666666666666666,
              "#ed7953"
             ],
             [
              0.7777777777777778,
              "#fb9f3a"
             ],
             [
              0.8888888888888888,
              "#fdca26"
             ],
             [
              1,
              "#f0f921"
             ]
            ],
            "type": "histogram2dcontour"
           }
          ],
          "mesh3d": [
           {
            "colorbar": {
             "outlinewidth": 0,
             "ticks": ""
            },
            "type": "mesh3d"
           }
          ],
          "parcoords": [
           {
            "line": {
             "colorbar": {
              "outlinewidth": 0,
              "ticks": ""
             }
            },
            "type": "parcoords"
           }
          ],
          "pie": [
           {
            "automargin": true,
            "type": "pie"
           }
          ],
          "scatter": [
           {
            "fillpattern": {
             "fillmode": "overlay",
             "size": 10,
             "solidity": 0.2
            },
            "type": "scatter"
           }
          ],
          "scatter3d": [
           {
            "line": {
             "colorbar": {
              "outlinewidth": 0,
              "ticks": ""
             }
            },
            "marker": {
             "colorbar": {
              "outlinewidth": 0,
              "ticks": ""
             }
            },
            "type": "scatter3d"
           }
          ],
          "scattercarpet": [
           {
            "marker": {
             "colorbar": {
              "outlinewidth": 0,
              "ticks": ""
             }
            },
            "type": "scattercarpet"
           }
          ],
          "scattergeo": [
           {
            "marker": {
             "colorbar": {
              "outlinewidth": 0,
              "ticks": ""
             }
            },
            "type": "scattergeo"
           }
          ],
          "scattergl": [
           {
            "marker": {
             "colorbar": {
              "outlinewidth": 0,
              "ticks": ""
             }
            },
            "type": "scattergl"
           }
          ],
          "scattermap": [
           {
            "marker": {
             "colorbar": {
              "outlinewidth": 0,
              "ticks": ""
             }
            },
            "type": "scattermap"
           }
          ],
          "scattermapbox": [
           {
            "marker": {
             "colorbar": {
              "outlinewidth": 0,
              "ticks": ""
             }
            },
            "type": "scattermapbox"
           }
          ],
          "scatterpolar": [
           {
            "marker": {
             "colorbar": {
              "outlinewidth": 0,
              "ticks": ""
             }
            },
            "type": "scatterpolar"
           }
          ],
          "scatterpolargl": [
           {
            "marker": {
             "colorbar": {
              "outlinewidth": 0,
              "ticks": ""
             }
            },
            "type": "scatterpolargl"
           }
          ],
          "scatterternary": [
           {
            "marker": {
             "colorbar": {
              "outlinewidth": 0,
              "ticks": ""
             }
            },
            "type": "scatterternary"
           }
          ],
          "surface": [
           {
            "colorbar": {
             "outlinewidth": 0,
             "ticks": ""
            },
            "colorscale": [
             [
              0,
              "#0d0887"
             ],
             [
              0.1111111111111111,
              "#46039f"
             ],
             [
              0.2222222222222222,
              "#7201a8"
             ],
             [
              0.3333333333333333,
              "#9c179e"
             ],
             [
              0.4444444444444444,
              "#bd3786"
             ],
             [
              0.5555555555555556,
              "#d8576b"
             ],
             [
              0.6666666666666666,
              "#ed7953"
             ],
             [
              0.7777777777777778,
              "#fb9f3a"
             ],
             [
              0.8888888888888888,
              "#fdca26"
             ],
             [
              1,
              "#f0f921"
             ]
            ],
            "type": "surface"
           }
          ],
          "table": [
           {
            "cells": {
             "fill": {
              "color": "#EBF0F8"
             },
             "line": {
              "color": "white"
             }
            },
            "header": {
             "fill": {
              "color": "#C8D4E3"
             },
             "line": {
              "color": "white"
             }
            },
            "type": "table"
           }
          ]
         },
         "layout": {
          "annotationdefaults": {
           "arrowcolor": "#2a3f5f",
           "arrowhead": 0,
           "arrowwidth": 1
          },
          "autotypenumbers": "strict",
          "coloraxis": {
           "colorbar": {
            "outlinewidth": 0,
            "ticks": ""
           }
          },
          "colorscale": {
           "diverging": [
            [
             0,
             "#8e0152"
            ],
            [
             0.1,
             "#c51b7d"
            ],
            [
             0.2,
             "#de77ae"
            ],
            [
             0.3,
             "#f1b6da"
            ],
            [
             0.4,
             "#fde0ef"
            ],
            [
             0.5,
             "#f7f7f7"
            ],
            [
             0.6,
             "#e6f5d0"
            ],
            [
             0.7,
             "#b8e186"
            ],
            [
             0.8,
             "#7fbc41"
            ],
            [
             0.9,
             "#4d9221"
            ],
            [
             1,
             "#276419"
            ]
           ],
           "sequential": [
            [
             0,
             "#0d0887"
            ],
            [
             0.1111111111111111,
             "#46039f"
            ],
            [
             0.2222222222222222,
             "#7201a8"
            ],
            [
             0.3333333333333333,
             "#9c179e"
            ],
            [
             0.4444444444444444,
             "#bd3786"
            ],
            [
             0.5555555555555556,
             "#d8576b"
            ],
            [
             0.6666666666666666,
             "#ed7953"
            ],
            [
             0.7777777777777778,
             "#fb9f3a"
            ],
            [
             0.8888888888888888,
             "#fdca26"
            ],
            [
             1,
             "#f0f921"
            ]
           ],
           "sequentialminus": [
            [
             0,
             "#0d0887"
            ],
            [
             0.1111111111111111,
             "#46039f"
            ],
            [
             0.2222222222222222,
             "#7201a8"
            ],
            [
             0.3333333333333333,
             "#9c179e"
            ],
            [
             0.4444444444444444,
             "#bd3786"
            ],
            [
             0.5555555555555556,
             "#d8576b"
            ],
            [
             0.6666666666666666,
             "#ed7953"
            ],
            [
             0.7777777777777778,
             "#fb9f3a"
            ],
            [
             0.8888888888888888,
             "#fdca26"
            ],
            [
             1,
             "#f0f921"
            ]
           ]
          },
          "colorway": [
           "#636efa",
           "#EF553B",
           "#00cc96",
           "#ab63fa",
           "#FFA15A",
           "#19d3f3",
           "#FF6692",
           "#B6E880",
           "#FF97FF",
           "#FECB52"
          ],
          "font": {
           "color": "#2a3f5f"
          },
          "geo": {
           "bgcolor": "white",
           "lakecolor": "white",
           "landcolor": "#E5ECF6",
           "showlakes": true,
           "showland": true,
           "subunitcolor": "white"
          },
          "hoverlabel": {
           "align": "left"
          },
          "hovermode": "closest",
          "mapbox": {
           "style": "light"
          },
          "paper_bgcolor": "white",
          "plot_bgcolor": "#E5ECF6",
          "polar": {
           "angularaxis": {
            "gridcolor": "white",
            "linecolor": "white",
            "ticks": ""
           },
           "bgcolor": "#E5ECF6",
           "radialaxis": {
            "gridcolor": "white",
            "linecolor": "white",
            "ticks": ""
           }
          },
          "scene": {
           "xaxis": {
            "backgroundcolor": "#E5ECF6",
            "gridcolor": "white",
            "gridwidth": 2,
            "linecolor": "white",
            "showbackground": true,
            "ticks": "",
            "zerolinecolor": "white"
           },
           "yaxis": {
            "backgroundcolor": "#E5ECF6",
            "gridcolor": "white",
            "gridwidth": 2,
            "linecolor": "white",
            "showbackground": true,
            "ticks": "",
            "zerolinecolor": "white"
           },
           "zaxis": {
            "backgroundcolor": "#E5ECF6",
            "gridcolor": "white",
            "gridwidth": 2,
            "linecolor": "white",
            "showbackground": true,
            "ticks": "",
            "zerolinecolor": "white"
           }
          },
          "shapedefaults": {
           "line": {
            "color": "#2a3f5f"
           }
          },
          "ternary": {
           "aaxis": {
            "gridcolor": "white",
            "linecolor": "white",
            "ticks": ""
           },
           "baxis": {
            "gridcolor": "white",
            "linecolor": "white",
            "ticks": ""
           },
           "bgcolor": "#E5ECF6",
           "caxis": {
            "gridcolor": "white",
            "linecolor": "white",
            "ticks": ""
           }
          },
          "title": {
           "x": 0.05
          },
          "xaxis": {
           "automargin": true,
           "gridcolor": "white",
           "linecolor": "white",
           "ticks": "",
           "title": {
            "standoff": 15
           },
           "zerolinecolor": "white",
           "zerolinewidth": 2
          },
          "yaxis": {
           "automargin": true,
           "gridcolor": "white",
           "linecolor": "white",
           "ticks": "",
           "title": {
            "standoff": 15
           },
           "zerolinecolor": "white",
           "zerolinewidth": 2
          }
         }
        },
        "title": {
         "text": "Cumulative Monthly Rides"
        },
        "xaxis": {
         "title": {
          "text": "Month"
         }
        },
        "yaxis": {
         "title": {
          "text": "Cumulative Rides"
         }
        }
       }
      }
     },
     "metadata": {},
     "output_type": "display_data"
    },
    {
     "data": {
      "application/vnd.plotly.v1+json": {
       "config": {
        "plotlyServerURL": "https://plot.ly"
       },
       "data": [
        {
         "hovertemplate": "Cluster Label=Off-Peak Early/Late Hours<br>Hour=%{x}<br>Avg Rentals=%{y}<extra></extra>",
         "legendgroup": "Off-Peak Early/Late Hours",
         "line": {
          "color": "rgb(102, 197, 204)",
          "dash": "solid"
         },
         "marker": {
          "symbol": "circle"
         },
         "mode": "lines+markers",
         "name": "Off-Peak Early/Late Hours",
         "orientation": "v",
         "showlegend": true,
         "type": "scatter",
         "x": {
          "bdata": "AAECAwQFBhc=",
          "dtype": "i1"
         },
         "xaxis": "x",
         "y": {
          "bdata": "5yjSAvTySkBT0TyhFrBAQBoosLyz3jZAdFu/L250J0BpaWlpaWkZQPaLWCjL4zNAmZPmJ9MCU0DTL/3SL/VVQA==",
          "dtype": "f8"
         },
         "yaxis": "y"
        },
        {
         "hovertemplate": "Cluster Label=Evening Peak Hours<br>Hour=%{x}<br>Avg Rentals=%{y}<extra></extra>",
         "legendgroup": "Evening Peak Hours",
         "line": {
          "color": "rgb(246, 207, 113)",
          "dash": "solid"
         },
         "marker": {
          "symbol": "circle"
         },
         "mode": "lines+markers",
         "name": "Evening Peak Hours",
         "orientation": "v",
         "showlegend": true,
         "type": "scatter",
         "x": {
          "bdata": "BwkKCwwNDg8UFRY=",
          "dtype": "i1"
         },
         "xaxis": "x",
         "y": {
          "bdata": "xExKmxGCakAhLstZ52lrQMLojVtktWVAOes85ZMEakAiHMIhHKpvQNeTU2IotW9AMsIvOGAebkBun8pXdmdvQI/3eI/3QGxA4RAO4RCKZUCsuZqruWpgQA==",
          "dtype": "f8"
         },
         "yaxis": "y"
        },
        {
         "hovertemplate": "Cluster Label=Midday Moderate Hours<br>Hour=%{x}<br>Avg Rentals=%{y}<extra></extra>",
         "legendgroup": "Midday Moderate Hours",
         "line": {
          "color": "rgb(248, 156, 116)",
          "dash": "solid"
         },
         "marker": {
          "symbol": "circle"
         },
         "mode": "lines+markers",
         "name": "Midday Moderate Hours",
         "orientation": "v",
         "showlegend": true,
         "type": "scatter",
         "x": {
          "bdata": "CBAREhM=",
          "dtype": "i1"
         },
         "xaxis": "x",
         "y": {
          "bdata": "R7qpEi1wdkD8XSKrvH9zQHTnzp0713xAAy3QAi2YekCmX/qlX3hzQA==",
          "dtype": "f8"
         },
         "yaxis": "y"
        }
       ],
       "layout": {
        "legend": {
         "title": {
          "text": "Cluster Label"
         },
         "tracegroupgap": 0
        },
        "template": {
         "data": {
          "bar": [
           {
            "error_x": {
             "color": "#2a3f5f"
            },
            "error_y": {
             "color": "#2a3f5f"
            },
            "marker": {
             "line": {
              "color": "#E5ECF6",
              "width": 0.5
             },
             "pattern": {
              "fillmode": "overlay",
              "size": 10,
              "solidity": 0.2
             }
            },
            "type": "bar"
           }
          ],
          "barpolar": [
           {
            "marker": {
             "line": {
              "color": "#E5ECF6",
              "width": 0.5
             },
             "pattern": {
              "fillmode": "overlay",
              "size": 10,
              "solidity": 0.2
             }
            },
            "type": "barpolar"
           }
          ],
          "carpet": [
           {
            "aaxis": {
             "endlinecolor": "#2a3f5f",
             "gridcolor": "white",
             "linecolor": "white",
             "minorgridcolor": "white",
             "startlinecolor": "#2a3f5f"
            },
            "baxis": {
             "endlinecolor": "#2a3f5f",
             "gridcolor": "white",
             "linecolor": "white",
             "minorgridcolor": "white",
             "startlinecolor": "#2a3f5f"
            },
            "type": "carpet"
           }
          ],
          "choropleth": [
           {
            "colorbar": {
             "outlinewidth": 0,
             "ticks": ""
            },
            "type": "choropleth"
           }
          ],
          "contour": [
           {
            "colorbar": {
             "outlinewidth": 0,
             "ticks": ""
            },
            "colorscale": [
             [
              0,
              "#0d0887"
             ],
             [
              0.1111111111111111,
              "#46039f"
             ],
             [
              0.2222222222222222,
              "#7201a8"
             ],
             [
              0.3333333333333333,
              "#9c179e"
             ],
             [
              0.4444444444444444,
              "#bd3786"
             ],
             [
              0.5555555555555556,
              "#d8576b"
             ],
             [
              0.6666666666666666,
              "#ed7953"
             ],
             [
              0.7777777777777778,
              "#fb9f3a"
             ],
             [
              0.8888888888888888,
              "#fdca26"
             ],
             [
              1,
              "#f0f921"
             ]
            ],
            "type": "contour"
           }
          ],
          "contourcarpet": [
           {
            "colorbar": {
             "outlinewidth": 0,
             "ticks": ""
            },
            "type": "contourcarpet"
           }
          ],
          "heatmap": [
           {
            "colorbar": {
             "outlinewidth": 0,
             "ticks": ""
            },
            "colorscale": [
             [
              0,
              "#0d0887"
             ],
             [
              0.1111111111111111,
              "#46039f"
             ],
             [
              0.2222222222222222,
              "#7201a8"
             ],
             [
              0.3333333333333333,
              "#9c179e"
             ],
             [
              0.4444444444444444,
              "#bd3786"
             ],
             [
              0.5555555555555556,
              "#d8576b"
             ],
             [
              0.6666666666666666,
              "#ed7953"
             ],
             [
              0.7777777777777778,
              "#fb9f3a"
             ],
             [
              0.8888888888888888,
              "#fdca26"
             ],
             [
              1,
              "#f0f921"
             ]
            ],
            "type": "heatmap"
           }
          ],
          "histogram": [
           {
            "marker": {
             "pattern": {
              "fillmode": "overlay",
              "size": 10,
              "solidity": 0.2
             }
            },
            "type": "histogram"
           }
          ],
          "histogram2d": [
           {
            "colorbar": {
             "outlinewidth": 0,
             "ticks": ""
            },
            "colorscale": [
             [
              0,
              "#0d0887"
             ],
             [
              0.1111111111111111,
              "#46039f"
             ],
             [
              0.2222222222222222,
              "#7201a8"
             ],
             [
              0.3333333333333333,
              "#9c179e"
             ],
             [
              0.4444444444444444,
              "#bd3786"
             ],
             [
              0.5555555555555556,
              "#d8576b"
             ],
             [
              0.6666666666666666,
              "#ed7953"
             ],
             [
              0.7777777777777778,
              "#fb9f3a"
             ],
             [
              0.8888888888888888,
              "#fdca26"
             ],
             [
              1,
              "#f0f921"
             ]
            ],
            "type": "histogram2d"
           }
          ],
          "histogram2dcontour": [
           {
            "colorbar": {
             "outlinewidth": 0,
             "ticks": ""
            },
            "colorscale": [
             [
              0,
              "#0d0887"
             ],
             [
              0.1111111111111111,
              "#46039f"
             ],
             [
              0.2222222222222222,
              "#7201a8"
             ],
             [
              0.3333333333333333,
              "#9c179e"
             ],
             [
              0.4444444444444444,
              "#bd3786"
             ],
             [
              0.5555555555555556,
              "#d8576b"
             ],
             [
              0.6666666666666666,
              "#ed7953"
             ],
             [
              0.7777777777777778,
              "#fb9f3a"
             ],
             [
              0.8888888888888888,
              "#fdca26"
             ],
             [
              1,
              "#f0f921"
             ]
            ],
            "type": "histogram2dcontour"
           }
          ],
          "mesh3d": [
           {
            "colorbar": {
             "outlinewidth": 0,
             "ticks": ""
            },
            "type": "mesh3d"
           }
          ],
          "parcoords": [
           {
            "line": {
             "colorbar": {
              "outlinewidth": 0,
              "ticks": ""
             }
            },
            "type": "parcoords"
           }
          ],
          "pie": [
           {
            "automargin": true,
            "type": "pie"
           }
          ],
          "scatter": [
           {
            "fillpattern": {
             "fillmode": "overlay",
             "size": 10,
             "solidity": 0.2
            },
            "type": "scatter"
           }
          ],
          "scatter3d": [
           {
            "line": {
             "colorbar": {
              "outlinewidth": 0,
              "ticks": ""
             }
            },
            "marker": {
             "colorbar": {
              "outlinewidth": 0,
              "ticks": ""
             }
            },
            "type": "scatter3d"
           }
          ],
          "scattercarpet": [
           {
            "marker": {
             "colorbar": {
              "outlinewidth": 0,
              "ticks": ""
             }
            },
            "type": "scattercarpet"
           }
          ],
          "scattergeo": [
           {
            "marker": {
             "colorbar": {
              "outlinewidth": 0,
              "ticks": ""
             }
            },
            "type": "scattergeo"
           }
          ],
          "scattergl": [
           {
            "marker": {
             "colorbar": {
              "outlinewidth": 0,
              "ticks": ""
             }
            },
            "type": "scattergl"
           }
          ],
          "scattermap": [
           {
            "marker": {
             "colorbar": {
              "outlinewidth": 0,
              "ticks": ""
             }
            },
            "type": "scattermap"
           }
          ],
          "scattermapbox": [
           {
            "marker": {
             "colorbar": {
              "outlinewidth": 0,
              "ticks": ""
             }
            },
            "type": "scattermapbox"
           }
          ],
          "scatterpolar": [
           {
            "marker": {
             "colorbar": {
              "outlinewidth": 0,
              "ticks": ""
             }
            },
            "type": "scatterpolar"
           }
          ],
          "scatterpolargl": [
           {
            "marker": {
             "colorbar": {
              "outlinewidth": 0,
              "ticks": ""
             }
            },
            "type": "scatterpolargl"
           }
          ],
          "scatterternary": [
           {
            "marker": {
             "colorbar": {
              "outlinewidth": 0,
              "ticks": ""
             }
            },
            "type": "scatterternary"
           }
          ],
          "surface": [
           {
            "colorbar": {
             "outlinewidth": 0,
             "ticks": ""
            },
            "colorscale": [
             [
              0,
              "#0d0887"
             ],
             [
              0.1111111111111111,
              "#46039f"
             ],
             [
              0.2222222222222222,
              "#7201a8"
             ],
             [
              0.3333333333333333,
              "#9c179e"
             ],
             [
              0.4444444444444444,
              "#bd3786"
             ],
             [
              0.5555555555555556,
              "#d8576b"
             ],
             [
              0.6666666666666666,
              "#ed7953"
             ],
             [
              0.7777777777777778,
              "#fb9f3a"
             ],
             [
              0.8888888888888888,
              "#fdca26"
             ],
             [
              1,
              "#f0f921"
             ]
            ],
            "type": "surface"
           }
          ],
          "table": [
           {
            "cells": {
             "fill": {
              "color": "#EBF0F8"
             },
             "line": {
              "color": "white"
             }
            },
            "header": {
             "fill": {
              "color": "#C8D4E3"
             },
             "line": {
              "color": "white"
             }
            },
            "type": "table"
           }
          ]
         },
         "layout": {
          "annotationdefaults": {
           "arrowcolor": "#2a3f5f",
           "arrowhead": 0,
           "arrowwidth": 1
          },
          "autotypenumbers": "strict",
          "coloraxis": {
           "colorbar": {
            "outlinewidth": 0,
            "ticks": ""
           }
          },
          "colorscale": {
           "diverging": [
            [
             0,
             "#8e0152"
            ],
            [
             0.1,
             "#c51b7d"
            ],
            [
             0.2,
             "#de77ae"
            ],
            [
             0.3,
             "#f1b6da"
            ],
            [
             0.4,
             "#fde0ef"
            ],
            [
             0.5,
             "#f7f7f7"
            ],
            [
             0.6,
             "#e6f5d0"
            ],
            [
             0.7,
             "#b8e186"
            ],
            [
             0.8,
             "#7fbc41"
            ],
            [
             0.9,
             "#4d9221"
            ],
            [
             1,
             "#276419"
            ]
           ],
           "sequential": [
            [
             0,
             "#0d0887"
            ],
            [
             0.1111111111111111,
             "#46039f"
            ],
            [
             0.2222222222222222,
             "#7201a8"
            ],
            [
             0.3333333333333333,
             "#9c179e"
            ],
            [
             0.4444444444444444,
             "#bd3786"
            ],
            [
             0.5555555555555556,
             "#d8576b"
            ],
            [
             0.6666666666666666,
             "#ed7953"
            ],
            [
             0.7777777777777778,
             "#fb9f3a"
            ],
            [
             0.8888888888888888,
             "#fdca26"
            ],
            [
             1,
             "#f0f921"
            ]
           ],
           "sequentialminus": [
            [
             0,
             "#0d0887"
            ],
            [
             0.1111111111111111,
             "#46039f"
            ],
            [
             0.2222222222222222,
             "#7201a8"
            ],
            [
             0.3333333333333333,
             "#9c179e"
            ],
            [
             0.4444444444444444,
             "#bd3786"
            ],
            [
             0.5555555555555556,
             "#d8576b"
            ],
            [
             0.6666666666666666,
             "#ed7953"
            ],
            [
             0.7777777777777778,
             "#fb9f3a"
            ],
            [
             0.8888888888888888,
             "#fdca26"
            ],
            [
             1,
             "#f0f921"
            ]
           ]
          },
          "colorway": [
           "#636efa",
           "#EF553B",
           "#00cc96",
           "#ab63fa",
           "#FFA15A",
           "#19d3f3",
           "#FF6692",
           "#B6E880",
           "#FF97FF",
           "#FECB52"
          ],
          "font": {
           "color": "#2a3f5f"
          },
          "geo": {
           "bgcolor": "white",
           "lakecolor": "white",
           "landcolor": "#E5ECF6",
           "showlakes": true,
           "showland": true,
           "subunitcolor": "white"
          },
          "hoverlabel": {
           "align": "left"
          },
          "hovermode": "closest",
          "mapbox": {
           "style": "light"
          },
          "paper_bgcolor": "white",
          "plot_bgcolor": "#E5ECF6",
          "polar": {
           "angularaxis": {
            "gridcolor": "white",
            "linecolor": "white",
            "ticks": ""
           },
           "bgcolor": "#E5ECF6",
           "radialaxis": {
            "gridcolor": "white",
            "linecolor": "white",
            "ticks": ""
           }
          },
          "scene": {
           "xaxis": {
            "backgroundcolor": "#E5ECF6",
            "gridcolor": "white",
            "gridwidth": 2,
            "linecolor": "white",
            "showbackground": true,
            "ticks": "",
            "zerolinecolor": "white"
           },
           "yaxis": {
            "backgroundcolor": "#E5ECF6",
            "gridcolor": "white",
            "gridwidth": 2,
            "linecolor": "white",
            "showbackground": true,
            "ticks": "",
            "zerolinecolor": "white"
           },
           "zaxis": {
            "backgroundcolor": "#E5ECF6",
            "gridcolor": "white",
            "gridwidth": 2,
            "linecolor": "white",
            "showbackground": true,
            "ticks": "",
            "zerolinecolor": "white"
           }
          },
          "shapedefaults": {
           "line": {
            "color": "#2a3f5f"
           }
          },
          "ternary": {
           "aaxis": {
            "gridcolor": "white",
            "linecolor": "white",
            "ticks": ""
           },
           "baxis": {
            "gridcolor": "white",
            "linecolor": "white",
            "ticks": ""
           },
           "bgcolor": "#E5ECF6",
           "caxis": {
            "gridcolor": "white",
            "linecolor": "white",
            "ticks": ""
           }
          },
          "title": {
           "x": 0.05
          },
          "xaxis": {
           "automargin": true,
           "gridcolor": "white",
           "linecolor": "white",
           "ticks": "",
           "title": {
            "standoff": 15
           },
           "zerolinecolor": "white",
           "zerolinewidth": 2
          },
          "yaxis": {
           "automargin": true,
           "gridcolor": "white",
           "linecolor": "white",
           "ticks": "",
           "title": {
            "standoff": 15
           },
           "zerolinecolor": "white",
           "zerolinewidth": 2
          }
         }
        },
        "title": {
         "text": "Hourly Demand Profiles (Clustered)"
        },
        "xaxis": {
         "anchor": "y",
         "domain": [
          0,
          1
         ],
         "title": {
          "text": "Hour"
         }
        },
        "yaxis": {
         "anchor": "x",
         "domain": [
          0,
          1
         ],
         "title": {
          "text": "Avg Rentals"
         }
        }
       }
      }
     },
     "metadata": {},
     "output_type": "display_data"
    },
    {
     "data": {
      "application/vnd.plotly.v1+json": {
       "config": {
        "plotlyServerURL": "https://plot.ly"
       },
       "data": [
        {
         "line": {
          "color": "lightblue"
         },
         "mode": "lines",
         "name": "Daily Rentals",
         "type": "scatter",
         "x": [
          "2011-01-01T00:00:00",
          "2011-01-02T00:00:00",
          "2011-01-03T00:00:00",
          "2011-01-04T00:00:00",
          "2011-01-05T00:00:00",
          "2011-01-06T00:00:00",
          "2011-01-07T00:00:00",
          "2011-01-08T00:00:00",
          "2011-01-09T00:00:00",
          "2011-01-10T00:00:00",
          "2011-01-11T00:00:00",
          "2011-01-12T00:00:00",
          "2011-01-13T00:00:00",
          "2011-01-14T00:00:00",
          "2011-01-15T00:00:00",
          "2011-01-16T00:00:00",
          "2011-01-17T00:00:00",
          "2011-01-18T00:00:00",
          "2011-01-19T00:00:00",
          "2011-01-20T00:00:00",
          "2011-01-21T00:00:00",
          "2011-01-22T00:00:00",
          "2011-01-23T00:00:00",
          "2011-01-24T00:00:00",
          "2011-01-25T00:00:00",
          "2011-01-26T00:00:00",
          "2011-01-27T00:00:00",
          "2011-01-28T00:00:00",
          "2011-01-29T00:00:00",
          "2011-01-30T00:00:00",
          "2011-01-31T00:00:00",
          "2011-02-01T00:00:00",
          "2011-02-02T00:00:00",
          "2011-02-03T00:00:00",
          "2011-02-04T00:00:00",
          "2011-02-05T00:00:00",
          "2011-02-06T00:00:00",
          "2011-02-07T00:00:00",
          "2011-02-08T00:00:00",
          "2011-02-09T00:00:00",
          "2011-02-10T00:00:00",
          "2011-02-11T00:00:00",
          "2011-02-12T00:00:00",
          "2011-02-13T00:00:00",
          "2011-02-14T00:00:00",
          "2011-02-15T00:00:00",
          "2011-02-16T00:00:00",
          "2011-02-17T00:00:00",
          "2011-02-18T00:00:00",
          "2011-02-19T00:00:00",
          "2011-02-20T00:00:00",
          "2011-02-21T00:00:00",
          "2011-02-22T00:00:00",
          "2011-02-23T00:00:00",
          "2011-02-24T00:00:00",
          "2011-02-25T00:00:00",
          "2011-02-26T00:00:00",
          "2011-02-27T00:00:00",
          "2011-02-28T00:00:00",
          "2011-03-01T00:00:00",
          "2011-03-02T00:00:00",
          "2011-03-03T00:00:00",
          "2011-03-04T00:00:00",
          "2011-03-05T00:00:00",
          "2011-03-06T00:00:00",
          "2011-03-07T00:00:00",
          "2011-03-08T00:00:00",
          "2011-03-09T00:00:00",
          "2011-03-10T00:00:00",
          "2011-03-11T00:00:00",
          "2011-03-12T00:00:00",
          "2011-03-13T00:00:00",
          "2011-03-14T00:00:00",
          "2011-03-15T00:00:00",
          "2011-03-16T00:00:00",
          "2011-03-17T00:00:00",
          "2011-03-18T00:00:00",
          "2011-03-19T00:00:00",
          "2011-03-20T00:00:00",
          "2011-03-21T00:00:00",
          "2011-03-22T00:00:00",
          "2011-03-23T00:00:00",
          "2011-03-24T00:00:00",
          "2011-03-25T00:00:00",
          "2011-03-26T00:00:00",
          "2011-03-27T00:00:00",
          "2011-03-28T00:00:00",
          "2011-03-29T00:00:00",
          "2011-03-30T00:00:00",
          "2011-03-31T00:00:00",
          "2011-04-01T00:00:00",
          "2011-04-02T00:00:00",
          "2011-04-03T00:00:00",
          "2011-04-04T00:00:00",
          "2011-04-05T00:00:00",
          "2011-04-06T00:00:00",
          "2011-04-07T00:00:00",
          "2011-04-08T00:00:00",
          "2011-04-09T00:00:00",
          "2011-04-10T00:00:00",
          "2011-04-11T00:00:00",
          "2011-04-12T00:00:00",
          "2011-04-13T00:00:00",
          "2011-04-14T00:00:00",
          "2011-04-15T00:00:00",
          "2011-04-16T00:00:00",
          "2011-04-17T00:00:00",
          "2011-04-18T00:00:00",
          "2011-04-19T00:00:00",
          "2011-04-20T00:00:00",
          "2011-04-21T00:00:00",
          "2011-04-22T00:00:00",
          "2011-04-23T00:00:00",
          "2011-04-24T00:00:00",
          "2011-04-25T00:00:00",
          "2011-04-26T00:00:00",
          "2011-04-27T00:00:00",
          "2011-04-28T00:00:00",
          "2011-04-29T00:00:00",
          "2011-04-30T00:00:00",
          "2011-05-01T00:00:00",
          "2011-05-02T00:00:00",
          "2011-05-03T00:00:00",
          "2011-05-04T00:00:00",
          "2011-05-05T00:00:00",
          "2011-05-06T00:00:00",
          "2011-05-07T00:00:00",
          "2011-05-08T00:00:00",
          "2011-05-09T00:00:00",
          "2011-05-10T00:00:00",
          "2011-05-11T00:00:00",
          "2011-05-12T00:00:00",
          "2011-05-13T00:00:00",
          "2011-05-14T00:00:00",
          "2011-05-15T00:00:00",
          "2011-05-16T00:00:00",
          "2011-05-17T00:00:00",
          "2011-05-18T00:00:00",
          "2011-05-19T00:00:00",
          "2011-05-20T00:00:00",
          "2011-05-21T00:00:00",
          "2011-05-22T00:00:00",
          "2011-05-23T00:00:00",
          "2011-05-24T00:00:00",
          "2011-05-25T00:00:00",
          "2011-05-26T00:00:00",
          "2011-05-27T00:00:00",
          "2011-05-28T00:00:00",
          "2011-05-29T00:00:00",
          "2011-05-30T00:00:00",
          "2011-05-31T00:00:00",
          "2011-06-01T00:00:00",
          "2011-06-02T00:00:00",
          "2011-06-03T00:00:00",
          "2011-06-04T00:00:00",
          "2011-06-05T00:00:00",
          "2011-06-06T00:00:00",
          "2011-06-07T00:00:00",
          "2011-06-08T00:00:00",
          "2011-06-09T00:00:00",
          "2011-06-10T00:00:00",
          "2011-06-11T00:00:00",
          "2011-06-12T00:00:00",
          "2011-06-13T00:00:00",
          "2011-06-14T00:00:00",
          "2011-06-15T00:00:00",
          "2011-06-16T00:00:00",
          "2011-06-17T00:00:00",
          "2011-06-18T00:00:00",
          "2011-06-19T00:00:00",
          "2011-06-20T00:00:00",
          "2011-06-21T00:00:00",
          "2011-06-22T00:00:00",
          "2011-06-23T00:00:00",
          "2011-06-24T00:00:00",
          "2011-06-25T00:00:00",
          "2011-06-26T00:00:00",
          "2011-06-27T00:00:00",
          "2011-06-28T00:00:00",
          "2011-06-29T00:00:00",
          "2011-06-30T00:00:00",
          "2011-07-01T00:00:00",
          "2011-07-02T00:00:00",
          "2011-07-03T00:00:00",
          "2011-07-04T00:00:00",
          "2011-07-05T00:00:00",
          "2011-07-06T00:00:00",
          "2011-07-07T00:00:00",
          "2011-07-08T00:00:00",
          "2011-07-09T00:00:00",
          "2011-07-10T00:00:00",
          "2011-07-11T00:00:00",
          "2011-07-12T00:00:00",
          "2011-07-13T00:00:00",
          "2011-07-14T00:00:00",
          "2011-07-15T00:00:00",
          "2011-07-16T00:00:00",
          "2011-07-17T00:00:00",
          "2011-07-18T00:00:00",
          "2011-07-19T00:00:00",
          "2011-07-20T00:00:00",
          "2011-07-21T00:00:00",
          "2011-07-22T00:00:00",
          "2011-07-23T00:00:00",
          "2011-07-24T00:00:00",
          "2011-07-25T00:00:00",
          "2011-07-26T00:00:00",
          "2011-07-27T00:00:00",
          "2011-07-28T00:00:00",
          "2011-07-29T00:00:00",
          "2011-07-30T00:00:00",
          "2011-07-31T00:00:00",
          "2011-08-01T00:00:00",
          "2011-08-02T00:00:00",
          "2011-08-03T00:00:00",
          "2011-08-04T00:00:00",
          "2011-08-05T00:00:00",
          "2011-08-06T00:00:00",
          "2011-08-07T00:00:00",
          "2011-08-08T00:00:00",
          "2011-08-09T00:00:00",
          "2011-08-10T00:00:00",
          "2011-08-11T00:00:00",
          "2011-08-12T00:00:00",
          "2011-08-13T00:00:00",
          "2011-08-14T00:00:00",
          "2011-08-15T00:00:00",
          "2011-08-16T00:00:00",
          "2011-08-17T00:00:00",
          "2011-08-18T00:00:00",
          "2011-08-19T00:00:00",
          "2011-08-20T00:00:00",
          "2011-08-21T00:00:00",
          "2011-08-22T00:00:00",
          "2011-08-23T00:00:00",
          "2011-08-24T00:00:00",
          "2011-08-25T00:00:00",
          "2011-08-26T00:00:00",
          "2011-08-27T00:00:00",
          "2011-08-28T00:00:00",
          "2011-08-29T00:00:00",
          "2011-08-30T00:00:00",
          "2011-08-31T00:00:00",
          "2011-09-01T00:00:00",
          "2011-09-02T00:00:00",
          "2011-09-03T00:00:00",
          "2011-09-04T00:00:00",
          "2011-09-05T00:00:00",
          "2011-09-06T00:00:00",
          "2011-09-07T00:00:00",
          "2011-09-08T00:00:00",
          "2011-09-09T00:00:00",
          "2011-09-10T00:00:00",
          "2011-09-11T00:00:00",
          "2011-09-12T00:00:00",
          "2011-09-13T00:00:00",
          "2011-09-14T00:00:00",
          "2011-09-15T00:00:00",
          "2011-09-16T00:00:00",
          "2011-09-17T00:00:00",
          "2011-09-18T00:00:00",
          "2011-09-19T00:00:00",
          "2011-09-20T00:00:00",
          "2011-09-21T00:00:00",
          "2011-09-22T00:00:00",
          "2011-09-23T00:00:00",
          "2011-09-24T00:00:00",
          "2011-09-25T00:00:00",
          "2011-09-26T00:00:00",
          "2011-09-27T00:00:00",
          "2011-09-28T00:00:00",
          "2011-09-29T00:00:00",
          "2011-09-30T00:00:00",
          "2011-10-01T00:00:00",
          "2011-10-02T00:00:00",
          "2011-10-03T00:00:00",
          "2011-10-04T00:00:00",
          "2011-10-05T00:00:00",
          "2011-10-06T00:00:00",
          "2011-10-07T00:00:00",
          "2011-10-08T00:00:00",
          "2011-10-09T00:00:00",
          "2011-10-10T00:00:00",
          "2011-10-11T00:00:00",
          "2011-10-12T00:00:00",
          "2011-10-13T00:00:00",
          "2011-10-14T00:00:00",
          "2011-10-15T00:00:00",
          "2011-10-16T00:00:00",
          "2011-10-17T00:00:00",
          "2011-10-18T00:00:00",
          "2011-10-19T00:00:00",
          "2011-10-20T00:00:00",
          "2011-10-21T00:00:00",
          "2011-10-22T00:00:00",
          "2011-10-23T00:00:00",
          "2011-10-24T00:00:00",
          "2011-10-25T00:00:00",
          "2011-10-26T00:00:00",
          "2011-10-27T00:00:00",
          "2011-10-28T00:00:00",
          "2011-10-29T00:00:00",
          "2011-10-30T00:00:00",
          "2011-10-31T00:00:00",
          "2011-11-01T00:00:00",
          "2011-11-02T00:00:00",
          "2011-11-03T00:00:00",
          "2011-11-04T00:00:00",
          "2011-11-05T00:00:00",
          "2011-11-06T00:00:00",
          "2011-11-07T00:00:00",
          "2011-11-08T00:00:00",
          "2011-11-09T00:00:00",
          "2011-11-10T00:00:00",
          "2011-11-11T00:00:00",
          "2011-11-12T00:00:00",
          "2011-11-13T00:00:00",
          "2011-11-14T00:00:00",
          "2011-11-15T00:00:00",
          "2011-11-16T00:00:00",
          "2011-11-17T00:00:00",
          "2011-11-18T00:00:00",
          "2011-11-19T00:00:00",
          "2011-11-20T00:00:00",
          "2011-11-21T00:00:00",
          "2011-11-22T00:00:00",
          "2011-11-23T00:00:00",
          "2011-11-24T00:00:00",
          "2011-11-25T00:00:00",
          "2011-11-26T00:00:00",
          "2011-11-27T00:00:00",
          "2011-11-28T00:00:00",
          "2011-11-29T00:00:00",
          "2011-11-30T00:00:00",
          "2011-12-01T00:00:00",
          "2011-12-02T00:00:00",
          "2011-12-03T00:00:00",
          "2011-12-04T00:00:00",
          "2011-12-05T00:00:00",
          "2011-12-06T00:00:00",
          "2011-12-07T00:00:00",
          "2011-12-08T00:00:00",
          "2011-12-09T00:00:00",
          "2011-12-10T00:00:00",
          "2011-12-11T00:00:00",
          "2011-12-12T00:00:00",
          "2011-12-13T00:00:00",
          "2011-12-14T00:00:00",
          "2011-12-15T00:00:00",
          "2011-12-16T00:00:00",
          "2011-12-17T00:00:00",
          "2011-12-18T00:00:00",
          "2011-12-19T00:00:00",
          "2011-12-20T00:00:00",
          "2011-12-21T00:00:00",
          "2011-12-22T00:00:00",
          "2011-12-23T00:00:00",
          "2011-12-24T00:00:00",
          "2011-12-25T00:00:00",
          "2011-12-26T00:00:00",
          "2011-12-27T00:00:00",
          "2011-12-28T00:00:00",
          "2011-12-29T00:00:00",
          "2011-12-30T00:00:00",
          "2011-12-31T00:00:00",
          "2012-01-01T00:00:00",
          "2012-01-02T00:00:00",
          "2012-01-03T00:00:00",
          "2012-01-04T00:00:00",
          "2012-01-05T00:00:00",
          "2012-01-06T00:00:00",
          "2012-01-07T00:00:00",
          "2012-01-08T00:00:00",
          "2012-01-09T00:00:00",
          "2012-01-10T00:00:00",
          "2012-01-11T00:00:00",
          "2012-01-12T00:00:00",
          "2012-01-13T00:00:00",
          "2012-01-14T00:00:00",
          "2012-01-15T00:00:00",
          "2012-01-16T00:00:00",
          "2012-01-17T00:00:00",
          "2012-01-18T00:00:00",
          "2012-01-19T00:00:00",
          "2012-01-20T00:00:00",
          "2012-01-21T00:00:00",
          "2012-01-22T00:00:00",
          "2012-01-23T00:00:00",
          "2012-01-24T00:00:00",
          "2012-01-25T00:00:00",
          "2012-01-26T00:00:00",
          "2012-01-27T00:00:00",
          "2012-01-28T00:00:00",
          "2012-01-29T00:00:00",
          "2012-01-30T00:00:00",
          "2012-01-31T00:00:00",
          "2012-02-01T00:00:00",
          "2012-02-02T00:00:00",
          "2012-02-03T00:00:00",
          "2012-02-04T00:00:00",
          "2012-02-05T00:00:00",
          "2012-02-06T00:00:00",
          "2012-02-07T00:00:00",
          "2012-02-08T00:00:00",
          "2012-02-09T00:00:00",
          "2012-02-10T00:00:00",
          "2012-02-11T00:00:00",
          "2012-02-12T00:00:00",
          "2012-02-13T00:00:00",
          "2012-02-14T00:00:00",
          "2012-02-15T00:00:00",
          "2012-02-16T00:00:00",
          "2012-02-17T00:00:00",
          "2012-02-18T00:00:00",
          "2012-02-19T00:00:00",
          "2012-02-20T00:00:00",
          "2012-02-21T00:00:00",
          "2012-02-22T00:00:00",
          "2012-02-23T00:00:00",
          "2012-02-24T00:00:00",
          "2012-02-25T00:00:00",
          "2012-02-26T00:00:00",
          "2012-02-27T00:00:00",
          "2012-02-28T00:00:00",
          "2012-02-29T00:00:00",
          "2012-03-01T00:00:00",
          "2012-03-02T00:00:00",
          "2012-03-03T00:00:00",
          "2012-03-04T00:00:00",
          "2012-03-05T00:00:00",
          "2012-03-06T00:00:00",
          "2012-03-07T00:00:00",
          "2012-03-08T00:00:00",
          "2012-03-09T00:00:00",
          "2012-03-10T00:00:00",
          "2012-03-11T00:00:00",
          "2012-03-12T00:00:00",
          "2012-03-13T00:00:00",
          "2012-03-14T00:00:00",
          "2012-03-15T00:00:00",
          "2012-03-16T00:00:00",
          "2012-03-17T00:00:00",
          "2012-03-18T00:00:00",
          "2012-03-19T00:00:00",
          "2012-03-20T00:00:00",
          "2012-03-21T00:00:00",
          "2012-03-22T00:00:00",
          "2012-03-23T00:00:00",
          "2012-03-24T00:00:00",
          "2012-03-25T00:00:00",
          "2012-03-26T00:00:00",
          "2012-03-27T00:00:00",
          "2012-03-28T00:00:00",
          "2012-03-29T00:00:00",
          "2012-03-30T00:00:00",
          "2012-03-31T00:00:00",
          "2012-04-01T00:00:00",
          "2012-04-02T00:00:00",
          "2012-04-03T00:00:00",
          "2012-04-04T00:00:00",
          "2012-04-05T00:00:00",
          "2012-04-06T00:00:00",
          "2012-04-07T00:00:00",
          "2012-04-08T00:00:00",
          "2012-04-09T00:00:00",
          "2012-04-10T00:00:00",
          "2012-04-11T00:00:00",
          "2012-04-12T00:00:00",
          "2012-04-13T00:00:00",
          "2012-04-14T00:00:00",
          "2012-04-15T00:00:00",
          "2012-04-16T00:00:00",
          "2012-04-17T00:00:00",
          "2012-04-18T00:00:00",
          "2012-04-19T00:00:00",
          "2012-04-20T00:00:00",
          "2012-04-21T00:00:00",
          "2012-04-22T00:00:00",
          "2012-04-23T00:00:00",
          "2012-04-24T00:00:00",
          "2012-04-25T00:00:00",
          "2012-04-26T00:00:00",
          "2012-04-27T00:00:00",
          "2012-04-28T00:00:00",
          "2012-04-29T00:00:00",
          "2012-04-30T00:00:00",
          "2012-05-01T00:00:00",
          "2012-05-02T00:00:00",
          "2012-05-03T00:00:00",
          "2012-05-04T00:00:00",
          "2012-05-05T00:00:00",
          "2012-05-06T00:00:00",
          "2012-05-07T00:00:00",
          "2012-05-08T00:00:00",
          "2012-05-09T00:00:00",
          "2012-05-10T00:00:00",
          "2012-05-11T00:00:00",
          "2012-05-12T00:00:00",
          "2012-05-13T00:00:00",
          "2012-05-14T00:00:00",
          "2012-05-15T00:00:00",
          "2012-05-16T00:00:00",
          "2012-05-17T00:00:00",
          "2012-05-18T00:00:00",
          "2012-05-19T00:00:00",
          "2012-05-20T00:00:00",
          "2012-05-21T00:00:00",
          "2012-05-22T00:00:00",
          "2012-05-23T00:00:00",
          "2012-05-24T00:00:00",
          "2012-05-25T00:00:00",
          "2012-05-26T00:00:00",
          "2012-05-27T00:00:00",
          "2012-05-28T00:00:00",
          "2012-05-29T00:00:00",
          "2012-05-30T00:00:00",
          "2012-05-31T00:00:00",
          "2012-06-01T00:00:00",
          "2012-06-02T00:00:00",
          "2012-06-03T00:00:00",
          "2012-06-04T00:00:00",
          "2012-06-05T00:00:00",
          "2012-06-06T00:00:00",
          "2012-06-07T00:00:00",
          "2012-06-08T00:00:00",
          "2012-06-09T00:00:00",
          "2012-06-10T00:00:00",
          "2012-06-11T00:00:00",
          "2012-06-12T00:00:00",
          "2012-06-13T00:00:00",
          "2012-06-14T00:00:00",
          "2012-06-15T00:00:00",
          "2012-06-16T00:00:00",
          "2012-06-17T00:00:00",
          "2012-06-18T00:00:00",
          "2012-06-19T00:00:00",
          "2012-06-20T00:00:00",
          "2012-06-21T00:00:00",
          "2012-06-22T00:00:00",
          "2012-06-23T00:00:00",
          "2012-06-24T00:00:00",
          "2012-06-25T00:00:00",
          "2012-06-26T00:00:00",
          "2012-06-27T00:00:00",
          "2012-06-28T00:00:00",
          "2012-06-29T00:00:00",
          "2012-06-30T00:00:00",
          "2012-07-01T00:00:00",
          "2012-07-02T00:00:00",
          "2012-07-03T00:00:00",
          "2012-07-04T00:00:00",
          "2012-07-05T00:00:00",
          "2012-07-06T00:00:00",
          "2012-07-07T00:00:00",
          "2012-07-08T00:00:00",
          "2012-07-09T00:00:00",
          "2012-07-10T00:00:00",
          "2012-07-11T00:00:00",
          "2012-07-12T00:00:00",
          "2012-07-13T00:00:00",
          "2012-07-14T00:00:00",
          "2012-07-15T00:00:00",
          "2012-07-16T00:00:00",
          "2012-07-17T00:00:00",
          "2012-07-18T00:00:00",
          "2012-07-19T00:00:00",
          "2012-07-20T00:00:00",
          "2012-07-21T00:00:00",
          "2012-07-22T00:00:00",
          "2012-07-23T00:00:00",
          "2012-07-24T00:00:00",
          "2012-07-25T00:00:00",
          "2012-07-26T00:00:00",
          "2012-07-27T00:00:00",
          "2012-07-28T00:00:00",
          "2012-07-29T00:00:00",
          "2012-07-30T00:00:00",
          "2012-07-31T00:00:00",
          "2012-08-01T00:00:00",
          "2012-08-02T00:00:00",
          "2012-08-03T00:00:00",
          "2012-08-04T00:00:00",
          "2012-08-05T00:00:00",
          "2012-08-06T00:00:00",
          "2012-08-07T00:00:00",
          "2012-08-08T00:00:00",
          "2012-08-09T00:00:00",
          "2012-08-10T00:00:00",
          "2012-08-11T00:00:00",
          "2012-08-12T00:00:00",
          "2012-08-13T00:00:00",
          "2012-08-14T00:00:00",
          "2012-08-15T00:00:00",
          "2012-08-16T00:00:00",
          "2012-08-17T00:00:00",
          "2012-08-18T00:00:00",
          "2012-08-19T00:00:00",
          "2012-08-20T00:00:00",
          "2012-08-21T00:00:00",
          "2012-08-22T00:00:00",
          "2012-08-23T00:00:00",
          "2012-08-24T00:00:00",
          "2012-08-25T00:00:00",
          "2012-08-26T00:00:00",
          "2012-08-27T00:00:00",
          "2012-08-28T00:00:00",
          "2012-08-29T00:00:00",
          "2012-08-30T00:00:00",
          "2012-08-31T00:00:00",
          "2012-09-01T00:00:00",
          "2012-09-02T00:00:00",
          "2012-09-03T00:00:00",
          "2012-09-04T00:00:00",
          "2012-09-05T00:00:00",
          "2012-09-06T00:00:00",
          "2012-09-07T00:00:00",
          "2012-09-08T00:00:00",
          "2012-09-09T00:00:00",
          "2012-09-10T00:00:00",
          "2012-09-11T00:00:00",
          "2012-09-12T00:00:00",
          "2012-09-13T00:00:00",
          "2012-09-14T00:00:00",
          "2012-09-15T00:00:00",
          "2012-09-16T00:00:00",
          "2012-09-17T00:00:00",
          "2012-09-18T00:00:00",
          "2012-09-19T00:00:00",
          "2012-09-20T00:00:00",
          "2012-09-21T00:00:00",
          "2012-09-22T00:00:00",
          "2012-09-23T00:00:00",
          "2012-09-24T00:00:00",
          "2012-09-25T00:00:00",
          "2012-09-26T00:00:00",
          "2012-09-27T00:00:00",
          "2012-09-28T00:00:00",
          "2012-09-29T00:00:00",
          "2012-09-30T00:00:00",
          "2012-10-01T00:00:00",
          "2012-10-02T00:00:00",
          "2012-10-03T00:00:00",
          "2012-10-04T00:00:00",
          "2012-10-05T00:00:00",
          "2012-10-06T00:00:00",
          "2012-10-07T00:00:00",
          "2012-10-08T00:00:00",
          "2012-10-09T00:00:00",
          "2012-10-10T00:00:00",
          "2012-10-11T00:00:00",
          "2012-10-12T00:00:00",
          "2012-10-13T00:00:00",
          "2012-10-14T00:00:00",
          "2012-10-15T00:00:00",
          "2012-10-16T00:00:00",
          "2012-10-17T00:00:00",
          "2012-10-18T00:00:00",
          "2012-10-19T00:00:00",
          "2012-10-20T00:00:00",
          "2012-10-21T00:00:00",
          "2012-10-22T00:00:00",
          "2012-10-23T00:00:00",
          "2012-10-24T00:00:00",
          "2012-10-25T00:00:00",
          "2012-10-26T00:00:00",
          "2012-10-27T00:00:00",
          "2012-10-28T00:00:00",
          "2012-10-29T00:00:00",
          "2012-10-30T00:00:00",
          "2012-10-31T00:00:00",
          "2012-11-01T00:00:00",
          "2012-11-02T00:00:00",
          "2012-11-03T00:00:00",
          "2012-11-04T00:00:00",
          "2012-11-05T00:00:00",
          "2012-11-06T00:00:00",
          "2012-11-07T00:00:00",
          "2012-11-08T00:00:00",
          "2012-11-09T00:00:00",
          "2012-11-10T00:00:00",
          "2012-11-11T00:00:00",
          "2012-11-12T00:00:00",
          "2012-11-13T00:00:00",
          "2012-11-14T00:00:00",
          "2012-11-15T00:00:00",
          "2012-11-16T00:00:00",
          "2012-11-17T00:00:00",
          "2012-11-18T00:00:00",
          "2012-11-19T00:00:00",
          "2012-11-20T00:00:00",
          "2012-11-21T00:00:00",
          "2012-11-22T00:00:00",
          "2012-11-23T00:00:00",
          "2012-11-24T00:00:00",
          "2012-11-25T00:00:00",
          "2012-11-26T00:00:00",
          "2012-11-27T00:00:00",
          "2012-11-28T00:00:00",
          "2012-11-29T00:00:00",
          "2012-11-30T00:00:00",
          "2012-12-01T00:00:00",
          "2012-12-02T00:00:00",
          "2012-12-03T00:00:00",
          "2012-12-04T00:00:00",
          "2012-12-05T00:00:00",
          "2012-12-06T00:00:00",
          "2012-12-07T00:00:00",
          "2012-12-08T00:00:00",
          "2012-12-09T00:00:00",
          "2012-12-10T00:00:00",
          "2012-12-11T00:00:00",
          "2012-12-12T00:00:00",
          "2012-12-13T00:00:00",
          "2012-12-14T00:00:00",
          "2012-12-15T00:00:00",
          "2012-12-16T00:00:00",
          "2012-12-17T00:00:00",
          "2012-12-18T00:00:00",
          "2012-12-19T00:00:00",
          "2012-12-20T00:00:00",
          "2012-12-21T00:00:00",
          "2012-12-22T00:00:00",
          "2012-12-23T00:00:00",
          "2012-12-24T00:00:00",
          "2012-12-25T00:00:00",
          "2012-12-26T00:00:00",
          "2012-12-27T00:00:00",
          "2012-12-28T00:00:00",
          "2012-12-29T00:00:00",
          "2012-12-30T00:00:00",
          "2012-12-31T00:00:00"
         ],
         "y": {
          "bdata": "2QMhA0UFGgZABkYG5gW/AzYDKQXvBIoEfgWNBeAEtAToA6sCcgaHBwcG1QPaA4gFwQf6Aa8BjwRKBEgE3QVQBfYFDgasBu0DVwawBvoFRQYCBtIGwAU1BnkHFwdDCKsJbwtjBhQHUwSqBX0HDwe1BbEHYgmmBTsHVgiVBpgHHQhdAlAHVQhjB28CuQdUCHEJ/gcICJAIuAqnDC0MpwkdCI8KSQhJB6IIwAmdBuwHeQkABpUGswjMCLEMKwwDB/gKRQy/BZcJTwsUDfIHcgjDDDYMGwOgDmUNhAxoD10QkwbED18Q6Q8wESAP2g/zEcAUFw0xEWMRSQpREQASahLtEAoRwxJWEAATCRBRDckRdg8bEA8P3xE1E60WNBKyEIwRchNFEkcSlhK0EgIQjg+GD2gTwBTeFCoTxBHhEjERSw/qEWYTbBGcExsTPBS3DuwS/xOIEqoP4xKbEbYSfxNSFLkUZBIoEmkUixXyFP8TKRKbFzkSFRLwEcgP2BQRE/YPohD2ENwTohUjF7YUahG9EewQyA47DdUMFg4AD+4RMBImEQYPexHOEKoQ7RL2DeARAhPGEMkO5hD6EawSuBIpEzYQ7A7yEHUSVhLdDjkQRxQhD5YSBxcKFNYNNRJbBO4QGhJUFMIT+xN3EoQRTBMXDZYKzAcyB9gN4RS2E2kSmxKxEksOmBKfEbIQuxE5DgARuxJbCS8VkhMWEhgQQw/nElIUfQlmC/INaBHaEp0SeRMhFYcV/RPTEXAJYQs8DmEUsRPaEYwSeAljENAQ1BAdEVsQTxI2D2MKow5zAgMNVQ7kD1oQhg/OD1YPQQ7DD20QDRB1CygN4w+FDoYRYxAZB+0LQA1PDsANzQpHBgYK1wXoCvwL/wsbD2ILHQ6PDmQPHg6dDeMOIgrBAvoMJA52DLcK7gzDDZwOfQ75DbMKfwlLDaYOZAr8C6EI8wPyAiUFigT+CHcJtwu1CfYInwe8CEAJyAwCEKkRYQ1ICQ4OgQgBEI4MvQkHCfoIdwswDdwMWwwVBbkHgAnzEK4Q6w+ADbcPqwwoDp0R4xGxDjcQEAuDC8gOFxHyCvYO9w55CPkFXg1SD0kQvQs6EN4QgQo5DMEOpRLGE58NrAo9DeIQCxEqB34TegziD18NBQ10DzQTBhXZERYQLxOyFNcWqBgwGBoRnB4EFwkYzRdWGNcaqiAsDYQTthXuE0IW9RdTFVsYmRcwF3QaJBk5GTwZyRoxFNEVHhf+EiEV/hgkHdwb4hgjGg8RpRl6HOAZAwSODAEWNBiiE1kYfBCgGMQVbBYZGBUZmBjjGtcYgRhgFm0SrBl2GwUd5hcbC/sTAB3YHNcdZiDZGwcRuReMFHIaThqIGb8ZmxdvFscaqhwfELgf2R1WG1kbjxtGHTgeSh3GGQgabBP9HMMc8R0WHkIb6xOpGkMYERe/FiId6xp7GhIdpxzfGlcVNxabFVMYBBrrHGEYPxjoEkASqRmSGGAcFh1LHTkbjxeuGoIaURa/Ge4WaxHyHDYbqB3tH80a+BodGsUZwRswHJwdXRwHHKgaWBVlG2kcbh12HJoWmxiQGeMagBqzHLUd7Bu5HsURghleG88cVR6eHaUXhxQFG4AbER4hHrYc/BeyFpIX0BrIGzsYUB1YFyMgZR1XHr4efB5JHwoipRzVGukPpx0oHucfyyDjHgwdch01HuEc9xxrIekaehofEpQdoBzcHx0ftg1mFfgYCx6SHXIcxRvvGfMWbh0lHVUdMBWaH6gakhsqHQ0evxwUHaweaxEWAEgEvhViF9cWEhTzE4sUNharE8MUaBeIGcQafRj+D3cVRRVCFv0VPRJ7FQIWGhR5CUYP5Qh4Cd8Tdw+MFMsUJBZHFCkSWhjOGWEW/xSQE84VnAwyFH0VxxScFesVtxPKDukRtRWTFCAQJw7VBvsGmAP1A7kBQggXDD0FBAepCg==",
          "dtype": "i2"
         }
        },
        {
         "line": {
          "color": "red"
         },
         "mode": "lines",
         "name": "7-Day Rolling Avg",
         "type": "scatter",
         "x": [
          "2011-01-01T00:00:00",
          "2011-01-02T00:00:00",
          "2011-01-03T00:00:00",
          "2011-01-04T00:00:00",
          "2011-01-05T00:00:00",
          "2011-01-06T00:00:00",
          "2011-01-07T00:00:00",
          "2011-01-08T00:00:00",
          "2011-01-09T00:00:00",
          "2011-01-10T00:00:00",
          "2011-01-11T00:00:00",
          "2011-01-12T00:00:00",
          "2011-01-13T00:00:00",
          "2011-01-14T00:00:00",
          "2011-01-15T00:00:00",
          "2011-01-16T00:00:00",
          "2011-01-17T00:00:00",
          "2011-01-18T00:00:00",
          "2011-01-19T00:00:00",
          "2011-01-20T00:00:00",
          "2011-01-21T00:00:00",
          "2011-01-22T00:00:00",
          "2011-01-23T00:00:00",
          "2011-01-24T00:00:00",
          "2011-01-25T00:00:00",
          "2011-01-26T00:00:00",
          "2011-01-27T00:00:00",
          "2011-01-28T00:00:00",
          "2011-01-29T00:00:00",
          "2011-01-30T00:00:00",
          "2011-01-31T00:00:00",
          "2011-02-01T00:00:00",
          "2011-02-02T00:00:00",
          "2011-02-03T00:00:00",
          "2011-02-04T00:00:00",
          "2011-02-05T00:00:00",
          "2011-02-06T00:00:00",
          "2011-02-07T00:00:00",
          "2011-02-08T00:00:00",
          "2011-02-09T00:00:00",
          "2011-02-10T00:00:00",
          "2011-02-11T00:00:00",
          "2011-02-12T00:00:00",
          "2011-02-13T00:00:00",
          "2011-02-14T00:00:00",
          "2011-02-15T00:00:00",
          "2011-02-16T00:00:00",
          "2011-02-17T00:00:00",
          "2011-02-18T00:00:00",
          "2011-02-19T00:00:00",
          "2011-02-20T00:00:00",
          "2011-02-21T00:00:00",
          "2011-02-22T00:00:00",
          "2011-02-23T00:00:00",
          "2011-02-24T00:00:00",
          "2011-02-25T00:00:00",
          "2011-02-26T00:00:00",
          "2011-02-27T00:00:00",
          "2011-02-28T00:00:00",
          "2011-03-01T00:00:00",
          "2011-03-02T00:00:00",
          "2011-03-03T00:00:00",
          "2011-03-04T00:00:00",
          "2011-03-05T00:00:00",
          "2011-03-06T00:00:00",
          "2011-03-07T00:00:00",
          "2011-03-08T00:00:00",
          "2011-03-09T00:00:00",
          "2011-03-10T00:00:00",
          "2011-03-11T00:00:00",
          "2011-03-12T00:00:00",
          "2011-03-13T00:00:00",
          "2011-03-14T00:00:00",
          "2011-03-15T00:00:00",
          "2011-03-16T00:00:00",
          "2011-03-17T00:00:00",
          "2011-03-18T00:00:00",
          "2011-03-19T00:00:00",
          "2011-03-20T00:00:00",
          "2011-03-21T00:00:00",
          "2011-03-22T00:00:00",
          "2011-03-23T00:00:00",
          "2011-03-24T00:00:00",
          "2011-03-25T00:00:00",
          "2011-03-26T00:00:00",
          "2011-03-27T00:00:00",
          "2011-03-28T00:00:00",
          "2011-03-29T00:00:00",
          "2011-03-30T00:00:00",
          "2011-03-31T00:00:00",
          "2011-04-01T00:00:00",
          "2011-04-02T00:00:00",
          "2011-04-03T00:00:00",
          "2011-04-04T00:00:00",
          "2011-04-05T00:00:00",
          "2011-04-06T00:00:00",
          "2011-04-07T00:00:00",
          "2011-04-08T00:00:00",
          "2011-04-09T00:00:00",
          "2011-04-10T00:00:00",
          "2011-04-11T00:00:00",
          "2011-04-12T00:00:00",
          "2011-04-13T00:00:00",
          "2011-04-14T00:00:00",
          "2011-04-15T00:00:00",
          "2011-04-16T00:00:00",
          "2011-04-17T00:00:00",
          "2011-04-18T00:00:00",
          "2011-04-19T00:00:00",
          "2011-04-20T00:00:00",
          "2011-04-21T00:00:00",
          "2011-04-22T00:00:00",
          "2011-04-23T00:00:00",
          "2011-04-24T00:00:00",
          "2011-04-25T00:00:00",
          "2011-04-26T00:00:00",
          "2011-04-27T00:00:00",
          "2011-04-28T00:00:00",
          "2011-04-29T00:00:00",
          "2011-04-30T00:00:00",
          "2011-05-01T00:00:00",
          "2011-05-02T00:00:00",
          "2011-05-03T00:00:00",
          "2011-05-04T00:00:00",
          "2011-05-05T00:00:00",
          "2011-05-06T00:00:00",
          "2011-05-07T00:00:00",
          "2011-05-08T00:00:00",
          "2011-05-09T00:00:00",
          "2011-05-10T00:00:00",
          "2011-05-11T00:00:00",
          "2011-05-12T00:00:00",
          "2011-05-13T00:00:00",
          "2011-05-14T00:00:00",
          "2011-05-15T00:00:00",
          "2011-05-16T00:00:00",
          "2011-05-17T00:00:00",
          "2011-05-18T00:00:00",
          "2011-05-19T00:00:00",
          "2011-05-20T00:00:00",
          "2011-05-21T00:00:00",
          "2011-05-22T00:00:00",
          "2011-05-23T00:00:00",
          "2011-05-24T00:00:00",
          "2011-05-25T00:00:00",
          "2011-05-26T00:00:00",
          "2011-05-27T00:00:00",
          "2011-05-28T00:00:00",
          "2011-05-29T00:00:00",
          "2011-05-30T00:00:00",
          "2011-05-31T00:00:00",
          "2011-06-01T00:00:00",
          "2011-06-02T00:00:00",
          "2011-06-03T00:00:00",
          "2011-06-04T00:00:00",
          "2011-06-05T00:00:00",
          "2011-06-06T00:00:00",
          "2011-06-07T00:00:00",
          "2011-06-08T00:00:00",
          "2011-06-09T00:00:00",
          "2011-06-10T00:00:00",
          "2011-06-11T00:00:00",
          "2011-06-12T00:00:00",
          "2011-06-13T00:00:00",
          "2011-06-14T00:00:00",
          "2011-06-15T00:00:00",
          "2011-06-16T00:00:00",
          "2011-06-17T00:00:00",
          "2011-06-18T00:00:00",
          "2011-06-19T00:00:00",
          "2011-06-20T00:00:00",
          "2011-06-21T00:00:00",
          "2011-06-22T00:00:00",
          "2011-06-23T00:00:00",
          "2011-06-24T00:00:00",
          "2011-06-25T00:00:00",
          "2011-06-26T00:00:00",
          "2011-06-27T00:00:00",
          "2011-06-28T00:00:00",
          "2011-06-29T00:00:00",
          "2011-06-30T00:00:00",
          "2011-07-01T00:00:00",
          "2011-07-02T00:00:00",
          "2011-07-03T00:00:00",
          "2011-07-04T00:00:00",
          "2011-07-05T00:00:00",
          "2011-07-06T00:00:00",
          "2011-07-07T00:00:00",
          "2011-07-08T00:00:00",
          "2011-07-09T00:00:00",
          "2011-07-10T00:00:00",
          "2011-07-11T00:00:00",
          "2011-07-12T00:00:00",
          "2011-07-13T00:00:00",
          "2011-07-14T00:00:00",
          "2011-07-15T00:00:00",
          "2011-07-16T00:00:00",
          "2011-07-17T00:00:00",
          "2011-07-18T00:00:00",
          "2011-07-19T00:00:00",
          "2011-07-20T00:00:00",
          "2011-07-21T00:00:00",
          "2011-07-22T00:00:00",
          "2011-07-23T00:00:00",
          "2011-07-24T00:00:00",
          "2011-07-25T00:00:00",
          "2011-07-26T00:00:00",
          "2011-07-27T00:00:00",
          "2011-07-28T00:00:00",
          "2011-07-29T00:00:00",
          "2011-07-30T00:00:00",
          "2011-07-31T00:00:00",
          "2011-08-01T00:00:00",
          "2011-08-02T00:00:00",
          "2011-08-03T00:00:00",
          "2011-08-04T00:00:00",
          "2011-08-05T00:00:00",
          "2011-08-06T00:00:00",
          "2011-08-07T00:00:00",
          "2011-08-08T00:00:00",
          "2011-08-09T00:00:00",
          "2011-08-10T00:00:00",
          "2011-08-11T00:00:00",
          "2011-08-12T00:00:00",
          "2011-08-13T00:00:00",
          "2011-08-14T00:00:00",
          "2011-08-15T00:00:00",
          "2011-08-16T00:00:00",
          "2011-08-17T00:00:00",
          "2011-08-18T00:00:00",
          "2011-08-19T00:00:00",
          "2011-08-20T00:00:00",
          "2011-08-21T00:00:00",
          "2011-08-22T00:00:00",
          "2011-08-23T00:00:00",
          "2011-08-24T00:00:00",
          "2011-08-25T00:00:00",
          "2011-08-26T00:00:00",
          "2011-08-27T00:00:00",
          "2011-08-28T00:00:00",
          "2011-08-29T00:00:00",
          "2011-08-30T00:00:00",
          "2011-08-31T00:00:00",
          "2011-09-01T00:00:00",
          "2011-09-02T00:00:00",
          "2011-09-03T00:00:00",
          "2011-09-04T00:00:00",
          "2011-09-05T00:00:00",
          "2011-09-06T00:00:00",
          "2011-09-07T00:00:00",
          "2011-09-08T00:00:00",
          "2011-09-09T00:00:00",
          "2011-09-10T00:00:00",
          "2011-09-11T00:00:00",
          "2011-09-12T00:00:00",
          "2011-09-13T00:00:00",
          "2011-09-14T00:00:00",
          "2011-09-15T00:00:00",
          "2011-09-16T00:00:00",
          "2011-09-17T00:00:00",
          "2011-09-18T00:00:00",
          "2011-09-19T00:00:00",
          "2011-09-20T00:00:00",
          "2011-09-21T00:00:00",
          "2011-09-22T00:00:00",
          "2011-09-23T00:00:00",
          "2011-09-24T00:00:00",
          "2011-09-25T00:00:00",
          "2011-09-26T00:00:00",
          "2011-09-27T00:00:00",
          "2011-09-28T00:00:00",
          "2011-09-29T00:00:00",
          "2011-09-30T00:00:00",
          "2011-10-01T00:00:00",
          "2011-10-02T00:00:00",
          "2011-10-03T00:00:00",
          "2011-10-04T00:00:00",
          "2011-10-05T00:00:00",
          "2011-10-06T00:00:00",
          "2011-10-07T00:00:00",
          "2011-10-08T00:00:00",
          "2011-10-09T00:00:00",
          "2011-10-10T00:00:00",
          "2011-10-11T00:00:00",
          "2011-10-12T00:00:00",
          "2011-10-13T00:00:00",
          "2011-10-14T00:00:00",
          "2011-10-15T00:00:00",
          "2011-10-16T00:00:00",
          "2011-10-17T00:00:00",
          "2011-10-18T00:00:00",
          "2011-10-19T00:00:00",
          "2011-10-20T00:00:00",
          "2011-10-21T00:00:00",
          "2011-10-22T00:00:00",
          "2011-10-23T00:00:00",
          "2011-10-24T00:00:00",
          "2011-10-25T00:00:00",
          "2011-10-26T00:00:00",
          "2011-10-27T00:00:00",
          "2011-10-28T00:00:00",
          "2011-10-29T00:00:00",
          "2011-10-30T00:00:00",
          "2011-10-31T00:00:00",
          "2011-11-01T00:00:00",
          "2011-11-02T00:00:00",
          "2011-11-03T00:00:00",
          "2011-11-04T00:00:00",
          "2011-11-05T00:00:00",
          "2011-11-06T00:00:00",
          "2011-11-07T00:00:00",
          "2011-11-08T00:00:00",
          "2011-11-09T00:00:00",
          "2011-11-10T00:00:00",
          "2011-11-11T00:00:00",
          "2011-11-12T00:00:00",
          "2011-11-13T00:00:00",
          "2011-11-14T00:00:00",
          "2011-11-15T00:00:00",
          "2011-11-16T00:00:00",
          "2011-11-17T00:00:00",
          "2011-11-18T00:00:00",
          "2011-11-19T00:00:00",
          "2011-11-20T00:00:00",
          "2011-11-21T00:00:00",
          "2011-11-22T00:00:00",
          "2011-11-23T00:00:00",
          "2011-11-24T00:00:00",
          "2011-11-25T00:00:00",
          "2011-11-26T00:00:00",
          "2011-11-27T00:00:00",
          "2011-11-28T00:00:00",
          "2011-11-29T00:00:00",
          "2011-11-30T00:00:00",
          "2011-12-01T00:00:00",
          "2011-12-02T00:00:00",
          "2011-12-03T00:00:00",
          "2011-12-04T00:00:00",
          "2011-12-05T00:00:00",
          "2011-12-06T00:00:00",
          "2011-12-07T00:00:00",
          "2011-12-08T00:00:00",
          "2011-12-09T00:00:00",
          "2011-12-10T00:00:00",
          "2011-12-11T00:00:00",
          "2011-12-12T00:00:00",
          "2011-12-13T00:00:00",
          "2011-12-14T00:00:00",
          "2011-12-15T00:00:00",
          "2011-12-16T00:00:00",
          "2011-12-17T00:00:00",
          "2011-12-18T00:00:00",
          "2011-12-19T00:00:00",
          "2011-12-20T00:00:00",
          "2011-12-21T00:00:00",
          "2011-12-22T00:00:00",
          "2011-12-23T00:00:00",
          "2011-12-24T00:00:00",
          "2011-12-25T00:00:00",
          "2011-12-26T00:00:00",
          "2011-12-27T00:00:00",
          "2011-12-28T00:00:00",
          "2011-12-29T00:00:00",
          "2011-12-30T00:00:00",
          "2011-12-31T00:00:00",
          "2012-01-01T00:00:00",
          "2012-01-02T00:00:00",
          "2012-01-03T00:00:00",
          "2012-01-04T00:00:00",
          "2012-01-05T00:00:00",
          "2012-01-06T00:00:00",
          "2012-01-07T00:00:00",
          "2012-01-08T00:00:00",
          "2012-01-09T00:00:00",
          "2012-01-10T00:00:00",
          "2012-01-11T00:00:00",
          "2012-01-12T00:00:00",
          "2012-01-13T00:00:00",
          "2012-01-14T00:00:00",
          "2012-01-15T00:00:00",
          "2012-01-16T00:00:00",
          "2012-01-17T00:00:00",
          "2012-01-18T00:00:00",
          "2012-01-19T00:00:00",
          "2012-01-20T00:00:00",
          "2012-01-21T00:00:00",
          "2012-01-22T00:00:00",
          "2012-01-23T00:00:00",
          "2012-01-24T00:00:00",
          "2012-01-25T00:00:00",
          "2012-01-26T00:00:00",
          "2012-01-27T00:00:00",
          "2012-01-28T00:00:00",
          "2012-01-29T00:00:00",
          "2012-01-30T00:00:00",
          "2012-01-31T00:00:00",
          "2012-02-01T00:00:00",
          "2012-02-02T00:00:00",
          "2012-02-03T00:00:00",
          "2012-02-04T00:00:00",
          "2012-02-05T00:00:00",
          "2012-02-06T00:00:00",
          "2012-02-07T00:00:00",
          "2012-02-08T00:00:00",
          "2012-02-09T00:00:00",
          "2012-02-10T00:00:00",
          "2012-02-11T00:00:00",
          "2012-02-12T00:00:00",
          "2012-02-13T00:00:00",
          "2012-02-14T00:00:00",
          "2012-02-15T00:00:00",
          "2012-02-16T00:00:00",
          "2012-02-17T00:00:00",
          "2012-02-18T00:00:00",
          "2012-02-19T00:00:00",
          "2012-02-20T00:00:00",
          "2012-02-21T00:00:00",
          "2012-02-22T00:00:00",
          "2012-02-23T00:00:00",
          "2012-02-24T00:00:00",
          "2012-02-25T00:00:00",
          "2012-02-26T00:00:00",
          "2012-02-27T00:00:00",
          "2012-02-28T00:00:00",
          "2012-02-29T00:00:00",
          "2012-03-01T00:00:00",
          "2012-03-02T00:00:00",
          "2012-03-03T00:00:00",
          "2012-03-04T00:00:00",
          "2012-03-05T00:00:00",
          "2012-03-06T00:00:00",
          "2012-03-07T00:00:00",
          "2012-03-08T00:00:00",
          "2012-03-09T00:00:00",
          "2012-03-10T00:00:00",
          "2012-03-11T00:00:00",
          "2012-03-12T00:00:00",
          "2012-03-13T00:00:00",
          "2012-03-14T00:00:00",
          "2012-03-15T00:00:00",
          "2012-03-16T00:00:00",
          "2012-03-17T00:00:00",
          "2012-03-18T00:00:00",
          "2012-03-19T00:00:00",
          "2012-03-20T00:00:00",
          "2012-03-21T00:00:00",
          "2012-03-22T00:00:00",
          "2012-03-23T00:00:00",
          "2012-03-24T00:00:00",
          "2012-03-25T00:00:00",
          "2012-03-26T00:00:00",
          "2012-03-27T00:00:00",
          "2012-03-28T00:00:00",
          "2012-03-29T00:00:00",
          "2012-03-30T00:00:00",
          "2012-03-31T00:00:00",
          "2012-04-01T00:00:00",
          "2012-04-02T00:00:00",
          "2012-04-03T00:00:00",
          "2012-04-04T00:00:00",
          "2012-04-05T00:00:00",
          "2012-04-06T00:00:00",
          "2012-04-07T00:00:00",
          "2012-04-08T00:00:00",
          "2012-04-09T00:00:00",
          "2012-04-10T00:00:00",
          "2012-04-11T00:00:00",
          "2012-04-12T00:00:00",
          "2012-04-13T00:00:00",
          "2012-04-14T00:00:00",
          "2012-04-15T00:00:00",
          "2012-04-16T00:00:00",
          "2012-04-17T00:00:00",
          "2012-04-18T00:00:00",
          "2012-04-19T00:00:00",
          "2012-04-20T00:00:00",
          "2012-04-21T00:00:00",
          "2012-04-22T00:00:00",
          "2012-04-23T00:00:00",
          "2012-04-24T00:00:00",
          "2012-04-25T00:00:00",
          "2012-04-26T00:00:00",
          "2012-04-27T00:00:00",
          "2012-04-28T00:00:00",
          "2012-04-29T00:00:00",
          "2012-04-30T00:00:00",
          "2012-05-01T00:00:00",
          "2012-05-02T00:00:00",
          "2012-05-03T00:00:00",
          "2012-05-04T00:00:00",
          "2012-05-05T00:00:00",
          "2012-05-06T00:00:00",
          "2012-05-07T00:00:00",
          "2012-05-08T00:00:00",
          "2012-05-09T00:00:00",
          "2012-05-10T00:00:00",
          "2012-05-11T00:00:00",
          "2012-05-12T00:00:00",
          "2012-05-13T00:00:00",
          "2012-05-14T00:00:00",
          "2012-05-15T00:00:00",
          "2012-05-16T00:00:00",
          "2012-05-17T00:00:00",
          "2012-05-18T00:00:00",
          "2012-05-19T00:00:00",
          "2012-05-20T00:00:00",
          "2012-05-21T00:00:00",
          "2012-05-22T00:00:00",
          "2012-05-23T00:00:00",
          "2012-05-24T00:00:00",
          "2012-05-25T00:00:00",
          "2012-05-26T00:00:00",
          "2012-05-27T00:00:00",
          "2012-05-28T00:00:00",
          "2012-05-29T00:00:00",
          "2012-05-30T00:00:00",
          "2012-05-31T00:00:00",
          "2012-06-01T00:00:00",
          "2012-06-02T00:00:00",
          "2012-06-03T00:00:00",
          "2012-06-04T00:00:00",
          "2012-06-05T00:00:00",
          "2012-06-06T00:00:00",
          "2012-06-07T00:00:00",
          "2012-06-08T00:00:00",
          "2012-06-09T00:00:00",
          "2012-06-10T00:00:00",
          "2012-06-11T00:00:00",
          "2012-06-12T00:00:00",
          "2012-06-13T00:00:00",
          "2012-06-14T00:00:00",
          "2012-06-15T00:00:00",
          "2012-06-16T00:00:00",
          "2012-06-17T00:00:00",
          "2012-06-18T00:00:00",
          "2012-06-19T00:00:00",
          "2012-06-20T00:00:00",
          "2012-06-21T00:00:00",
          "2012-06-22T00:00:00",
          "2012-06-23T00:00:00",
          "2012-06-24T00:00:00",
          "2012-06-25T00:00:00",
          "2012-06-26T00:00:00",
          "2012-06-27T00:00:00",
          "2012-06-28T00:00:00",
          "2012-06-29T00:00:00",
          "2012-06-30T00:00:00",
          "2012-07-01T00:00:00",
          "2012-07-02T00:00:00",
          "2012-07-03T00:00:00",
          "2012-07-04T00:00:00",
          "2012-07-05T00:00:00",
          "2012-07-06T00:00:00",
          "2012-07-07T00:00:00",
          "2012-07-08T00:00:00",
          "2012-07-09T00:00:00",
          "2012-07-10T00:00:00",
          "2012-07-11T00:00:00",
          "2012-07-12T00:00:00",
          "2012-07-13T00:00:00",
          "2012-07-14T00:00:00",
          "2012-07-15T00:00:00",
          "2012-07-16T00:00:00",
          "2012-07-17T00:00:00",
          "2012-07-18T00:00:00",
          "2012-07-19T00:00:00",
          "2012-07-20T00:00:00",
          "2012-07-21T00:00:00",
          "2012-07-22T00:00:00",
          "2012-07-23T00:00:00",
          "2012-07-24T00:00:00",
          "2012-07-25T00:00:00",
          "2012-07-26T00:00:00",
          "2012-07-27T00:00:00",
          "2012-07-28T00:00:00",
          "2012-07-29T00:00:00",
          "2012-07-30T00:00:00",
          "2012-07-31T00:00:00",
          "2012-08-01T00:00:00",
          "2012-08-02T00:00:00",
          "2012-08-03T00:00:00",
          "2012-08-04T00:00:00",
          "2012-08-05T00:00:00",
          "2012-08-06T00:00:00",
          "2012-08-07T00:00:00",
          "2012-08-08T00:00:00",
          "2012-08-09T00:00:00",
          "2012-08-10T00:00:00",
          "2012-08-11T00:00:00",
          "2012-08-12T00:00:00",
          "2012-08-13T00:00:00",
          "2012-08-14T00:00:00",
          "2012-08-15T00:00:00",
          "2012-08-16T00:00:00",
          "2012-08-17T00:00:00",
          "2012-08-18T00:00:00",
          "2012-08-19T00:00:00",
          "2012-08-20T00:00:00",
          "2012-08-21T00:00:00",
          "2012-08-22T00:00:00",
          "2012-08-23T00:00:00",
          "2012-08-24T00:00:00",
          "2012-08-25T00:00:00",
          "2012-08-26T00:00:00",
          "2012-08-27T00:00:00",
          "2012-08-28T00:00:00",
          "2012-08-29T00:00:00",
          "2012-08-30T00:00:00",
          "2012-08-31T00:00:00",
          "2012-09-01T00:00:00",
          "2012-09-02T00:00:00",
          "2012-09-03T00:00:00",
          "2012-09-04T00:00:00",
          "2012-09-05T00:00:00",
          "2012-09-06T00:00:00",
          "2012-09-07T00:00:00",
          "2012-09-08T00:00:00",
          "2012-09-09T00:00:00",
          "2012-09-10T00:00:00",
          "2012-09-11T00:00:00",
          "2012-09-12T00:00:00",
          "2012-09-13T00:00:00",
          "2012-09-14T00:00:00",
          "2012-09-15T00:00:00",
          "2012-09-16T00:00:00",
          "2012-09-17T00:00:00",
          "2012-09-18T00:00:00",
          "2012-09-19T00:00:00",
          "2012-09-20T00:00:00",
          "2012-09-21T00:00:00",
          "2012-09-22T00:00:00",
          "2012-09-23T00:00:00",
          "2012-09-24T00:00:00",
          "2012-09-25T00:00:00",
          "2012-09-26T00:00:00",
          "2012-09-27T00:00:00",
          "2012-09-28T00:00:00",
          "2012-09-29T00:00:00",
          "2012-09-30T00:00:00",
          "2012-10-01T00:00:00",
          "2012-10-02T00:00:00",
          "2012-10-03T00:00:00",
          "2012-10-04T00:00:00",
          "2012-10-05T00:00:00",
          "2012-10-06T00:00:00",
          "2012-10-07T00:00:00",
          "2012-10-08T00:00:00",
          "2012-10-09T00:00:00",
          "2012-10-10T00:00:00",
          "2012-10-11T00:00:00",
          "2012-10-12T00:00:00",
          "2012-10-13T00:00:00",
          "2012-10-14T00:00:00",
          "2012-10-15T00:00:00",
          "2012-10-16T00:00:00",
          "2012-10-17T00:00:00",
          "2012-10-18T00:00:00",
          "2012-10-19T00:00:00",
          "2012-10-20T00:00:00",
          "2012-10-21T00:00:00",
          "2012-10-22T00:00:00",
          "2012-10-23T00:00:00",
          "2012-10-24T00:00:00",
          "2012-10-25T00:00:00",
          "2012-10-26T00:00:00",
          "2012-10-27T00:00:00",
          "2012-10-28T00:00:00",
          "2012-10-29T00:00:00",
          "2012-10-30T00:00:00",
          "2012-10-31T00:00:00",
          "2012-11-01T00:00:00",
          "2012-11-02T00:00:00",
          "2012-11-03T00:00:00",
          "2012-11-04T00:00:00",
          "2012-11-05T00:00:00",
          "2012-11-06T00:00:00",
          "2012-11-07T00:00:00",
          "2012-11-08T00:00:00",
          "2012-11-09T00:00:00",
          "2012-11-10T00:00:00",
          "2012-11-11T00:00:00",
          "2012-11-12T00:00:00",
          "2012-11-13T00:00:00",
          "2012-11-14T00:00:00",
          "2012-11-15T00:00:00",
          "2012-11-16T00:00:00",
          "2012-11-17T00:00:00",
          "2012-11-18T00:00:00",
          "2012-11-19T00:00:00",
          "2012-11-20T00:00:00",
          "2012-11-21T00:00:00",
          "2012-11-22T00:00:00",
          "2012-11-23T00:00:00",
          "2012-11-24T00:00:00",
          "2012-11-25T00:00:00",
          "2012-11-26T00:00:00",
          "2012-11-27T00:00:00",
          "2012-11-28T00:00:00",
          "2012-11-29T00:00:00",
          "2012-11-30T00:00:00",
          "2012-12-01T00:00:00",
          "2012-12-02T00:00:00",
          "2012-12-03T00:00:00",
          "2012-12-04T00:00:00",
          "2012-12-05T00:00:00",
          "2012-12-06T00:00:00",
          "2012-12-07T00:00:00",
          "2012-12-08T00:00:00",
          "2012-12-09T00:00:00",
          "2012-12-10T00:00:00",
          "2012-12-11T00:00:00",
          "2012-12-12T00:00:00",
          "2012-12-13T00:00:00",
          "2012-12-14T00:00:00",
          "2012-12-15T00:00:00",
          "2012-12-16T00:00:00",
          "2012-12-17T00:00:00",
          "2012-12-18T00:00:00",
          "2012-12-19T00:00:00",
          "2012-12-20T00:00:00",
          "2012-12-21T00:00:00",
          "2012-12-22T00:00:00",
          "2012-12-23T00:00:00",
          "2012-12-24T00:00:00",
          "2012-12-25T00:00:00",
          "2012-12-26T00:00:00",
          "2012-12-27T00:00:00",
          "2012-12-28T00:00:00",
          "2012-12-29T00:00:00",
          "2012-12-30T00:00:00",
          "2012-12-31T00:00:00"
         ],
         "y": {
          "bdata": "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",
          "dtype": "f8"
         }
        }
       ],
       "layout": {
        "template": {
         "data": {
          "bar": [
           {
            "error_x": {
             "color": "#2a3f5f"
            },
            "error_y": {
             "color": "#2a3f5f"
            },
            "marker": {
             "line": {
              "color": "#E5ECF6",
              "width": 0.5
             },
             "pattern": {
              "fillmode": "overlay",
              "size": 10,
              "solidity": 0.2
             }
            },
            "type": "bar"
           }
          ],
          "barpolar": [
           {
            "marker": {
             "line": {
              "color": "#E5ECF6",
              "width": 0.5
             },
             "pattern": {
              "fillmode": "overlay",
              "size": 10,
              "solidity": 0.2
             }
            },
            "type": "barpolar"
           }
          ],
          "carpet": [
           {
            "aaxis": {
             "endlinecolor": "#2a3f5f",
             "gridcolor": "white",
             "linecolor": "white",
             "minorgridcolor": "white",
             "startlinecolor": "#2a3f5f"
            },
            "baxis": {
             "endlinecolor": "#2a3f5f",
             "gridcolor": "white",
             "linecolor": "white",
             "minorgridcolor": "white",
             "startlinecolor": "#2a3f5f"
            },
            "type": "carpet"
           }
          ],
          "choropleth": [
           {
            "colorbar": {
             "outlinewidth": 0,
             "ticks": ""
            },
            "type": "choropleth"
           }
          ],
          "contour": [
           {
            "colorbar": {
             "outlinewidth": 0,
             "ticks": ""
            },
            "colorscale": [
             [
              0,
              "#0d0887"
             ],
             [
              0.1111111111111111,
              "#46039f"
             ],
             [
              0.2222222222222222,
              "#7201a8"
             ],
             [
              0.3333333333333333,
              "#9c179e"
             ],
             [
              0.4444444444444444,
              "#bd3786"
             ],
             [
              0.5555555555555556,
              "#d8576b"
             ],
             [
              0.6666666666666666,
              "#ed7953"
             ],
             [
              0.7777777777777778,
              "#fb9f3a"
             ],
             [
              0.8888888888888888,
              "#fdca26"
             ],
             [
              1,
              "#f0f921"
             ]
            ],
            "type": "contour"
           }
          ],
          "contourcarpet": [
           {
            "colorbar": {
             "outlinewidth": 0,
             "ticks": ""
            },
            "type": "contourcarpet"
           }
          ],
          "heatmap": [
           {
            "colorbar": {
             "outlinewidth": 0,
             "ticks": ""
            },
            "colorscale": [
             [
              0,
              "#0d0887"
             ],
             [
              0.1111111111111111,
              "#46039f"
             ],
             [
              0.2222222222222222,
              "#7201a8"
             ],
             [
              0.3333333333333333,
              "#9c179e"
             ],
             [
              0.4444444444444444,
              "#bd3786"
             ],
             [
              0.5555555555555556,
              "#d8576b"
             ],
             [
              0.6666666666666666,
              "#ed7953"
             ],
             [
              0.7777777777777778,
              "#fb9f3a"
             ],
             [
              0.8888888888888888,
              "#fdca26"
             ],
             [
              1,
              "#f0f921"
             ]
            ],
            "type": "heatmap"
           }
          ],
          "histogram": [
           {
            "marker": {
             "pattern": {
              "fillmode": "overlay",
              "size": 10,
              "solidity": 0.2
             }
            },
            "type": "histogram"
           }
          ],
          "histogram2d": [
           {
            "colorbar": {
             "outlinewidth": 0,
             "ticks": ""
            },
            "colorscale": [
             [
              0,
              "#0d0887"
             ],
             [
              0.1111111111111111,
              "#46039f"
             ],
             [
              0.2222222222222222,
              "#7201a8"
             ],
             [
              0.3333333333333333,
              "#9c179e"
             ],
             [
              0.4444444444444444,
              "#bd3786"
             ],
             [
              0.5555555555555556,
              "#d8576b"
             ],
             [
              0.6666666666666666,
              "#ed7953"
             ],
             [
              0.7777777777777778,
              "#fb9f3a"
             ],
             [
              0.8888888888888888,
              "#fdca26"
             ],
             [
              1,
              "#f0f921"
             ]
            ],
            "type": "histogram2d"
           }
          ],
          "histogram2dcontour": [
           {
            "colorbar": {
             "outlinewidth": 0,
             "ticks": ""
            },
            "colorscale": [
             [
              0,
              "#0d0887"
             ],
             [
              0.1111111111111111,
              "#46039f"
             ],
             [
              0.2222222222222222,
              "#7201a8"
             ],
             [
              0.3333333333333333,
              "#9c179e"
             ],
             [
              0.4444444444444444,
              "#bd3786"
             ],
             [
              0.5555555555555556,
              "#d8576b"
             ],
             [
              0.6666666666666666,
              "#ed7953"
             ],
             [
              0.7777777777777778,
              "#fb9f3a"
             ],
             [
              0.8888888888888888,
              "#fdca26"
             ],
             [
              1,
              "#f0f921"
             ]
            ],
            "type": "histogram2dcontour"
           }
          ],
          "mesh3d": [
           {
            "colorbar": {
             "outlinewidth": 0,
             "ticks": ""
            },
            "type": "mesh3d"
           }
          ],
          "parcoords": [
           {
            "line": {
             "colorbar": {
              "outlinewidth": 0,
              "ticks": ""
             }
            },
            "type": "parcoords"
           }
          ],
          "pie": [
           {
            "automargin": true,
            "type": "pie"
           }
          ],
          "scatter": [
           {
            "fillpattern": {
             "fillmode": "overlay",
             "size": 10,
             "solidity": 0.2
            },
            "type": "scatter"
           }
          ],
          "scatter3d": [
           {
            "line": {
             "colorbar": {
              "outlinewidth": 0,
              "ticks": ""
             }
            },
            "marker": {
             "colorbar": {
              "outlinewidth": 0,
              "ticks": ""
             }
            },
            "type": "scatter3d"
           }
          ],
          "scattercarpet": [
           {
            "marker": {
             "colorbar": {
              "outlinewidth": 0,
              "ticks": ""
             }
            },
            "type": "scattercarpet"
           }
          ],
          "scattergeo": [
           {
            "marker": {
             "colorbar": {
              "outlinewidth": 0,
              "ticks": ""
             }
            },
            "type": "scattergeo"
           }
          ],
          "scattergl": [
           {
            "marker": {
             "colorbar": {
              "outlinewidth": 0,
              "ticks": ""
             }
            },
            "type": "scattergl"
           }
          ],
          "scattermap": [
           {
            "marker": {
             "colorbar": {
              "outlinewidth": 0,
              "ticks": ""
             }
            },
            "type": "scattermap"
           }
          ],
          "scattermapbox": [
           {
            "marker": {
             "colorbar": {
              "outlinewidth": 0,
              "ticks": ""
             }
            },
            "type": "scattermapbox"
           }
          ],
          "scatterpolar": [
           {
            "marker": {
             "colorbar": {
              "outlinewidth": 0,
              "ticks": ""
             }
            },
            "type": "scatterpolar"
           }
          ],
          "scatterpolargl": [
           {
            "marker": {
             "colorbar": {
              "outlinewidth": 0,
              "ticks": ""
             }
            },
            "type": "scatterpolargl"
           }
          ],
          "scatterternary": [
           {
            "marker": {
             "colorbar": {
              "outlinewidth": 0,
              "ticks": ""
             }
            },
            "type": "scatterternary"
           }
          ],
          "surface": [
           {
            "colorbar": {
             "outlinewidth": 0,
             "ticks": ""
            },
            "colorscale": [
             [
              0,
              "#0d0887"
             ],
             [
              0.1111111111111111,
              "#46039f"
             ],
             [
              0.2222222222222222,
              "#7201a8"
             ],
             [
              0.3333333333333333,
              "#9c179e"
             ],
             [
              0.4444444444444444,
              "#bd3786"
             ],
             [
              0.5555555555555556,
              "#d8576b"
             ],
             [
              0.6666666666666666,
              "#ed7953"
             ],
             [
              0.7777777777777778,
              "#fb9f3a"
             ],
             [
              0.8888888888888888,
              "#fdca26"
             ],
             [
              1,
              "#f0f921"
             ]
            ],
            "type": "surface"
           }
          ],
          "table": [
           {
            "cells": {
             "fill": {
              "color": "#EBF0F8"
             },
             "line": {
              "color": "white"
             }
            },
            "header": {
             "fill": {
              "color": "#C8D4E3"
             },
             "line": {
              "color": "white"
             }
            },
            "type": "table"
           }
          ]
         },
         "layout": {
          "annotationdefaults": {
           "arrowcolor": "#2a3f5f",
           "arrowhead": 0,
           "arrowwidth": 1
          },
          "autotypenumbers": "strict",
          "coloraxis": {
           "colorbar": {
            "outlinewidth": 0,
            "ticks": ""
           }
          },
          "colorscale": {
           "diverging": [
            [
             0,
             "#8e0152"
            ],
            [
             0.1,
             "#c51b7d"
            ],
            [
             0.2,
             "#de77ae"
            ],
            [
             0.3,
             "#f1b6da"
            ],
            [
             0.4,
             "#fde0ef"
            ],
            [
             0.5,
             "#f7f7f7"
            ],
            [
             0.6,
             "#e6f5d0"
            ],
            [
             0.7,
             "#b8e186"
            ],
            [
             0.8,
             "#7fbc41"
            ],
            [
             0.9,
             "#4d9221"
            ],
            [
             1,
             "#276419"
            ]
           ],
           "sequential": [
            [
             0,
             "#0d0887"
            ],
            [
             0.1111111111111111,
             "#46039f"
            ],
            [
             0.2222222222222222,
             "#7201a8"
            ],
            [
             0.3333333333333333,
             "#9c179e"
            ],
            [
             0.4444444444444444,
             "#bd3786"
            ],
            [
             0.5555555555555556,
             "#d8576b"
            ],
            [
             0.6666666666666666,
             "#ed7953"
            ],
            [
             0.7777777777777778,
             "#fb9f3a"
            ],
            [
             0.8888888888888888,
             "#fdca26"
            ],
            [
             1,
             "#f0f921"
            ]
           ],
           "sequentialminus": [
            [
             0,
             "#0d0887"
            ],
            [
             0.1111111111111111,
             "#46039f"
            ],
            [
             0.2222222222222222,
             "#7201a8"
            ],
            [
             0.3333333333333333,
             "#9c179e"
            ],
            [
             0.4444444444444444,
             "#bd3786"
            ],
            [
             0.5555555555555556,
             "#d8576b"
            ],
            [
             0.6666666666666666,
             "#ed7953"
            ],
            [
             0.7777777777777778,
             "#fb9f3a"
            ],
            [
             0.8888888888888888,
             "#fdca26"
            ],
            [
             1,
             "#f0f921"
            ]
           ]
          },
          "colorway": [
           "#636efa",
           "#EF553B",
           "#00cc96",
           "#ab63fa",
           "#FFA15A",
           "#19d3f3",
           "#FF6692",
           "#B6E880",
           "#FF97FF",
           "#FECB52"
          ],
          "font": {
           "color": "#2a3f5f"
          },
          "geo": {
           "bgcolor": "white",
           "lakecolor": "white",
           "landcolor": "#E5ECF6",
           "showlakes": true,
           "showland": true,
           "subunitcolor": "white"
          },
          "hoverlabel": {
           "align": "left"
          },
          "hovermode": "closest",
          "mapbox": {
           "style": "light"
          },
          "paper_bgcolor": "white",
          "plot_bgcolor": "#E5ECF6",
          "polar": {
           "angularaxis": {
            "gridcolor": "white",
            "linecolor": "white",
            "ticks": ""
           },
           "bgcolor": "#E5ECF6",
           "radialaxis": {
            "gridcolor": "white",
            "linecolor": "white",
            "ticks": ""
           }
          },
          "scene": {
           "xaxis": {
            "backgroundcolor": "#E5ECF6",
            "gridcolor": "white",
            "gridwidth": 2,
            "linecolor": "white",
            "showbackground": true,
            "ticks": "",
            "zerolinecolor": "white"
           },
           "yaxis": {
            "backgroundcolor": "#E5ECF6",
            "gridcolor": "white",
            "gridwidth": 2,
            "linecolor": "white",
            "showbackground": true,
            "ticks": "",
            "zerolinecolor": "white"
           },
           "zaxis": {
            "backgroundcolor": "#E5ECF6",
            "gridcolor": "white",
            "gridwidth": 2,
            "linecolor": "white",
            "showbackground": true,
            "ticks": "",
            "zerolinecolor": "white"
           }
          },
          "shapedefaults": {
           "line": {
            "color": "#2a3f5f"
           }
          },
          "ternary": {
           "aaxis": {
            "gridcolor": "white",
            "linecolor": "white",
            "ticks": ""
           },
           "baxis": {
            "gridcolor": "white",
            "linecolor": "white",
            "ticks": ""
           },
           "bgcolor": "#E5ECF6",
           "caxis": {
            "gridcolor": "white",
            "linecolor": "white",
            "ticks": ""
           }
          },
          "title": {
           "x": 0.05
          },
          "xaxis": {
           "automargin": true,
           "gridcolor": "white",
           "linecolor": "white",
           "ticks": "",
           "title": {
            "standoff": 15
           },
           "zerolinecolor": "white",
           "zerolinewidth": 2
          },
          "yaxis": {
           "automargin": true,
           "gridcolor": "white",
           "linecolor": "white",
           "ticks": "",
           "title": {
            "standoff": 15
           },
           "zerolinecolor": "white",
           "zerolinewidth": 2
          }
         }
        },
        "title": {
         "text": "Daily Rentals with 7-Day Rolling Average"
        },
        "xaxis": {
         "title": {
          "text": "Date"
         }
        },
        "yaxis": {
         "title": {
          "text": "Total Rentals"
         }
        }
       }
      }
     },
     "metadata": {},
     "output_type": "display_data"
    },
    {
     "data": {
      "application/vnd.plotly.v1+json": {
       "config": {
        "plotlyServerURL": "https://plot.ly"
       },
       "data": [
        {
         "line": {
          "color": "blue"
         },
         "mode": "lines",
         "name": "Smoothed Total Rides",
         "type": "scatter",
         "x": [
          "2011-01-01T00:00:00",
          "2011-01-02T00:00:00",
          "2011-01-03T00:00:00",
          "2011-01-04T00:00:00",
          "2011-01-05T00:00:00",
          "2011-01-06T00:00:00",
          "2011-01-07T00:00:00",
          "2011-01-08T00:00:00",
          "2011-01-09T00:00:00",
          "2011-01-10T00:00:00",
          "2011-01-11T00:00:00",
          "2011-01-12T00:00:00",
          "2011-01-13T00:00:00",
          "2011-01-14T00:00:00",
          "2011-01-15T00:00:00",
          "2011-01-16T00:00:00",
          "2011-01-17T00:00:00",
          "2011-01-18T00:00:00",
          "2011-01-19T00:00:00",
          "2011-01-20T00:00:00",
          "2011-01-21T00:00:00",
          "2011-01-22T00:00:00",
          "2011-01-23T00:00:00",
          "2011-01-24T00:00:00",
          "2011-01-25T00:00:00",
          "2011-01-26T00:00:00",
          "2011-01-27T00:00:00",
          "2011-01-28T00:00:00",
          "2011-01-29T00:00:00",
          "2011-01-30T00:00:00",
          "2011-01-31T00:00:00",
          "2011-02-01T00:00:00",
          "2011-02-02T00:00:00",
          "2011-02-03T00:00:00",
          "2011-02-04T00:00:00",
          "2011-02-05T00:00:00",
          "2011-02-06T00:00:00",
          "2011-02-07T00:00:00",
          "2011-02-08T00:00:00",
          "2011-02-09T00:00:00",
          "2011-02-10T00:00:00",
          "2011-02-11T00:00:00",
          "2011-02-12T00:00:00",
          "2011-02-13T00:00:00",
          "2011-02-14T00:00:00",
          "2011-02-15T00:00:00",
          "2011-02-16T00:00:00",
          "2011-02-17T00:00:00",
          "2011-02-18T00:00:00",
          "2011-02-19T00:00:00",
          "2011-02-20T00:00:00",
          "2011-02-21T00:00:00",
          "2011-02-22T00:00:00",
          "2011-02-23T00:00:00",
          "2011-02-24T00:00:00",
          "2011-02-25T00:00:00",
          "2011-02-26T00:00:00",
          "2011-02-27T00:00:00",
          "2011-02-28T00:00:00",
          "2011-03-01T00:00:00",
          "2011-03-02T00:00:00",
          "2011-03-03T00:00:00",
          "2011-03-04T00:00:00",
          "2011-03-05T00:00:00",
          "2011-03-06T00:00:00",
          "2011-03-07T00:00:00",
          "2011-03-08T00:00:00",
          "2011-03-09T00:00:00",
          "2011-03-10T00:00:00",
          "2011-03-11T00:00:00",
          "2011-03-12T00:00:00",
          "2011-03-13T00:00:00",
          "2011-03-14T00:00:00",
          "2011-03-15T00:00:00",
          "2011-03-16T00:00:00",
          "2011-03-17T00:00:00",
          "2011-03-18T00:00:00",
          "2011-03-19T00:00:00",
          "2011-03-20T00:00:00",
          "2011-03-21T00:00:00",
          "2011-03-22T00:00:00",
          "2011-03-23T00:00:00",
          "2011-03-24T00:00:00",
          "2011-03-25T00:00:00",
          "2011-03-26T00:00:00",
          "2011-03-27T00:00:00",
          "2011-03-28T00:00:00",
          "2011-03-29T00:00:00",
          "2011-03-30T00:00:00",
          "2011-03-31T00:00:00",
          "2011-04-01T00:00:00",
          "2011-04-02T00:00:00",
          "2011-04-03T00:00:00",
          "2011-04-04T00:00:00",
          "2011-04-05T00:00:00",
          "2011-04-06T00:00:00",
          "2011-04-07T00:00:00",
          "2011-04-08T00:00:00",
          "2011-04-09T00:00:00",
          "2011-04-10T00:00:00",
          "2011-04-11T00:00:00",
          "2011-04-12T00:00:00",
          "2011-04-13T00:00:00",
          "2011-04-14T00:00:00",
          "2011-04-15T00:00:00",
          "2011-04-16T00:00:00",
          "2011-04-17T00:00:00",
          "2011-04-18T00:00:00",
          "2011-04-19T00:00:00",
          "2011-04-20T00:00:00",
          "2011-04-21T00:00:00",
          "2011-04-22T00:00:00",
          "2011-04-23T00:00:00",
          "2011-04-24T00:00:00",
          "2011-04-25T00:00:00",
          "2011-04-26T00:00:00",
          "2011-04-27T00:00:00",
          "2011-04-28T00:00:00",
          "2011-04-29T00:00:00",
          "2011-04-30T00:00:00",
          "2011-05-01T00:00:00",
          "2011-05-02T00:00:00",
          "2011-05-03T00:00:00",
          "2011-05-04T00:00:00",
          "2011-05-05T00:00:00",
          "2011-05-06T00:00:00",
          "2011-05-07T00:00:00",
          "2011-05-08T00:00:00",
          "2011-05-09T00:00:00",
          "2011-05-10T00:00:00",
          "2011-05-11T00:00:00",
          "2011-05-12T00:00:00",
          "2011-05-13T00:00:00",
          "2011-05-14T00:00:00",
          "2011-05-15T00:00:00",
          "2011-05-16T00:00:00",
          "2011-05-17T00:00:00",
          "2011-05-18T00:00:00",
          "2011-05-19T00:00:00",
          "2011-05-20T00:00:00",
          "2011-05-21T00:00:00",
          "2011-05-22T00:00:00",
          "2011-05-23T00:00:00",
          "2011-05-24T00:00:00",
          "2011-05-25T00:00:00",
          "2011-05-26T00:00:00",
          "2011-05-27T00:00:00",
          "2011-05-28T00:00:00",
          "2011-05-29T00:00:00",
          "2011-05-30T00:00:00",
          "2011-05-31T00:00:00",
          "2011-06-01T00:00:00",
          "2011-06-02T00:00:00",
          "2011-06-03T00:00:00",
          "2011-06-04T00:00:00",
          "2011-06-05T00:00:00",
          "2011-06-06T00:00:00",
          "2011-06-07T00:00:00",
          "2011-06-08T00:00:00",
          "2011-06-09T00:00:00",
          "2011-06-10T00:00:00",
          "2011-06-11T00:00:00",
          "2011-06-12T00:00:00",
          "2011-06-13T00:00:00",
          "2011-06-14T00:00:00",
          "2011-06-15T00:00:00",
          "2011-06-16T00:00:00",
          "2011-06-17T00:00:00",
          "2011-06-18T00:00:00",
          "2011-06-19T00:00:00",
          "2011-06-20T00:00:00",
          "2011-06-21T00:00:00",
          "2011-06-22T00:00:00",
          "2011-06-23T00:00:00",
          "2011-06-24T00:00:00",
          "2011-06-25T00:00:00",
          "2011-06-26T00:00:00",
          "2011-06-27T00:00:00",
          "2011-06-28T00:00:00",
          "2011-06-29T00:00:00",
          "2011-06-30T00:00:00",
          "2011-07-01T00:00:00",
          "2011-07-02T00:00:00",
          "2011-07-03T00:00:00",
          "2011-07-04T00:00:00",
          "2011-07-05T00:00:00",
          "2011-07-06T00:00:00",
          "2011-07-07T00:00:00",
          "2011-07-08T00:00:00",
          "2011-07-09T00:00:00",
          "2011-07-10T00:00:00",
          "2011-07-11T00:00:00",
          "2011-07-12T00:00:00",
          "2011-07-13T00:00:00",
          "2011-07-14T00:00:00",
          "2011-07-15T00:00:00",
          "2011-07-16T00:00:00",
          "2011-07-17T00:00:00",
          "2011-07-18T00:00:00",
          "2011-07-19T00:00:00",
          "2011-07-20T00:00:00",
          "2011-07-21T00:00:00",
          "2011-07-22T00:00:00",
          "2011-07-23T00:00:00",
          "2011-07-24T00:00:00",
          "2011-07-25T00:00:00",
          "2011-07-26T00:00:00",
          "2011-07-27T00:00:00",
          "2011-07-28T00:00:00",
          "2011-07-29T00:00:00",
          "2011-07-30T00:00:00",
          "2011-07-31T00:00:00",
          "2011-08-01T00:00:00",
          "2011-08-02T00:00:00",
          "2011-08-03T00:00:00",
          "2011-08-04T00:00:00",
          "2011-08-05T00:00:00",
          "2011-08-06T00:00:00",
          "2011-08-07T00:00:00",
          "2011-08-08T00:00:00",
          "2011-08-09T00:00:00",
          "2011-08-10T00:00:00",
          "2011-08-11T00:00:00",
          "2011-08-12T00:00:00",
          "2011-08-13T00:00:00",
          "2011-08-14T00:00:00",
          "2011-08-15T00:00:00",
          "2011-08-16T00:00:00",
          "2011-08-17T00:00:00",
          "2011-08-18T00:00:00",
          "2011-08-19T00:00:00",
          "2011-08-20T00:00:00",
          "2011-08-21T00:00:00",
          "2011-08-22T00:00:00",
          "2011-08-23T00:00:00",
          "2011-08-24T00:00:00",
          "2011-08-25T00:00:00",
          "2011-08-26T00:00:00",
          "2011-08-27T00:00:00",
          "2011-08-28T00:00:00",
          "2011-08-29T00:00:00",
          "2011-08-30T00:00:00",
          "2011-08-31T00:00:00",
          "2011-09-01T00:00:00",
          "2011-09-02T00:00:00",
          "2011-09-03T00:00:00",
          "2011-09-04T00:00:00",
          "2011-09-05T00:00:00",
          "2011-09-06T00:00:00",
          "2011-09-07T00:00:00",
          "2011-09-08T00:00:00",
          "2011-09-09T00:00:00",
          "2011-09-10T00:00:00",
          "2011-09-11T00:00:00",
          "2011-09-12T00:00:00",
          "2011-09-13T00:00:00",
          "2011-09-14T00:00:00",
          "2011-09-15T00:00:00",
          "2011-09-16T00:00:00",
          "2011-09-17T00:00:00",
          "2011-09-18T00:00:00",
          "2011-09-19T00:00:00",
          "2011-09-20T00:00:00",
          "2011-09-21T00:00:00",
          "2011-09-22T00:00:00",
          "2011-09-23T00:00:00",
          "2011-09-24T00:00:00",
          "2011-09-25T00:00:00",
          "2011-09-26T00:00:00",
          "2011-09-27T00:00:00",
          "2011-09-28T00:00:00",
          "2011-09-29T00:00:00",
          "2011-09-30T00:00:00",
          "2011-10-01T00:00:00",
          "2011-10-02T00:00:00",
          "2011-10-03T00:00:00",
          "2011-10-04T00:00:00",
          "2011-10-05T00:00:00",
          "2011-10-06T00:00:00",
          "2011-10-07T00:00:00",
          "2011-10-08T00:00:00",
          "2011-10-09T00:00:00",
          "2011-10-10T00:00:00",
          "2011-10-11T00:00:00",
          "2011-10-12T00:00:00",
          "2011-10-13T00:00:00",
          "2011-10-14T00:00:00",
          "2011-10-15T00:00:00",
          "2011-10-16T00:00:00",
          "2011-10-17T00:00:00",
          "2011-10-18T00:00:00",
          "2011-10-19T00:00:00",
          "2011-10-20T00:00:00",
          "2011-10-21T00:00:00",
          "2011-10-22T00:00:00",
          "2011-10-23T00:00:00",
          "2011-10-24T00:00:00",
          "2011-10-25T00:00:00",
          "2011-10-26T00:00:00",
          "2011-10-27T00:00:00",
          "2011-10-28T00:00:00",
          "2011-10-29T00:00:00",
          "2011-10-30T00:00:00",
          "2011-10-31T00:00:00",
          "2011-11-01T00:00:00",
          "2011-11-02T00:00:00",
          "2011-11-03T00:00:00",
          "2011-11-04T00:00:00",
          "2011-11-05T00:00:00",
          "2011-11-06T00:00:00",
          "2011-11-07T00:00:00",
          "2011-11-08T00:00:00",
          "2011-11-09T00:00:00",
          "2011-11-10T00:00:00",
          "2011-11-11T00:00:00",
          "2011-11-12T00:00:00",
          "2011-11-13T00:00:00",
          "2011-11-14T00:00:00",
          "2011-11-15T00:00:00",
          "2011-11-16T00:00:00",
          "2011-11-17T00:00:00",
          "2011-11-18T00:00:00",
          "2011-11-19T00:00:00",
          "2011-11-20T00:00:00",
          "2011-11-21T00:00:00",
          "2011-11-22T00:00:00",
          "2011-11-23T00:00:00",
          "2011-11-24T00:00:00",
          "2011-11-25T00:00:00",
          "2011-11-26T00:00:00",
          "2011-11-27T00:00:00",
          "2011-11-28T00:00:00",
          "2011-11-29T00:00:00",
          "2011-11-30T00:00:00",
          "2011-12-01T00:00:00",
          "2011-12-02T00:00:00",
          "2011-12-03T00:00:00",
          "2011-12-04T00:00:00",
          "2011-12-05T00:00:00",
          "2011-12-06T00:00:00",
          "2011-12-07T00:00:00",
          "2011-12-08T00:00:00",
          "2011-12-09T00:00:00",
          "2011-12-10T00:00:00",
          "2011-12-11T00:00:00",
          "2011-12-12T00:00:00",
          "2011-12-13T00:00:00",
          "2011-12-14T00:00:00",
          "2011-12-15T00:00:00",
          "2011-12-16T00:00:00",
          "2011-12-17T00:00:00",
          "2011-12-18T00:00:00",
          "2011-12-19T00:00:00",
          "2011-12-20T00:00:00",
          "2011-12-21T00:00:00",
          "2011-12-22T00:00:00",
          "2011-12-23T00:00:00",
          "2011-12-24T00:00:00",
          "2011-12-25T00:00:00",
          "2011-12-26T00:00:00",
          "2011-12-27T00:00:00",
          "2011-12-28T00:00:00",
          "2011-12-29T00:00:00",
          "2011-12-30T00:00:00",
          "2011-12-31T00:00:00",
          "2012-01-01T00:00:00",
          "2012-01-02T00:00:00",
          "2012-01-03T00:00:00",
          "2012-01-04T00:00:00",
          "2012-01-05T00:00:00",
          "2012-01-06T00:00:00",
          "2012-01-07T00:00:00",
          "2012-01-08T00:00:00",
          "2012-01-09T00:00:00",
          "2012-01-10T00:00:00",
          "2012-01-11T00:00:00",
          "2012-01-12T00:00:00",
          "2012-01-13T00:00:00",
          "2012-01-14T00:00:00",
          "2012-01-15T00:00:00",
          "2012-01-16T00:00:00",
          "2012-01-17T00:00:00",
          "2012-01-18T00:00:00",
          "2012-01-19T00:00:00",
          "2012-01-20T00:00:00",
          "2012-01-21T00:00:00",
          "2012-01-22T00:00:00",
          "2012-01-23T00:00:00",
          "2012-01-24T00:00:00",
          "2012-01-25T00:00:00",
          "2012-01-26T00:00:00",
          "2012-01-27T00:00:00",
          "2012-01-28T00:00:00",
          "2012-01-29T00:00:00",
          "2012-01-30T00:00:00",
          "2012-01-31T00:00:00",
          "2012-02-01T00:00:00",
          "2012-02-02T00:00:00",
          "2012-02-03T00:00:00",
          "2012-02-04T00:00:00",
          "2012-02-05T00:00:00",
          "2012-02-06T00:00:00",
          "2012-02-07T00:00:00",
          "2012-02-08T00:00:00",
          "2012-02-09T00:00:00",
          "2012-02-10T00:00:00",
          "2012-02-11T00:00:00",
          "2012-02-12T00:00:00",
          "2012-02-13T00:00:00",
          "2012-02-14T00:00:00",
          "2012-02-15T00:00:00",
          "2012-02-16T00:00:00",
          "2012-02-17T00:00:00",
          "2012-02-18T00:00:00",
          "2012-02-19T00:00:00",
          "2012-02-20T00:00:00",
          "2012-02-21T00:00:00",
          "2012-02-22T00:00:00",
          "2012-02-23T00:00:00",
          "2012-02-24T00:00:00",
          "2012-02-25T00:00:00",
          "2012-02-26T00:00:00",
          "2012-02-27T00:00:00",
          "2012-02-28T00:00:00",
          "2012-02-29T00:00:00",
          "2012-03-01T00:00:00",
          "2012-03-02T00:00:00",
          "2012-03-03T00:00:00",
          "2012-03-04T00:00:00",
          "2012-03-05T00:00:00",
          "2012-03-06T00:00:00",
          "2012-03-07T00:00:00",
          "2012-03-08T00:00:00",
          "2012-03-09T00:00:00",
          "2012-03-10T00:00:00",
          "2012-03-11T00:00:00",
          "2012-03-12T00:00:00",
          "2012-03-13T00:00:00",
          "2012-03-14T00:00:00",
          "2012-03-15T00:00:00",
          "2012-03-16T00:00:00",
          "2012-03-17T00:00:00",
          "2012-03-18T00:00:00",
          "2012-03-19T00:00:00",
          "2012-03-20T00:00:00",
          "2012-03-21T00:00:00",
          "2012-03-22T00:00:00",
          "2012-03-23T00:00:00",
          "2012-03-24T00:00:00",
          "2012-03-25T00:00:00",
          "2012-03-26T00:00:00",
          "2012-03-27T00:00:00",
          "2012-03-28T00:00:00",
          "2012-03-29T00:00:00",
          "2012-03-30T00:00:00",
          "2012-03-31T00:00:00",
          "2012-04-01T00:00:00",
          "2012-04-02T00:00:00",
          "2012-04-03T00:00:00",
          "2012-04-04T00:00:00",
          "2012-04-05T00:00:00",
          "2012-04-06T00:00:00",
          "2012-04-07T00:00:00",
          "2012-04-08T00:00:00",
          "2012-04-09T00:00:00",
          "2012-04-10T00:00:00",
          "2012-04-11T00:00:00",
          "2012-04-12T00:00:00",
          "2012-04-13T00:00:00",
          "2012-04-14T00:00:00",
          "2012-04-15T00:00:00",
          "2012-04-16T00:00:00",
          "2012-04-17T00:00:00",
          "2012-04-18T00:00:00",
          "2012-04-19T00:00:00",
          "2012-04-20T00:00:00",
          "2012-04-21T00:00:00",
          "2012-04-22T00:00:00",
          "2012-04-23T00:00:00",
          "2012-04-24T00:00:00",
          "2012-04-25T00:00:00",
          "2012-04-26T00:00:00",
          "2012-04-27T00:00:00",
          "2012-04-28T00:00:00",
          "2012-04-29T00:00:00",
          "2012-04-30T00:00:00",
          "2012-05-01T00:00:00",
          "2012-05-02T00:00:00",
          "2012-05-03T00:00:00",
          "2012-05-04T00:00:00",
          "2012-05-05T00:00:00",
          "2012-05-06T00:00:00",
          "2012-05-07T00:00:00",
          "2012-05-08T00:00:00",
          "2012-05-09T00:00:00",
          "2012-05-10T00:00:00",
          "2012-05-11T00:00:00",
          "2012-05-12T00:00:00",
          "2012-05-13T00:00:00",
          "2012-05-14T00:00:00",
          "2012-05-15T00:00:00",
          "2012-05-16T00:00:00",
          "2012-05-17T00:00:00",
          "2012-05-18T00:00:00",
          "2012-05-19T00:00:00",
          "2012-05-20T00:00:00",
          "2012-05-21T00:00:00",
          "2012-05-22T00:00:00",
          "2012-05-23T00:00:00",
          "2012-05-24T00:00:00",
          "2012-05-25T00:00:00",
          "2012-05-26T00:00:00",
          "2012-05-27T00:00:00",
          "2012-05-28T00:00:00",
          "2012-05-29T00:00:00",
          "2012-05-30T00:00:00",
          "2012-05-31T00:00:00",
          "2012-06-01T00:00:00",
          "2012-06-02T00:00:00",
          "2012-06-03T00:00:00",
          "2012-06-04T00:00:00",
          "2012-06-05T00:00:00",
          "2012-06-06T00:00:00",
          "2012-06-07T00:00:00",
          "2012-06-08T00:00:00",
          "2012-06-09T00:00:00",
          "2012-06-10T00:00:00",
          "2012-06-11T00:00:00",
          "2012-06-12T00:00:00",
          "2012-06-13T00:00:00",
          "2012-06-14T00:00:00",
          "2012-06-15T00:00:00",
          "2012-06-16T00:00:00",
          "2012-06-17T00:00:00",
          "2012-06-18T00:00:00",
          "2012-06-19T00:00:00",
          "2012-06-20T00:00:00",
          "2012-06-21T00:00:00",
          "2012-06-22T00:00:00",
          "2012-06-23T00:00:00",
          "2012-06-24T00:00:00",
          "2012-06-25T00:00:00",
          "2012-06-26T00:00:00",
          "2012-06-27T00:00:00",
          "2012-06-28T00:00:00",
          "2012-06-29T00:00:00",
          "2012-06-30T00:00:00",
          "2012-07-01T00:00:00",
          "2012-07-02T00:00:00",
          "2012-07-03T00:00:00",
          "2012-07-04T00:00:00",
          "2012-07-05T00:00:00",
          "2012-07-06T00:00:00",
          "2012-07-07T00:00:00",
          "2012-07-08T00:00:00",
          "2012-07-09T00:00:00",
          "2012-07-10T00:00:00",
          "2012-07-11T00:00:00",
          "2012-07-12T00:00:00",
          "2012-07-13T00:00:00",
          "2012-07-14T00:00:00",
          "2012-07-15T00:00:00",
          "2012-07-16T00:00:00",
          "2012-07-17T00:00:00",
          "2012-07-18T00:00:00",
          "2012-07-19T00:00:00",
          "2012-07-20T00:00:00",
          "2012-07-21T00:00:00",
          "2012-07-22T00:00:00",
          "2012-07-23T00:00:00",
          "2012-07-24T00:00:00",
          "2012-07-25T00:00:00",
          "2012-07-26T00:00:00",
          "2012-07-27T00:00:00",
          "2012-07-28T00:00:00",
          "2012-07-29T00:00:00",
          "2012-07-30T00:00:00",
          "2012-07-31T00:00:00",
          "2012-08-01T00:00:00",
          "2012-08-02T00:00:00",
          "2012-08-03T00:00:00",
          "2012-08-04T00:00:00",
          "2012-08-05T00:00:00",
          "2012-08-06T00:00:00",
          "2012-08-07T00:00:00",
          "2012-08-08T00:00:00",
          "2012-08-09T00:00:00",
          "2012-08-10T00:00:00",
          "2012-08-11T00:00:00",
          "2012-08-12T00:00:00",
          "2012-08-13T00:00:00",
          "2012-08-14T00:00:00",
          "2012-08-15T00:00:00",
          "2012-08-16T00:00:00",
          "2012-08-17T00:00:00",
          "2012-08-18T00:00:00",
          "2012-08-19T00:00:00",
          "2012-08-20T00:00:00",
          "2012-08-21T00:00:00",
          "2012-08-22T00:00:00",
          "2012-08-23T00:00:00",
          "2012-08-24T00:00:00",
          "2012-08-25T00:00:00",
          "2012-08-26T00:00:00",
          "2012-08-27T00:00:00",
          "2012-08-28T00:00:00",
          "2012-08-29T00:00:00",
          "2012-08-30T00:00:00",
          "2012-08-31T00:00:00",
          "2012-09-01T00:00:00",
          "2012-09-02T00:00:00",
          "2012-09-03T00:00:00",
          "2012-09-04T00:00:00",
          "2012-09-05T00:00:00",
          "2012-09-06T00:00:00",
          "2012-09-07T00:00:00",
          "2012-09-08T00:00:00",
          "2012-09-09T00:00:00",
          "2012-09-10T00:00:00",
          "2012-09-11T00:00:00",
          "2012-09-12T00:00:00",
          "2012-09-13T00:00:00",
          "2012-09-14T00:00:00",
          "2012-09-15T00:00:00",
          "2012-09-16T00:00:00",
          "2012-09-17T00:00:00",
          "2012-09-18T00:00:00",
          "2012-09-19T00:00:00",
          "2012-09-20T00:00:00",
          "2012-09-21T00:00:00",
          "2012-09-22T00:00:00",
          "2012-09-23T00:00:00",
          "2012-09-24T00:00:00",
          "2012-09-25T00:00:00",
          "2012-09-26T00:00:00",
          "2012-09-27T00:00:00",
          "2012-09-28T00:00:00",
          "2012-09-29T00:00:00",
          "2012-09-30T00:00:00",
          "2012-10-01T00:00:00",
          "2012-10-02T00:00:00",
          "2012-10-03T00:00:00",
          "2012-10-04T00:00:00",
          "2012-10-05T00:00:00",
          "2012-10-06T00:00:00",
          "2012-10-07T00:00:00",
          "2012-10-08T00:00:00",
          "2012-10-09T00:00:00",
          "2012-10-10T00:00:00",
          "2012-10-11T00:00:00",
          "2012-10-12T00:00:00",
          "2012-10-13T00:00:00",
          "2012-10-14T00:00:00",
          "2012-10-15T00:00:00",
          "2012-10-16T00:00:00",
          "2012-10-17T00:00:00",
          "2012-10-18T00:00:00",
          "2012-10-19T00:00:00",
          "2012-10-20T00:00:00",
          "2012-10-21T00:00:00",
          "2012-10-22T00:00:00",
          "2012-10-23T00:00:00",
          "2012-10-24T00:00:00",
          "2012-10-25T00:00:00",
          "2012-10-26T00:00:00",
          "2012-10-27T00:00:00",
          "2012-10-28T00:00:00",
          "2012-10-29T00:00:00",
          "2012-10-30T00:00:00",
          "2012-10-31T00:00:00",
          "2012-11-01T00:00:00",
          "2012-11-02T00:00:00",
          "2012-11-03T00:00:00",
          "2012-11-04T00:00:00",
          "2012-11-05T00:00:00",
          "2012-11-06T00:00:00",
          "2012-11-07T00:00:00",
          "2012-11-08T00:00:00",
          "2012-11-09T00:00:00",
          "2012-11-10T00:00:00",
          "2012-11-11T00:00:00",
          "2012-11-12T00:00:00",
          "2012-11-13T00:00:00",
          "2012-11-14T00:00:00",
          "2012-11-15T00:00:00",
          "2012-11-16T00:00:00",
          "2012-11-17T00:00:00",
          "2012-11-18T00:00:00",
          "2012-11-19T00:00:00",
          "2012-11-20T00:00:00",
          "2012-11-21T00:00:00",
          "2012-11-22T00:00:00",
          "2012-11-23T00:00:00",
          "2012-11-24T00:00:00",
          "2012-11-25T00:00:00",
          "2012-11-26T00:00:00",
          "2012-11-27T00:00:00",
          "2012-11-28T00:00:00",
          "2012-11-29T00:00:00",
          "2012-11-30T00:00:00",
          "2012-12-01T00:00:00",
          "2012-12-02T00:00:00",
          "2012-12-03T00:00:00",
          "2012-12-04T00:00:00",
          "2012-12-05T00:00:00",
          "2012-12-06T00:00:00",
          "2012-12-07T00:00:00",
          "2012-12-08T00:00:00",
          "2012-12-09T00:00:00",
          "2012-12-10T00:00:00",
          "2012-12-11T00:00:00",
          "2012-12-12T00:00:00",
          "2012-12-13T00:00:00",
          "2012-12-14T00:00:00",
          "2012-12-15T00:00:00",
          "2012-12-16T00:00:00",
          "2012-12-17T00:00:00",
          "2012-12-18T00:00:00",
          "2012-12-19T00:00:00",
          "2012-12-20T00:00:00",
          "2012-12-21T00:00:00",
          "2012-12-22T00:00:00",
          "2012-12-23T00:00:00",
          "2012-12-24T00:00:00",
          "2012-12-25T00:00:00",
          "2012-12-26T00:00:00",
          "2012-12-27T00:00:00",
          "2012-12-28T00:00:00",
          "2012-12-29T00:00:00",
          "2012-12-30T00:00:00",
          "2012-12-31T00:00:00"
         ],
         "y": {
          "bdata": "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",
          "dtype": "f8"
         }
        },
        {
         "marker": {
          "color": "red",
          "size": 8,
          "symbol": "x"
         },
         "mode": "markers",
         "name": "Anomalies",
         "type": "scatter",
         "x": [
          "2011-04-16T00:00:00",
          "2011-08-27T00:00:00",
          "2011-10-29T00:00:00",
          "2011-12-07T00:00:00",
          "2012-03-23T00:00:00",
          "2012-03-24T00:00:00",
          "2012-04-18T00:00:00",
          "2012-04-20T00:00:00",
          "2012-04-22T00:00:00",
          "2012-05-14T00:00:00",
          "2012-05-21T00:00:00",
          "2012-06-01T00:00:00",
          "2012-08-19T00:00:00",
          "2012-09-18T00:00:00",
          "2012-10-02T00:00:00",
          "2012-10-07T00:00:00",
          "2012-10-27T00:00:00",
          "2012-10-29T00:00:00",
          "2012-10-30T00:00:00"
         ],
         "y": {
          "bdata": "GwNbBHMCwQKqICwNDxF6HAMEGwsHER8QxRHpDx8Stg2sHhYASAQ=",
          "dtype": "i2"
         }
        }
       ],
       "layout": {
        "template": {
         "data": {
          "bar": [
           {
            "error_x": {
             "color": "#2a3f5f"
            },
            "error_y": {
             "color": "#2a3f5f"
            },
            "marker": {
             "line": {
              "color": "#E5ECF6",
              "width": 0.5
             },
             "pattern": {
              "fillmode": "overlay",
              "size": 10,
              "solidity": 0.2
             }
            },
            "type": "bar"
           }
          ],
          "barpolar": [
           {
            "marker": {
             "line": {
              "color": "#E5ECF6",
              "width": 0.5
             },
             "pattern": {
              "fillmode": "overlay",
              "size": 10,
              "solidity": 0.2
             }
            },
            "type": "barpolar"
           }
          ],
          "carpet": [
           {
            "aaxis": {
             "endlinecolor": "#2a3f5f",
             "gridcolor": "white",
             "linecolor": "white",
             "minorgridcolor": "white",
             "startlinecolor": "#2a3f5f"
            },
            "baxis": {
             "endlinecolor": "#2a3f5f",
             "gridcolor": "white",
             "linecolor": "white",
             "minorgridcolor": "white",
             "startlinecolor": "#2a3f5f"
            },
            "type": "carpet"
           }
          ],
          "choropleth": [
           {
            "colorbar": {
             "outlinewidth": 0,
             "ticks": ""
            },
            "type": "choropleth"
           }
          ],
          "contour": [
           {
            "colorbar": {
             "outlinewidth": 0,
             "ticks": ""
            },
            "colorscale": [
             [
              0,
              "#0d0887"
             ],
             [
              0.1111111111111111,
              "#46039f"
             ],
             [
              0.2222222222222222,
              "#7201a8"
             ],
             [
              0.3333333333333333,
              "#9c179e"
             ],
             [
              0.4444444444444444,
              "#bd3786"
             ],
             [
              0.5555555555555556,
              "#d8576b"
             ],
             [
              0.6666666666666666,
              "#ed7953"
             ],
             [
              0.7777777777777778,
              "#fb9f3a"
             ],
             [
              0.8888888888888888,
              "#fdca26"
             ],
             [
              1,
              "#f0f921"
             ]
            ],
            "type": "contour"
           }
          ],
          "contourcarpet": [
           {
            "colorbar": {
             "outlinewidth": 0,
             "ticks": ""
            },
            "type": "contourcarpet"
           }
          ],
          "heatmap": [
           {
            "colorbar": {
             "outlinewidth": 0,
             "ticks": ""
            },
            "colorscale": [
             [
              0,
              "#0d0887"
             ],
             [
              0.1111111111111111,
              "#46039f"
             ],
             [
              0.2222222222222222,
              "#7201a8"
             ],
             [
              0.3333333333333333,
              "#9c179e"
             ],
             [
              0.4444444444444444,
              "#bd3786"
             ],
             [
              0.5555555555555556,
              "#d8576b"
             ],
             [
              0.6666666666666666,
              "#ed7953"
             ],
             [
              0.7777777777777778,
              "#fb9f3a"
             ],
             [
              0.8888888888888888,
              "#fdca26"
             ],
             [
              1,
              "#f0f921"
             ]
            ],
            "type": "heatmap"
           }
          ],
          "histogram": [
           {
            "marker": {
             "pattern": {
              "fillmode": "overlay",
              "size": 10,
              "solidity": 0.2
             }
            },
            "type": "histogram"
           }
          ],
          "histogram2d": [
           {
            "colorbar": {
             "outlinewidth": 0,
             "ticks": ""
            },
            "colorscale": [
             [
              0,
              "#0d0887"
             ],
             [
              0.1111111111111111,
              "#46039f"
             ],
             [
              0.2222222222222222,
              "#7201a8"
             ],
             [
              0.3333333333333333,
              "#9c179e"
             ],
             [
              0.4444444444444444,
              "#bd3786"
             ],
             [
              0.5555555555555556,
              "#d8576b"
             ],
             [
              0.6666666666666666,
              "#ed7953"
             ],
             [
              0.7777777777777778,
              "#fb9f3a"
             ],
             [
              0.8888888888888888,
              "#fdca26"
             ],
             [
              1,
              "#f0f921"
             ]
            ],
            "type": "histogram2d"
           }
          ],
          "histogram2dcontour": [
           {
            "colorbar": {
             "outlinewidth": 0,
             "ticks": ""
            },
            "colorscale": [
             [
              0,
              "#0d0887"
             ],
             [
              0.1111111111111111,
              "#46039f"
             ],
             [
              0.2222222222222222,
              "#7201a8"
             ],
             [
              0.3333333333333333,
              "#9c179e"
             ],
             [
              0.4444444444444444,
              "#bd3786"
             ],
             [
              0.5555555555555556,
              "#d8576b"
             ],
             [
              0.6666666666666666,
              "#ed7953"
             ],
             [
              0.7777777777777778,
              "#fb9f3a"
             ],
             [
              0.8888888888888888,
              "#fdca26"
             ],
             [
              1,
              "#f0f921"
             ]
            ],
            "type": "histogram2dcontour"
           }
          ],
          "mesh3d": [
           {
            "colorbar": {
             "outlinewidth": 0,
             "ticks": ""
            },
            "type": "mesh3d"
           }
          ],
          "parcoords": [
           {
            "line": {
             "colorbar": {
              "outlinewidth": 0,
              "ticks": ""
             }
            },
            "type": "parcoords"
           }
          ],
          "pie": [
           {
            "automargin": true,
            "type": "pie"
           }
          ],
          "scatter": [
           {
            "fillpattern": {
             "fillmode": "overlay",
             "size": 10,
             "solidity": 0.2
            },
            "type": "scatter"
           }
          ],
          "scatter3d": [
           {
            "line": {
             "colorbar": {
              "outlinewidth": 0,
              "ticks": ""
             }
            },
            "marker": {
             "colorbar": {
              "outlinewidth": 0,
              "ticks": ""
             }
            },
            "type": "scatter3d"
           }
          ],
          "scattercarpet": [
           {
            "marker": {
             "colorbar": {
              "outlinewidth": 0,
              "ticks": ""
             }
            },
            "type": "scattercarpet"
           }
          ],
          "scattergeo": [
           {
            "marker": {
             "colorbar": {
              "outlinewidth": 0,
              "ticks": ""
             }
            },
            "type": "scattergeo"
           }
          ],
          "scattergl": [
           {
            "marker": {
             "colorbar": {
              "outlinewidth": 0,
              "ticks": ""
             }
            },
            "type": "scattergl"
           }
          ],
          "scattermap": [
           {
            "marker": {
             "colorbar": {
              "outlinewidth": 0,
              "ticks": ""
             }
            },
            "type": "scattermap"
           }
          ],
          "scattermapbox": [
           {
            "marker": {
             "colorbar": {
              "outlinewidth": 0,
              "ticks": ""
             }
            },
            "type": "scattermapbox"
           }
          ],
          "scatterpolar": [
           {
            "marker": {
             "colorbar": {
              "outlinewidth": 0,
              "ticks": ""
             }
            },
            "type": "scatterpolar"
           }
          ],
          "scatterpolargl": [
           {
            "marker": {
             "colorbar": {
              "outlinewidth": 0,
              "ticks": ""
             }
            },
            "type": "scatterpolargl"
           }
          ],
          "scatterternary": [
           {
            "marker": {
             "colorbar": {
              "outlinewidth": 0,
              "ticks": ""
             }
            },
            "type": "scatterternary"
           }
          ],
          "surface": [
           {
            "colorbar": {
             "outlinewidth": 0,
             "ticks": ""
            },
            "colorscale": [
             [
              0,
              "#0d0887"
             ],
             [
              0.1111111111111111,
              "#46039f"
             ],
             [
              0.2222222222222222,
              "#7201a8"
             ],
             [
              0.3333333333333333,
              "#9c179e"
             ],
             [
              0.4444444444444444,
              "#bd3786"
             ],
             [
              0.5555555555555556,
              "#d8576b"
             ],
             [
              0.6666666666666666,
              "#ed7953"
             ],
             [
              0.7777777777777778,
              "#fb9f3a"
             ],
             [
              0.8888888888888888,
              "#fdca26"
             ],
             [
              1,
              "#f0f921"
             ]
            ],
            "type": "surface"
           }
          ],
          "table": [
           {
            "cells": {
             "fill": {
              "color": "#EBF0F8"
             },
             "line": {
              "color": "white"
             }
            },
            "header": {
             "fill": {
              "color": "#C8D4E3"
             },
             "line": {
              "color": "white"
             }
            },
            "type": "table"
           }
          ]
         },
         "layout": {
          "annotationdefaults": {
           "arrowcolor": "#2a3f5f",
           "arrowhead": 0,
           "arrowwidth": 1
          },
          "autotypenumbers": "strict",
          "coloraxis": {
           "colorbar": {
            "outlinewidth": 0,
            "ticks": ""
           }
          },
          "colorscale": {
           "diverging": [
            [
             0,
             "#8e0152"
            ],
            [
             0.1,
             "#c51b7d"
            ],
            [
             0.2,
             "#de77ae"
            ],
            [
             0.3,
             "#f1b6da"
            ],
            [
             0.4,
             "#fde0ef"
            ],
            [
             0.5,
             "#f7f7f7"
            ],
            [
             0.6,
             "#e6f5d0"
            ],
            [
             0.7,
             "#b8e186"
            ],
            [
             0.8,
             "#7fbc41"
            ],
            [
             0.9,
             "#4d9221"
            ],
            [
             1,
             "#276419"
            ]
           ],
           "sequential": [
            [
             0,
             "#0d0887"
            ],
            [
             0.1111111111111111,
             "#46039f"
            ],
            [
             0.2222222222222222,
             "#7201a8"
            ],
            [
             0.3333333333333333,
             "#9c179e"
            ],
            [
             0.4444444444444444,
             "#bd3786"
            ],
            [
             0.5555555555555556,
             "#d8576b"
            ],
            [
             0.6666666666666666,
             "#ed7953"
            ],
            [
             0.7777777777777778,
             "#fb9f3a"
            ],
            [
             0.8888888888888888,
             "#fdca26"
            ],
            [
             1,
             "#f0f921"
            ]
           ],
           "sequentialminus": [
            [
             0,
             "#0d0887"
            ],
            [
             0.1111111111111111,
             "#46039f"
            ],
            [
             0.2222222222222222,
             "#7201a8"
            ],
            [
             0.3333333333333333,
             "#9c179e"
            ],
            [
             0.4444444444444444,
             "#bd3786"
            ],
            [
             0.5555555555555556,
             "#d8576b"
            ],
            [
             0.6666666666666666,
             "#ed7953"
            ],
            [
             0.7777777777777778,
             "#fb9f3a"
            ],
            [
             0.8888888888888888,
             "#fdca26"
            ],
            [
             1,
             "#f0f921"
            ]
           ]
          },
          "colorway": [
           "#636efa",
           "#EF553B",
           "#00cc96",
           "#ab63fa",
           "#FFA15A",
           "#19d3f3",
           "#FF6692",
           "#B6E880",
           "#FF97FF",
           "#FECB52"
          ],
          "font": {
           "color": "#2a3f5f"
          },
          "geo": {
           "bgcolor": "white",
           "lakecolor": "white",
           "landcolor": "#E5ECF6",
           "showlakes": true,
           "showland": true,
           "subunitcolor": "white"
          },
          "hoverlabel": {
           "align": "left"
          },
          "hovermode": "closest",
          "mapbox": {
           "style": "light"
          },
          "paper_bgcolor": "white",
          "plot_bgcolor": "#E5ECF6",
          "polar": {
           "angularaxis": {
            "gridcolor": "white",
            "linecolor": "white",
            "ticks": ""
           },
           "bgcolor": "#E5ECF6",
           "radialaxis": {
            "gridcolor": "white",
            "linecolor": "white",
            "ticks": ""
           }
          },
          "scene": {
           "xaxis": {
            "backgroundcolor": "#E5ECF6",
            "gridcolor": "white",
            "gridwidth": 2,
            "linecolor": "white",
            "showbackground": true,
            "ticks": "",
            "zerolinecolor": "white"
           },
           "yaxis": {
            "backgroundcolor": "#E5ECF6",
            "gridcolor": "white",
            "gridwidth": 2,
            "linecolor": "white",
            "showbackground": true,
            "ticks": "",
            "zerolinecolor": "white"
           },
           "zaxis": {
            "backgroundcolor": "#E5ECF6",
            "gridcolor": "white",
            "gridwidth": 2,
            "linecolor": "white",
            "showbackground": true,
            "ticks": "",
            "zerolinecolor": "white"
           }
          },
          "shapedefaults": {
           "line": {
            "color": "#2a3f5f"
           }
          },
          "ternary": {
           "aaxis": {
            "gridcolor": "white",
            "linecolor": "white",
            "ticks": ""
           },
           "baxis": {
            "gridcolor": "white",
            "linecolor": "white",
            "ticks": ""
           },
           "bgcolor": "#E5ECF6",
           "caxis": {
            "gridcolor": "white",
            "linecolor": "white",
            "ticks": ""
           }
          },
          "title": {
           "x": 0.05
          },
          "xaxis": {
           "automargin": true,
           "gridcolor": "white",
           "linecolor": "white",
           "ticks": "",
           "title": {
            "standoff": 15
           },
           "zerolinecolor": "white",
           "zerolinewidth": 2
          },
          "yaxis": {
           "automargin": true,
           "gridcolor": "white",
           "linecolor": "white",
           "ticks": "",
           "title": {
            "standoff": 15
           },
           "zerolinecolor": "white",
           "zerolinewidth": 2
          }
         }
        },
        "title": {
         "text": "Daily Total Rides with Anomalies Highlighted (Smoothed)"
        },
        "xaxis": {
         "title": {
          "text": "Date"
         }
        },
        "yaxis": {
         "title": {
          "text": "Total Rides"
         }
        }
       }
      }
     },
     "metadata": {},
     "output_type": "display_data"
    },
    {
     "name": "stderr",
     "output_type": "stream",
     "text": [
      "DEBUG\tcmdstanpy:filesystem.py:_temp_single_json()- input tempfile: /var/folders/x8/3h_bm8d17flf32mfss6sz9nm0000gn/T/tmpmpy0_6fu/94t6lk71.json\n",
      "DEBUG\tcmdstanpy:filesystem.py:_temp_single_json()- input tempfile: /var/folders/x8/3h_bm8d17flf32mfss6sz9nm0000gn/T/tmpmpy0_6fu/e7482oxt.json\n",
      "DEBUG\tcmdstanpy:model.py:_run_cmdstan()- idx 0\n",
      "DEBUG\tcmdstanpy:model.py:_run_cmdstan()- running CmdStan, num_threads: None\n",
      "DEBUG\tcmdstanpy:model.py:_run_cmdstan()- CmdStan args: ['/opt/miniconda3/envs/dsi_participant/lib/python3.9/site-packages/prophet/stan_model/prophet_model.bin', 'random', 'seed=23318', 'data', 'file=/var/folders/x8/3h_bm8d17flf32mfss6sz9nm0000gn/T/tmpmpy0_6fu/94t6lk71.json', 'init=/var/folders/x8/3h_bm8d17flf32mfss6sz9nm0000gn/T/tmpmpy0_6fu/e7482oxt.json', 'output', 'file=/var/folders/x8/3h_bm8d17flf32mfss6sz9nm0000gn/T/tmpmpy0_6fu/prophet_modeluekr7gg9/prophet_model-20250724014809.csv', 'method=optimize', 'algorithm=lbfgs', 'iter=10000']\n",
      "01:48:09 - cmdstanpy - INFO - Chain [1] start processing\n",
      "INFO\tcmdstanpy:model.py:_run_cmdstan()- Chain [1] start processing\n",
      "01:48:09 - cmdstanpy - INFO - Chain [1] done processing\n",
      "INFO\tcmdstanpy:model.py:_run_cmdstan()- Chain [1] done processing\n"
     ]
    },
    {
     "data": {
      "application/vnd.plotly.v1+json": {
       "config": {
        "plotlyServerURL": "https://plot.ly"
       },
       "data": [
        {
         "line": {
          "color": "blue"
         },
         "mode": "lines",
         "name": "Historical",
         "type": "scatter",
         "x": [
          "2011-01-01T00:00:00",
          "2011-01-02T00:00:00",
          "2011-01-03T00:00:00",
          "2011-01-04T00:00:00",
          "2011-01-05T00:00:00",
          "2011-01-06T00:00:00",
          "2011-01-07T00:00:00",
          "2011-01-08T00:00:00",
          "2011-01-09T00:00:00",
          "2011-01-10T00:00:00",
          "2011-01-11T00:00:00",
          "2011-01-12T00:00:00",
          "2011-01-13T00:00:00",
          "2011-01-14T00:00:00",
          "2011-01-15T00:00:00",
          "2011-01-16T00:00:00",
          "2011-01-17T00:00:00",
          "2011-01-18T00:00:00",
          "2011-01-19T00:00:00",
          "2011-01-20T00:00:00",
          "2011-01-21T00:00:00",
          "2011-01-22T00:00:00",
          "2011-01-23T00:00:00",
          "2011-01-24T00:00:00",
          "2011-01-25T00:00:00",
          "2011-01-26T00:00:00",
          "2011-01-27T00:00:00",
          "2011-01-28T00:00:00",
          "2011-01-29T00:00:00",
          "2011-01-30T00:00:00",
          "2011-01-31T00:00:00",
          "2011-02-01T00:00:00",
          "2011-02-02T00:00:00",
          "2011-02-03T00:00:00",
          "2011-02-04T00:00:00",
          "2011-02-05T00:00:00",
          "2011-02-06T00:00:00",
          "2011-02-07T00:00:00",
          "2011-02-08T00:00:00",
          "2011-02-09T00:00:00",
          "2011-02-10T00:00:00",
          "2011-02-11T00:00:00",
          "2011-02-12T00:00:00",
          "2011-02-13T00:00:00",
          "2011-02-14T00:00:00",
          "2011-02-15T00:00:00",
          "2011-02-16T00:00:00",
          "2011-02-17T00:00:00",
          "2011-02-18T00:00:00",
          "2011-02-19T00:00:00",
          "2011-02-20T00:00:00",
          "2011-02-21T00:00:00",
          "2011-02-22T00:00:00",
          "2011-02-23T00:00:00",
          "2011-02-24T00:00:00",
          "2011-02-25T00:00:00",
          "2011-02-26T00:00:00",
          "2011-02-27T00:00:00",
          "2011-02-28T00:00:00",
          "2011-03-01T00:00:00",
          "2011-03-02T00:00:00",
          "2011-03-03T00:00:00",
          "2011-03-04T00:00:00",
          "2011-03-05T00:00:00",
          "2011-03-06T00:00:00",
          "2011-03-07T00:00:00",
          "2011-03-08T00:00:00",
          "2011-03-09T00:00:00",
          "2011-03-10T00:00:00",
          "2011-03-11T00:00:00",
          "2011-03-12T00:00:00",
          "2011-03-13T00:00:00",
          "2011-03-14T00:00:00",
          "2011-03-15T00:00:00",
          "2011-03-16T00:00:00",
          "2011-03-17T00:00:00",
          "2011-03-18T00:00:00",
          "2011-03-19T00:00:00",
          "2011-03-20T00:00:00",
          "2011-03-21T00:00:00",
          "2011-03-22T00:00:00",
          "2011-03-23T00:00:00",
          "2011-03-24T00:00:00",
          "2011-03-25T00:00:00",
          "2011-03-26T00:00:00",
          "2011-03-27T00:00:00",
          "2011-03-28T00:00:00",
          "2011-03-29T00:00:00",
          "2011-03-30T00:00:00",
          "2011-03-31T00:00:00",
          "2011-04-01T00:00:00",
          "2011-04-02T00:00:00",
          "2011-04-03T00:00:00",
          "2011-04-04T00:00:00",
          "2011-04-05T00:00:00",
          "2011-04-06T00:00:00",
          "2011-04-07T00:00:00",
          "2011-04-08T00:00:00",
          "2011-04-09T00:00:00",
          "2011-04-10T00:00:00",
          "2011-04-11T00:00:00",
          "2011-04-12T00:00:00",
          "2011-04-13T00:00:00",
          "2011-04-14T00:00:00",
          "2011-04-15T00:00:00",
          "2011-04-16T00:00:00",
          "2011-04-17T00:00:00",
          "2011-04-18T00:00:00",
          "2011-04-19T00:00:00",
          "2011-04-20T00:00:00",
          "2011-04-21T00:00:00",
          "2011-04-22T00:00:00",
          "2011-04-23T00:00:00",
          "2011-04-24T00:00:00",
          "2011-04-25T00:00:00",
          "2011-04-26T00:00:00",
          "2011-04-27T00:00:00",
          "2011-04-28T00:00:00",
          "2011-04-29T00:00:00",
          "2011-04-30T00:00:00",
          "2011-05-01T00:00:00",
          "2011-05-02T00:00:00",
          "2011-05-03T00:00:00",
          "2011-05-04T00:00:00",
          "2011-05-05T00:00:00",
          "2011-05-06T00:00:00",
          "2011-05-07T00:00:00",
          "2011-05-08T00:00:00",
          "2011-05-09T00:00:00",
          "2011-05-10T00:00:00",
          "2011-05-11T00:00:00",
          "2011-05-12T00:00:00",
          "2011-05-13T00:00:00",
          "2011-05-14T00:00:00",
          "2011-05-15T00:00:00",
          "2011-05-16T00:00:00",
          "2011-05-17T00:00:00",
          "2011-05-18T00:00:00",
          "2011-05-19T00:00:00",
          "2011-05-20T00:00:00",
          "2011-05-21T00:00:00",
          "2011-05-22T00:00:00",
          "2011-05-23T00:00:00",
          "2011-05-24T00:00:00",
          "2011-05-25T00:00:00",
          "2011-05-26T00:00:00",
          "2011-05-27T00:00:00",
          "2011-05-28T00:00:00",
          "2011-05-29T00:00:00",
          "2011-05-30T00:00:00",
          "2011-05-31T00:00:00",
          "2011-06-01T00:00:00",
          "2011-06-02T00:00:00",
          "2011-06-03T00:00:00",
          "2011-06-04T00:00:00",
          "2011-06-05T00:00:00",
          "2011-06-06T00:00:00",
          "2011-06-07T00:00:00",
          "2011-06-08T00:00:00",
          "2011-06-09T00:00:00",
          "2011-06-10T00:00:00",
          "2011-06-11T00:00:00",
          "2011-06-12T00:00:00",
          "2011-06-13T00:00:00",
          "2011-06-14T00:00:00",
          "2011-06-15T00:00:00",
          "2011-06-16T00:00:00",
          "2011-06-17T00:00:00",
          "2011-06-18T00:00:00",
          "2011-06-19T00:00:00",
          "2011-06-20T00:00:00",
          "2011-06-21T00:00:00",
          "2011-06-22T00:00:00",
          "2011-06-23T00:00:00",
          "2011-06-24T00:00:00",
          "2011-06-25T00:00:00",
          "2011-06-26T00:00:00",
          "2011-06-27T00:00:00",
          "2011-06-28T00:00:00",
          "2011-06-29T00:00:00",
          "2011-06-30T00:00:00",
          "2011-07-01T00:00:00",
          "2011-07-02T00:00:00",
          "2011-07-03T00:00:00",
          "2011-07-04T00:00:00",
          "2011-07-05T00:00:00",
          "2011-07-06T00:00:00",
          "2011-07-07T00:00:00",
          "2011-07-08T00:00:00",
          "2011-07-09T00:00:00",
          "2011-07-10T00:00:00",
          "2011-07-11T00:00:00",
          "2011-07-12T00:00:00",
          "2011-07-13T00:00:00",
          "2011-07-14T00:00:00",
          "2011-07-15T00:00:00",
          "2011-07-16T00:00:00",
          "2011-07-17T00:00:00",
          "2011-07-18T00:00:00",
          "2011-07-19T00:00:00",
          "2011-07-20T00:00:00",
          "2011-07-21T00:00:00",
          "2011-07-22T00:00:00",
          "2011-07-23T00:00:00",
          "2011-07-24T00:00:00",
          "2011-07-25T00:00:00",
          "2011-07-26T00:00:00",
          "2011-07-27T00:00:00",
          "2011-07-28T00:00:00",
          "2011-07-29T00:00:00",
          "2011-07-30T00:00:00",
          "2011-07-31T00:00:00",
          "2011-08-01T00:00:00",
          "2011-08-02T00:00:00",
          "2011-08-03T00:00:00",
          "2011-08-04T00:00:00",
          "2011-08-05T00:00:00",
          "2011-08-06T00:00:00",
          "2011-08-07T00:00:00",
          "2011-08-08T00:00:00",
          "2011-08-09T00:00:00",
          "2011-08-10T00:00:00",
          "2011-08-11T00:00:00",
          "2011-08-12T00:00:00",
          "2011-08-13T00:00:00",
          "2011-08-14T00:00:00",
          "2011-08-15T00:00:00",
          "2011-08-16T00:00:00",
          "2011-08-17T00:00:00",
          "2011-08-18T00:00:00",
          "2011-08-19T00:00:00",
          "2011-08-20T00:00:00",
          "2011-08-21T00:00:00",
          "2011-08-22T00:00:00",
          "2011-08-23T00:00:00",
          "2011-08-24T00:00:00",
          "2011-08-25T00:00:00",
          "2011-08-26T00:00:00",
          "2011-08-27T00:00:00",
          "2011-08-28T00:00:00",
          "2011-08-29T00:00:00",
          "2011-08-30T00:00:00",
          "2011-08-31T00:00:00",
          "2011-09-01T00:00:00",
          "2011-09-02T00:00:00",
          "2011-09-03T00:00:00",
          "2011-09-04T00:00:00",
          "2011-09-05T00:00:00",
          "2011-09-06T00:00:00",
          "2011-09-07T00:00:00",
          "2011-09-08T00:00:00",
          "2011-09-09T00:00:00",
          "2011-09-10T00:00:00",
          "2011-09-11T00:00:00",
          "2011-09-12T00:00:00",
          "2011-09-13T00:00:00",
          "2011-09-14T00:00:00",
          "2011-09-15T00:00:00",
          "2011-09-16T00:00:00",
          "2011-09-17T00:00:00",
          "2011-09-18T00:00:00",
          "2011-09-19T00:00:00",
          "2011-09-20T00:00:00",
          "2011-09-21T00:00:00",
          "2011-09-22T00:00:00",
          "2011-09-23T00:00:00",
          "2011-09-24T00:00:00",
          "2011-09-25T00:00:00",
          "2011-09-26T00:00:00",
          "2011-09-27T00:00:00",
          "2011-09-28T00:00:00",
          "2011-09-29T00:00:00",
          "2011-09-30T00:00:00",
          "2011-10-01T00:00:00",
          "2011-10-02T00:00:00",
          "2011-10-03T00:00:00",
          "2011-10-04T00:00:00",
          "2011-10-05T00:00:00",
          "2011-10-06T00:00:00",
          "2011-10-07T00:00:00",
          "2011-10-08T00:00:00",
          "2011-10-09T00:00:00",
          "2011-10-10T00:00:00",
          "2011-10-11T00:00:00",
          "2011-10-12T00:00:00",
          "2011-10-13T00:00:00",
          "2011-10-14T00:00:00",
          "2011-10-15T00:00:00",
          "2011-10-16T00:00:00",
          "2011-10-17T00:00:00",
          "2011-10-18T00:00:00",
          "2011-10-19T00:00:00",
          "2011-10-20T00:00:00",
          "2011-10-21T00:00:00",
          "2011-10-22T00:00:00",
          "2011-10-23T00:00:00",
          "2011-10-24T00:00:00",
          "2011-10-25T00:00:00",
          "2011-10-26T00:00:00",
          "2011-10-27T00:00:00",
          "2011-10-28T00:00:00",
          "2011-10-29T00:00:00",
          "2011-10-30T00:00:00",
          "2011-10-31T00:00:00",
          "2011-11-01T00:00:00",
          "2011-11-02T00:00:00",
          "2011-11-03T00:00:00",
          "2011-11-04T00:00:00",
          "2011-11-05T00:00:00",
          "2011-11-06T00:00:00",
          "2011-11-07T00:00:00",
          "2011-11-08T00:00:00",
          "2011-11-09T00:00:00",
          "2011-11-10T00:00:00",
          "2011-11-11T00:00:00",
          "2011-11-12T00:00:00",
          "2011-11-13T00:00:00",
          "2011-11-14T00:00:00",
          "2011-11-15T00:00:00",
          "2011-11-16T00:00:00",
          "2011-11-17T00:00:00",
          "2011-11-18T00:00:00",
          "2011-11-19T00:00:00",
          "2011-11-20T00:00:00",
          "2011-11-21T00:00:00",
          "2011-11-22T00:00:00",
          "2011-11-23T00:00:00",
          "2011-11-24T00:00:00",
          "2011-11-25T00:00:00",
          "2011-11-26T00:00:00",
          "2011-11-27T00:00:00",
          "2011-11-28T00:00:00",
          "2011-11-29T00:00:00",
          "2011-11-30T00:00:00",
          "2011-12-01T00:00:00",
          "2011-12-02T00:00:00",
          "2011-12-03T00:00:00",
          "2011-12-04T00:00:00",
          "2011-12-05T00:00:00",
          "2011-12-06T00:00:00",
          "2011-12-07T00:00:00",
          "2011-12-08T00:00:00",
          "2011-12-09T00:00:00",
          "2011-12-10T00:00:00",
          "2011-12-11T00:00:00",
          "2011-12-12T00:00:00",
          "2011-12-13T00:00:00",
          "2011-12-14T00:00:00",
          "2011-12-15T00:00:00",
          "2011-12-16T00:00:00",
          "2011-12-17T00:00:00",
          "2011-12-18T00:00:00",
          "2011-12-19T00:00:00",
          "2011-12-20T00:00:00",
          "2011-12-21T00:00:00",
          "2011-12-22T00:00:00",
          "2011-12-23T00:00:00",
          "2011-12-24T00:00:00",
          "2011-12-25T00:00:00",
          "2011-12-26T00:00:00",
          "2011-12-27T00:00:00",
          "2011-12-28T00:00:00",
          "2011-12-29T00:00:00",
          "2011-12-30T00:00:00",
          "2011-12-31T00:00:00",
          "2012-01-01T00:00:00",
          "2012-01-02T00:00:00",
          "2012-01-03T00:00:00",
          "2012-01-04T00:00:00",
          "2012-01-05T00:00:00",
          "2012-01-06T00:00:00",
          "2012-01-07T00:00:00",
          "2012-01-08T00:00:00",
          "2012-01-09T00:00:00",
          "2012-01-10T00:00:00",
          "2012-01-11T00:00:00",
          "2012-01-12T00:00:00",
          "2012-01-13T00:00:00",
          "2012-01-14T00:00:00",
          "2012-01-15T00:00:00",
          "2012-01-16T00:00:00",
          "2012-01-17T00:00:00",
          "2012-01-18T00:00:00",
          "2012-01-19T00:00:00",
          "2012-01-20T00:00:00",
          "2012-01-21T00:00:00",
          "2012-01-22T00:00:00",
          "2012-01-23T00:00:00",
          "2012-01-24T00:00:00",
          "2012-01-25T00:00:00",
          "2012-01-26T00:00:00",
          "2012-01-27T00:00:00",
          "2012-01-28T00:00:00",
          "2012-01-29T00:00:00",
          "2012-01-30T00:00:00",
          "2012-01-31T00:00:00",
          "2012-02-01T00:00:00",
          "2012-02-02T00:00:00",
          "2012-02-03T00:00:00",
          "2012-02-04T00:00:00",
          "2012-02-05T00:00:00",
          "2012-02-06T00:00:00",
          "2012-02-07T00:00:00",
          "2012-02-08T00:00:00",
          "2012-02-09T00:00:00",
          "2012-02-10T00:00:00",
          "2012-02-11T00:00:00",
          "2012-02-12T00:00:00",
          "2012-02-13T00:00:00",
          "2012-02-14T00:00:00",
          "2012-02-15T00:00:00",
          "2012-02-16T00:00:00",
          "2012-02-17T00:00:00",
          "2012-02-18T00:00:00",
          "2012-02-19T00:00:00",
          "2012-02-20T00:00:00",
          "2012-02-21T00:00:00",
          "2012-02-22T00:00:00",
          "2012-02-23T00:00:00",
          "2012-02-24T00:00:00",
          "2012-02-25T00:00:00",
          "2012-02-26T00:00:00",
          "2012-02-27T00:00:00",
          "2012-02-28T00:00:00",
          "2012-02-29T00:00:00",
          "2012-03-01T00:00:00",
          "2012-03-02T00:00:00",
          "2012-03-03T00:00:00",
          "2012-03-04T00:00:00",
          "2012-03-05T00:00:00",
          "2012-03-06T00:00:00",
          "2012-03-07T00:00:00",
          "2012-03-08T00:00:00",
          "2012-03-09T00:00:00",
          "2012-03-10T00:00:00",
          "2012-03-11T00:00:00",
          "2012-03-12T00:00:00",
          "2012-03-13T00:00:00",
          "2012-03-14T00:00:00",
          "2012-03-15T00:00:00",
          "2012-03-16T00:00:00",
          "2012-03-17T00:00:00",
          "2012-03-18T00:00:00",
          "2012-03-19T00:00:00",
          "2012-03-20T00:00:00",
          "2012-03-21T00:00:00",
          "2012-03-22T00:00:00",
          "2012-03-23T00:00:00",
          "2012-03-24T00:00:00",
          "2012-03-25T00:00:00",
          "2012-03-26T00:00:00",
          "2012-03-27T00:00:00",
          "2012-03-28T00:00:00",
          "2012-03-29T00:00:00",
          "2012-03-30T00:00:00",
          "2012-03-31T00:00:00",
          "2012-04-01T00:00:00",
          "2012-04-02T00:00:00",
          "2012-04-03T00:00:00",
          "2012-04-04T00:00:00",
          "2012-04-05T00:00:00",
          "2012-04-06T00:00:00",
          "2012-04-07T00:00:00",
          "2012-04-08T00:00:00",
          "2012-04-09T00:00:00",
          "2012-04-10T00:00:00",
          "2012-04-11T00:00:00",
          "2012-04-12T00:00:00",
          "2012-04-13T00:00:00",
          "2012-04-14T00:00:00",
          "2012-04-15T00:00:00",
          "2012-04-16T00:00:00",
          "2012-04-17T00:00:00",
          "2012-04-18T00:00:00",
          "2012-04-19T00:00:00",
          "2012-04-20T00:00:00",
          "2012-04-21T00:00:00",
          "2012-04-22T00:00:00",
          "2012-04-23T00:00:00",
          "2012-04-24T00:00:00",
          "2012-04-25T00:00:00",
          "2012-04-26T00:00:00",
          "2012-04-27T00:00:00",
          "2012-04-28T00:00:00",
          "2012-04-29T00:00:00",
          "2012-04-30T00:00:00",
          "2012-05-01T00:00:00",
          "2012-05-02T00:00:00",
          "2012-05-03T00:00:00",
          "2012-05-04T00:00:00",
          "2012-05-05T00:00:00",
          "2012-05-06T00:00:00",
          "2012-05-07T00:00:00",
          "2012-05-08T00:00:00",
          "2012-05-09T00:00:00",
          "2012-05-10T00:00:00",
          "2012-05-11T00:00:00",
          "2012-05-12T00:00:00",
          "2012-05-13T00:00:00",
          "2012-05-14T00:00:00",
          "2012-05-15T00:00:00",
          "2012-05-16T00:00:00",
          "2012-05-17T00:00:00",
          "2012-05-18T00:00:00",
          "2012-05-19T00:00:00",
          "2012-05-20T00:00:00",
          "2012-05-21T00:00:00",
          "2012-05-22T00:00:00",
          "2012-05-23T00:00:00",
          "2012-05-24T00:00:00",
          "2012-05-25T00:00:00",
          "2012-05-26T00:00:00",
          "2012-05-27T00:00:00",
          "2012-05-28T00:00:00",
          "2012-05-29T00:00:00",
          "2012-05-30T00:00:00",
          "2012-05-31T00:00:00",
          "2012-06-01T00:00:00",
          "2012-06-02T00:00:00",
          "2012-06-03T00:00:00",
          "2012-06-04T00:00:00",
          "2012-06-05T00:00:00",
          "2012-06-06T00:00:00",
          "2012-06-07T00:00:00",
          "2012-06-08T00:00:00",
          "2012-06-09T00:00:00",
          "2012-06-10T00:00:00",
          "2012-06-11T00:00:00",
          "2012-06-12T00:00:00",
          "2012-06-13T00:00:00",
          "2012-06-14T00:00:00",
          "2012-06-15T00:00:00",
          "2012-06-16T00:00:00",
          "2012-06-17T00:00:00",
          "2012-06-18T00:00:00",
          "2012-06-19T00:00:00",
          "2012-06-20T00:00:00",
          "2012-06-21T00:00:00",
          "2012-06-22T00:00:00",
          "2012-06-23T00:00:00",
          "2012-06-24T00:00:00",
          "2012-06-25T00:00:00",
          "2012-06-26T00:00:00",
          "2012-06-27T00:00:00",
          "2012-06-28T00:00:00",
          "2012-06-29T00:00:00",
          "2012-06-30T00:00:00",
          "2012-07-01T00:00:00",
          "2012-07-02T00:00:00",
          "2012-07-03T00:00:00",
          "2012-07-04T00:00:00",
          "2012-07-05T00:00:00",
          "2012-07-06T00:00:00",
          "2012-07-07T00:00:00",
          "2012-07-08T00:00:00",
          "2012-07-09T00:00:00",
          "2012-07-10T00:00:00",
          "2012-07-11T00:00:00",
          "2012-07-12T00:00:00",
          "2012-07-13T00:00:00",
          "2012-07-14T00:00:00",
          "2012-07-15T00:00:00",
          "2012-07-16T00:00:00",
          "2012-07-17T00:00:00",
          "2012-07-18T00:00:00",
          "2012-07-19T00:00:00",
          "2012-07-20T00:00:00",
          "2012-07-21T00:00:00",
          "2012-07-22T00:00:00",
          "2012-07-23T00:00:00",
          "2012-07-24T00:00:00",
          "2012-07-25T00:00:00",
          "2012-07-26T00:00:00",
          "2012-07-27T00:00:00",
          "2012-07-28T00:00:00",
          "2012-07-29T00:00:00",
          "2012-07-30T00:00:00",
          "2012-07-31T00:00:00",
          "2012-08-01T00:00:00",
          "2012-08-02T00:00:00",
          "2012-08-03T00:00:00",
          "2012-08-04T00:00:00",
          "2012-08-05T00:00:00",
          "2012-08-06T00:00:00",
          "2012-08-07T00:00:00",
          "2012-08-08T00:00:00",
          "2012-08-09T00:00:00",
          "2012-08-10T00:00:00",
          "2012-08-11T00:00:00",
          "2012-08-12T00:00:00",
          "2012-08-13T00:00:00",
          "2012-08-14T00:00:00",
          "2012-08-15T00:00:00",
          "2012-08-16T00:00:00",
          "2012-08-17T00:00:00",
          "2012-08-18T00:00:00",
          "2012-08-19T00:00:00",
          "2012-08-20T00:00:00",
          "2012-08-21T00:00:00",
          "2012-08-22T00:00:00",
          "2012-08-23T00:00:00",
          "2012-08-24T00:00:00",
          "2012-08-25T00:00:00",
          "2012-08-26T00:00:00",
          "2012-08-27T00:00:00",
          "2012-08-28T00:00:00",
          "2012-08-29T00:00:00",
          "2012-08-30T00:00:00",
          "2012-08-31T00:00:00",
          "2012-09-01T00:00:00",
          "2012-09-02T00:00:00",
          "2012-09-03T00:00:00",
          "2012-09-04T00:00:00",
          "2012-09-05T00:00:00",
          "2012-09-06T00:00:00",
          "2012-09-07T00:00:00",
          "2012-09-08T00:00:00",
          "2012-09-09T00:00:00",
          "2012-09-10T00:00:00",
          "2012-09-11T00:00:00",
          "2012-09-12T00:00:00",
          "2012-09-13T00:00:00",
          "2012-09-14T00:00:00",
          "2012-09-15T00:00:00",
          "2012-09-16T00:00:00",
          "2012-09-17T00:00:00",
          "2012-09-18T00:00:00",
          "2012-09-19T00:00:00",
          "2012-09-20T00:00:00",
          "2012-09-21T00:00:00",
          "2012-09-22T00:00:00",
          "2012-09-23T00:00:00",
          "2012-09-24T00:00:00",
          "2012-09-25T00:00:00",
          "2012-09-26T00:00:00",
          "2012-09-27T00:00:00",
          "2012-09-28T00:00:00",
          "2012-09-29T00:00:00",
          "2012-09-30T00:00:00",
          "2012-10-01T00:00:00",
          "2012-10-02T00:00:00",
          "2012-10-03T00:00:00",
          "2012-10-04T00:00:00",
          "2012-10-05T00:00:00",
          "2012-10-06T00:00:00",
          "2012-10-07T00:00:00",
          "2012-10-08T00:00:00",
          "2012-10-09T00:00:00",
          "2012-10-10T00:00:00",
          "2012-10-11T00:00:00",
          "2012-10-12T00:00:00",
          "2012-10-13T00:00:00",
          "2012-10-14T00:00:00",
          "2012-10-15T00:00:00",
          "2012-10-16T00:00:00",
          "2012-10-17T00:00:00",
          "2012-10-18T00:00:00",
          "2012-10-19T00:00:00",
          "2012-10-20T00:00:00",
          "2012-10-21T00:00:00",
          "2012-10-22T00:00:00",
          "2012-10-23T00:00:00",
          "2012-10-24T00:00:00",
          "2012-10-25T00:00:00",
          "2012-10-26T00:00:00",
          "2012-10-27T00:00:00",
          "2012-10-28T00:00:00",
          "2012-10-29T00:00:00",
          "2012-10-30T00:00:00",
          "2012-10-31T00:00:00",
          "2012-11-01T00:00:00",
          "2012-11-02T00:00:00",
          "2012-11-03T00:00:00",
          "2012-11-04T00:00:00",
          "2012-11-05T00:00:00",
          "2012-11-06T00:00:00",
          "2012-11-07T00:00:00",
          "2012-11-08T00:00:00",
          "2012-11-09T00:00:00",
          "2012-11-10T00:00:00",
          "2012-11-11T00:00:00",
          "2012-11-12T00:00:00",
          "2012-11-13T00:00:00",
          "2012-11-14T00:00:00",
          "2012-11-15T00:00:00",
          "2012-11-16T00:00:00",
          "2012-11-17T00:00:00",
          "2012-11-18T00:00:00",
          "2012-11-19T00:00:00",
          "2012-11-20T00:00:00",
          "2012-11-21T00:00:00",
          "2012-11-22T00:00:00",
          "2012-11-23T00:00:00",
          "2012-11-24T00:00:00",
          "2012-11-25T00:00:00",
          "2012-11-26T00:00:00",
          "2012-11-27T00:00:00",
          "2012-11-28T00:00:00",
          "2012-11-29T00:00:00",
          "2012-11-30T00:00:00",
          "2012-12-01T00:00:00",
          "2012-12-02T00:00:00",
          "2012-12-03T00:00:00",
          "2012-12-04T00:00:00",
          "2012-12-05T00:00:00",
          "2012-12-06T00:00:00",
          "2012-12-07T00:00:00",
          "2012-12-08T00:00:00",
          "2012-12-09T00:00:00",
          "2012-12-10T00:00:00",
          "2012-12-11T00:00:00",
          "2012-12-12T00:00:00",
          "2012-12-13T00:00:00",
          "2012-12-14T00:00:00",
          "2012-12-15T00:00:00",
          "2012-12-16T00:00:00",
          "2012-12-17T00:00:00",
          "2012-12-18T00:00:00",
          "2012-12-19T00:00:00",
          "2012-12-20T00:00:00",
          "2012-12-21T00:00:00",
          "2012-12-22T00:00:00",
          "2012-12-23T00:00:00",
          "2012-12-24T00:00:00",
          "2012-12-25T00:00:00",
          "2012-12-26T00:00:00",
          "2012-12-27T00:00:00",
          "2012-12-28T00:00:00",
          "2012-12-29T00:00:00",
          "2012-12-30T00:00:00",
          "2012-12-31T00:00:00"
         ],
         "y": {
          "bdata": "2QMhA0UFGgZABkYG5gW/AzYDKQXvBIoEfgWNBeAEtAToA6sCcgaHBwcG1QPaA4gFwQf6Aa8BjwRKBEgE3QVQBfYFDgasBu0DVwawBvoFRQYCBtIGwAU1BnkHFwdDCKsJbwtjBhQHUwSqBX0HDwe1BbEHYgmmBTsHVgiVBpgHHQhdAlAHVQhjB28CuQdUCHEJ/gcICJAIuAqnDC0MpwkdCI8KSQhJB6IIwAmdBuwHeQkABpUGswjMCLEMKwwDB/gKRQy/BZcJTwsUDfIHcgjDDDYMGwOgDmUNhAxoD10QkwbED18Q6Q8wESAP2g/zEcAUFw0xEWMRSQpREQASahLtEAoRwxJWEAATCRBRDckRdg8bEA8P3xE1E60WNBKyEIwRchNFEkcSlhK0EgIQjg+GD2gTwBTeFCoTxBHhEjERSw/qEWYTbBGcExsTPBS3DuwS/xOIEqoP4xKbEbYSfxNSFLkUZBIoEmkUixXyFP8TKRKbFzkSFRLwEcgP2BQRE/YPohD2ENwTohUjF7YUahG9EewQyA47DdUMFg4AD+4RMBImEQYPexHOEKoQ7RL2DeARAhPGEMkO5hD6EawSuBIpEzYQ7A7yEHUSVhLdDjkQRxQhD5YSBxcKFNYNNRJbBO4QGhJUFMIT+xN3EoQRTBMXDZYKzAcyB9gN4RS2E2kSmxKxEksOmBKfEbIQuxE5DgARuxJbCS8VkhMWEhgQQw/nElIUfQlmC/INaBHaEp0SeRMhFYcV/RPTEXAJYQs8DmEUsRPaEYwSeAljENAQ1BAdEVsQTxI2D2MKow5zAgMNVQ7kD1oQhg/OD1YPQQ7DD20QDRB1CygN4w+FDoYRYxAZB+0LQA1PDsANzQpHBgYK1wXoCvwL/wsbD2ILHQ6PDmQPHg6dDeMOIgrBAvoMJA52DLcK7gzDDZwOfQ75DbMKfwlLDaYOZAr8C6EI8wPyAiUFigT+CHcJtwu1CfYInwe8CEAJyAwCEKkRYQ1ICQ4OgQgBEI4MvQkHCfoIdwswDdwMWwwVBbkHgAnzEK4Q6w+ADbcPqwwoDp0R4xGxDjcQEAuDC8gOFxHyCvYO9w55CPkFXg1SD0kQvQs6EN4QgQo5DMEOpRLGE58NrAo9DeIQCxEqB34TegziD18NBQ10DzQTBhXZERYQLxOyFNcWqBgwGBoRnB4EFwkYzRdWGNcaqiAsDYQTthXuE0IW9RdTFVsYmRcwF3QaJBk5GTwZyRoxFNEVHhf+EiEV/hgkHdwb4hgjGg8RpRl6HOAZAwSODAEWNBiiE1kYfBCgGMQVbBYZGBUZmBjjGtcYgRhgFm0SrBl2GwUd5hcbC/sTAB3YHNcdZiDZGwcRuReMFHIaThqIGb8ZmxdvFscaqhwfELgf2R1WG1kbjxtGHTgeSh3GGQgabBP9HMMc8R0WHkIb6xOpGkMYERe/FiId6xp7GhIdpxzfGlcVNxabFVMYBBrrHGEYPxjoEkASqRmSGGAcFh1LHTkbjxeuGoIaURa/Ge4WaxHyHDYbqB3tH80a+BodGsUZwRswHJwdXRwHHKgaWBVlG2kcbh12HJoWmxiQGeMagBqzHLUd7Bu5HsURghleG88cVR6eHaUXhxQFG4AbER4hHrYc/BeyFpIX0BrIGzsYUB1YFyMgZR1XHr4efB5JHwoipRzVGukPpx0oHucfyyDjHgwdch01HuEc9xxrIekaehofEpQdoBzcHx0ftg1mFfgYCx6SHXIcxRvvGfMWbh0lHVUdMBWaH6gakhsqHQ0evxwUHaweaxEWAEgEvhViF9cWEhTzE4sUNharE8MUaBeIGcQafRj+D3cVRRVCFv0VPRJ7FQIWGhR5CUYP5Qh4Cd8Tdw+MFMsUJBZHFCkSWhjOGWEW/xSQE84VnAwyFH0VxxScFesVtxPKDukRtRWTFCAQJw7VBvsGmAP1A7kBQggXDD0FBAepCg==",
          "dtype": "i2"
         }
        },
        {
         "line": {
          "color": "orange"
         },
         "mode": "lines",
         "name": "Forecast",
         "type": "scatter",
         "x": [
          "2011-01-01T00:00:00",
          "2011-01-02T00:00:00",
          "2011-01-03T00:00:00",
          "2011-01-04T00:00:00",
          "2011-01-05T00:00:00",
          "2011-01-06T00:00:00",
          "2011-01-07T00:00:00",
          "2011-01-08T00:00:00",
          "2011-01-09T00:00:00",
          "2011-01-10T00:00:00",
          "2011-01-11T00:00:00",
          "2011-01-12T00:00:00",
          "2011-01-13T00:00:00",
          "2011-01-14T00:00:00",
          "2011-01-15T00:00:00",
          "2011-01-16T00:00:00",
          "2011-01-17T00:00:00",
          "2011-01-18T00:00:00",
          "2011-01-19T00:00:00",
          "2011-01-20T00:00:00",
          "2011-01-21T00:00:00",
          "2011-01-22T00:00:00",
          "2011-01-23T00:00:00",
          "2011-01-24T00:00:00",
          "2011-01-25T00:00:00",
          "2011-01-26T00:00:00",
          "2011-01-27T00:00:00",
          "2011-01-28T00:00:00",
          "2011-01-29T00:00:00",
          "2011-01-30T00:00:00",
          "2011-01-31T00:00:00",
          "2011-02-01T00:00:00",
          "2011-02-02T00:00:00",
          "2011-02-03T00:00:00",
          "2011-02-04T00:00:00",
          "2011-02-05T00:00:00",
          "2011-02-06T00:00:00",
          "2011-02-07T00:00:00",
          "2011-02-08T00:00:00",
          "2011-02-09T00:00:00",
          "2011-02-10T00:00:00",
          "2011-02-11T00:00:00",
          "2011-02-12T00:00:00",
          "2011-02-13T00:00:00",
          "2011-02-14T00:00:00",
          "2011-02-15T00:00:00",
          "2011-02-16T00:00:00",
          "2011-02-17T00:00:00",
          "2011-02-18T00:00:00",
          "2011-02-19T00:00:00",
          "2011-02-20T00:00:00",
          "2011-02-21T00:00:00",
          "2011-02-22T00:00:00",
          "2011-02-23T00:00:00",
          "2011-02-24T00:00:00",
          "2011-02-25T00:00:00",
          "2011-02-26T00:00:00",
          "2011-02-27T00:00:00",
          "2011-02-28T00:00:00",
          "2011-03-01T00:00:00",
          "2011-03-02T00:00:00",
          "2011-03-03T00:00:00",
          "2011-03-04T00:00:00",
          "2011-03-05T00:00:00",
          "2011-03-06T00:00:00",
          "2011-03-07T00:00:00",
          "2011-03-08T00:00:00",
          "2011-03-09T00:00:00",
          "2011-03-10T00:00:00",
          "2011-03-11T00:00:00",
          "2011-03-12T00:00:00",
          "2011-03-13T00:00:00",
          "2011-03-14T00:00:00",
          "2011-03-15T00:00:00",
          "2011-03-16T00:00:00",
          "2011-03-17T00:00:00",
          "2011-03-18T00:00:00",
          "2011-03-19T00:00:00",
          "2011-03-20T00:00:00",
          "2011-03-21T00:00:00",
          "2011-03-22T00:00:00",
          "2011-03-23T00:00:00",
          "2011-03-24T00:00:00",
          "2011-03-25T00:00:00",
          "2011-03-26T00:00:00",
          "2011-03-27T00:00:00",
          "2011-03-28T00:00:00",
          "2011-03-29T00:00:00",
          "2011-03-30T00:00:00",
          "2011-03-31T00:00:00",
          "2011-04-01T00:00:00",
          "2011-04-02T00:00:00",
          "2011-04-03T00:00:00",
          "2011-04-04T00:00:00",
          "2011-04-05T00:00:00",
          "2011-04-06T00:00:00",
          "2011-04-07T00:00:00",
          "2011-04-08T00:00:00",
          "2011-04-09T00:00:00",
          "2011-04-10T00:00:00",
          "2011-04-11T00:00:00",
          "2011-04-12T00:00:00",
          "2011-04-13T00:00:00",
          "2011-04-14T00:00:00",
          "2011-04-15T00:00:00",
          "2011-04-16T00:00:00",
          "2011-04-17T00:00:00",
          "2011-04-18T00:00:00",
          "2011-04-19T00:00:00",
          "2011-04-20T00:00:00",
          "2011-04-21T00:00:00",
          "2011-04-22T00:00:00",
          "2011-04-23T00:00:00",
          "2011-04-24T00:00:00",
          "2011-04-25T00:00:00",
          "2011-04-26T00:00:00",
          "2011-04-27T00:00:00",
          "2011-04-28T00:00:00",
          "2011-04-29T00:00:00",
          "2011-04-30T00:00:00",
          "2011-05-01T00:00:00",
          "2011-05-02T00:00:00",
          "2011-05-03T00:00:00",
          "2011-05-04T00:00:00",
          "2011-05-05T00:00:00",
          "2011-05-06T00:00:00",
          "2011-05-07T00:00:00",
          "2011-05-08T00:00:00",
          "2011-05-09T00:00:00",
          "2011-05-10T00:00:00",
          "2011-05-11T00:00:00",
          "2011-05-12T00:00:00",
          "2011-05-13T00:00:00",
          "2011-05-14T00:00:00",
          "2011-05-15T00:00:00",
          "2011-05-16T00:00:00",
          "2011-05-17T00:00:00",
          "2011-05-18T00:00:00",
          "2011-05-19T00:00:00",
          "2011-05-20T00:00:00",
          "2011-05-21T00:00:00",
          "2011-05-22T00:00:00",
          "2011-05-23T00:00:00",
          "2011-05-24T00:00:00",
          "2011-05-25T00:00:00",
          "2011-05-26T00:00:00",
          "2011-05-27T00:00:00",
          "2011-05-28T00:00:00",
          "2011-05-29T00:00:00",
          "2011-05-30T00:00:00",
          "2011-05-31T00:00:00",
          "2011-06-01T00:00:00",
          "2011-06-02T00:00:00",
          "2011-06-03T00:00:00",
          "2011-06-04T00:00:00",
          "2011-06-05T00:00:00",
          "2011-06-06T00:00:00",
          "2011-06-07T00:00:00",
          "2011-06-08T00:00:00",
          "2011-06-09T00:00:00",
          "2011-06-10T00:00:00",
          "2011-06-11T00:00:00",
          "2011-06-12T00:00:00",
          "2011-06-13T00:00:00",
          "2011-06-14T00:00:00",
          "2011-06-15T00:00:00",
          "2011-06-16T00:00:00",
          "2011-06-17T00:00:00",
          "2011-06-18T00:00:00",
          "2011-06-19T00:00:00",
          "2011-06-20T00:00:00",
          "2011-06-21T00:00:00",
          "2011-06-22T00:00:00",
          "2011-06-23T00:00:00",
          "2011-06-24T00:00:00",
          "2011-06-25T00:00:00",
          "2011-06-26T00:00:00",
          "2011-06-27T00:00:00",
          "2011-06-28T00:00:00",
          "2011-06-29T00:00:00",
          "2011-06-30T00:00:00",
          "2011-07-01T00:00:00",
          "2011-07-02T00:00:00",
          "2011-07-03T00:00:00",
          "2011-07-04T00:00:00",
          "2011-07-05T00:00:00",
          "2011-07-06T00:00:00",
          "2011-07-07T00:00:00",
          "2011-07-08T00:00:00",
          "2011-07-09T00:00:00",
          "2011-07-10T00:00:00",
          "2011-07-11T00:00:00",
          "2011-07-12T00:00:00",
          "2011-07-13T00:00:00",
          "2011-07-14T00:00:00",
          "2011-07-15T00:00:00",
          "2011-07-16T00:00:00",
          "2011-07-17T00:00:00",
          "2011-07-18T00:00:00",
          "2011-07-19T00:00:00",
          "2011-07-20T00:00:00",
          "2011-07-21T00:00:00",
          "2011-07-22T00:00:00",
          "2011-07-23T00:00:00",
          "2011-07-24T00:00:00",
          "2011-07-25T00:00:00",
          "2011-07-26T00:00:00",
          "2011-07-27T00:00:00",
          "2011-07-28T00:00:00",
          "2011-07-29T00:00:00",
          "2011-07-30T00:00:00",
          "2011-07-31T00:00:00",
          "2011-08-01T00:00:00",
          "2011-08-02T00:00:00",
          "2011-08-03T00:00:00",
          "2011-08-04T00:00:00",
          "2011-08-05T00:00:00",
          "2011-08-06T00:00:00",
          "2011-08-07T00:00:00",
          "2011-08-08T00:00:00",
          "2011-08-09T00:00:00",
          "2011-08-10T00:00:00",
          "2011-08-11T00:00:00",
          "2011-08-12T00:00:00",
          "2011-08-13T00:00:00",
          "2011-08-14T00:00:00",
          "2011-08-15T00:00:00",
          "2011-08-16T00:00:00",
          "2011-08-17T00:00:00",
          "2011-08-18T00:00:00",
          "2011-08-19T00:00:00",
          "2011-08-20T00:00:00",
          "2011-08-21T00:00:00",
          "2011-08-22T00:00:00",
          "2011-08-23T00:00:00",
          "2011-08-24T00:00:00",
          "2011-08-25T00:00:00",
          "2011-08-26T00:00:00",
          "2011-08-27T00:00:00",
          "2011-08-28T00:00:00",
          "2011-08-29T00:00:00",
          "2011-08-30T00:00:00",
          "2011-08-31T00:00:00",
          "2011-09-01T00:00:00",
          "2011-09-02T00:00:00",
          "2011-09-03T00:00:00",
          "2011-09-04T00:00:00",
          "2011-09-05T00:00:00",
          "2011-09-06T00:00:00",
          "2011-09-07T00:00:00",
          "2011-09-08T00:00:00",
          "2011-09-09T00:00:00",
          "2011-09-10T00:00:00",
          "2011-09-11T00:00:00",
          "2011-09-12T00:00:00",
          "2011-09-13T00:00:00",
          "2011-09-14T00:00:00",
          "2011-09-15T00:00:00",
          "2011-09-16T00:00:00",
          "2011-09-17T00:00:00",
          "2011-09-18T00:00:00",
          "2011-09-19T00:00:00",
          "2011-09-20T00:00:00",
          "2011-09-21T00:00:00",
          "2011-09-22T00:00:00",
          "2011-09-23T00:00:00",
          "2011-09-24T00:00:00",
          "2011-09-25T00:00:00",
          "2011-09-26T00:00:00",
          "2011-09-27T00:00:00",
          "2011-09-28T00:00:00",
          "2011-09-29T00:00:00",
          "2011-09-30T00:00:00",
          "2011-10-01T00:00:00",
          "2011-10-02T00:00:00",
          "2011-10-03T00:00:00",
          "2011-10-04T00:00:00",
          "2011-10-05T00:00:00",
          "2011-10-06T00:00:00",
          "2011-10-07T00:00:00",
          "2011-10-08T00:00:00",
          "2011-10-09T00:00:00",
          "2011-10-10T00:00:00",
          "2011-10-11T00:00:00",
          "2011-10-12T00:00:00",
          "2011-10-13T00:00:00",
          "2011-10-14T00:00:00",
          "2011-10-15T00:00:00",
          "2011-10-16T00:00:00",
          "2011-10-17T00:00:00",
          "2011-10-18T00:00:00",
          "2011-10-19T00:00:00",
          "2011-10-20T00:00:00",
          "2011-10-21T00:00:00",
          "2011-10-22T00:00:00",
          "2011-10-23T00:00:00",
          "2011-10-24T00:00:00",
          "2011-10-25T00:00:00",
          "2011-10-26T00:00:00",
          "2011-10-27T00:00:00",
          "2011-10-28T00:00:00",
          "2011-10-29T00:00:00",
          "2011-10-30T00:00:00",
          "2011-10-31T00:00:00",
          "2011-11-01T00:00:00",
          "2011-11-02T00:00:00",
          "2011-11-03T00:00:00",
          "2011-11-04T00:00:00",
          "2011-11-05T00:00:00",
          "2011-11-06T00:00:00",
          "2011-11-07T00:00:00",
          "2011-11-08T00:00:00",
          "2011-11-09T00:00:00",
          "2011-11-10T00:00:00",
          "2011-11-11T00:00:00",
          "2011-11-12T00:00:00",
          "2011-11-13T00:00:00",
          "2011-11-14T00:00:00",
          "2011-11-15T00:00:00",
          "2011-11-16T00:00:00",
          "2011-11-17T00:00:00",
          "2011-11-18T00:00:00",
          "2011-11-19T00:00:00",
          "2011-11-20T00:00:00",
          "2011-11-21T00:00:00",
          "2011-11-22T00:00:00",
          "2011-11-23T00:00:00",
          "2011-11-24T00:00:00",
          "2011-11-25T00:00:00",
          "2011-11-26T00:00:00",
          "2011-11-27T00:00:00",
          "2011-11-28T00:00:00",
          "2011-11-29T00:00:00",
          "2011-11-30T00:00:00",
          "2011-12-01T00:00:00",
          "2011-12-02T00:00:00",
          "2011-12-03T00:00:00",
          "2011-12-04T00:00:00",
          "2011-12-05T00:00:00",
          "2011-12-06T00:00:00",
          "2011-12-07T00:00:00",
          "2011-12-08T00:00:00",
          "2011-12-09T00:00:00",
          "2011-12-10T00:00:00",
          "2011-12-11T00:00:00",
          "2011-12-12T00:00:00",
          "2011-12-13T00:00:00",
          "2011-12-14T00:00:00",
          "2011-12-15T00:00:00",
          "2011-12-16T00:00:00",
          "2011-12-17T00:00:00",
          "2011-12-18T00:00:00",
          "2011-12-19T00:00:00",
          "2011-12-20T00:00:00",
          "2011-12-21T00:00:00",
          "2011-12-22T00:00:00",
          "2011-12-23T00:00:00",
          "2011-12-24T00:00:00",
          "2011-12-25T00:00:00",
          "2011-12-26T00:00:00",
          "2011-12-27T00:00:00",
          "2011-12-28T00:00:00",
          "2011-12-29T00:00:00",
          "2011-12-30T00:00:00",
          "2011-12-31T00:00:00",
          "2012-01-01T00:00:00",
          "2012-01-02T00:00:00",
          "2012-01-03T00:00:00",
          "2012-01-04T00:00:00",
          "2012-01-05T00:00:00",
          "2012-01-06T00:00:00",
          "2012-01-07T00:00:00",
          "2012-01-08T00:00:00",
          "2012-01-09T00:00:00",
          "2012-01-10T00:00:00",
          "2012-01-11T00:00:00",
          "2012-01-12T00:00:00",
          "2012-01-13T00:00:00",
          "2012-01-14T00:00:00",
          "2012-01-15T00:00:00",
          "2012-01-16T00:00:00",
          "2012-01-17T00:00:00",
          "2012-01-18T00:00:00",
          "2012-01-19T00:00:00",
          "2012-01-20T00:00:00",
          "2012-01-21T00:00:00",
          "2012-01-22T00:00:00",
          "2012-01-23T00:00:00",
          "2012-01-24T00:00:00",
          "2012-01-25T00:00:00",
          "2012-01-26T00:00:00",
          "2012-01-27T00:00:00",
          "2012-01-28T00:00:00",
          "2012-01-29T00:00:00",
          "2012-01-30T00:00:00",
          "2012-01-31T00:00:00",
          "2012-02-01T00:00:00",
          "2012-02-02T00:00:00",
          "2012-02-03T00:00:00",
          "2012-02-04T00:00:00",
          "2012-02-05T00:00:00",
          "2012-02-06T00:00:00",
          "2012-02-07T00:00:00",
          "2012-02-08T00:00:00",
          "2012-02-09T00:00:00",
          "2012-02-10T00:00:00",
          "2012-02-11T00:00:00",
          "2012-02-12T00:00:00",
          "2012-02-13T00:00:00",
          "2012-02-14T00:00:00",
          "2012-02-15T00:00:00",
          "2012-02-16T00:00:00",
          "2012-02-17T00:00:00",
          "2012-02-18T00:00:00",
          "2012-02-19T00:00:00",
          "2012-02-20T00:00:00",
          "2012-02-21T00:00:00",
          "2012-02-22T00:00:00",
          "2012-02-23T00:00:00",
          "2012-02-24T00:00:00",
          "2012-02-25T00:00:00",
          "2012-02-26T00:00:00",
          "2012-02-27T00:00:00",
          "2012-02-28T00:00:00",
          "2012-02-29T00:00:00",
          "2012-03-01T00:00:00",
          "2012-03-02T00:00:00",
          "2012-03-03T00:00:00",
          "2012-03-04T00:00:00",
          "2012-03-05T00:00:00",
          "2012-03-06T00:00:00",
          "2012-03-07T00:00:00",
          "2012-03-08T00:00:00",
          "2012-03-09T00:00:00",
          "2012-03-10T00:00:00",
          "2012-03-11T00:00:00",
          "2012-03-12T00:00:00",
          "2012-03-13T00:00:00",
          "2012-03-14T00:00:00",
          "2012-03-15T00:00:00",
          "2012-03-16T00:00:00",
          "2012-03-17T00:00:00",
          "2012-03-18T00:00:00",
          "2012-03-19T00:00:00",
          "2012-03-20T00:00:00",
          "2012-03-21T00:00:00",
          "2012-03-22T00:00:00",
          "2012-03-23T00:00:00",
          "2012-03-24T00:00:00",
          "2012-03-25T00:00:00",
          "2012-03-26T00:00:00",
          "2012-03-27T00:00:00",
          "2012-03-28T00:00:00",
          "2012-03-29T00:00:00",
          "2012-03-30T00:00:00",
          "2012-03-31T00:00:00",
          "2012-04-01T00:00:00",
          "2012-04-02T00:00:00",
          "2012-04-03T00:00:00",
          "2012-04-04T00:00:00",
          "2012-04-05T00:00:00",
          "2012-04-06T00:00:00",
          "2012-04-07T00:00:00",
          "2012-04-08T00:00:00",
          "2012-04-09T00:00:00",
          "2012-04-10T00:00:00",
          "2012-04-11T00:00:00",
          "2012-04-12T00:00:00",
          "2012-04-13T00:00:00",
          "2012-04-14T00:00:00",
          "2012-04-15T00:00:00",
          "2012-04-16T00:00:00",
          "2012-04-17T00:00:00",
          "2012-04-18T00:00:00",
          "2012-04-19T00:00:00",
          "2012-04-20T00:00:00",
          "2012-04-21T00:00:00",
          "2012-04-22T00:00:00",
          "2012-04-23T00:00:00",
          "2012-04-24T00:00:00",
          "2012-04-25T00:00:00",
          "2012-04-26T00:00:00",
          "2012-04-27T00:00:00",
          "2012-04-28T00:00:00",
          "2012-04-29T00:00:00",
          "2012-04-30T00:00:00",
          "2012-05-01T00:00:00",
          "2012-05-02T00:00:00",
          "2012-05-03T00:00:00",
          "2012-05-04T00:00:00",
          "2012-05-05T00:00:00",
          "2012-05-06T00:00:00",
          "2012-05-07T00:00:00",
          "2012-05-08T00:00:00",
          "2012-05-09T00:00:00",
          "2012-05-10T00:00:00",
          "2012-05-11T00:00:00",
          "2012-05-12T00:00:00",
          "2012-05-13T00:00:00",
          "2012-05-14T00:00:00",
          "2012-05-15T00:00:00",
          "2012-05-16T00:00:00",
          "2012-05-17T00:00:00",
          "2012-05-18T00:00:00",
          "2012-05-19T00:00:00",
          "2012-05-20T00:00:00",
          "2012-05-21T00:00:00",
          "2012-05-22T00:00:00",
          "2012-05-23T00:00:00",
          "2012-05-24T00:00:00",
          "2012-05-25T00:00:00",
          "2012-05-26T00:00:00",
          "2012-05-27T00:00:00",
          "2012-05-28T00:00:00",
          "2012-05-29T00:00:00",
          "2012-05-30T00:00:00",
          "2012-05-31T00:00:00",
          "2012-06-01T00:00:00",
          "2012-06-02T00:00:00",
          "2012-06-03T00:00:00",
          "2012-06-04T00:00:00",
          "2012-06-05T00:00:00",
          "2012-06-06T00:00:00",
          "2012-06-07T00:00:00",
          "2012-06-08T00:00:00",
          "2012-06-09T00:00:00",
          "2012-06-10T00:00:00",
          "2012-06-11T00:00:00",
          "2012-06-12T00:00:00",
          "2012-06-13T00:00:00",
          "2012-06-14T00:00:00",
          "2012-06-15T00:00:00",
          "2012-06-16T00:00:00",
          "2012-06-17T00:00:00",
          "2012-06-18T00:00:00",
          "2012-06-19T00:00:00",
          "2012-06-20T00:00:00",
          "2012-06-21T00:00:00",
          "2012-06-22T00:00:00",
          "2012-06-23T00:00:00",
          "2012-06-24T00:00:00",
          "2012-06-25T00:00:00",
          "2012-06-26T00:00:00",
          "2012-06-27T00:00:00",
          "2012-06-28T00:00:00",
          "2012-06-29T00:00:00",
          "2012-06-30T00:00:00",
          "2012-07-01T00:00:00",
          "2012-07-02T00:00:00",
          "2012-07-03T00:00:00",
          "2012-07-04T00:00:00",
          "2012-07-05T00:00:00",
          "2012-07-06T00:00:00",
          "2012-07-07T00:00:00",
          "2012-07-08T00:00:00",
          "2012-07-09T00:00:00",
          "2012-07-10T00:00:00",
          "2012-07-11T00:00:00",
          "2012-07-12T00:00:00",
          "2012-07-13T00:00:00",
          "2012-07-14T00:00:00",
          "2012-07-15T00:00:00",
          "2012-07-16T00:00:00",
          "2012-07-17T00:00:00",
          "2012-07-18T00:00:00",
          "2012-07-19T00:00:00",
          "2012-07-20T00:00:00",
          "2012-07-21T00:00:00",
          "2012-07-22T00:00:00",
          "2012-07-23T00:00:00",
          "2012-07-24T00:00:00",
          "2012-07-25T00:00:00",
          "2012-07-26T00:00:00",
          "2012-07-27T00:00:00",
          "2012-07-28T00:00:00",
          "2012-07-29T00:00:00",
          "2012-07-30T00:00:00",
          "2012-07-31T00:00:00",
          "2012-08-01T00:00:00",
          "2012-08-02T00:00:00",
          "2012-08-03T00:00:00",
          "2012-08-04T00:00:00",
          "2012-08-05T00:00:00",
          "2012-08-06T00:00:00",
          "2012-08-07T00:00:00",
          "2012-08-08T00:00:00",
          "2012-08-09T00:00:00",
          "2012-08-10T00:00:00",
          "2012-08-11T00:00:00",
          "2012-08-12T00:00:00",
          "2012-08-13T00:00:00",
          "2012-08-14T00:00:00",
          "2012-08-15T00:00:00",
          "2012-08-16T00:00:00",
          "2012-08-17T00:00:00",
          "2012-08-18T00:00:00",
          "2012-08-19T00:00:00",
          "2012-08-20T00:00:00",
          "2012-08-21T00:00:00",
          "2012-08-22T00:00:00",
          "2012-08-23T00:00:00",
          "2012-08-24T00:00:00",
          "2012-08-25T00:00:00",
          "2012-08-26T00:00:00",
          "2012-08-27T00:00:00",
          "2012-08-28T00:00:00",
          "2012-08-29T00:00:00",
          "2012-08-30T00:00:00",
          "2012-08-31T00:00:00",
          "2012-09-01T00:00:00",
          "2012-09-02T00:00:00",
          "2012-09-03T00:00:00",
          "2012-09-04T00:00:00",
          "2012-09-05T00:00:00",
          "2012-09-06T00:00:00",
          "2012-09-07T00:00:00",
          "2012-09-08T00:00:00",
          "2012-09-09T00:00:00",
          "2012-09-10T00:00:00",
          "2012-09-11T00:00:00",
          "2012-09-12T00:00:00",
          "2012-09-13T00:00:00",
          "2012-09-14T00:00:00",
          "2012-09-15T00:00:00",
          "2012-09-16T00:00:00",
          "2012-09-17T00:00:00",
          "2012-09-18T00:00:00",
          "2012-09-19T00:00:00",
          "2012-09-20T00:00:00",
          "2012-09-21T00:00:00",
          "2012-09-22T00:00:00",
          "2012-09-23T00:00:00",
          "2012-09-24T00:00:00",
          "2012-09-25T00:00:00",
          "2012-09-26T00:00:00",
          "2012-09-27T00:00:00",
          "2012-09-28T00:00:00",
          "2012-09-29T00:00:00",
          "2012-09-30T00:00:00",
          "2012-10-01T00:00:00",
          "2012-10-02T00:00:00",
          "2012-10-03T00:00:00",
          "2012-10-04T00:00:00",
          "2012-10-05T00:00:00",
          "2012-10-06T00:00:00",
          "2012-10-07T00:00:00",
          "2012-10-08T00:00:00",
          "2012-10-09T00:00:00",
          "2012-10-10T00:00:00",
          "2012-10-11T00:00:00",
          "2012-10-12T00:00:00",
          "2012-10-13T00:00:00",
          "2012-10-14T00:00:00",
          "2012-10-15T00:00:00",
          "2012-10-16T00:00:00",
          "2012-10-17T00:00:00",
          "2012-10-18T00:00:00",
          "2012-10-19T00:00:00",
          "2012-10-20T00:00:00",
          "2012-10-21T00:00:00",
          "2012-10-22T00:00:00",
          "2012-10-23T00:00:00",
          "2012-10-24T00:00:00",
          "2012-10-25T00:00:00",
          "2012-10-26T00:00:00",
          "2012-10-27T00:00:00",
          "2012-10-28T00:00:00",
          "2012-10-29T00:00:00",
          "2012-10-30T00:00:00",
          "2012-10-31T00:00:00",
          "2012-11-01T00:00:00",
          "2012-11-02T00:00:00",
          "2012-11-03T00:00:00",
          "2012-11-04T00:00:00",
          "2012-11-05T00:00:00",
          "2012-11-06T00:00:00",
          "2012-11-07T00:00:00",
          "2012-11-08T00:00:00",
          "2012-11-09T00:00:00",
          "2012-11-10T00:00:00",
          "2012-11-11T00:00:00",
          "2012-11-12T00:00:00",
          "2012-11-13T00:00:00",
          "2012-11-14T00:00:00",
          "2012-11-15T00:00:00",
          "2012-11-16T00:00:00",
          "2012-11-17T00:00:00",
          "2012-11-18T00:00:00",
          "2012-11-19T00:00:00",
          "2012-11-20T00:00:00",
          "2012-11-21T00:00:00",
          "2012-11-22T00:00:00",
          "2012-11-23T00:00:00",
          "2012-11-24T00:00:00",
          "2012-11-25T00:00:00",
          "2012-11-26T00:00:00",
          "2012-11-27T00:00:00",
          "2012-11-28T00:00:00",
          "2012-11-29T00:00:00",
          "2012-11-30T00:00:00",
          "2012-12-01T00:00:00",
          "2012-12-02T00:00:00",
          "2012-12-03T00:00:00",
          "2012-12-04T00:00:00",
          "2012-12-05T00:00:00",
          "2012-12-06T00:00:00",
          "2012-12-07T00:00:00",
          "2012-12-08T00:00:00",
          "2012-12-09T00:00:00",
          "2012-12-10T00:00:00",
          "2012-12-11T00:00:00",
          "2012-12-12T00:00:00",
          "2012-12-13T00:00:00",
          "2012-12-14T00:00:00",
          "2012-12-15T00:00:00",
          "2012-12-16T00:00:00",
          "2012-12-17T00:00:00",
          "2012-12-18T00:00:00",
          "2012-12-19T00:00:00",
          "2012-12-20T00:00:00",
          "2012-12-21T00:00:00",
          "2012-12-22T00:00:00",
          "2012-12-23T00:00:00",
          "2012-12-24T00:00:00",
          "2012-12-25T00:00:00",
          "2012-12-26T00:00:00",
          "2012-12-27T00:00:00",
          "2012-12-28T00:00:00",
          "2012-12-29T00:00:00",
          "2012-12-30T00:00:00",
          "2012-12-31T00:00:00",
          "2013-01-01T00:00:00",
          "2013-01-02T00:00:00",
          "2013-01-03T00:00:00",
          "2013-01-04T00:00:00",
          "2013-01-05T00:00:00",
          "2013-01-06T00:00:00",
          "2013-01-07T00:00:00",
          "2013-01-08T00:00:00",
          "2013-01-09T00:00:00",
          "2013-01-10T00:00:00",
          "2013-01-11T00:00:00",
          "2013-01-12T00:00:00",
          "2013-01-13T00:00:00",
          "2013-01-14T00:00:00",
          "2013-01-15T00:00:00",
          "2013-01-16T00:00:00",
          "2013-01-17T00:00:00",
          "2013-01-18T00:00:00",
          "2013-01-19T00:00:00",
          "2013-01-20T00:00:00",
          "2013-01-21T00:00:00",
          "2013-01-22T00:00:00",
          "2013-01-23T00:00:00",
          "2013-01-24T00:00:00",
          "2013-01-25T00:00:00",
          "2013-01-26T00:00:00",
          "2013-01-27T00:00:00",
          "2013-01-28T00:00:00",
          "2013-01-29T00:00:00",
          "2013-01-30T00:00:00",
          "2013-01-31T00:00:00",
          "2013-02-01T00:00:00",
          "2013-02-02T00:00:00",
          "2013-02-03T00:00:00",
          "2013-02-04T00:00:00",
          "2013-02-05T00:00:00",
          "2013-02-06T00:00:00",
          "2013-02-07T00:00:00",
          "2013-02-08T00:00:00",
          "2013-02-09T00:00:00",
          "2013-02-10T00:00:00",
          "2013-02-11T00:00:00",
          "2013-02-12T00:00:00",
          "2013-02-13T00:00:00",
          "2013-02-14T00:00:00",
          "2013-02-15T00:00:00",
          "2013-02-16T00:00:00",
          "2013-02-17T00:00:00",
          "2013-02-18T00:00:00",
          "2013-02-19T00:00:00",
          "2013-02-20T00:00:00",
          "2013-02-21T00:00:00",
          "2013-02-22T00:00:00",
          "2013-02-23T00:00:00",
          "2013-02-24T00:00:00",
          "2013-02-25T00:00:00",
          "2013-02-26T00:00:00",
          "2013-02-27T00:00:00",
          "2013-02-28T00:00:00",
          "2013-03-01T00:00:00"
         ],
         "y": {
          "bdata": "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",
          "dtype": "f8"
         }
        },
        {
         "line": {
          "color": "gray",
          "dash": "dot"
         },
         "mode": "lines",
         "name": "Upper CI",
         "type": "scatter",
         "x": [
          "2011-01-01T00:00:00",
          "2011-01-02T00:00:00",
          "2011-01-03T00:00:00",
          "2011-01-04T00:00:00",
          "2011-01-05T00:00:00",
          "2011-01-06T00:00:00",
          "2011-01-07T00:00:00",
          "2011-01-08T00:00:00",
          "2011-01-09T00:00:00",
          "2011-01-10T00:00:00",
          "2011-01-11T00:00:00",
          "2011-01-12T00:00:00",
          "2011-01-13T00:00:00",
          "2011-01-14T00:00:00",
          "2011-01-15T00:00:00",
          "2011-01-16T00:00:00",
          "2011-01-17T00:00:00",
          "2011-01-18T00:00:00",
          "2011-01-19T00:00:00",
          "2011-01-20T00:00:00",
          "2011-01-21T00:00:00",
          "2011-01-22T00:00:00",
          "2011-01-23T00:00:00",
          "2011-01-24T00:00:00",
          "2011-01-25T00:00:00",
          "2011-01-26T00:00:00",
          "2011-01-27T00:00:00",
          "2011-01-28T00:00:00",
          "2011-01-29T00:00:00",
          "2011-01-30T00:00:00",
          "2011-01-31T00:00:00",
          "2011-02-01T00:00:00",
          "2011-02-02T00:00:00",
          "2011-02-03T00:00:00",
          "2011-02-04T00:00:00",
          "2011-02-05T00:00:00",
          "2011-02-06T00:00:00",
          "2011-02-07T00:00:00",
          "2011-02-08T00:00:00",
          "2011-02-09T00:00:00",
          "2011-02-10T00:00:00",
          "2011-02-11T00:00:00",
          "2011-02-12T00:00:00",
          "2011-02-13T00:00:00",
          "2011-02-14T00:00:00",
          "2011-02-15T00:00:00",
          "2011-02-16T00:00:00",
          "2011-02-17T00:00:00",
          "2011-02-18T00:00:00",
          "2011-02-19T00:00:00",
          "2011-02-20T00:00:00",
          "2011-02-21T00:00:00",
          "2011-02-22T00:00:00",
          "2011-02-23T00:00:00",
          "2011-02-24T00:00:00",
          "2011-02-25T00:00:00",
          "2011-02-26T00:00:00",
          "2011-02-27T00:00:00",
          "2011-02-28T00:00:00",
          "2011-03-01T00:00:00",
          "2011-03-02T00:00:00",
          "2011-03-03T00:00:00",
          "2011-03-04T00:00:00",
          "2011-03-05T00:00:00",
          "2011-03-06T00:00:00",
          "2011-03-07T00:00:00",
          "2011-03-08T00:00:00",
          "2011-03-09T00:00:00",
          "2011-03-10T00:00:00",
          "2011-03-11T00:00:00",
          "2011-03-12T00:00:00",
          "2011-03-13T00:00:00",
          "2011-03-14T00:00:00",
          "2011-03-15T00:00:00",
          "2011-03-16T00:00:00",
          "2011-03-17T00:00:00",
          "2011-03-18T00:00:00",
          "2011-03-19T00:00:00",
          "2011-03-20T00:00:00",
          "2011-03-21T00:00:00",
          "2011-03-22T00:00:00",
          "2011-03-23T00:00:00",
          "2011-03-24T00:00:00",
          "2011-03-25T00:00:00",
          "2011-03-26T00:00:00",
          "2011-03-27T00:00:00",
          "2011-03-28T00:00:00",
          "2011-03-29T00:00:00",
          "2011-03-30T00:00:00",
          "2011-03-31T00:00:00",
          "2011-04-01T00:00:00",
          "2011-04-02T00:00:00",
          "2011-04-03T00:00:00",
          "2011-04-04T00:00:00",
          "2011-04-05T00:00:00",
          "2011-04-06T00:00:00",
          "2011-04-07T00:00:00",
          "2011-04-08T00:00:00",
          "2011-04-09T00:00:00",
          "2011-04-10T00:00:00",
          "2011-04-11T00:00:00",
          "2011-04-12T00:00:00",
          "2011-04-13T00:00:00",
          "2011-04-14T00:00:00",
          "2011-04-15T00:00:00",
          "2011-04-16T00:00:00",
          "2011-04-17T00:00:00",
          "2011-04-18T00:00:00",
          "2011-04-19T00:00:00",
          "2011-04-20T00:00:00",
          "2011-04-21T00:00:00",
          "2011-04-22T00:00:00",
          "2011-04-23T00:00:00",
          "2011-04-24T00:00:00",
          "2011-04-25T00:00:00",
          "2011-04-26T00:00:00",
          "2011-04-27T00:00:00",
          "2011-04-28T00:00:00",
          "2011-04-29T00:00:00",
          "2011-04-30T00:00:00",
          "2011-05-01T00:00:00",
          "2011-05-02T00:00:00",
          "2011-05-03T00:00:00",
          "2011-05-04T00:00:00",
          "2011-05-05T00:00:00",
          "2011-05-06T00:00:00",
          "2011-05-07T00:00:00",
          "2011-05-08T00:00:00",
          "2011-05-09T00:00:00",
          "2011-05-10T00:00:00",
          "2011-05-11T00:00:00",
          "2011-05-12T00:00:00",
          "2011-05-13T00:00:00",
          "2011-05-14T00:00:00",
          "2011-05-15T00:00:00",
          "2011-05-16T00:00:00",
          "2011-05-17T00:00:00",
          "2011-05-18T00:00:00",
          "2011-05-19T00:00:00",
          "2011-05-20T00:00:00",
          "2011-05-21T00:00:00",
          "2011-05-22T00:00:00",
          "2011-05-23T00:00:00",
          "2011-05-24T00:00:00",
          "2011-05-25T00:00:00",
          "2011-05-26T00:00:00",
          "2011-05-27T00:00:00",
          "2011-05-28T00:00:00",
          "2011-05-29T00:00:00",
          "2011-05-30T00:00:00",
          "2011-05-31T00:00:00",
          "2011-06-01T00:00:00",
          "2011-06-02T00:00:00",
          "2011-06-03T00:00:00",
          "2011-06-04T00:00:00",
          "2011-06-05T00:00:00",
          "2011-06-06T00:00:00",
          "2011-06-07T00:00:00",
          "2011-06-08T00:00:00",
          "2011-06-09T00:00:00",
          "2011-06-10T00:00:00",
          "2011-06-11T00:00:00",
          "2011-06-12T00:00:00",
          "2011-06-13T00:00:00",
          "2011-06-14T00:00:00",
          "2011-06-15T00:00:00",
          "2011-06-16T00:00:00",
          "2011-06-17T00:00:00",
          "2011-06-18T00:00:00",
          "2011-06-19T00:00:00",
          "2011-06-20T00:00:00",
          "2011-06-21T00:00:00",
          "2011-06-22T00:00:00",
          "2011-06-23T00:00:00",
          "2011-06-24T00:00:00",
          "2011-06-25T00:00:00",
          "2011-06-26T00:00:00",
          "2011-06-27T00:00:00",
          "2011-06-28T00:00:00",
          "2011-06-29T00:00:00",
          "2011-06-30T00:00:00",
          "2011-07-01T00:00:00",
          "2011-07-02T00:00:00",
          "2011-07-03T00:00:00",
          "2011-07-04T00:00:00",
          "2011-07-05T00:00:00",
          "2011-07-06T00:00:00",
          "2011-07-07T00:00:00",
          "2011-07-08T00:00:00",
          "2011-07-09T00:00:00",
          "2011-07-10T00:00:00",
          "2011-07-11T00:00:00",
          "2011-07-12T00:00:00",
          "2011-07-13T00:00:00",
          "2011-07-14T00:00:00",
          "2011-07-15T00:00:00",
          "2011-07-16T00:00:00",
          "2011-07-17T00:00:00",
          "2011-07-18T00:00:00",
          "2011-07-19T00:00:00",
          "2011-07-20T00:00:00",
          "2011-07-21T00:00:00",
          "2011-07-22T00:00:00",
          "2011-07-23T00:00:00",
          "2011-07-24T00:00:00",
          "2011-07-25T00:00:00",
          "2011-07-26T00:00:00",
          "2011-07-27T00:00:00",
          "2011-07-28T00:00:00",
          "2011-07-29T00:00:00",
          "2011-07-30T00:00:00",
          "2011-07-31T00:00:00",
          "2011-08-01T00:00:00",
          "2011-08-02T00:00:00",
          "2011-08-03T00:00:00",
          "2011-08-04T00:00:00",
          "2011-08-05T00:00:00",
          "2011-08-06T00:00:00",
          "2011-08-07T00:00:00",
          "2011-08-08T00:00:00",
          "2011-08-09T00:00:00",
          "2011-08-10T00:00:00",
          "2011-08-11T00:00:00",
          "2011-08-12T00:00:00",
          "2011-08-13T00:00:00",
          "2011-08-14T00:00:00",
          "2011-08-15T00:00:00",
          "2011-08-16T00:00:00",
          "2011-08-17T00:00:00",
          "2011-08-18T00:00:00",
          "2011-08-19T00:00:00",
          "2011-08-20T00:00:00",
          "2011-08-21T00:00:00",
          "2011-08-22T00:00:00",
          "2011-08-23T00:00:00",
          "2011-08-24T00:00:00",
          "2011-08-25T00:00:00",
          "2011-08-26T00:00:00",
          "2011-08-27T00:00:00",
          "2011-08-28T00:00:00",
          "2011-08-29T00:00:00",
          "2011-08-30T00:00:00",
          "2011-08-31T00:00:00",
          "2011-09-01T00:00:00",
          "2011-09-02T00:00:00",
          "2011-09-03T00:00:00",
          "2011-09-04T00:00:00",
          "2011-09-05T00:00:00",
          "2011-09-06T00:00:00",
          "2011-09-07T00:00:00",
          "2011-09-08T00:00:00",
          "2011-09-09T00:00:00",
          "2011-09-10T00:00:00",
          "2011-09-11T00:00:00",
          "2011-09-12T00:00:00",
          "2011-09-13T00:00:00",
          "2011-09-14T00:00:00",
          "2011-09-15T00:00:00",
          "2011-09-16T00:00:00",
          "2011-09-17T00:00:00",
          "2011-09-18T00:00:00",
          "2011-09-19T00:00:00",
          "2011-09-20T00:00:00",
          "2011-09-21T00:00:00",
          "2011-09-22T00:00:00",
          "2011-09-23T00:00:00",
          "2011-09-24T00:00:00",
          "2011-09-25T00:00:00",
          "2011-09-26T00:00:00",
          "2011-09-27T00:00:00",
          "2011-09-28T00:00:00",
          "2011-09-29T00:00:00",
          "2011-09-30T00:00:00",
          "2011-10-01T00:00:00",
          "2011-10-02T00:00:00",
          "2011-10-03T00:00:00",
          "2011-10-04T00:00:00",
          "2011-10-05T00:00:00",
          "2011-10-06T00:00:00",
          "2011-10-07T00:00:00",
          "2011-10-08T00:00:00",
          "2011-10-09T00:00:00",
          "2011-10-10T00:00:00",
          "2011-10-11T00:00:00",
          "2011-10-12T00:00:00",
          "2011-10-13T00:00:00",
          "2011-10-14T00:00:00",
          "2011-10-15T00:00:00",
          "2011-10-16T00:00:00",
          "2011-10-17T00:00:00",
          "2011-10-18T00:00:00",
          "2011-10-19T00:00:00",
          "2011-10-20T00:00:00",
          "2011-10-21T00:00:00",
          "2011-10-22T00:00:00",
          "2011-10-23T00:00:00",
          "2011-10-24T00:00:00",
          "2011-10-25T00:00:00",
          "2011-10-26T00:00:00",
          "2011-10-27T00:00:00",
          "2011-10-28T00:00:00",
          "2011-10-29T00:00:00",
          "2011-10-30T00:00:00",
          "2011-10-31T00:00:00",
          "2011-11-01T00:00:00",
          "2011-11-02T00:00:00",
          "2011-11-03T00:00:00",
          "2011-11-04T00:00:00",
          "2011-11-05T00:00:00",
          "2011-11-06T00:00:00",
          "2011-11-07T00:00:00",
          "2011-11-08T00:00:00",
          "2011-11-09T00:00:00",
          "2011-11-10T00:00:00",
          "2011-11-11T00:00:00",
          "2011-11-12T00:00:00",
          "2011-11-13T00:00:00",
          "2011-11-14T00:00:00",
          "2011-11-15T00:00:00",
          "2011-11-16T00:00:00",
          "2011-11-17T00:00:00",
          "2011-11-18T00:00:00",
          "2011-11-19T00:00:00",
          "2011-11-20T00:00:00",
          "2011-11-21T00:00:00",
          "2011-11-22T00:00:00",
          "2011-11-23T00:00:00",
          "2011-11-24T00:00:00",
          "2011-11-25T00:00:00",
          "2011-11-26T00:00:00",
          "2011-11-27T00:00:00",
          "2011-11-28T00:00:00",
          "2011-11-29T00:00:00",
          "2011-11-30T00:00:00",
          "2011-12-01T00:00:00",
          "2011-12-02T00:00:00",
          "2011-12-03T00:00:00",
          "2011-12-04T00:00:00",
          "2011-12-05T00:00:00",
          "2011-12-06T00:00:00",
          "2011-12-07T00:00:00",
          "2011-12-08T00:00:00",
          "2011-12-09T00:00:00",
          "2011-12-10T00:00:00",
          "2011-12-11T00:00:00",
          "2011-12-12T00:00:00",
          "2011-12-13T00:00:00",
          "2011-12-14T00:00:00",
          "2011-12-15T00:00:00",
          "2011-12-16T00:00:00",
          "2011-12-17T00:00:00",
          "2011-12-18T00:00:00",
          "2011-12-19T00:00:00",
          "2011-12-20T00:00:00",
          "2011-12-21T00:00:00",
          "2011-12-22T00:00:00",
          "2011-12-23T00:00:00",
          "2011-12-24T00:00:00",
          "2011-12-25T00:00:00",
          "2011-12-26T00:00:00",
          "2011-12-27T00:00:00",
          "2011-12-28T00:00:00",
          "2011-12-29T00:00:00",
          "2011-12-30T00:00:00",
          "2011-12-31T00:00:00",
          "2012-01-01T00:00:00",
          "2012-01-02T00:00:00",
          "2012-01-03T00:00:00",
          "2012-01-04T00:00:00",
          "2012-01-05T00:00:00",
          "2012-01-06T00:00:00",
          "2012-01-07T00:00:00",
          "2012-01-08T00:00:00",
          "2012-01-09T00:00:00",
          "2012-01-10T00:00:00",
          "2012-01-11T00:00:00",
          "2012-01-12T00:00:00",
          "2012-01-13T00:00:00",
          "2012-01-14T00:00:00",
          "2012-01-15T00:00:00",
          "2012-01-16T00:00:00",
          "2012-01-17T00:00:00",
          "2012-01-18T00:00:00",
          "2012-01-19T00:00:00",
          "2012-01-20T00:00:00",
          "2012-01-21T00:00:00",
          "2012-01-22T00:00:00",
          "2012-01-23T00:00:00",
          "2012-01-24T00:00:00",
          "2012-01-25T00:00:00",
          "2012-01-26T00:00:00",
          "2012-01-27T00:00:00",
          "2012-01-28T00:00:00",
          "2012-01-29T00:00:00",
          "2012-01-30T00:00:00",
          "2012-01-31T00:00:00",
          "2012-02-01T00:00:00",
          "2012-02-02T00:00:00",
          "2012-02-03T00:00:00",
          "2012-02-04T00:00:00",
          "2012-02-05T00:00:00",
          "2012-02-06T00:00:00",
          "2012-02-07T00:00:00",
          "2012-02-08T00:00:00",
          "2012-02-09T00:00:00",
          "2012-02-10T00:00:00",
          "2012-02-11T00:00:00",
          "2012-02-12T00:00:00",
          "2012-02-13T00:00:00",
          "2012-02-14T00:00:00",
          "2012-02-15T00:00:00",
          "2012-02-16T00:00:00",
          "2012-02-17T00:00:00",
          "2012-02-18T00:00:00",
          "2012-02-19T00:00:00",
          "2012-02-20T00:00:00",
          "2012-02-21T00:00:00",
          "2012-02-22T00:00:00",
          "2012-02-23T00:00:00",
          "2012-02-24T00:00:00",
          "2012-02-25T00:00:00",
          "2012-02-26T00:00:00",
          "2012-02-27T00:00:00",
          "2012-02-28T00:00:00",
          "2012-02-29T00:00:00",
          "2012-03-01T00:00:00",
          "2012-03-02T00:00:00",
          "2012-03-03T00:00:00",
          "2012-03-04T00:00:00",
          "2012-03-05T00:00:00",
          "2012-03-06T00:00:00",
          "2012-03-07T00:00:00",
          "2012-03-08T00:00:00",
          "2012-03-09T00:00:00",
          "2012-03-10T00:00:00",
          "2012-03-11T00:00:00",
          "2012-03-12T00:00:00",
          "2012-03-13T00:00:00",
          "2012-03-14T00:00:00",
          "2012-03-15T00:00:00",
          "2012-03-16T00:00:00",
          "2012-03-17T00:00:00",
          "2012-03-18T00:00:00",
          "2012-03-19T00:00:00",
          "2012-03-20T00:00:00",
          "2012-03-21T00:00:00",
          "2012-03-22T00:00:00",
          "2012-03-23T00:00:00",
          "2012-03-24T00:00:00",
          "2012-03-25T00:00:00",
          "2012-03-26T00:00:00",
          "2012-03-27T00:00:00",
          "2012-03-28T00:00:00",
          "2012-03-29T00:00:00",
          "2012-03-30T00:00:00",
          "2012-03-31T00:00:00",
          "2012-04-01T00:00:00",
          "2012-04-02T00:00:00",
          "2012-04-03T00:00:00",
          "2012-04-04T00:00:00",
          "2012-04-05T00:00:00",
          "2012-04-06T00:00:00",
          "2012-04-07T00:00:00",
          "2012-04-08T00:00:00",
          "2012-04-09T00:00:00",
          "2012-04-10T00:00:00",
          "2012-04-11T00:00:00",
          "2012-04-12T00:00:00",
          "2012-04-13T00:00:00",
          "2012-04-14T00:00:00",
          "2012-04-15T00:00:00",
          "2012-04-16T00:00:00",
          "2012-04-17T00:00:00",
          "2012-04-18T00:00:00",
          "2012-04-19T00:00:00",
          "2012-04-20T00:00:00",
          "2012-04-21T00:00:00",
          "2012-04-22T00:00:00",
          "2012-04-23T00:00:00",
          "2012-04-24T00:00:00",
          "2012-04-25T00:00:00",
          "2012-04-26T00:00:00",
          "2012-04-27T00:00:00",
          "2012-04-28T00:00:00",
          "2012-04-29T00:00:00",
          "2012-04-30T00:00:00",
          "2012-05-01T00:00:00",
          "2012-05-02T00:00:00",
          "2012-05-03T00:00:00",
          "2012-05-04T00:00:00",
          "2012-05-05T00:00:00",
          "2012-05-06T00:00:00",
          "2012-05-07T00:00:00",
          "2012-05-08T00:00:00",
          "2012-05-09T00:00:00",
          "2012-05-10T00:00:00",
          "2012-05-11T00:00:00",
          "2012-05-12T00:00:00",
          "2012-05-13T00:00:00",
          "2012-05-14T00:00:00",
          "2012-05-15T00:00:00",
          "2012-05-16T00:00:00",
          "2012-05-17T00:00:00",
          "2012-05-18T00:00:00",
          "2012-05-19T00:00:00",
          "2012-05-20T00:00:00",
          "2012-05-21T00:00:00",
          "2012-05-22T00:00:00",
          "2012-05-23T00:00:00",
          "2012-05-24T00:00:00",
          "2012-05-25T00:00:00",
          "2012-05-26T00:00:00",
          "2012-05-27T00:00:00",
          "2012-05-28T00:00:00",
          "2012-05-29T00:00:00",
          "2012-05-30T00:00:00",
          "2012-05-31T00:00:00",
          "2012-06-01T00:00:00",
          "2012-06-02T00:00:00",
          "2012-06-03T00:00:00",
          "2012-06-04T00:00:00",
          "2012-06-05T00:00:00",
          "2012-06-06T00:00:00",
          "2012-06-07T00:00:00",
          "2012-06-08T00:00:00",
          "2012-06-09T00:00:00",
          "2012-06-10T00:00:00",
          "2012-06-11T00:00:00",
          "2012-06-12T00:00:00",
          "2012-06-13T00:00:00",
          "2012-06-14T00:00:00",
          "2012-06-15T00:00:00",
          "2012-06-16T00:00:00",
          "2012-06-17T00:00:00",
          "2012-06-18T00:00:00",
          "2012-06-19T00:00:00",
          "2012-06-20T00:00:00",
          "2012-06-21T00:00:00",
          "2012-06-22T00:00:00",
          "2012-06-23T00:00:00",
          "2012-06-24T00:00:00",
          "2012-06-25T00:00:00",
          "2012-06-26T00:00:00",
          "2012-06-27T00:00:00",
          "2012-06-28T00:00:00",
          "2012-06-29T00:00:00",
          "2012-06-30T00:00:00",
          "2012-07-01T00:00:00",
          "2012-07-02T00:00:00",
          "2012-07-03T00:00:00",
          "2012-07-04T00:00:00",
          "2012-07-05T00:00:00",
          "2012-07-06T00:00:00",
          "2012-07-07T00:00:00",
          "2012-07-08T00:00:00",
          "2012-07-09T00:00:00",
          "2012-07-10T00:00:00",
          "2012-07-11T00:00:00",
          "2012-07-12T00:00:00",
          "2012-07-13T00:00:00",
          "2012-07-14T00:00:00",
          "2012-07-15T00:00:00",
          "2012-07-16T00:00:00",
          "2012-07-17T00:00:00",
          "2012-07-18T00:00:00",
          "2012-07-19T00:00:00",
          "2012-07-20T00:00:00",
          "2012-07-21T00:00:00",
          "2012-07-22T00:00:00",
          "2012-07-23T00:00:00",
          "2012-07-24T00:00:00",
          "2012-07-25T00:00:00",
          "2012-07-26T00:00:00",
          "2012-07-27T00:00:00",
          "2012-07-28T00:00:00",
          "2012-07-29T00:00:00",
          "2012-07-30T00:00:00",
          "2012-07-31T00:00:00",
          "2012-08-01T00:00:00",
          "2012-08-02T00:00:00",
          "2012-08-03T00:00:00",
          "2012-08-04T00:00:00",
          "2012-08-05T00:00:00",
          "2012-08-06T00:00:00",
          "2012-08-07T00:00:00",
          "2012-08-08T00:00:00",
          "2012-08-09T00:00:00",
          "2012-08-10T00:00:00",
          "2012-08-11T00:00:00",
          "2012-08-12T00:00:00",
          "2012-08-13T00:00:00",
          "2012-08-14T00:00:00",
          "2012-08-15T00:00:00",
          "2012-08-16T00:00:00",
          "2012-08-17T00:00:00",
          "2012-08-18T00:00:00",
          "2012-08-19T00:00:00",
          "2012-08-20T00:00:00",
          "2012-08-21T00:00:00",
          "2012-08-22T00:00:00",
          "2012-08-23T00:00:00",
          "2012-08-24T00:00:00",
          "2012-08-25T00:00:00",
          "2012-08-26T00:00:00",
          "2012-08-27T00:00:00",
          "2012-08-28T00:00:00",
          "2012-08-29T00:00:00",
          "2012-08-30T00:00:00",
          "2012-08-31T00:00:00",
          "2012-09-01T00:00:00",
          "2012-09-02T00:00:00",
          "2012-09-03T00:00:00",
          "2012-09-04T00:00:00",
          "2012-09-05T00:00:00",
          "2012-09-06T00:00:00",
          "2012-09-07T00:00:00",
          "2012-09-08T00:00:00",
          "2012-09-09T00:00:00",
          "2012-09-10T00:00:00",
          "2012-09-11T00:00:00",
          "2012-09-12T00:00:00",
          "2012-09-13T00:00:00",
          "2012-09-14T00:00:00",
          "2012-09-15T00:00:00",
          "2012-09-16T00:00:00",
          "2012-09-17T00:00:00",
          "2012-09-18T00:00:00",
          "2012-09-19T00:00:00",
          "2012-09-20T00:00:00",
          "2012-09-21T00:00:00",
          "2012-09-22T00:00:00",
          "2012-09-23T00:00:00",
          "2012-09-24T00:00:00",
          "2012-09-25T00:00:00",
          "2012-09-26T00:00:00",
          "2012-09-27T00:00:00",
          "2012-09-28T00:00:00",
          "2012-09-29T00:00:00",
          "2012-09-30T00:00:00",
          "2012-10-01T00:00:00",
          "2012-10-02T00:00:00",
          "2012-10-03T00:00:00",
          "2012-10-04T00:00:00",
          "2012-10-05T00:00:00",
          "2012-10-06T00:00:00",
          "2012-10-07T00:00:00",
          "2012-10-08T00:00:00",
          "2012-10-09T00:00:00",
          "2012-10-10T00:00:00",
          "2012-10-11T00:00:00",
          "2012-10-12T00:00:00",
          "2012-10-13T00:00:00",
          "2012-10-14T00:00:00",
          "2012-10-15T00:00:00",
          "2012-10-16T00:00:00",
          "2012-10-17T00:00:00",
          "2012-10-18T00:00:00",
          "2012-10-19T00:00:00",
          "2012-10-20T00:00:00",
          "2012-10-21T00:00:00",
          "2012-10-22T00:00:00",
          "2012-10-23T00:00:00",
          "2012-10-24T00:00:00",
          "2012-10-25T00:00:00",
          "2012-10-26T00:00:00",
          "2012-10-27T00:00:00",
          "2012-10-28T00:00:00",
          "2012-10-29T00:00:00",
          "2012-10-30T00:00:00",
          "2012-10-31T00:00:00",
          "2012-11-01T00:00:00",
          "2012-11-02T00:00:00",
          "2012-11-03T00:00:00",
          "2012-11-04T00:00:00",
          "2012-11-05T00:00:00",
          "2012-11-06T00:00:00",
          "2012-11-07T00:00:00",
          "2012-11-08T00:00:00",
          "2012-11-09T00:00:00",
          "2012-11-10T00:00:00",
          "2012-11-11T00:00:00",
          "2012-11-12T00:00:00",
          "2012-11-13T00:00:00",
          "2012-11-14T00:00:00",
          "2012-11-15T00:00:00",
          "2012-11-16T00:00:00",
          "2012-11-17T00:00:00",
          "2012-11-18T00:00:00",
          "2012-11-19T00:00:00",
          "2012-11-20T00:00:00",
          "2012-11-21T00:00:00",
          "2012-11-22T00:00:00",
          "2012-11-23T00:00:00",
          "2012-11-24T00:00:00",
          "2012-11-25T00:00:00",
          "2012-11-26T00:00:00",
          "2012-11-27T00:00:00",
          "2012-11-28T00:00:00",
          "2012-11-29T00:00:00",
          "2012-11-30T00:00:00",
          "2012-12-01T00:00:00",
          "2012-12-02T00:00:00",
          "2012-12-03T00:00:00",
          "2012-12-04T00:00:00",
          "2012-12-05T00:00:00",
          "2012-12-06T00:00:00",
          "2012-12-07T00:00:00",
          "2012-12-08T00:00:00",
          "2012-12-09T00:00:00",
          "2012-12-10T00:00:00",
          "2012-12-11T00:00:00",
          "2012-12-12T00:00:00",
          "2012-12-13T00:00:00",
          "2012-12-14T00:00:00",
          "2012-12-15T00:00:00",
          "2012-12-16T00:00:00",
          "2012-12-17T00:00:00",
          "2012-12-18T00:00:00",
          "2012-12-19T00:00:00",
          "2012-12-20T00:00:00",
          "2012-12-21T00:00:00",
          "2012-12-22T00:00:00",
          "2012-12-23T00:00:00",
          "2012-12-24T00:00:00",
          "2012-12-25T00:00:00",
          "2012-12-26T00:00:00",
          "2012-12-27T00:00:00",
          "2012-12-28T00:00:00",
          "2012-12-29T00:00:00",
          "2012-12-30T00:00:00",
          "2012-12-31T00:00:00",
          "2013-01-01T00:00:00",
          "2013-01-02T00:00:00",
          "2013-01-03T00:00:00",
          "2013-01-04T00:00:00",
          "2013-01-05T00:00:00",
          "2013-01-06T00:00:00",
          "2013-01-07T00:00:00",
          "2013-01-08T00:00:00",
          "2013-01-09T00:00:00",
          "2013-01-10T00:00:00",
          "2013-01-11T00:00:00",
          "2013-01-12T00:00:00",
          "2013-01-13T00:00:00",
          "2013-01-14T00:00:00",
          "2013-01-15T00:00:00",
          "2013-01-16T00:00:00",
          "2013-01-17T00:00:00",
          "2013-01-18T00:00:00",
          "2013-01-19T00:00:00",
          "2013-01-20T00:00:00",
          "2013-01-21T00:00:00",
          "2013-01-22T00:00:00",
          "2013-01-23T00:00:00",
          "2013-01-24T00:00:00",
          "2013-01-25T00:00:00",
          "2013-01-26T00:00:00",
          "2013-01-27T00:00:00",
          "2013-01-28T00:00:00",
          "2013-01-29T00:00:00",
          "2013-01-30T00:00:00",
          "2013-01-31T00:00:00",
          "2013-02-01T00:00:00",
          "2013-02-02T00:00:00",
          "2013-02-03T00:00:00",
          "2013-02-04T00:00:00",
          "2013-02-05T00:00:00",
          "2013-02-06T00:00:00",
          "2013-02-07T00:00:00",
          "2013-02-08T00:00:00",
          "2013-02-09T00:00:00",
          "2013-02-10T00:00:00",
          "2013-02-11T00:00:00",
          "2013-02-12T00:00:00",
          "2013-02-13T00:00:00",
          "2013-02-14T00:00:00",
          "2013-02-15T00:00:00",
          "2013-02-16T00:00:00",
          "2013-02-17T00:00:00",
          "2013-02-18T00:00:00",
          "2013-02-19T00:00:00",
          "2013-02-20T00:00:00",
          "2013-02-21T00:00:00",
          "2013-02-22T00:00:00",
          "2013-02-23T00:00:00",
          "2013-02-24T00:00:00",
          "2013-02-25T00:00:00",
          "2013-02-26T00:00:00",
          "2013-02-27T00:00:00",
          "2013-02-28T00:00:00",
          "2013-03-01T00:00:00"
         ],
         "y": {
          "bdata": "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",
          "dtype": "f8"
         }
        },
        {
         "fill": "tonexty",
         "fillcolor": "rgba(128,128,128,0.2)",
         "line": {
          "color": "gray",
          "dash": "dot"
         },
         "mode": "lines",
         "name": "Lower CI",
         "type": "scatter",
         "x": [
          "2011-01-01T00:00:00",
          "2011-01-02T00:00:00",
          "2011-01-03T00:00:00",
          "2011-01-04T00:00:00",
          "2011-01-05T00:00:00",
          "2011-01-06T00:00:00",
          "2011-01-07T00:00:00",
          "2011-01-08T00:00:00",
          "2011-01-09T00:00:00",
          "2011-01-10T00:00:00",
          "2011-01-11T00:00:00",
          "2011-01-12T00:00:00",
          "2011-01-13T00:00:00",
          "2011-01-14T00:00:00",
          "2011-01-15T00:00:00",
          "2011-01-16T00:00:00",
          "2011-01-17T00:00:00",
          "2011-01-18T00:00:00",
          "2011-01-19T00:00:00",
          "2011-01-20T00:00:00",
          "2011-01-21T00:00:00",
          "2011-01-22T00:00:00",
          "2011-01-23T00:00:00",
          "2011-01-24T00:00:00",
          "2011-01-25T00:00:00",
          "2011-01-26T00:00:00",
          "2011-01-27T00:00:00",
          "2011-01-28T00:00:00",
          "2011-01-29T00:00:00",
          "2011-01-30T00:00:00",
          "2011-01-31T00:00:00",
          "2011-02-01T00:00:00",
          "2011-02-02T00:00:00",
          "2011-02-03T00:00:00",
          "2011-02-04T00:00:00",
          "2011-02-05T00:00:00",
          "2011-02-06T00:00:00",
          "2011-02-07T00:00:00",
          "2011-02-08T00:00:00",
          "2011-02-09T00:00:00",
          "2011-02-10T00:00:00",
          "2011-02-11T00:00:00",
          "2011-02-12T00:00:00",
          "2011-02-13T00:00:00",
          "2011-02-14T00:00:00",
          "2011-02-15T00:00:00",
          "2011-02-16T00:00:00",
          "2011-02-17T00:00:00",
          "2011-02-18T00:00:00",
          "2011-02-19T00:00:00",
          "2011-02-20T00:00:00",
          "2011-02-21T00:00:00",
          "2011-02-22T00:00:00",
          "2011-02-23T00:00:00",
          "2011-02-24T00:00:00",
          "2011-02-25T00:00:00",
          "2011-02-26T00:00:00",
          "2011-02-27T00:00:00",
          "2011-02-28T00:00:00",
          "2011-03-01T00:00:00",
          "2011-03-02T00:00:00",
          "2011-03-03T00:00:00",
          "2011-03-04T00:00:00",
          "2011-03-05T00:00:00",
          "2011-03-06T00:00:00",
          "2011-03-07T00:00:00",
          "2011-03-08T00:00:00",
          "2011-03-09T00:00:00",
          "2011-03-10T00:00:00",
          "2011-03-11T00:00:00",
          "2011-03-12T00:00:00",
          "2011-03-13T00:00:00",
          "2011-03-14T00:00:00",
          "2011-03-15T00:00:00",
          "2011-03-16T00:00:00",
          "2011-03-17T00:00:00",
          "2011-03-18T00:00:00",
          "2011-03-19T00:00:00",
          "2011-03-20T00:00:00",
          "2011-03-21T00:00:00",
          "2011-03-22T00:00:00",
          "2011-03-23T00:00:00",
          "2011-03-24T00:00:00",
          "2011-03-25T00:00:00",
          "2011-03-26T00:00:00",
          "2011-03-27T00:00:00",
          "2011-03-28T00:00:00",
          "2011-03-29T00:00:00",
          "2011-03-30T00:00:00",
          "2011-03-31T00:00:00",
          "2011-04-01T00:00:00",
          "2011-04-02T00:00:00",
          "2011-04-03T00:00:00",
          "2011-04-04T00:00:00",
          "2011-04-05T00:00:00",
          "2011-04-06T00:00:00",
          "2011-04-07T00:00:00",
          "2011-04-08T00:00:00",
          "2011-04-09T00:00:00",
          "2011-04-10T00:00:00",
          "2011-04-11T00:00:00",
          "2011-04-12T00:00:00",
          "2011-04-13T00:00:00",
          "2011-04-14T00:00:00",
          "2011-04-15T00:00:00",
          "2011-04-16T00:00:00",
          "2011-04-17T00:00:00",
          "2011-04-18T00:00:00",
          "2011-04-19T00:00:00",
          "2011-04-20T00:00:00",
          "2011-04-21T00:00:00",
          "2011-04-22T00:00:00",
          "2011-04-23T00:00:00",
          "2011-04-24T00:00:00",
          "2011-04-25T00:00:00",
          "2011-04-26T00:00:00",
          "2011-04-27T00:00:00",
          "2011-04-28T00:00:00",
          "2011-04-29T00:00:00",
          "2011-04-30T00:00:00",
          "2011-05-01T00:00:00",
          "2011-05-02T00:00:00",
          "2011-05-03T00:00:00",
          "2011-05-04T00:00:00",
          "2011-05-05T00:00:00",
          "2011-05-06T00:00:00",
          "2011-05-07T00:00:00",
          "2011-05-08T00:00:00",
          "2011-05-09T00:00:00",
          "2011-05-10T00:00:00",
          "2011-05-11T00:00:00",
          "2011-05-12T00:00:00",
          "2011-05-13T00:00:00",
          "2011-05-14T00:00:00",
          "2011-05-15T00:00:00",
          "2011-05-16T00:00:00",
          "2011-05-17T00:00:00",
          "2011-05-18T00:00:00",
          "2011-05-19T00:00:00",
          "2011-05-20T00:00:00",
          "2011-05-21T00:00:00",
          "2011-05-22T00:00:00",
          "2011-05-23T00:00:00",
          "2011-05-24T00:00:00",
          "2011-05-25T00:00:00",
          "2011-05-26T00:00:00",
          "2011-05-27T00:00:00",
          "2011-05-28T00:00:00",
          "2011-05-29T00:00:00",
          "2011-05-30T00:00:00",
          "2011-05-31T00:00:00",
          "2011-06-01T00:00:00",
          "2011-06-02T00:00:00",
          "2011-06-03T00:00:00",
          "2011-06-04T00:00:00",
          "2011-06-05T00:00:00",
          "2011-06-06T00:00:00",
          "2011-06-07T00:00:00",
          "2011-06-08T00:00:00",
          "2011-06-09T00:00:00",
          "2011-06-10T00:00:00",
          "2011-06-11T00:00:00",
          "2011-06-12T00:00:00",
          "2011-06-13T00:00:00",
          "2011-06-14T00:00:00",
          "2011-06-15T00:00:00",
          "2011-06-16T00:00:00",
          "2011-06-17T00:00:00",
          "2011-06-18T00:00:00",
          "2011-06-19T00:00:00",
          "2011-06-20T00:00:00",
          "2011-06-21T00:00:00",
          "2011-06-22T00:00:00",
          "2011-06-23T00:00:00",
          "2011-06-24T00:00:00",
          "2011-06-25T00:00:00",
          "2011-06-26T00:00:00",
          "2011-06-27T00:00:00",
          "2011-06-28T00:00:00",
          "2011-06-29T00:00:00",
          "2011-06-30T00:00:00",
          "2011-07-01T00:00:00",
          "2011-07-02T00:00:00",
          "2011-07-03T00:00:00",
          "2011-07-04T00:00:00",
          "2011-07-05T00:00:00",
          "2011-07-06T00:00:00",
          "2011-07-07T00:00:00",
          "2011-07-08T00:00:00",
          "2011-07-09T00:00:00",
          "2011-07-10T00:00:00",
          "2011-07-11T00:00:00",
          "2011-07-12T00:00:00",
          "2011-07-13T00:00:00",
          "2011-07-14T00:00:00",
          "2011-07-15T00:00:00",
          "2011-07-16T00:00:00",
          "2011-07-17T00:00:00",
          "2011-07-18T00:00:00",
          "2011-07-19T00:00:00",
          "2011-07-20T00:00:00",
          "2011-07-21T00:00:00",
          "2011-07-22T00:00:00",
          "2011-07-23T00:00:00",
          "2011-07-24T00:00:00",
          "2011-07-25T00:00:00",
          "2011-07-26T00:00:00",
          "2011-07-27T00:00:00",
          "2011-07-28T00:00:00",
          "2011-07-29T00:00:00",
          "2011-07-30T00:00:00",
          "2011-07-31T00:00:00",
          "2011-08-01T00:00:00",
          "2011-08-02T00:00:00",
          "2011-08-03T00:00:00",
          "2011-08-04T00:00:00",
          "2011-08-05T00:00:00",
          "2011-08-06T00:00:00",
          "2011-08-07T00:00:00",
          "2011-08-08T00:00:00",
          "2011-08-09T00:00:00",
          "2011-08-10T00:00:00",
          "2011-08-11T00:00:00",
          "2011-08-12T00:00:00",
          "2011-08-13T00:00:00",
          "2011-08-14T00:00:00",
          "2011-08-15T00:00:00",
          "2011-08-16T00:00:00",
          "2011-08-17T00:00:00",
          "2011-08-18T00:00:00",
          "2011-08-19T00:00:00",
          "2011-08-20T00:00:00",
          "2011-08-21T00:00:00",
          "2011-08-22T00:00:00",
          "2011-08-23T00:00:00",
          "2011-08-24T00:00:00",
          "2011-08-25T00:00:00",
          "2011-08-26T00:00:00",
          "2011-08-27T00:00:00",
          "2011-08-28T00:00:00",
          "2011-08-29T00:00:00",
          "2011-08-30T00:00:00",
          "2011-08-31T00:00:00",
          "2011-09-01T00:00:00",
          "2011-09-02T00:00:00",
          "2011-09-03T00:00:00",
          "2011-09-04T00:00:00",
          "2011-09-05T00:00:00",
          "2011-09-06T00:00:00",
          "2011-09-07T00:00:00",
          "2011-09-08T00:00:00",
          "2011-09-09T00:00:00",
          "2011-09-10T00:00:00",
          "2011-09-11T00:00:00",
          "2011-09-12T00:00:00",
          "2011-09-13T00:00:00",
          "2011-09-14T00:00:00",
          "2011-09-15T00:00:00",
          "2011-09-16T00:00:00",
          "2011-09-17T00:00:00",
          "2011-09-18T00:00:00",
          "2011-09-19T00:00:00",
          "2011-09-20T00:00:00",
          "2011-09-21T00:00:00",
          "2011-09-22T00:00:00",
          "2011-09-23T00:00:00",
          "2011-09-24T00:00:00",
          "2011-09-25T00:00:00",
          "2011-09-26T00:00:00",
          "2011-09-27T00:00:00",
          "2011-09-28T00:00:00",
          "2011-09-29T00:00:00",
          "2011-09-30T00:00:00",
          "2011-10-01T00:00:00",
          "2011-10-02T00:00:00",
          "2011-10-03T00:00:00",
          "2011-10-04T00:00:00",
          "2011-10-05T00:00:00",
          "2011-10-06T00:00:00",
          "2011-10-07T00:00:00",
          "2011-10-08T00:00:00",
          "2011-10-09T00:00:00",
          "2011-10-10T00:00:00",
          "2011-10-11T00:00:00",
          "2011-10-12T00:00:00",
          "2011-10-13T00:00:00",
          "2011-10-14T00:00:00",
          "2011-10-15T00:00:00",
          "2011-10-16T00:00:00",
          "2011-10-17T00:00:00",
          "2011-10-18T00:00:00",
          "2011-10-19T00:00:00",
          "2011-10-20T00:00:00",
          "2011-10-21T00:00:00",
          "2011-10-22T00:00:00",
          "2011-10-23T00:00:00",
          "2011-10-24T00:00:00",
          "2011-10-25T00:00:00",
          "2011-10-26T00:00:00",
          "2011-10-27T00:00:00",
          "2011-10-28T00:00:00",
          "2011-10-29T00:00:00",
          "2011-10-30T00:00:00",
          "2011-10-31T00:00:00",
          "2011-11-01T00:00:00",
          "2011-11-02T00:00:00",
          "2011-11-03T00:00:00",
          "2011-11-04T00:00:00",
          "2011-11-05T00:00:00",
          "2011-11-06T00:00:00",
          "2011-11-07T00:00:00",
          "2011-11-08T00:00:00",
          "2011-11-09T00:00:00",
          "2011-11-10T00:00:00",
          "2011-11-11T00:00:00",
          "2011-11-12T00:00:00",
          "2011-11-13T00:00:00",
          "2011-11-14T00:00:00",
          "2011-11-15T00:00:00",
          "2011-11-16T00:00:00",
          "2011-11-17T00:00:00",
          "2011-11-18T00:00:00",
          "2011-11-19T00:00:00",
          "2011-11-20T00:00:00",
          "2011-11-21T00:00:00",
          "2011-11-22T00:00:00",
          "2011-11-23T00:00:00",
          "2011-11-24T00:00:00",
          "2011-11-25T00:00:00",
          "2011-11-26T00:00:00",
          "2011-11-27T00:00:00",
          "2011-11-28T00:00:00",
          "2011-11-29T00:00:00",
          "2011-11-30T00:00:00",
          "2011-12-01T00:00:00",
          "2011-12-02T00:00:00",
          "2011-12-03T00:00:00",
          "2011-12-04T00:00:00",
          "2011-12-05T00:00:00",
          "2011-12-06T00:00:00",
          "2011-12-07T00:00:00",
          "2011-12-08T00:00:00",
          "2011-12-09T00:00:00",
          "2011-12-10T00:00:00",
          "2011-12-11T00:00:00",
          "2011-12-12T00:00:00",
          "2011-12-13T00:00:00",
          "2011-12-14T00:00:00",
          "2011-12-15T00:00:00",
          "2011-12-16T00:00:00",
          "2011-12-17T00:00:00",
          "2011-12-18T00:00:00",
          "2011-12-19T00:00:00",
          "2011-12-20T00:00:00",
          "2011-12-21T00:00:00",
          "2011-12-22T00:00:00",
          "2011-12-23T00:00:00",
          "2011-12-24T00:00:00",
          "2011-12-25T00:00:00",
          "2011-12-26T00:00:00",
          "2011-12-27T00:00:00",
          "2011-12-28T00:00:00",
          "2011-12-29T00:00:00",
          "2011-12-30T00:00:00",
          "2011-12-31T00:00:00",
          "2012-01-01T00:00:00",
          "2012-01-02T00:00:00",
          "2012-01-03T00:00:00",
          "2012-01-04T00:00:00",
          "2012-01-05T00:00:00",
          "2012-01-06T00:00:00",
          "2012-01-07T00:00:00",
          "2012-01-08T00:00:00",
          "2012-01-09T00:00:00",
          "2012-01-10T00:00:00",
          "2012-01-11T00:00:00",
          "2012-01-12T00:00:00",
          "2012-01-13T00:00:00",
          "2012-01-14T00:00:00",
          "2012-01-15T00:00:00",
          "2012-01-16T00:00:00",
          "2012-01-17T00:00:00",
          "2012-01-18T00:00:00",
          "2012-01-19T00:00:00",
          "2012-01-20T00:00:00",
          "2012-01-21T00:00:00",
          "2012-01-22T00:00:00",
          "2012-01-23T00:00:00",
          "2012-01-24T00:00:00",
          "2012-01-25T00:00:00",
          "2012-01-26T00:00:00",
          "2012-01-27T00:00:00",
          "2012-01-28T00:00:00",
          "2012-01-29T00:00:00",
          "2012-01-30T00:00:00",
          "2012-01-31T00:00:00",
          "2012-02-01T00:00:00",
          "2012-02-02T00:00:00",
          "2012-02-03T00:00:00",
          "2012-02-04T00:00:00",
          "2012-02-05T00:00:00",
          "2012-02-06T00:00:00",
          "2012-02-07T00:00:00",
          "2012-02-08T00:00:00",
          "2012-02-09T00:00:00",
          "2012-02-10T00:00:00",
          "2012-02-11T00:00:00",
          "2012-02-12T00:00:00",
          "2012-02-13T00:00:00",
          "2012-02-14T00:00:00",
          "2012-02-15T00:00:00",
          "2012-02-16T00:00:00",
          "2012-02-17T00:00:00",
          "2012-02-18T00:00:00",
          "2012-02-19T00:00:00",
          "2012-02-20T00:00:00",
          "2012-02-21T00:00:00",
          "2012-02-22T00:00:00",
          "2012-02-23T00:00:00",
          "2012-02-24T00:00:00",
          "2012-02-25T00:00:00",
          "2012-02-26T00:00:00",
          "2012-02-27T00:00:00",
          "2012-02-28T00:00:00",
          "2012-02-29T00:00:00",
          "2012-03-01T00:00:00",
          "2012-03-02T00:00:00",
          "2012-03-03T00:00:00",
          "2012-03-04T00:00:00",
          "2012-03-05T00:00:00",
          "2012-03-06T00:00:00",
          "2012-03-07T00:00:00",
          "2012-03-08T00:00:00",
          "2012-03-09T00:00:00",
          "2012-03-10T00:00:00",
          "2012-03-11T00:00:00",
          "2012-03-12T00:00:00",
          "2012-03-13T00:00:00",
          "2012-03-14T00:00:00",
          "2012-03-15T00:00:00",
          "2012-03-16T00:00:00",
          "2012-03-17T00:00:00",
          "2012-03-18T00:00:00",
          "2012-03-19T00:00:00",
          "2012-03-20T00:00:00",
          "2012-03-21T00:00:00",
          "2012-03-22T00:00:00",
          "2012-03-23T00:00:00",
          "2012-03-24T00:00:00",
          "2012-03-25T00:00:00",
          "2012-03-26T00:00:00",
          "2012-03-27T00:00:00",
          "2012-03-28T00:00:00",
          "2012-03-29T00:00:00",
          "2012-03-30T00:00:00",
          "2012-03-31T00:00:00",
          "2012-04-01T00:00:00",
          "2012-04-02T00:00:00",
          "2012-04-03T00:00:00",
          "2012-04-04T00:00:00",
          "2012-04-05T00:00:00",
          "2012-04-06T00:00:00",
          "2012-04-07T00:00:00",
          "2012-04-08T00:00:00",
          "2012-04-09T00:00:00",
          "2012-04-10T00:00:00",
          "2012-04-11T00:00:00",
          "2012-04-12T00:00:00",
          "2012-04-13T00:00:00",
          "2012-04-14T00:00:00",
          "2012-04-15T00:00:00",
          "2012-04-16T00:00:00",
          "2012-04-17T00:00:00",
          "2012-04-18T00:00:00",
          "2012-04-19T00:00:00",
          "2012-04-20T00:00:00",
          "2012-04-21T00:00:00",
          "2012-04-22T00:00:00",
          "2012-04-23T00:00:00",
          "2012-04-24T00:00:00",
          "2012-04-25T00:00:00",
          "2012-04-26T00:00:00",
          "2012-04-27T00:00:00",
          "2012-04-28T00:00:00",
          "2012-04-29T00:00:00",
          "2012-04-30T00:00:00",
          "2012-05-01T00:00:00",
          "2012-05-02T00:00:00",
          "2012-05-03T00:00:00",
          "2012-05-04T00:00:00",
          "2012-05-05T00:00:00",
          "2012-05-06T00:00:00",
          "2012-05-07T00:00:00",
          "2012-05-08T00:00:00",
          "2012-05-09T00:00:00",
          "2012-05-10T00:00:00",
          "2012-05-11T00:00:00",
          "2012-05-12T00:00:00",
          "2012-05-13T00:00:00",
          "2012-05-14T00:00:00",
          "2012-05-15T00:00:00",
          "2012-05-16T00:00:00",
          "2012-05-17T00:00:00",
          "2012-05-18T00:00:00",
          "2012-05-19T00:00:00",
          "2012-05-20T00:00:00",
          "2012-05-21T00:00:00",
          "2012-05-22T00:00:00",
          "2012-05-23T00:00:00",
          "2012-05-24T00:00:00",
          "2012-05-25T00:00:00",
          "2012-05-26T00:00:00",
          "2012-05-27T00:00:00",
          "2012-05-28T00:00:00",
          "2012-05-29T00:00:00",
          "2012-05-30T00:00:00",
          "2012-05-31T00:00:00",
          "2012-06-01T00:00:00",
          "2012-06-02T00:00:00",
          "2012-06-03T00:00:00",
          "2012-06-04T00:00:00",
          "2012-06-05T00:00:00",
          "2012-06-06T00:00:00",
          "2012-06-07T00:00:00",
          "2012-06-08T00:00:00",
          "2012-06-09T00:00:00",
          "2012-06-10T00:00:00",
          "2012-06-11T00:00:00",
          "2012-06-12T00:00:00",
          "2012-06-13T00:00:00",
          "2012-06-14T00:00:00",
          "2012-06-15T00:00:00",
          "2012-06-16T00:00:00",
          "2012-06-17T00:00:00",
          "2012-06-18T00:00:00",
          "2012-06-19T00:00:00",
          "2012-06-20T00:00:00",
          "2012-06-21T00:00:00",
          "2012-06-22T00:00:00",
          "2012-06-23T00:00:00",
          "2012-06-24T00:00:00",
          "2012-06-25T00:00:00",
          "2012-06-26T00:00:00",
          "2012-06-27T00:00:00",
          "2012-06-28T00:00:00",
          "2012-06-29T00:00:00",
          "2012-06-30T00:00:00",
          "2012-07-01T00:00:00",
          "2012-07-02T00:00:00",
          "2012-07-03T00:00:00",
          "2012-07-04T00:00:00",
          "2012-07-05T00:00:00",
          "2012-07-06T00:00:00",
          "2012-07-07T00:00:00",
          "2012-07-08T00:00:00",
          "2012-07-09T00:00:00",
          "2012-07-10T00:00:00",
          "2012-07-11T00:00:00",
          "2012-07-12T00:00:00",
          "2012-07-13T00:00:00",
          "2012-07-14T00:00:00",
          "2012-07-15T00:00:00",
          "2012-07-16T00:00:00",
          "2012-07-17T00:00:00",
          "2012-07-18T00:00:00",
          "2012-07-19T00:00:00",
          "2012-07-20T00:00:00",
          "2012-07-21T00:00:00",
          "2012-07-22T00:00:00",
          "2012-07-23T00:00:00",
          "2012-07-24T00:00:00",
          "2012-07-25T00:00:00",
          "2012-07-26T00:00:00",
          "2012-07-27T00:00:00",
          "2012-07-28T00:00:00",
          "2012-07-29T00:00:00",
          "2012-07-30T00:00:00",
          "2012-07-31T00:00:00",
          "2012-08-01T00:00:00",
          "2012-08-02T00:00:00",
          "2012-08-03T00:00:00",
          "2012-08-04T00:00:00",
          "2012-08-05T00:00:00",
          "2012-08-06T00:00:00",
          "2012-08-07T00:00:00",
          "2012-08-08T00:00:00",
          "2012-08-09T00:00:00",
          "2012-08-10T00:00:00",
          "2012-08-11T00:00:00",
          "2012-08-12T00:00:00",
          "2012-08-13T00:00:00",
          "2012-08-14T00:00:00",
          "2012-08-15T00:00:00",
          "2012-08-16T00:00:00",
          "2012-08-17T00:00:00",
          "2012-08-18T00:00:00",
          "2012-08-19T00:00:00",
          "2012-08-20T00:00:00",
          "2012-08-21T00:00:00",
          "2012-08-22T00:00:00",
          "2012-08-23T00:00:00",
          "2012-08-24T00:00:00",
          "2012-08-25T00:00:00",
          "2012-08-26T00:00:00",
          "2012-08-27T00:00:00",
          "2012-08-28T00:00:00",
          "2012-08-29T00:00:00",
          "2012-08-30T00:00:00",
          "2012-08-31T00:00:00",
          "2012-09-01T00:00:00",
          "2012-09-02T00:00:00",
          "2012-09-03T00:00:00",
          "2012-09-04T00:00:00",
          "2012-09-05T00:00:00",
          "2012-09-06T00:00:00",
          "2012-09-07T00:00:00",
          "2012-09-08T00:00:00",
          "2012-09-09T00:00:00",
          "2012-09-10T00:00:00",
          "2012-09-11T00:00:00",
          "2012-09-12T00:00:00",
          "2012-09-13T00:00:00",
          "2012-09-14T00:00:00",
          "2012-09-15T00:00:00",
          "2012-09-16T00:00:00",
          "2012-09-17T00:00:00",
          "2012-09-18T00:00:00",
          "2012-09-19T00:00:00",
          "2012-09-20T00:00:00",
          "2012-09-21T00:00:00",
          "2012-09-22T00:00:00",
          "2012-09-23T00:00:00",
          "2012-09-24T00:00:00",
          "2012-09-25T00:00:00",
          "2012-09-26T00:00:00",
          "2012-09-27T00:00:00",
          "2012-09-28T00:00:00",
          "2012-09-29T00:00:00",
          "2012-09-30T00:00:00",
          "2012-10-01T00:00:00",
          "2012-10-02T00:00:00",
          "2012-10-03T00:00:00",
          "2012-10-04T00:00:00",
          "2012-10-05T00:00:00",
          "2012-10-06T00:00:00",
          "2012-10-07T00:00:00",
          "2012-10-08T00:00:00",
          "2012-10-09T00:00:00",
          "2012-10-10T00:00:00",
          "2012-10-11T00:00:00",
          "2012-10-12T00:00:00",
          "2012-10-13T00:00:00",
          "2012-10-14T00:00:00",
          "2012-10-15T00:00:00",
          "2012-10-16T00:00:00",
          "2012-10-17T00:00:00",
          "2012-10-18T00:00:00",
          "2012-10-19T00:00:00",
          "2012-10-20T00:00:00",
          "2012-10-21T00:00:00",
          "2012-10-22T00:00:00",
          "2012-10-23T00:00:00",
          "2012-10-24T00:00:00",
          "2012-10-25T00:00:00",
          "2012-10-26T00:00:00",
          "2012-10-27T00:00:00",
          "2012-10-28T00:00:00",
          "2012-10-29T00:00:00",
          "2012-10-30T00:00:00",
          "2012-10-31T00:00:00",
          "2012-11-01T00:00:00",
          "2012-11-02T00:00:00",
          "2012-11-03T00:00:00",
          "2012-11-04T00:00:00",
          "2012-11-05T00:00:00",
          "2012-11-06T00:00:00",
          "2012-11-07T00:00:00",
          "2012-11-08T00:00:00",
          "2012-11-09T00:00:00",
          "2012-11-10T00:00:00",
          "2012-11-11T00:00:00",
          "2012-11-12T00:00:00",
          "2012-11-13T00:00:00",
          "2012-11-14T00:00:00",
          "2012-11-15T00:00:00",
          "2012-11-16T00:00:00",
          "2012-11-17T00:00:00",
          "2012-11-18T00:00:00",
          "2012-11-19T00:00:00",
          "2012-11-20T00:00:00",
          "2012-11-21T00:00:00",
          "2012-11-22T00:00:00",
          "2012-11-23T00:00:00",
          "2012-11-24T00:00:00",
          "2012-11-25T00:00:00",
          "2012-11-26T00:00:00",
          "2012-11-27T00:00:00",
          "2012-11-28T00:00:00",
          "2012-11-29T00:00:00",
          "2012-11-30T00:00:00",
          "2012-12-01T00:00:00",
          "2012-12-02T00:00:00",
          "2012-12-03T00:00:00",
          "2012-12-04T00:00:00",
          "2012-12-05T00:00:00",
          "2012-12-06T00:00:00",
          "2012-12-07T00:00:00",
          "2012-12-08T00:00:00",
          "2012-12-09T00:00:00",
          "2012-12-10T00:00:00",
          "2012-12-11T00:00:00",
          "2012-12-12T00:00:00",
          "2012-12-13T00:00:00",
          "2012-12-14T00:00:00",
          "2012-12-15T00:00:00",
          "2012-12-16T00:00:00",
          "2012-12-17T00:00:00",
          "2012-12-18T00:00:00",
          "2012-12-19T00:00:00",
          "2012-12-20T00:00:00",
          "2012-12-21T00:00:00",
          "2012-12-22T00:00:00",
          "2012-12-23T00:00:00",
          "2012-12-24T00:00:00",
          "2012-12-25T00:00:00",
          "2012-12-26T00:00:00",
          "2012-12-27T00:00:00",
          "2012-12-28T00:00:00",
          "2012-12-29T00:00:00",
          "2012-12-30T00:00:00",
          "2012-12-31T00:00:00",
          "2013-01-01T00:00:00",
          "2013-01-02T00:00:00",
          "2013-01-03T00:00:00",
          "2013-01-04T00:00:00",
          "2013-01-05T00:00:00",
          "2013-01-06T00:00:00",
          "2013-01-07T00:00:00",
          "2013-01-08T00:00:00",
          "2013-01-09T00:00:00",
          "2013-01-10T00:00:00",
          "2013-01-11T00:00:00",
          "2013-01-12T00:00:00",
          "2013-01-13T00:00:00",
          "2013-01-14T00:00:00",
          "2013-01-15T00:00:00",
          "2013-01-16T00:00:00",
          "2013-01-17T00:00:00",
          "2013-01-18T00:00:00",
          "2013-01-19T00:00:00",
          "2013-01-20T00:00:00",
          "2013-01-21T00:00:00",
          "2013-01-22T00:00:00",
          "2013-01-23T00:00:00",
          "2013-01-24T00:00:00",
          "2013-01-25T00:00:00",
          "2013-01-26T00:00:00",
          "2013-01-27T00:00:00",
          "2013-01-28T00:00:00",
          "2013-01-29T00:00:00",
          "2013-01-30T00:00:00",
          "2013-01-31T00:00:00",
          "2013-02-01T00:00:00",
          "2013-02-02T00:00:00",
          "2013-02-03T00:00:00",
          "2013-02-04T00:00:00",
          "2013-02-05T00:00:00",
          "2013-02-06T00:00:00",
          "2013-02-07T00:00:00",
          "2013-02-08T00:00:00",
          "2013-02-09T00:00:00",
          "2013-02-10T00:00:00",
          "2013-02-11T00:00:00",
          "2013-02-12T00:00:00",
          "2013-02-13T00:00:00",
          "2013-02-14T00:00:00",
          "2013-02-15T00:00:00",
          "2013-02-16T00:00:00",
          "2013-02-17T00:00:00",
          "2013-02-18T00:00:00",
          "2013-02-19T00:00:00",
          "2013-02-20T00:00:00",
          "2013-02-21T00:00:00",
          "2013-02-22T00:00:00",
          "2013-02-23T00:00:00",
          "2013-02-24T00:00:00",
          "2013-02-25T00:00:00",
          "2013-02-26T00:00:00",
          "2013-02-27T00:00:00",
          "2013-02-28T00:00:00",
          "2013-03-01T00:00:00"
         ],
         "y": {
          "bdata": "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",
          "dtype": "f8"
         }
        }
       ],
       "layout": {
        "template": {
         "data": {
          "bar": [
           {
            "error_x": {
             "color": "#2a3f5f"
            },
            "error_y": {
             "color": "#2a3f5f"
            },
            "marker": {
             "line": {
              "color": "#E5ECF6",
              "width": 0.5
             },
             "pattern": {
              "fillmode": "overlay",
              "size": 10,
              "solidity": 0.2
             }
            },
            "type": "bar"
           }
          ],
          "barpolar": [
           {
            "marker": {
             "line": {
              "color": "#E5ECF6",
              "width": 0.5
             },
             "pattern": {
              "fillmode": "overlay",
              "size": 10,
              "solidity": 0.2
             }
            },
            "type": "barpolar"
           }
          ],
          "carpet": [
           {
            "aaxis": {
             "endlinecolor": "#2a3f5f",
             "gridcolor": "white",
             "linecolor": "white",
             "minorgridcolor": "white",
             "startlinecolor": "#2a3f5f"
            },
            "baxis": {
             "endlinecolor": "#2a3f5f",
             "gridcolor": "white",
             "linecolor": "white",
             "minorgridcolor": "white",
             "startlinecolor": "#2a3f5f"
            },
            "type": "carpet"
           }
          ],
          "choropleth": [
           {
            "colorbar": {
             "outlinewidth": 0,
             "ticks": ""
            },
            "type": "choropleth"
           }
          ],
          "contour": [
           {
            "colorbar": {
             "outlinewidth": 0,
             "ticks": ""
            },
            "colorscale": [
             [
              0,
              "#0d0887"
             ],
             [
              0.1111111111111111,
              "#46039f"
             ],
             [
              0.2222222222222222,
              "#7201a8"
             ],
             [
              0.3333333333333333,
              "#9c179e"
             ],
             [
              0.4444444444444444,
              "#bd3786"
             ],
             [
              0.5555555555555556,
              "#d8576b"
             ],
             [
              0.6666666666666666,
              "#ed7953"
             ],
             [
              0.7777777777777778,
              "#fb9f3a"
             ],
             [
              0.8888888888888888,
              "#fdca26"
             ],
             [
              1,
              "#f0f921"
             ]
            ],
            "type": "contour"
           }
          ],
          "contourcarpet": [
           {
            "colorbar": {
             "outlinewidth": 0,
             "ticks": ""
            },
            "type": "contourcarpet"
           }
          ],
          "heatmap": [
           {
            "colorbar": {
             "outlinewidth": 0,
             "ticks": ""
            },
            "colorscale": [
             [
              0,
              "#0d0887"
             ],
             [
              0.1111111111111111,
              "#46039f"
             ],
             [
              0.2222222222222222,
              "#7201a8"
             ],
             [
              0.3333333333333333,
              "#9c179e"
             ],
             [
              0.4444444444444444,
              "#bd3786"
             ],
             [
              0.5555555555555556,
              "#d8576b"
             ],
             [
              0.6666666666666666,
              "#ed7953"
             ],
             [
              0.7777777777777778,
              "#fb9f3a"
             ],
             [
              0.8888888888888888,
              "#fdca26"
             ],
             [
              1,
              "#f0f921"
             ]
            ],
            "type": "heatmap"
           }
          ],
          "histogram": [
           {
            "marker": {
             "pattern": {
              "fillmode": "overlay",
              "size": 10,
              "solidity": 0.2
             }
            },
            "type": "histogram"
           }
          ],
          "histogram2d": [
           {
            "colorbar": {
             "outlinewidth": 0,
             "ticks": ""
            },
            "colorscale": [
             [
              0,
              "#0d0887"
             ],
             [
              0.1111111111111111,
              "#46039f"
             ],
             [
              0.2222222222222222,
              "#7201a8"
             ],
             [
              0.3333333333333333,
              "#9c179e"
             ],
             [
              0.4444444444444444,
              "#bd3786"
             ],
             [
              0.5555555555555556,
              "#d8576b"
             ],
             [
              0.6666666666666666,
              "#ed7953"
             ],
             [
              0.7777777777777778,
              "#fb9f3a"
             ],
             [
              0.8888888888888888,
              "#fdca26"
             ],
             [
              1,
              "#f0f921"
             ]
            ],
            "type": "histogram2d"
           }
          ],
          "histogram2dcontour": [
           {
            "colorbar": {
             "outlinewidth": 0,
             "ticks": ""
            },
            "colorscale": [
             [
              0,
              "#0d0887"
             ],
             [
              0.1111111111111111,
              "#46039f"
             ],
             [
              0.2222222222222222,
              "#7201a8"
             ],
             [
              0.3333333333333333,
              "#9c179e"
             ],
             [
              0.4444444444444444,
              "#bd3786"
             ],
             [
              0.5555555555555556,
              "#d8576b"
             ],
             [
              0.6666666666666666,
              "#ed7953"
             ],
             [
              0.7777777777777778,
              "#fb9f3a"
             ],
             [
              0.8888888888888888,
              "#fdca26"
             ],
             [
              1,
              "#f0f921"
             ]
            ],
            "type": "histogram2dcontour"
           }
          ],
          "mesh3d": [
           {
            "colorbar": {
             "outlinewidth": 0,
             "ticks": ""
            },
            "type": "mesh3d"
           }
          ],
          "parcoords": [
           {
            "line": {
             "colorbar": {
              "outlinewidth": 0,
              "ticks": ""
             }
            },
            "type": "parcoords"
           }
          ],
          "pie": [
           {
            "automargin": true,
            "type": "pie"
           }
          ],
          "scatter": [
           {
            "fillpattern": {
             "fillmode": "overlay",
             "size": 10,
             "solidity": 0.2
            },
            "type": "scatter"
           }
          ],
          "scatter3d": [
           {
            "line": {
             "colorbar": {
              "outlinewidth": 0,
              "ticks": ""
             }
            },
            "marker": {
             "colorbar": {
              "outlinewidth": 0,
              "ticks": ""
             }
            },
            "type": "scatter3d"
           }
          ],
          "scattercarpet": [
           {
            "marker": {
             "colorbar": {
              "outlinewidth": 0,
              "ticks": ""
             }
            },
            "type": "scattercarpet"
           }
          ],
          "scattergeo": [
           {
            "marker": {
             "colorbar": {
              "outlinewidth": 0,
              "ticks": ""
             }
            },
            "type": "scattergeo"
           }
          ],
          "scattergl": [
           {
            "marker": {
             "colorbar": {
              "outlinewidth": 0,
              "ticks": ""
             }
            },
            "type": "scattergl"
           }
          ],
          "scattermap": [
           {
            "marker": {
             "colorbar": {
              "outlinewidth": 0,
              "ticks": ""
             }
            },
            "type": "scattermap"
           }
          ],
          "scattermapbox": [
           {
            "marker": {
             "colorbar": {
              "outlinewidth": 0,
              "ticks": ""
             }
            },
            "type": "scattermapbox"
           }
          ],
          "scatterpolar": [
           {
            "marker": {
             "colorbar": {
              "outlinewidth": 0,
              "ticks": ""
             }
            },
            "type": "scatterpolar"
           }
          ],
          "scatterpolargl": [
           {
            "marker": {
             "colorbar": {
              "outlinewidth": 0,
              "ticks": ""
             }
            },
            "type": "scatterpolargl"
           }
          ],
          "scatterternary": [
           {
            "marker": {
             "colorbar": {
              "outlinewidth": 0,
              "ticks": ""
             }
            },
            "type": "scatterternary"
           }
          ],
          "surface": [
           {
            "colorbar": {
             "outlinewidth": 0,
             "ticks": ""
            },
            "colorscale": [
             [
              0,
              "#0d0887"
             ],
             [
              0.1111111111111111,
              "#46039f"
             ],
             [
              0.2222222222222222,
              "#7201a8"
             ],
             [
              0.3333333333333333,
              "#9c179e"
             ],
             [
              0.4444444444444444,
              "#bd3786"
             ],
             [
              0.5555555555555556,
              "#d8576b"
             ],
             [
              0.6666666666666666,
              "#ed7953"
             ],
             [
              0.7777777777777778,
              "#fb9f3a"
             ],
             [
              0.8888888888888888,
              "#fdca26"
             ],
             [
              1,
              "#f0f921"
             ]
            ],
            "type": "surface"
           }
          ],
          "table": [
           {
            "cells": {
             "fill": {
              "color": "#EBF0F8"
             },
             "line": {
              "color": "white"
             }
            },
            "header": {
             "fill": {
              "color": "#C8D4E3"
             },
             "line": {
              "color": "white"
             }
            },
            "type": "table"
           }
          ]
         },
         "layout": {
          "annotationdefaults": {
           "arrowcolor": "#2a3f5f",
           "arrowhead": 0,
           "arrowwidth": 1
          },
          "autotypenumbers": "strict",
          "coloraxis": {
           "colorbar": {
            "outlinewidth": 0,
            "ticks": ""
           }
          },
          "colorscale": {
           "diverging": [
            [
             0,
             "#8e0152"
            ],
            [
             0.1,
             "#c51b7d"
            ],
            [
             0.2,
             "#de77ae"
            ],
            [
             0.3,
             "#f1b6da"
            ],
            [
             0.4,
             "#fde0ef"
            ],
            [
             0.5,
             "#f7f7f7"
            ],
            [
             0.6,
             "#e6f5d0"
            ],
            [
             0.7,
             "#b8e186"
            ],
            [
             0.8,
             "#7fbc41"
            ],
            [
             0.9,
             "#4d9221"
            ],
            [
             1,
             "#276419"
            ]
           ],
           "sequential": [
            [
             0,
             "#0d0887"
            ],
            [
             0.1111111111111111,
             "#46039f"
            ],
            [
             0.2222222222222222,
             "#7201a8"
            ],
            [
             0.3333333333333333,
             "#9c179e"
            ],
            [
             0.4444444444444444,
             "#bd3786"
            ],
            [
             0.5555555555555556,
             "#d8576b"
            ],
            [
             0.6666666666666666,
             "#ed7953"
            ],
            [
             0.7777777777777778,
             "#fb9f3a"
            ],
            [
             0.8888888888888888,
             "#fdca26"
            ],
            [
             1,
             "#f0f921"
            ]
           ],
           "sequentialminus": [
            [
             0,
             "#0d0887"
            ],
            [
             0.1111111111111111,
             "#46039f"
            ],
            [
             0.2222222222222222,
             "#7201a8"
            ],
            [
             0.3333333333333333,
             "#9c179e"
            ],
            [
             0.4444444444444444,
             "#bd3786"
            ],
            [
             0.5555555555555556,
             "#d8576b"
            ],
            [
             0.6666666666666666,
             "#ed7953"
            ],
            [
             0.7777777777777778,
             "#fb9f3a"
            ],
            [
             0.8888888888888888,
             "#fdca26"
            ],
            [
             1,
             "#f0f921"
            ]
           ]
          },
          "colorway": [
           "#636efa",
           "#EF553B",
           "#00cc96",
           "#ab63fa",
           "#FFA15A",
           "#19d3f3",
           "#FF6692",
           "#B6E880",
           "#FF97FF",
           "#FECB52"
          ],
          "font": {
           "color": "#2a3f5f"
          },
          "geo": {
           "bgcolor": "white",
           "lakecolor": "white",
           "landcolor": "#E5ECF6",
           "showlakes": true,
           "showland": true,
           "subunitcolor": "white"
          },
          "hoverlabel": {
           "align": "left"
          },
          "hovermode": "closest",
          "mapbox": {
           "style": "light"
          },
          "paper_bgcolor": "white",
          "plot_bgcolor": "#E5ECF6",
          "polar": {
           "angularaxis": {
            "gridcolor": "white",
            "linecolor": "white",
            "ticks": ""
           },
           "bgcolor": "#E5ECF6",
           "radialaxis": {
            "gridcolor": "white",
            "linecolor": "white",
            "ticks": ""
           }
          },
          "scene": {
           "xaxis": {
            "backgroundcolor": "#E5ECF6",
            "gridcolor": "white",
            "gridwidth": 2,
            "linecolor": "white",
            "showbackground": true,
            "ticks": "",
            "zerolinecolor": "white"
           },
           "yaxis": {
            "backgroundcolor": "#E5ECF6",
            "gridcolor": "white",
            "gridwidth": 2,
            "linecolor": "white",
            "showbackground": true,
            "ticks": "",
            "zerolinecolor": "white"
           },
           "zaxis": {
            "backgroundcolor": "#E5ECF6",
            "gridcolor": "white",
            "gridwidth": 2,
            "linecolor": "white",
            "showbackground": true,
            "ticks": "",
            "zerolinecolor": "white"
           }
          },
          "shapedefaults": {
           "line": {
            "color": "#2a3f5f"
           }
          },
          "ternary": {
           "aaxis": {
            "gridcolor": "white",
            "linecolor": "white",
            "ticks": ""
           },
           "baxis": {
            "gridcolor": "white",
            "linecolor": "white",
            "ticks": ""
           },
           "bgcolor": "#E5ECF6",
           "caxis": {
            "gridcolor": "white",
            "linecolor": "white",
            "ticks": ""
           }
          },
          "title": {
           "x": 0.05
          },
          "xaxis": {
           "automargin": true,
           "gridcolor": "white",
           "linecolor": "white",
           "ticks": "",
           "title": {
            "standoff": 15
           },
           "zerolinecolor": "white",
           "zerolinewidth": 2
          },
          "yaxis": {
           "automargin": true,
           "gridcolor": "white",
           "linecolor": "white",
           "ticks": "",
           "title": {
            "standoff": 15
           },
           "zerolinecolor": "white",
           "zerolinewidth": 2
          }
         }
        },
        "title": {
         "text": "60-Day Forecast of Total Rides (with Confidence Intervals)"
        },
        "xaxis": {
         "title": {
          "text": "Date"
         }
        },
        "yaxis": {
         "title": {
          "text": "Total Rides"
         }
        }
       }
      }
     },
     "metadata": {},
     "output_type": "display_data"
    },
    {
     "data": {
      "application/vnd.plotly.v1+json": {
       "config": {
        "plotlyServerURL": "https://plot.ly"
       },
       "data": [
        {
         "hovertemplate": "Weather Condition=%{x}<br>Percentage Change=%{marker.color}<extra></extra>",
         "legendgroup": "",
         "marker": {
          "color": {
           "bdata": "AAAAAAAAAAAAAAAAAIBPwDMzMzMzMzHA",
           "dtype": "f8"
          },
          "coloraxis": "coloraxis",
          "pattern": {
           "shape": ""
          }
         },
         "name": "",
         "orientation": "v",
         "showlegend": false,
         "text": {
          "bdata": "AAAAAAAAAAAAAAAAAIBPwDMzMzMzMzHA",
          "dtype": "f8"
         },
         "textposition": "inside",
         "texttemplate": "%{text:.1f}%",
         "type": "bar",
         "x": [
          "Clear/Few Clouds/Partly Cloudy",
          "Light Snow/Light Rain/Thunderstorm",
          "Mist/Cloudy/Broken Clouds"
         ],
         "xaxis": "x",
         "y": {
          "bdata": "AAAAAAAAAAAAAAAAAIBPwDMzMzMzMzHA",
          "dtype": "f8"
         },
         "yaxis": "y"
        }
       ],
       "layout": {
        "barmode": "relative",
        "coloraxis": {
         "colorbar": {
          "title": {
           "text": "Percentage Change"
          }
         },
         "colorscale": [
          [
           0,
           "rgb(5,48,97)"
          ],
          [
           0.1,
           "rgb(33,102,172)"
          ],
          [
           0.2,
           "rgb(67,147,195)"
          ],
          [
           0.3,
           "rgb(146,197,222)"
          ],
          [
           0.4,
           "rgb(209,229,240)"
          ],
          [
           0.5,
           "rgb(247,247,247)"
          ],
          [
           0.6,
           "rgb(253,219,199)"
          ],
          [
           0.7,
           "rgb(244,165,130)"
          ],
          [
           0.8,
           "rgb(214,96,77)"
          ],
          [
           0.9,
           "rgb(178,24,43)"
          ],
          [
           1,
           "rgb(103,0,31)"
          ]
         ]
        },
        "font": {
         "size": 14
        },
        "legend": {
         "tracegroupgap": 0
        },
        "template": {
         "data": {
          "bar": [
           {
            "error_x": {
             "color": "#2a3f5f"
            },
            "error_y": {
             "color": "#2a3f5f"
            },
            "marker": {
             "line": {
              "color": "#E5ECF6",
              "width": 0.5
             },
             "pattern": {
              "fillmode": "overlay",
              "size": 10,
              "solidity": 0.2
             }
            },
            "type": "bar"
           }
          ],
          "barpolar": [
           {
            "marker": {
             "line": {
              "color": "#E5ECF6",
              "width": 0.5
             },
             "pattern": {
              "fillmode": "overlay",
              "size": 10,
              "solidity": 0.2
             }
            },
            "type": "barpolar"
           }
          ],
          "carpet": [
           {
            "aaxis": {
             "endlinecolor": "#2a3f5f",
             "gridcolor": "white",
             "linecolor": "white",
             "minorgridcolor": "white",
             "startlinecolor": "#2a3f5f"
            },
            "baxis": {
             "endlinecolor": "#2a3f5f",
             "gridcolor": "white",
             "linecolor": "white",
             "minorgridcolor": "white",
             "startlinecolor": "#2a3f5f"
            },
            "type": "carpet"
           }
          ],
          "choropleth": [
           {
            "colorbar": {
             "outlinewidth": 0,
             "ticks": ""
            },
            "type": "choropleth"
           }
          ],
          "contour": [
           {
            "colorbar": {
             "outlinewidth": 0,
             "ticks": ""
            },
            "colorscale": [
             [
              0,
              "#0d0887"
             ],
             [
              0.1111111111111111,
              "#46039f"
             ],
             [
              0.2222222222222222,
              "#7201a8"
             ],
             [
              0.3333333333333333,
              "#9c179e"
             ],
             [
              0.4444444444444444,
              "#bd3786"
             ],
             [
              0.5555555555555556,
              "#d8576b"
             ],
             [
              0.6666666666666666,
              "#ed7953"
             ],
             [
              0.7777777777777778,
              "#fb9f3a"
             ],
             [
              0.8888888888888888,
              "#fdca26"
             ],
             [
              1,
              "#f0f921"
             ]
            ],
            "type": "contour"
           }
          ],
          "contourcarpet": [
           {
            "colorbar": {
             "outlinewidth": 0,
             "ticks": ""
            },
            "type": "contourcarpet"
           }
          ],
          "heatmap": [
           {
            "colorbar": {
             "outlinewidth": 0,
             "ticks": ""
            },
            "colorscale": [
             [
              0,
              "#0d0887"
             ],
             [
              0.1111111111111111,
              "#46039f"
             ],
             [
              0.2222222222222222,
              "#7201a8"
             ],
             [
              0.3333333333333333,
              "#9c179e"
             ],
             [
              0.4444444444444444,
              "#bd3786"
             ],
             [
              0.5555555555555556,
              "#d8576b"
             ],
             [
              0.6666666666666666,
              "#ed7953"
             ],
             [
              0.7777777777777778,
              "#fb9f3a"
             ],
             [
              0.8888888888888888,
              "#fdca26"
             ],
             [
              1,
              "#f0f921"
             ]
            ],
            "type": "heatmap"
           }
          ],
          "histogram": [
           {
            "marker": {
             "pattern": {
              "fillmode": "overlay",
              "size": 10,
              "solidity": 0.2
             }
            },
            "type": "histogram"
           }
          ],
          "histogram2d": [
           {
            "colorbar": {
             "outlinewidth": 0,
             "ticks": ""
            },
            "colorscale": [
             [
              0,
              "#0d0887"
             ],
             [
              0.1111111111111111,
              "#46039f"
             ],
             [
              0.2222222222222222,
              "#7201a8"
             ],
             [
              0.3333333333333333,
              "#9c179e"
             ],
             [
              0.4444444444444444,
              "#bd3786"
             ],
             [
              0.5555555555555556,
              "#d8576b"
             ],
             [
              0.6666666666666666,
              "#ed7953"
             ],
             [
              0.7777777777777778,
              "#fb9f3a"
             ],
             [
              0.8888888888888888,
              "#fdca26"
             ],
             [
              1,
              "#f0f921"
             ]
            ],
            "type": "histogram2d"
           }
          ],
          "histogram2dcontour": [
           {
            "colorbar": {
             "outlinewidth": 0,
             "ticks": ""
            },
            "colorscale": [
             [
              0,
              "#0d0887"
             ],
             [
              0.1111111111111111,
              "#46039f"
             ],
             [
              0.2222222222222222,
              "#7201a8"
             ],
             [
              0.3333333333333333,
              "#9c179e"
             ],
             [
              0.4444444444444444,
              "#bd3786"
             ],
             [
              0.5555555555555556,
              "#d8576b"
             ],
             [
              0.6666666666666666,
              "#ed7953"
             ],
             [
              0.7777777777777778,
              "#fb9f3a"
             ],
             [
              0.8888888888888888,
              "#fdca26"
             ],
             [
              1,
              "#f0f921"
             ]
            ],
            "type": "histogram2dcontour"
           }
          ],
          "mesh3d": [
           {
            "colorbar": {
             "outlinewidth": 0,
             "ticks": ""
            },
            "type": "mesh3d"
           }
          ],
          "parcoords": [
           {
            "line": {
             "colorbar": {
              "outlinewidth": 0,
              "ticks": ""
             }
            },
            "type": "parcoords"
           }
          ],
          "pie": [
           {
            "automargin": true,
            "type": "pie"
           }
          ],
          "scatter": [
           {
            "fillpattern": {
             "fillmode": "overlay",
             "size": 10,
             "solidity": 0.2
            },
            "type": "scatter"
           }
          ],
          "scatter3d": [
           {
            "line": {
             "colorbar": {
              "outlinewidth": 0,
              "ticks": ""
             }
            },
            "marker": {
             "colorbar": {
              "outlinewidth": 0,
              "ticks": ""
             }
            },
            "type": "scatter3d"
           }
          ],
          "scattercarpet": [
           {
            "marker": {
             "colorbar": {
              "outlinewidth": 0,
              "ticks": ""
             }
            },
            "type": "scattercarpet"
           }
          ],
          "scattergeo": [
           {
            "marker": {
             "colorbar": {
              "outlinewidth": 0,
              "ticks": ""
             }
            },
            "type": "scattergeo"
           }
          ],
          "scattergl": [
           {
            "marker": {
             "colorbar": {
              "outlinewidth": 0,
              "ticks": ""
             }
            },
            "type": "scattergl"
           }
          ],
          "scattermap": [
           {
            "marker": {
             "colorbar": {
              "outlinewidth": 0,
              "ticks": ""
             }
            },
            "type": "scattermap"
           }
          ],
          "scattermapbox": [
           {
            "marker": {
             "colorbar": {
              "outlinewidth": 0,
              "ticks": ""
             }
            },
            "type": "scattermapbox"
           }
          ],
          "scatterpolar": [
           {
            "marker": {
             "colorbar": {
              "outlinewidth": 0,
              "ticks": ""
             }
            },
            "type": "scatterpolar"
           }
          ],
          "scatterpolargl": [
           {
            "marker": {
             "colorbar": {
              "outlinewidth": 0,
              "ticks": ""
             }
            },
            "type": "scatterpolargl"
           }
          ],
          "scatterternary": [
           {
            "marker": {
             "colorbar": {
              "outlinewidth": 0,
              "ticks": ""
             }
            },
            "type": "scatterternary"
           }
          ],
          "surface": [
           {
            "colorbar": {
             "outlinewidth": 0,
             "ticks": ""
            },
            "colorscale": [
             [
              0,
              "#0d0887"
             ],
             [
              0.1111111111111111,
              "#46039f"
             ],
             [
              0.2222222222222222,
              "#7201a8"
             ],
             [
              0.3333333333333333,
              "#9c179e"
             ],
             [
              0.4444444444444444,
              "#bd3786"
             ],
             [
              0.5555555555555556,
              "#d8576b"
             ],
             [
              0.6666666666666666,
              "#ed7953"
             ],
             [
              0.7777777777777778,
              "#fb9f3a"
             ],
             [
              0.8888888888888888,
              "#fdca26"
             ],
             [
              1,
              "#f0f921"
             ]
            ],
            "type": "surface"
           }
          ],
          "table": [
           {
            "cells": {
             "fill": {
              "color": "#EBF0F8"
             },
             "line": {
              "color": "white"
             }
            },
            "header": {
             "fill": {
              "color": "#C8D4E3"
             },
             "line": {
              "color": "white"
             }
            },
            "type": "table"
           }
          ]
         },
         "layout": {
          "annotationdefaults": {
           "arrowcolor": "#2a3f5f",
           "arrowhead": 0,
           "arrowwidth": 1
          },
          "autotypenumbers": "strict",
          "coloraxis": {
           "colorbar": {
            "outlinewidth": 0,
            "ticks": ""
           }
          },
          "colorscale": {
           "diverging": [
            [
             0,
             "#8e0152"
            ],
            [
             0.1,
             "#c51b7d"
            ],
            [
             0.2,
             "#de77ae"
            ],
            [
             0.3,
             "#f1b6da"
            ],
            [
             0.4,
             "#fde0ef"
            ],
            [
             0.5,
             "#f7f7f7"
            ],
            [
             0.6,
             "#e6f5d0"
            ],
            [
             0.7,
             "#b8e186"
            ],
            [
             0.8,
             "#7fbc41"
            ],
            [
             0.9,
             "#4d9221"
            ],
            [
             1,
             "#276419"
            ]
           ],
           "sequential": [
            [
             0,
             "#0d0887"
            ],
            [
             0.1111111111111111,
             "#46039f"
            ],
            [
             0.2222222222222222,
             "#7201a8"
            ],
            [
             0.3333333333333333,
             "#9c179e"
            ],
            [
             0.4444444444444444,
             "#bd3786"
            ],
            [
             0.5555555555555556,
             "#d8576b"
            ],
            [
             0.6666666666666666,
             "#ed7953"
            ],
            [
             0.7777777777777778,
             "#fb9f3a"
            ],
            [
             0.8888888888888888,
             "#fdca26"
            ],
            [
             1,
             "#f0f921"
            ]
           ],
           "sequentialminus": [
            [
             0,
             "#0d0887"
            ],
            [
             0.1111111111111111,
             "#46039f"
            ],
            [
             0.2222222222222222,
             "#7201a8"
            ],
            [
             0.3333333333333333,
             "#9c179e"
            ],
            [
             0.4444444444444444,
             "#bd3786"
            ],
            [
             0.5555555555555556,
             "#d8576b"
            ],
            [
             0.6666666666666666,
             "#ed7953"
            ],
            [
             0.7777777777777778,
             "#fb9f3a"
            ],
            [
             0.8888888888888888,
             "#fdca26"
            ],
            [
             1,
             "#f0f921"
            ]
           ]
          },
          "colorway": [
           "#636efa",
           "#EF553B",
           "#00cc96",
           "#ab63fa",
           "#FFA15A",
           "#19d3f3",
           "#FF6692",
           "#B6E880",
           "#FF97FF",
           "#FECB52"
          ],
          "font": {
           "color": "#2a3f5f"
          },
          "geo": {
           "bgcolor": "white",
           "lakecolor": "white",
           "landcolor": "#E5ECF6",
           "showlakes": true,
           "showland": true,
           "subunitcolor": "white"
          },
          "hoverlabel": {
           "align": "left"
          },
          "hovermode": "closest",
          "mapbox": {
           "style": "light"
          },
          "paper_bgcolor": "white",
          "plot_bgcolor": "#E5ECF6",
          "polar": {
           "angularaxis": {
            "gridcolor": "white",
            "linecolor": "white",
            "ticks": ""
           },
           "bgcolor": "#E5ECF6",
           "radialaxis": {
            "gridcolor": "white",
            "linecolor": "white",
            "ticks": ""
           }
          },
          "scene": {
           "xaxis": {
            "backgroundcolor": "#E5ECF6",
            "gridcolor": "white",
            "gridwidth": 2,
            "linecolor": "white",
            "showbackground": true,
            "ticks": "",
            "zerolinecolor": "white"
           },
           "yaxis": {
            "backgroundcolor": "#E5ECF6",
            "gridcolor": "white",
            "gridwidth": 2,
            "linecolor": "white",
            "showbackground": true,
            "ticks": "",
            "zerolinecolor": "white"
           },
           "zaxis": {
            "backgroundcolor": "#E5ECF6",
            "gridcolor": "white",
            "gridwidth": 2,
            "linecolor": "white",
            "showbackground": true,
            "ticks": "",
            "zerolinecolor": "white"
           }
          },
          "shapedefaults": {
           "line": {
            "color": "#2a3f5f"
           }
          },
          "ternary": {
           "aaxis": {
            "gridcolor": "white",
            "linecolor": "white",
            "ticks": ""
           },
           "baxis": {
            "gridcolor": "white",
            "linecolor": "white",
            "ticks": ""
           },
           "bgcolor": "#E5ECF6",
           "caxis": {
            "gridcolor": "white",
            "linecolor": "white",
            "ticks": ""
           }
          },
          "title": {
           "x": 0.05
          },
          "xaxis": {
           "automargin": true,
           "gridcolor": "white",
           "linecolor": "white",
           "ticks": "",
           "title": {
            "standoff": 15
           },
           "zerolinecolor": "white",
           "zerolinewidth": 2
          },
          "yaxis": {
           "automargin": true,
           "gridcolor": "white",
           "linecolor": "white",
           "ticks": "",
           "title": {
            "standoff": 15
           },
           "zerolinecolor": "white",
           "zerolinewidth": 2
          }
         }
        },
        "title": {
         "text": "Ridership % Change Compared to Clear Weather",
         "x": 0.5
        },
        "xaxis": {
         "anchor": "y",
         "domain": [
          0,
          1
         ],
         "tickangle": -30,
         "title": {
          "text": "Weather Condition"
         }
        },
        "yaxis": {
         "anchor": "x",
         "domain": [
          0,
          1
         ],
         "title": {
          "text": "Percentage Change"
         }
        }
       }
      }
     },
     "metadata": {},
     "output_type": "display_data"
    },
    {
     "data": {
      "application/vnd.plotly.v1+json": {
       "config": {
        "plotlyServerURL": "https://plot.ly"
       },
       "data": [
        {
         "coloraxis": "coloraxis",
         "histfunc": "sum",
         "hovertemplate": "Hour=%{x}<br>Weather (1=Clear→4=Heavy)=%{y}<br>sum of sum of Avg Rentals=%{z}<extra></extra>",
         "name": "",
         "type": "histogram2d",
         "x": [
          0,
          0,
          0,
          0,
          4,
          4,
          4,
          4,
          8,
          8,
          8,
          8,
          12,
          12,
          12,
          12,
          16,
          16,
          16,
          16,
          20,
          20,
          20,
          20
         ],
         "xaxis": "x",
         "xbingroup": "x",
         "y": {
          "bdata": "AQIDBAECAwQBAgMEAQIDBAECAwQBAgME",
          "dtype": "i1"
         },
         "yaxis": "y",
         "ybingroup": "y",
         "z": {
          "bdata": "igZSAoQBxgfOBsIFmQCXBOcFtABGACgC4AEWBJsAXgCsBoQE7AC6BrQH0gPQBs4A",
          "dtype": "i2"
         }
        }
       ],
       "layout": {
        "coloraxis": {
         "colorbar": {
          "title": {
           "text": "sum of sum of Avg Rentals"
          }
         },
         "colorscale": [
          [
           0,
           "#440154"
          ],
          [
           0.1111111111111111,
           "#482878"
          ],
          [
           0.2222222222222222,
           "#3e4989"
          ],
          [
           0.3333333333333333,
           "#31688e"
          ],
          [
           0.4444444444444444,
           "#26828e"
          ],
          [
           0.5555555555555556,
           "#1f9e89"
          ],
          [
           0.6666666666666666,
           "#35b779"
          ],
          [
           0.7777777777777778,
           "#6ece58"
          ],
          [
           0.8888888888888888,
           "#b5de2b"
          ],
          [
           1,
           "#fde725"
          ]
         ]
        },
        "font": {
         "size": 14
        },
        "legend": {
         "tracegroupgap": 0
        },
        "template": {
         "data": {
          "bar": [
           {
            "error_x": {
             "color": "#2a3f5f"
            },
            "error_y": {
             "color": "#2a3f5f"
            },
            "marker": {
             "line": {
              "color": "#E5ECF6",
              "width": 0.5
             },
             "pattern": {
              "fillmode": "overlay",
              "size": 10,
              "solidity": 0.2
             }
            },
            "type": "bar"
           }
          ],
          "barpolar": [
           {
            "marker": {
             "line": {
              "color": "#E5ECF6",
              "width": 0.5
             },
             "pattern": {
              "fillmode": "overlay",
              "size": 10,
              "solidity": 0.2
             }
            },
            "type": "barpolar"
           }
          ],
          "carpet": [
           {
            "aaxis": {
             "endlinecolor": "#2a3f5f",
             "gridcolor": "white",
             "linecolor": "white",
             "minorgridcolor": "white",
             "startlinecolor": "#2a3f5f"
            },
            "baxis": {
             "endlinecolor": "#2a3f5f",
             "gridcolor": "white",
             "linecolor": "white",
             "minorgridcolor": "white",
             "startlinecolor": "#2a3f5f"
            },
            "type": "carpet"
           }
          ],
          "choropleth": [
           {
            "colorbar": {
             "outlinewidth": 0,
             "ticks": ""
            },
            "type": "choropleth"
           }
          ],
          "contour": [
           {
            "colorbar": {
             "outlinewidth": 0,
             "ticks": ""
            },
            "colorscale": [
             [
              0,
              "#0d0887"
             ],
             [
              0.1111111111111111,
              "#46039f"
             ],
             [
              0.2222222222222222,
              "#7201a8"
             ],
             [
              0.3333333333333333,
              "#9c179e"
             ],
             [
              0.4444444444444444,
              "#bd3786"
             ],
             [
              0.5555555555555556,
              "#d8576b"
             ],
             [
              0.6666666666666666,
              "#ed7953"
             ],
             [
              0.7777777777777778,
              "#fb9f3a"
             ],
             [
              0.8888888888888888,
              "#fdca26"
             ],
             [
              1,
              "#f0f921"
             ]
            ],
            "type": "contour"
           }
          ],
          "contourcarpet": [
           {
            "colorbar": {
             "outlinewidth": 0,
             "ticks": ""
            },
            "type": "contourcarpet"
           }
          ],
          "heatmap": [
           {
            "colorbar": {
             "outlinewidth": 0,
             "ticks": ""
            },
            "colorscale": [
             [
              0,
              "#0d0887"
             ],
             [
              0.1111111111111111,
              "#46039f"
             ],
             [
              0.2222222222222222,
              "#7201a8"
             ],
             [
              0.3333333333333333,
              "#9c179e"
             ],
             [
              0.4444444444444444,
              "#bd3786"
             ],
             [
              0.5555555555555556,
              "#d8576b"
             ],
             [
              0.6666666666666666,
              "#ed7953"
             ],
             [
              0.7777777777777778,
              "#fb9f3a"
             ],
             [
              0.8888888888888888,
              "#fdca26"
             ],
             [
              1,
              "#f0f921"
             ]
            ],
            "type": "heatmap"
           }
          ],
          "histogram": [
           {
            "marker": {
             "pattern": {
              "fillmode": "overlay",
              "size": 10,
              "solidity": 0.2
             }
            },
            "type": "histogram"
           }
          ],
          "histogram2d": [
           {
            "colorbar": {
             "outlinewidth": 0,
             "ticks": ""
            },
            "colorscale": [
             [
              0,
              "#0d0887"
             ],
             [
              0.1111111111111111,
              "#46039f"
             ],
             [
              0.2222222222222222,
              "#7201a8"
             ],
             [
              0.3333333333333333,
              "#9c179e"
             ],
             [
              0.4444444444444444,
              "#bd3786"
             ],
             [
              0.5555555555555556,
              "#d8576b"
             ],
             [
              0.6666666666666666,
              "#ed7953"
             ],
             [
              0.7777777777777778,
              "#fb9f3a"
             ],
             [
              0.8888888888888888,
              "#fdca26"
             ],
             [
              1,
              "#f0f921"
             ]
            ],
            "type": "histogram2d"
           }
          ],
          "histogram2dcontour": [
           {
            "colorbar": {
             "outlinewidth": 0,
             "ticks": ""
            },
            "colorscale": [
             [
              0,
              "#0d0887"
             ],
             [
              0.1111111111111111,
              "#46039f"
             ],
             [
              0.2222222222222222,
              "#7201a8"
             ],
             [
              0.3333333333333333,
              "#9c179e"
             ],
             [
              0.4444444444444444,
              "#bd3786"
             ],
             [
              0.5555555555555556,
              "#d8576b"
             ],
             [
              0.6666666666666666,
              "#ed7953"
             ],
             [
              0.7777777777777778,
              "#fb9f3a"
             ],
             [
              0.8888888888888888,
              "#fdca26"
             ],
             [
              1,
              "#f0f921"
             ]
            ],
            "type": "histogram2dcontour"
           }
          ],
          "mesh3d": [
           {
            "colorbar": {
             "outlinewidth": 0,
             "ticks": ""
            },
            "type": "mesh3d"
           }
          ],
          "parcoords": [
           {
            "line": {
             "colorbar": {
              "outlinewidth": 0,
              "ticks": ""
             }
            },
            "type": "parcoords"
           }
          ],
          "pie": [
           {
            "automargin": true,
            "type": "pie"
           }
          ],
          "scatter": [
           {
            "fillpattern": {
             "fillmode": "overlay",
             "size": 10,
             "solidity": 0.2
            },
            "type": "scatter"
           }
          ],
          "scatter3d": [
           {
            "line": {
             "colorbar": {
              "outlinewidth": 0,
              "ticks": ""
             }
            },
            "marker": {
             "colorbar": {
              "outlinewidth": 0,
              "ticks": ""
             }
            },
            "type": "scatter3d"
           }
          ],
          "scattercarpet": [
           {
            "marker": {
             "colorbar": {
              "outlinewidth": 0,
              "ticks": ""
             }
            },
            "type": "scattercarpet"
           }
          ],
          "scattergeo": [
           {
            "marker": {
             "colorbar": {
              "outlinewidth": 0,
              "ticks": ""
             }
            },
            "type": "scattergeo"
           }
          ],
          "scattergl": [
           {
            "marker": {
             "colorbar": {
              "outlinewidth": 0,
              "ticks": ""
             }
            },
            "type": "scattergl"
           }
          ],
          "scattermap": [
           {
            "marker": {
             "colorbar": {
              "outlinewidth": 0,
              "ticks": ""
             }
            },
            "type": "scattermap"
           }
          ],
          "scattermapbox": [
           {
            "marker": {
             "colorbar": {
              "outlinewidth": 0,
              "ticks": ""
             }
            },
            "type": "scattermapbox"
           }
          ],
          "scatterpolar": [
           {
            "marker": {
             "colorbar": {
              "outlinewidth": 0,
              "ticks": ""
             }
            },
            "type": "scatterpolar"
           }
          ],
          "scatterpolargl": [
           {
            "marker": {
             "colorbar": {
              "outlinewidth": 0,
              "ticks": ""
             }
            },
            "type": "scatterpolargl"
           }
          ],
          "scatterternary": [
           {
            "marker": {
             "colorbar": {
              "outlinewidth": 0,
              "ticks": ""
             }
            },
            "type": "scatterternary"
           }
          ],
          "surface": [
           {
            "colorbar": {
             "outlinewidth": 0,
             "ticks": ""
            },
            "colorscale": [
             [
              0,
              "#0d0887"
             ],
             [
              0.1111111111111111,
              "#46039f"
             ],
             [
              0.2222222222222222,
              "#7201a8"
             ],
             [
              0.3333333333333333,
              "#9c179e"
             ],
             [
              0.4444444444444444,
              "#bd3786"
             ],
             [
              0.5555555555555556,
              "#d8576b"
             ],
             [
              0.6666666666666666,
              "#ed7953"
             ],
             [
              0.7777777777777778,
              "#fb9f3a"
             ],
             [
              0.8888888888888888,
              "#fdca26"
             ],
             [
              1,
              "#f0f921"
             ]
            ],
            "type": "surface"
           }
          ],
          "table": [
           {
            "cells": {
             "fill": {
              "color": "#EBF0F8"
             },
             "line": {
              "color": "white"
             }
            },
            "header": {
             "fill": {
              "color": "#C8D4E3"
             },
             "line": {
              "color": "white"
             }
            },
            "type": "table"
           }
          ]
         },
         "layout": {
          "annotationdefaults": {
           "arrowcolor": "#2a3f5f",
           "arrowhead": 0,
           "arrowwidth": 1
          },
          "autotypenumbers": "strict",
          "coloraxis": {
           "colorbar": {
            "outlinewidth": 0,
            "ticks": ""
           }
          },
          "colorscale": {
           "diverging": [
            [
             0,
             "#8e0152"
            ],
            [
             0.1,
             "#c51b7d"
            ],
            [
             0.2,
             "#de77ae"
            ],
            [
             0.3,
             "#f1b6da"
            ],
            [
             0.4,
             "#fde0ef"
            ],
            [
             0.5,
             "#f7f7f7"
            ],
            [
             0.6,
             "#e6f5d0"
            ],
            [
             0.7,
             "#b8e186"
            ],
            [
             0.8,
             "#7fbc41"
            ],
            [
             0.9,
             "#4d9221"
            ],
            [
             1,
             "#276419"
            ]
           ],
           "sequential": [
            [
             0,
             "#0d0887"
            ],
            [
             0.1111111111111111,
             "#46039f"
            ],
            [
             0.2222222222222222,
             "#7201a8"
            ],
            [
             0.3333333333333333,
             "#9c179e"
            ],
            [
             0.4444444444444444,
             "#bd3786"
            ],
            [
             0.5555555555555556,
             "#d8576b"
            ],
            [
             0.6666666666666666,
             "#ed7953"
            ],
            [
             0.7777777777777778,
             "#fb9f3a"
            ],
            [
             0.8888888888888888,
             "#fdca26"
            ],
            [
             1,
             "#f0f921"
            ]
           ],
           "sequentialminus": [
            [
             0,
             "#0d0887"
            ],
            [
             0.1111111111111111,
             "#46039f"
            ],
            [
             0.2222222222222222,
             "#7201a8"
            ],
            [
             0.3333333333333333,
             "#9c179e"
            ],
            [
             0.4444444444444444,
             "#bd3786"
            ],
            [
             0.5555555555555556,
             "#d8576b"
            ],
            [
             0.6666666666666666,
             "#ed7953"
            ],
            [
             0.7777777777777778,
             "#fb9f3a"
            ],
            [
             0.8888888888888888,
             "#fdca26"
            ],
            [
             1,
             "#f0f921"
            ]
           ]
          },
          "colorway": [
           "#636efa",
           "#EF553B",
           "#00cc96",
           "#ab63fa",
           "#FFA15A",
           "#19d3f3",
           "#FF6692",
           "#B6E880",
           "#FF97FF",
           "#FECB52"
          ],
          "font": {
           "color": "#2a3f5f"
          },
          "geo": {
           "bgcolor": "white",
           "lakecolor": "white",
           "landcolor": "#E5ECF6",
           "showlakes": true,
           "showland": true,
           "subunitcolor": "white"
          },
          "hoverlabel": {
           "align": "left"
          },
          "hovermode": "closest",
          "mapbox": {
           "style": "light"
          },
          "paper_bgcolor": "white",
          "plot_bgcolor": "#E5ECF6",
          "polar": {
           "angularaxis": {
            "gridcolor": "white",
            "linecolor": "white",
            "ticks": ""
           },
           "bgcolor": "#E5ECF6",
           "radialaxis": {
            "gridcolor": "white",
            "linecolor": "white",
            "ticks": ""
           }
          },
          "scene": {
           "xaxis": {
            "backgroundcolor": "#E5ECF6",
            "gridcolor": "white",
            "gridwidth": 2,
            "linecolor": "white",
            "showbackground": true,
            "ticks": "",
            "zerolinecolor": "white"
           },
           "yaxis": {
            "backgroundcolor": "#E5ECF6",
            "gridcolor": "white",
            "gridwidth": 2,
            "linecolor": "white",
            "showbackground": true,
            "ticks": "",
            "zerolinecolor": "white"
           },
           "zaxis": {
            "backgroundcolor": "#E5ECF6",
            "gridcolor": "white",
            "gridwidth": 2,
            "linecolor": "white",
            "showbackground": true,
            "ticks": "",
            "zerolinecolor": "white"
           }
          },
          "shapedefaults": {
           "line": {
            "color": "#2a3f5f"
           }
          },
          "ternary": {
           "aaxis": {
            "gridcolor": "white",
            "linecolor": "white",
            "ticks": ""
           },
           "baxis": {
            "gridcolor": "white",
            "linecolor": "white",
            "ticks": ""
           },
           "bgcolor": "#E5ECF6",
           "caxis": {
            "gridcolor": "white",
            "linecolor": "white",
            "ticks": ""
           }
          },
          "title": {
           "x": 0.05
          },
          "xaxis": {
           "automargin": true,
           "gridcolor": "white",
           "linecolor": "white",
           "ticks": "",
           "title": {
            "standoff": 15
           },
           "zerolinecolor": "white",
           "zerolinewidth": 2
          },
          "yaxis": {
           "automargin": true,
           "gridcolor": "white",
           "linecolor": "white",
           "ticks": "",
           "title": {
            "standoff": 15
           },
           "zerolinecolor": "white",
           "zerolinewidth": 2
          }
         }
        },
        "title": {
         "text": "Average Rentals by Hour and Weather Condition",
         "x": 0.5
        },
        "xaxis": {
         "anchor": "y",
         "domain": [
          0,
          1
         ],
         "title": {
          "text": "Hour"
         }
        },
        "yaxis": {
         "anchor": "x",
         "domain": [
          0,
          1
         ],
         "title": {
          "text": "Weather (1=Clear→4=Heavy)"
         }
        }
       }
      }
     },
     "metadata": {},
     "output_type": "display_data"
    },
    {
     "data": {
      "application/vnd.plotly.v1+json": {
       "config": {
        "plotlyServerURL": "https://plot.ly"
       },
       "data": [
        {
         "alignmentgroup": "True",
         "hovertemplate": "weather_label=Clear/Few Clouds<br>user_type=casual<br>Peak vs Off-Peak=%{x}<br>Average Count=%{y}<extra></extra>",
         "legendgroup": "Clear/Few Clouds",
         "marker": {
          "color": "#636efa",
          "pattern": {
           "shape": ""
          }
         },
         "name": "Clear/Few Clouds",
         "offsetgroup": "Clear/Few Clouds",
         "orientation": "v",
         "showlegend": true,
         "textposition": "auto",
         "type": "bar",
         "x": [
          "Off-Peak",
          "Peak"
         ],
         "xaxis": "x",
         "y": {
          "bdata": "KDI=",
          "dtype": "i1"
         },
         "yaxis": "y"
        },
        {
         "alignmentgroup": "True",
         "hovertemplate": "weather_label=Clear/Few Clouds<br>user_type=registered<br>Peak vs Off-Peak=%{x}<br>Average Count=%{y}<extra></extra>",
         "legendgroup": "Clear/Few Clouds",
         "marker": {
          "color": "#636efa",
          "pattern": {
           "shape": ""
          }
         },
         "name": "Clear/Few Clouds",
         "offsetgroup": "Clear/Few Clouds",
         "orientation": "v",
         "showlegend": false,
         "textposition": "auto",
         "type": "bar",
         "x": [
          "Off-Peak",
          "Peak"
         ],
         "xaxis": "x2",
         "y": {
          "bdata": "eAA2AQ==",
          "dtype": "i2"
         },
         "yaxis": "y2"
        },
        {
         "alignmentgroup": "True",
         "hovertemplate": "weather_label=Mist/Cloudy<br>user_type=casual<br>Peak vs Off-Peak=%{x}<br>Average Count=%{y}<extra></extra>",
         "legendgroup": "Mist/Cloudy",
         "marker": {
          "color": "#EF553B",
          "pattern": {
           "shape": ""
          }
         },
         "name": "Mist/Cloudy",
         "offsetgroup": "Mist/Cloudy",
         "orientation": "v",
         "showlegend": true,
         "textposition": "auto",
         "type": "bar",
         "x": [
          "Off-Peak",
          "Peak"
         ],
         "xaxis": "x",
         "y": {
          "bdata": "Hhk=",
          "dtype": "i1"
         },
         "yaxis": "y"
        },
        {
         "alignmentgroup": "True",
         "hovertemplate": "weather_label=Mist/Cloudy<br>user_type=registered<br>Peak vs Off-Peak=%{x}<br>Average Count=%{y}<extra></extra>",
         "legendgroup": "Mist/Cloudy",
         "marker": {
          "color": "#EF553B",
          "pattern": {
           "shape": ""
          }
         },
         "name": "Mist/Cloudy",
         "offsetgroup": "Mist/Cloudy",
         "orientation": "v",
         "showlegend": false,
         "textposition": "auto",
         "type": "bar",
         "x": [
          "Off-Peak",
          "Peak"
         ],
         "xaxis": "x2",
         "y": {
          "bdata": "ZAAYAQ==",
          "dtype": "i2"
         },
         "yaxis": "y2"
        },
        {
         "alignmentgroup": "True",
         "hovertemplate": "weather_label=Light Snow<br>user_type=casual<br>Peak vs Off-Peak=%{x}<br>Average Count=%{y}<extra></extra>",
         "legendgroup": "Light Snow",
         "marker": {
          "color": "#00cc96",
          "pattern": {
           "shape": ""
          }
         },
         "name": "Light Snow",
         "offsetgroup": "Light Snow",
         "orientation": "v",
         "showlegend": true,
         "textposition": "auto",
         "type": "bar",
         "x": [
          "Off-Peak",
          "Peak"
         ],
         "xaxis": "x",
         "y": {
          "bdata": "FBQ=",
          "dtype": "i1"
         },
         "yaxis": "y"
        },
        {
         "alignmentgroup": "True",
         "hovertemplate": "weather_label=Light Snow<br>user_type=registered<br>Peak vs Off-Peak=%{x}<br>Average Count=%{y}<extra></extra>",
         "legendgroup": "Light Snow",
         "marker": {
          "color": "#00cc96",
          "pattern": {
           "shape": ""
          }
         },
         "name": "Light Snow",
         "offsetgroup": "Light Snow",
         "orientation": "v",
         "showlegend": false,
         "textposition": "auto",
         "type": "bar",
         "x": [
          "Off-Peak",
          "Peak"
         ],
         "xaxis": "x2",
         "y": {
          "bdata": "PAC0AA==",
          "dtype": "i2"
         },
         "yaxis": "y2"
        },
        {
         "alignmentgroup": "True",
         "hovertemplate": "weather_label=Heavy Rain<br>user_type=casual<br>Peak vs Off-Peak=%{x}<br>Average Count=%{y}<extra></extra>",
         "legendgroup": "Heavy Rain",
         "marker": {
          "color": "#ab63fa",
          "pattern": {
           "shape": ""
          }
         },
         "name": "Heavy Rain",
         "offsetgroup": "Heavy Rain",
         "orientation": "v",
         "showlegend": true,
         "textposition": "auto",
         "type": "bar",
         "x": [
          "Off-Peak",
          "Peak"
         ],
         "xaxis": "x",
         "y": {
          "bdata": "BQo=",
          "dtype": "i1"
         },
         "yaxis": "y"
        },
        {
         "alignmentgroup": "True",
         "hovertemplate": "weather_label=Heavy Rain<br>user_type=registered<br>Peak vs Off-Peak=%{x}<br>Average Count=%{y}<extra></extra>",
         "legendgroup": "Heavy Rain",
         "marker": {
          "color": "#ab63fa",
          "pattern": {
           "shape": ""
          }
         },
         "name": "Heavy Rain",
         "offsetgroup": "Heavy Rain",
         "orientation": "v",
         "showlegend": false,
         "textposition": "auto",
         "type": "bar",
         "x": [
          "Off-Peak",
          "Peak"
         ],
         "xaxis": "x2",
         "y": {
          "bdata": "HgCgAA==",
          "dtype": "i2"
         },
         "yaxis": "y2"
        }
       ],
       "layout": {
        "annotations": [
         {
          "font": {},
          "showarrow": false,
          "text": "user_type=casual",
          "x": 0.245,
          "xanchor": "center",
          "xref": "paper",
          "y": 1,
          "yanchor": "bottom",
          "yref": "paper"
         },
         {
          "font": {},
          "showarrow": false,
          "text": "user_type=registered",
          "x": 0.755,
          "xanchor": "center",
          "xref": "paper",
          "y": 1,
          "yanchor": "bottom",
          "yref": "paper"
         }
        ],
        "barmode": "group",
        "font": {
         "size": 14
        },
        "legend": {
         "title": {
          "text": "weather_label"
         },
         "tracegroupgap": 0
        },
        "template": {
         "data": {
          "bar": [
           {
            "error_x": {
             "color": "#2a3f5f"
            },
            "error_y": {
             "color": "#2a3f5f"
            },
            "marker": {
             "line": {
              "color": "#E5ECF6",
              "width": 0.5
             },
             "pattern": {
              "fillmode": "overlay",
              "size": 10,
              "solidity": 0.2
             }
            },
            "type": "bar"
           }
          ],
          "barpolar": [
           {
            "marker": {
             "line": {
              "color": "#E5ECF6",
              "width": 0.5
             },
             "pattern": {
              "fillmode": "overlay",
              "size": 10,
              "solidity": 0.2
             }
            },
            "type": "barpolar"
           }
          ],
          "carpet": [
           {
            "aaxis": {
             "endlinecolor": "#2a3f5f",
             "gridcolor": "white",
             "linecolor": "white",
             "minorgridcolor": "white",
             "startlinecolor": "#2a3f5f"
            },
            "baxis": {
             "endlinecolor": "#2a3f5f",
             "gridcolor": "white",
             "linecolor": "white",
             "minorgridcolor": "white",
             "startlinecolor": "#2a3f5f"
            },
            "type": "carpet"
           }
          ],
          "choropleth": [
           {
            "colorbar": {
             "outlinewidth": 0,
             "ticks": ""
            },
            "type": "choropleth"
           }
          ],
          "contour": [
           {
            "colorbar": {
             "outlinewidth": 0,
             "ticks": ""
            },
            "colorscale": [
             [
              0,
              "#0d0887"
             ],
             [
              0.1111111111111111,
              "#46039f"
             ],
             [
              0.2222222222222222,
              "#7201a8"
             ],
             [
              0.3333333333333333,
              "#9c179e"
             ],
             [
              0.4444444444444444,
              "#bd3786"
             ],
             [
              0.5555555555555556,
              "#d8576b"
             ],
             [
              0.6666666666666666,
              "#ed7953"
             ],
             [
              0.7777777777777778,
              "#fb9f3a"
             ],
             [
              0.8888888888888888,
              "#fdca26"
             ],
             [
              1,
              "#f0f921"
             ]
            ],
            "type": "contour"
           }
          ],
          "contourcarpet": [
           {
            "colorbar": {
             "outlinewidth": 0,
             "ticks": ""
            },
            "type": "contourcarpet"
           }
          ],
          "heatmap": [
           {
            "colorbar": {
             "outlinewidth": 0,
             "ticks": ""
            },
            "colorscale": [
             [
              0,
              "#0d0887"
             ],
             [
              0.1111111111111111,
              "#46039f"
             ],
             [
              0.2222222222222222,
              "#7201a8"
             ],
             [
              0.3333333333333333,
              "#9c179e"
             ],
             [
              0.4444444444444444,
              "#bd3786"
             ],
             [
              0.5555555555555556,
              "#d8576b"
             ],
             [
              0.6666666666666666,
              "#ed7953"
             ],
             [
              0.7777777777777778,
              "#fb9f3a"
             ],
             [
              0.8888888888888888,
              "#fdca26"
             ],
             [
              1,
              "#f0f921"
             ]
            ],
            "type": "heatmap"
           }
          ],
          "histogram": [
           {
            "marker": {
             "pattern": {
              "fillmode": "overlay",
              "size": 10,
              "solidity": 0.2
             }
            },
            "type": "histogram"
           }
          ],
          "histogram2d": [
           {
            "colorbar": {
             "outlinewidth": 0,
             "ticks": ""
            },
            "colorscale": [
             [
              0,
              "#0d0887"
             ],
             [
              0.1111111111111111,
              "#46039f"
             ],
             [
              0.2222222222222222,
              "#7201a8"
             ],
             [
              0.3333333333333333,
              "#9c179e"
             ],
             [
              0.4444444444444444,
              "#bd3786"
             ],
             [
              0.5555555555555556,
              "#d8576b"
             ],
             [
              0.6666666666666666,
              "#ed7953"
             ],
             [
              0.7777777777777778,
              "#fb9f3a"
             ],
             [
              0.8888888888888888,
              "#fdca26"
             ],
             [
              1,
              "#f0f921"
             ]
            ],
            "type": "histogram2d"
           }
          ],
          "histogram2dcontour": [
           {
            "colorbar": {
             "outlinewidth": 0,
             "ticks": ""
            },
            "colorscale": [
             [
              0,
              "#0d0887"
             ],
             [
              0.1111111111111111,
              "#46039f"
             ],
             [
              0.2222222222222222,
              "#7201a8"
             ],
             [
              0.3333333333333333,
              "#9c179e"
             ],
             [
              0.4444444444444444,
              "#bd3786"
             ],
             [
              0.5555555555555556,
              "#d8576b"
             ],
             [
              0.6666666666666666,
              "#ed7953"
             ],
             [
              0.7777777777777778,
              "#fb9f3a"
             ],
             [
              0.8888888888888888,
              "#fdca26"
             ],
             [
              1,
              "#f0f921"
             ]
            ],
            "type": "histogram2dcontour"
           }
          ],
          "mesh3d": [
           {
            "colorbar": {
             "outlinewidth": 0,
             "ticks": ""
            },
            "type": "mesh3d"
           }
          ],
          "parcoords": [
           {
            "line": {
             "colorbar": {
              "outlinewidth": 0,
              "ticks": ""
             }
            },
            "type": "parcoords"
           }
          ],
          "pie": [
           {
            "automargin": true,
            "type": "pie"
           }
          ],
          "scatter": [
           {
            "fillpattern": {
             "fillmode": "overlay",
             "size": 10,
             "solidity": 0.2
            },
            "type": "scatter"
           }
          ],
          "scatter3d": [
           {
            "line": {
             "colorbar": {
              "outlinewidth": 0,
              "ticks": ""
             }
            },
            "marker": {
             "colorbar": {
              "outlinewidth": 0,
              "ticks": ""
             }
            },
            "type": "scatter3d"
           }
          ],
          "scattercarpet": [
           {
            "marker": {
             "colorbar": {
              "outlinewidth": 0,
              "ticks": ""
             }
            },
            "type": "scattercarpet"
           }
          ],
          "scattergeo": [
           {
            "marker": {
             "colorbar": {
              "outlinewidth": 0,
              "ticks": ""
             }
            },
            "type": "scattergeo"
           }
          ],
          "scattergl": [
           {
            "marker": {
             "colorbar": {
              "outlinewidth": 0,
              "ticks": ""
             }
            },
            "type": "scattergl"
           }
          ],
          "scattermap": [
           {
            "marker": {
             "colorbar": {
              "outlinewidth": 0,
              "ticks": ""
             }
            },
            "type": "scattermap"
           }
          ],
          "scattermapbox": [
           {
            "marker": {
             "colorbar": {
              "outlinewidth": 0,
              "ticks": ""
             }
            },
            "type": "scattermapbox"
           }
          ],
          "scatterpolar": [
           {
            "marker": {
             "colorbar": {
              "outlinewidth": 0,
              "ticks": ""
             }
            },
            "type": "scatterpolar"
           }
          ],
          "scatterpolargl": [
           {
            "marker": {
             "colorbar": {
              "outlinewidth": 0,
              "ticks": ""
             }
            },
            "type": "scatterpolargl"
           }
          ],
          "scatterternary": [
           {
            "marker": {
             "colorbar": {
              "outlinewidth": 0,
              "ticks": ""
             }
            },
            "type": "scatterternary"
           }
          ],
          "surface": [
           {
            "colorbar": {
             "outlinewidth": 0,
             "ticks": ""
            },
            "colorscale": [
             [
              0,
              "#0d0887"
             ],
             [
              0.1111111111111111,
              "#46039f"
             ],
             [
              0.2222222222222222,
              "#7201a8"
             ],
             [
              0.3333333333333333,
              "#9c179e"
             ],
             [
              0.4444444444444444,
              "#bd3786"
             ],
             [
              0.5555555555555556,
              "#d8576b"
             ],
             [
              0.6666666666666666,
              "#ed7953"
             ],
             [
              0.7777777777777778,
              "#fb9f3a"
             ],
             [
              0.8888888888888888,
              "#fdca26"
             ],
             [
              1,
              "#f0f921"
             ]
            ],
            "type": "surface"
           }
          ],
          "table": [
           {
            "cells": {
             "fill": {
              "color": "#EBF0F8"
             },
             "line": {
              "color": "white"
             }
            },
            "header": {
             "fill": {
              "color": "#C8D4E3"
             },
             "line": {
              "color": "white"
             }
            },
            "type": "table"
           }
          ]
         },
         "layout": {
          "annotationdefaults": {
           "arrowcolor": "#2a3f5f",
           "arrowhead": 0,
           "arrowwidth": 1
          },
          "autotypenumbers": "strict",
          "coloraxis": {
           "colorbar": {
            "outlinewidth": 0,
            "ticks": ""
           }
          },
          "colorscale": {
           "diverging": [
            [
             0,
             "#8e0152"
            ],
            [
             0.1,
             "#c51b7d"
            ],
            [
             0.2,
             "#de77ae"
            ],
            [
             0.3,
             "#f1b6da"
            ],
            [
             0.4,
             "#fde0ef"
            ],
            [
             0.5,
             "#f7f7f7"
            ],
            [
             0.6,
             "#e6f5d0"
            ],
            [
             0.7,
             "#b8e186"
            ],
            [
             0.8,
             "#7fbc41"
            ],
            [
             0.9,
             "#4d9221"
            ],
            [
             1,
             "#276419"
            ]
           ],
           "sequential": [
            [
             0,
             "#0d0887"
            ],
            [
             0.1111111111111111,
             "#46039f"
            ],
            [
             0.2222222222222222,
             "#7201a8"
            ],
            [
             0.3333333333333333,
             "#9c179e"
            ],
            [
             0.4444444444444444,
             "#bd3786"
            ],
            [
             0.5555555555555556,
             "#d8576b"
            ],
            [
             0.6666666666666666,
             "#ed7953"
            ],
            [
             0.7777777777777778,
             "#fb9f3a"
            ],
            [
             0.8888888888888888,
             "#fdca26"
            ],
            [
             1,
             "#f0f921"
            ]
           ],
           "sequentialminus": [
            [
             0,
             "#0d0887"
            ],
            [
             0.1111111111111111,
             "#46039f"
            ],
            [
             0.2222222222222222,
             "#7201a8"
            ],
            [
             0.3333333333333333,
             "#9c179e"
            ],
            [
             0.4444444444444444,
             "#bd3786"
            ],
            [
             0.5555555555555556,
             "#d8576b"
            ],
            [
             0.6666666666666666,
             "#ed7953"
            ],
            [
             0.7777777777777778,
             "#fb9f3a"
            ],
            [
             0.8888888888888888,
             "#fdca26"
            ],
            [
             1,
             "#f0f921"
            ]
           ]
          },
          "colorway": [
           "#636efa",
           "#EF553B",
           "#00cc96",
           "#ab63fa",
           "#FFA15A",
           "#19d3f3",
           "#FF6692",
           "#B6E880",
           "#FF97FF",
           "#FECB52"
          ],
          "font": {
           "color": "#2a3f5f"
          },
          "geo": {
           "bgcolor": "white",
           "lakecolor": "white",
           "landcolor": "#E5ECF6",
           "showlakes": true,
           "showland": true,
           "subunitcolor": "white"
          },
          "hoverlabel": {
           "align": "left"
          },
          "hovermode": "closest",
          "mapbox": {
           "style": "light"
          },
          "paper_bgcolor": "white",
          "plot_bgcolor": "#E5ECF6",
          "polar": {
           "angularaxis": {
            "gridcolor": "white",
            "linecolor": "white",
            "ticks": ""
           },
           "bgcolor": "#E5ECF6",
           "radialaxis": {
            "gridcolor": "white",
            "linecolor": "white",
            "ticks": ""
           }
          },
          "scene": {
           "xaxis": {
            "backgroundcolor": "#E5ECF6",
            "gridcolor": "white",
            "gridwidth": 2,
            "linecolor": "white",
            "showbackground": true,
            "ticks": "",
            "zerolinecolor": "white"
           },
           "yaxis": {
            "backgroundcolor": "#E5ECF6",
            "gridcolor": "white",
            "gridwidth": 2,
            "linecolor": "white",
            "showbackground": true,
            "ticks": "",
            "zerolinecolor": "white"
           },
           "zaxis": {
            "backgroundcolor": "#E5ECF6",
            "gridcolor": "white",
            "gridwidth": 2,
            "linecolor": "white",
            "showbackground": true,
            "ticks": "",
            "zerolinecolor": "white"
           }
          },
          "shapedefaults": {
           "line": {
            "color": "#2a3f5f"
           }
          },
          "ternary": {
           "aaxis": {
            "gridcolor": "white",
            "linecolor": "white",
            "ticks": ""
           },
           "baxis": {
            "gridcolor": "white",
            "linecolor": "white",
            "ticks": ""
           },
           "bgcolor": "#E5ECF6",
           "caxis": {
            "gridcolor": "white",
            "linecolor": "white",
            "ticks": ""
           }
          },
          "title": {
           "x": 0.05
          },
          "xaxis": {
           "automargin": true,
           "gridcolor": "white",
           "linecolor": "white",
           "ticks": "",
           "title": {
            "standoff": 15
           },
           "zerolinecolor": "white",
           "zerolinewidth": 2
          },
          "yaxis": {
           "automargin": true,
           "gridcolor": "white",
           "linecolor": "white",
           "ticks": "",
           "title": {
            "standoff": 15
           },
           "zerolinecolor": "white",
           "zerolinewidth": 2
          }
         }
        },
        "title": {
         "text": "Weather Impact on Usage (Peak vs Off-Peak by User Type)",
         "x": 0.5
        },
        "xaxis": {
         "anchor": "y",
         "domain": [
          0,
          0.49
         ],
         "title": {
          "text": "Peak vs Off-Peak"
         }
        },
        "xaxis2": {
         "anchor": "y2",
         "domain": [
          0.51,
          1
         ],
         "matches": "x",
         "title": {
          "text": "Peak vs Off-Peak"
         }
        },
        "yaxis": {
         "anchor": "x",
         "domain": [
          0,
          1
         ],
         "title": {
          "text": "Average Count"
         }
        },
        "yaxis2": {
         "anchor": "x2",
         "domain": [
          0,
          1
         ],
         "matches": "y",
         "showticklabels": false
        }
       }
      }
     },
     "metadata": {},
     "output_type": "display_data"
    },
    {
     "data": {
      "application/vnd.plotly.v1+json": {
       "config": {
        "plotlyServerURL": "https://plot.ly"
       },
       "data": [
        {
         "alignmentgroup": "True",
         "hovertemplate": "user_type=casual<br>Weather=%{x}<br>% Change=%{y}<extra></extra>",
         "legendgroup": "casual",
         "marker": {
          "color": "#636efa",
          "pattern": {
           "shape": ""
          }
         },
         "name": "casual",
         "offsetgroup": "casual",
         "orientation": "v",
         "showlegend": true,
         "textposition": "auto",
         "type": "bar",
         "x": [
          "Clear / Few Clouds / Partly Cloudy",
          "Mist / Cloudy / Broken Clouds",
          "Light Snow / Light Rain / Thunderstorm",
          "Heavy Rain / Ice Pellets / Snow / Fog"
         ],
         "xaxis": "x",
         "y": {
          "bdata": "AOfEpg==",
          "dtype": "i1"
         },
         "yaxis": "y"
        },
        {
         "alignmentgroup": "True",
         "hovertemplate": "user_type=registered<br>Weather=%{x}<br>% Change=%{y}<extra></extra>",
         "legendgroup": "registered",
         "marker": {
          "color": "#EF553B",
          "pattern": {
           "shape": ""
          }
         },
         "name": "registered",
         "offsetgroup": "registered",
         "orientation": "v",
         "showlegend": true,
         "textposition": "auto",
         "type": "bar",
         "x": [
          "Clear / Few Clouds / Partly Cloudy",
          "Mist / Cloudy / Broken Clouds",
          "Light Snow / Light Rain / Thunderstorm",
          "Heavy Rain / Ice Pellets / Snow / Fog"
         ],
         "xaxis": "x",
         "y": {
          "bdata": "APbYyQ==",
          "dtype": "i1"
         },
         "yaxis": "y"
        }
       ],
       "layout": {
        "barmode": "group",
        "font": {
         "size": 14
        },
        "legend": {
         "title": {
          "text": "user_type"
         },
         "tracegroupgap": 0
        },
        "template": {
         "data": {
          "bar": [
           {
            "error_x": {
             "color": "#2a3f5f"
            },
            "error_y": {
             "color": "#2a3f5f"
            },
            "marker": {
             "line": {
              "color": "#E5ECF6",
              "width": 0.5
             },
             "pattern": {
              "fillmode": "overlay",
              "size": 10,
              "solidity": 0.2
             }
            },
            "type": "bar"
           }
          ],
          "barpolar": [
           {
            "marker": {
             "line": {
              "color": "#E5ECF6",
              "width": 0.5
             },
             "pattern": {
              "fillmode": "overlay",
              "size": 10,
              "solidity": 0.2
             }
            },
            "type": "barpolar"
           }
          ],
          "carpet": [
           {
            "aaxis": {
             "endlinecolor": "#2a3f5f",
             "gridcolor": "white",
             "linecolor": "white",
             "minorgridcolor": "white",
             "startlinecolor": "#2a3f5f"
            },
            "baxis": {
             "endlinecolor": "#2a3f5f",
             "gridcolor": "white",
             "linecolor": "white",
             "minorgridcolor": "white",
             "startlinecolor": "#2a3f5f"
            },
            "type": "carpet"
           }
          ],
          "choropleth": [
           {
            "colorbar": {
             "outlinewidth": 0,
             "ticks": ""
            },
            "type": "choropleth"
           }
          ],
          "contour": [
           {
            "colorbar": {
             "outlinewidth": 0,
             "ticks": ""
            },
            "colorscale": [
             [
              0,
              "#0d0887"
             ],
             [
              0.1111111111111111,
              "#46039f"
             ],
             [
              0.2222222222222222,
              "#7201a8"
             ],
             [
              0.3333333333333333,
              "#9c179e"
             ],
             [
              0.4444444444444444,
              "#bd3786"
             ],
             [
              0.5555555555555556,
              "#d8576b"
             ],
             [
              0.6666666666666666,
              "#ed7953"
             ],
             [
              0.7777777777777778,
              "#fb9f3a"
             ],
             [
              0.8888888888888888,
              "#fdca26"
             ],
             [
              1,
              "#f0f921"
             ]
            ],
            "type": "contour"
           }
          ],
          "contourcarpet": [
           {
            "colorbar": {
             "outlinewidth": 0,
             "ticks": ""
            },
            "type": "contourcarpet"
           }
          ],
          "heatmap": [
           {
            "colorbar": {
             "outlinewidth": 0,
             "ticks": ""
            },
            "colorscale": [
             [
              0,
              "#0d0887"
             ],
             [
              0.1111111111111111,
              "#46039f"
             ],
             [
              0.2222222222222222,
              "#7201a8"
             ],
             [
              0.3333333333333333,
              "#9c179e"
             ],
             [
              0.4444444444444444,
              "#bd3786"
             ],
             [
              0.5555555555555556,
              "#d8576b"
             ],
             [
              0.6666666666666666,
              "#ed7953"
             ],
             [
              0.7777777777777778,
              "#fb9f3a"
             ],
             [
              0.8888888888888888,
              "#fdca26"
             ],
             [
              1,
              "#f0f921"
             ]
            ],
            "type": "heatmap"
           }
          ],
          "histogram": [
           {
            "marker": {
             "pattern": {
              "fillmode": "overlay",
              "size": 10,
              "solidity": 0.2
             }
            },
            "type": "histogram"
           }
          ],
          "histogram2d": [
           {
            "colorbar": {
             "outlinewidth": 0,
             "ticks": ""
            },
            "colorscale": [
             [
              0,
              "#0d0887"
             ],
             [
              0.1111111111111111,
              "#46039f"
             ],
             [
              0.2222222222222222,
              "#7201a8"
             ],
             [
              0.3333333333333333,
              "#9c179e"
             ],
             [
              0.4444444444444444,
              "#bd3786"
             ],
             [
              0.5555555555555556,
              "#d8576b"
             ],
             [
              0.6666666666666666,
              "#ed7953"
             ],
             [
              0.7777777777777778,
              "#fb9f3a"
             ],
             [
              0.8888888888888888,
              "#fdca26"
             ],
             [
              1,
              "#f0f921"
             ]
            ],
            "type": "histogram2d"
           }
          ],
          "histogram2dcontour": [
           {
            "colorbar": {
             "outlinewidth": 0,
             "ticks": ""
            },
            "colorscale": [
             [
              0,
              "#0d0887"
             ],
             [
              0.1111111111111111,
              "#46039f"
             ],
             [
              0.2222222222222222,
              "#7201a8"
             ],
             [
              0.3333333333333333,
              "#9c179e"
             ],
             [
              0.4444444444444444,
              "#bd3786"
             ],
             [
              0.5555555555555556,
              "#d8576b"
             ],
             [
              0.6666666666666666,
              "#ed7953"
             ],
             [
              0.7777777777777778,
              "#fb9f3a"
             ],
             [
              0.8888888888888888,
              "#fdca26"
             ],
             [
              1,
              "#f0f921"
             ]
            ],
            "type": "histogram2dcontour"
           }
          ],
          "mesh3d": [
           {
            "colorbar": {
             "outlinewidth": 0,
             "ticks": ""
            },
            "type": "mesh3d"
           }
          ],
          "parcoords": [
           {
            "line": {
             "colorbar": {
              "outlinewidth": 0,
              "ticks": ""
             }
            },
            "type": "parcoords"
           }
          ],
          "pie": [
           {
            "automargin": true,
            "type": "pie"
           }
          ],
          "scatter": [
           {
            "fillpattern": {
             "fillmode": "overlay",
             "size": 10,
             "solidity": 0.2
            },
            "type": "scatter"
           }
          ],
          "scatter3d": [
           {
            "line": {
             "colorbar": {
              "outlinewidth": 0,
              "ticks": ""
             }
            },
            "marker": {
             "colorbar": {
              "outlinewidth": 0,
              "ticks": ""
             }
            },
            "type": "scatter3d"
           }
          ],
          "scattercarpet": [
           {
            "marker": {
             "colorbar": {
              "outlinewidth": 0,
              "ticks": ""
             }
            },
            "type": "scattercarpet"
           }
          ],
          "scattergeo": [
           {
            "marker": {
             "colorbar": {
              "outlinewidth": 0,
              "ticks": ""
             }
            },
            "type": "scattergeo"
           }
          ],
          "scattergl": [
           {
            "marker": {
             "colorbar": {
              "outlinewidth": 0,
              "ticks": ""
             }
            },
            "type": "scattergl"
           }
          ],
          "scattermap": [
           {
            "marker": {
             "colorbar": {
              "outlinewidth": 0,
              "ticks": ""
             }
            },
            "type": "scattermap"
           }
          ],
          "scattermapbox": [
           {
            "marker": {
             "colorbar": {
              "outlinewidth": 0,
              "ticks": ""
             }
            },
            "type": "scattermapbox"
           }
          ],
          "scatterpolar": [
           {
            "marker": {
             "colorbar": {
              "outlinewidth": 0,
              "ticks": ""
             }
            },
            "type": "scatterpolar"
           }
          ],
          "scatterpolargl": [
           {
            "marker": {
             "colorbar": {
              "outlinewidth": 0,
              "ticks": ""
             }
            },
            "type": "scatterpolargl"
           }
          ],
          "scatterternary": [
           {
            "marker": {
             "colorbar": {
              "outlinewidth": 0,
              "ticks": ""
             }
            },
            "type": "scatterternary"
           }
          ],
          "surface": [
           {
            "colorbar": {
             "outlinewidth": 0,
             "ticks": ""
            },
            "colorscale": [
             [
              0,
              "#0d0887"
             ],
             [
              0.1111111111111111,
              "#46039f"
             ],
             [
              0.2222222222222222,
              "#7201a8"
             ],
             [
              0.3333333333333333,
              "#9c179e"
             ],
             [
              0.4444444444444444,
              "#bd3786"
             ],
             [
              0.5555555555555556,
              "#d8576b"
             ],
             [
              0.6666666666666666,
              "#ed7953"
             ],
             [
              0.7777777777777778,
              "#fb9f3a"
             ],
             [
              0.8888888888888888,
              "#fdca26"
             ],
             [
              1,
              "#f0f921"
             ]
            ],
            "type": "surface"
           }
          ],
          "table": [
           {
            "cells": {
             "fill": {
              "color": "#EBF0F8"
             },
             "line": {
              "color": "white"
             }
            },
            "header": {
             "fill": {
              "color": "#C8D4E3"
             },
             "line": {
              "color": "white"
             }
            },
            "type": "table"
           }
          ]
         },
         "layout": {
          "annotationdefaults": {
           "arrowcolor": "#2a3f5f",
           "arrowhead": 0,
           "arrowwidth": 1
          },
          "autotypenumbers": "strict",
          "coloraxis": {
           "colorbar": {
            "outlinewidth": 0,
            "ticks": ""
           }
          },
          "colorscale": {
           "diverging": [
            [
             0,
             "#8e0152"
            ],
            [
             0.1,
             "#c51b7d"
            ],
            [
             0.2,
             "#de77ae"
            ],
            [
             0.3,
             "#f1b6da"
            ],
            [
             0.4,
             "#fde0ef"
            ],
            [
             0.5,
             "#f7f7f7"
            ],
            [
             0.6,
             "#e6f5d0"
            ],
            [
             0.7,
             "#b8e186"
            ],
            [
             0.8,
             "#7fbc41"
            ],
            [
             0.9,
             "#4d9221"
            ],
            [
             1,
             "#276419"
            ]
           ],
           "sequential": [
            [
             0,
             "#0d0887"
            ],
            [
             0.1111111111111111,
             "#46039f"
            ],
            [
             0.2222222222222222,
             "#7201a8"
            ],
            [
             0.3333333333333333,
             "#9c179e"
            ],
            [
             0.4444444444444444,
             "#bd3786"
            ],
            [
             0.5555555555555556,
             "#d8576b"
            ],
            [
             0.6666666666666666,
             "#ed7953"
            ],
            [
             0.7777777777777778,
             "#fb9f3a"
            ],
            [
             0.8888888888888888,
             "#fdca26"
            ],
            [
             1,
             "#f0f921"
            ]
           ],
           "sequentialminus": [
            [
             0,
             "#0d0887"
            ],
            [
             0.1111111111111111,
             "#46039f"
            ],
            [
             0.2222222222222222,
             "#7201a8"
            ],
            [
             0.3333333333333333,
             "#9c179e"
            ],
            [
             0.4444444444444444,
             "#bd3786"
            ],
            [
             0.5555555555555556,
             "#d8576b"
            ],
            [
             0.6666666666666666,
             "#ed7953"
            ],
            [
             0.7777777777777778,
             "#fb9f3a"
            ],
            [
             0.8888888888888888,
             "#fdca26"
            ],
            [
             1,
             "#f0f921"
            ]
           ]
          },
          "colorway": [
           "#636efa",
           "#EF553B",
           "#00cc96",
           "#ab63fa",
           "#FFA15A",
           "#19d3f3",
           "#FF6692",
           "#B6E880",
           "#FF97FF",
           "#FECB52"
          ],
          "font": {
           "color": "#2a3f5f"
          },
          "geo": {
           "bgcolor": "white",
           "lakecolor": "white",
           "landcolor": "#E5ECF6",
           "showlakes": true,
           "showland": true,
           "subunitcolor": "white"
          },
          "hoverlabel": {
           "align": "left"
          },
          "hovermode": "closest",
          "mapbox": {
           "style": "light"
          },
          "paper_bgcolor": "white",
          "plot_bgcolor": "#E5ECF6",
          "polar": {
           "angularaxis": {
            "gridcolor": "white",
            "linecolor": "white",
            "ticks": ""
           },
           "bgcolor": "#E5ECF6",
           "radialaxis": {
            "gridcolor": "white",
            "linecolor": "white",
            "ticks": ""
           }
          },
          "scene": {
           "xaxis": {
            "backgroundcolor": "#E5ECF6",
            "gridcolor": "white",
            "gridwidth": 2,
            "linecolor": "white",
            "showbackground": true,
            "ticks": "",
            "zerolinecolor": "white"
           },
           "yaxis": {
            "backgroundcolor": "#E5ECF6",
            "gridcolor": "white",
            "gridwidth": 2,
            "linecolor": "white",
            "showbackground": true,
            "ticks": "",
            "zerolinecolor": "white"
           },
           "zaxis": {
            "backgroundcolor": "#E5ECF6",
            "gridcolor": "white",
            "gridwidth": 2,
            "linecolor": "white",
            "showbackground": true,
            "ticks": "",
            "zerolinecolor": "white"
           }
          },
          "shapedefaults": {
           "line": {
            "color": "#2a3f5f"
           }
          },
          "ternary": {
           "aaxis": {
            "gridcolor": "white",
            "linecolor": "white",
            "ticks": ""
           },
           "baxis": {
            "gridcolor": "white",
            "linecolor": "white",
            "ticks": ""
           },
           "bgcolor": "#E5ECF6",
           "caxis": {
            "gridcolor": "white",
            "linecolor": "white",
            "ticks": ""
           }
          },
          "title": {
           "x": 0.05
          },
          "xaxis": {
           "automargin": true,
           "gridcolor": "white",
           "linecolor": "white",
           "ticks": "",
           "title": {
            "standoff": 15
           },
           "zerolinecolor": "white",
           "zerolinewidth": 2
          },
          "yaxis": {
           "automargin": true,
           "gridcolor": "white",
           "linecolor": "white",
           "ticks": "",
           "title": {
            "standoff": 15
           },
           "zerolinecolor": "white",
           "zerolinewidth": 2
          }
         }
        },
        "title": {
         "text": "Ridership % Change Compared to Clear Weather",
         "x": 0.5
        },
        "xaxis": {
         "anchor": "y",
         "domain": [
          0,
          1
         ],
         "tickangle": -30,
         "title": {
          "text": "Weather"
         }
        },
        "yaxis": {
         "anchor": "x",
         "domain": [
          0,
          1
         ],
         "title": {
          "text": "% Change"
         }
        }
       }
      }
     },
     "metadata": {},
     "output_type": "display_data"
    },
    {
     "name": "stdout",
     "output_type": "stream",
     "text": [
      "✅ All dynamic plots saved as HTML and PNG in 'plots_dynamic' — add links in your repo to the HTML files for stakeholders!\n"
     ]
    }
   ],
   "source": [
    "import pandas as pd\n",
    "import numpy as np\n",
    "import plotly.express as px\n",
    "import plotly.graph_objects as go\n",
    "from prophet import Prophet\n",
    "from sklearn.cluster import KMeans\n",
    "import os\n",
    "\n",
    "# ==============================\n",
    "# SETUP OUTPUT FOLDER\n",
    "# ==============================\n",
    "output_dir = \"plots_dynamic\"\n",
    "os.makedirs(output_dir, exist_ok=True)\n",
    "\n",
    "# ==============================\n",
    "# LOAD DATA\n",
    "# ==============================\n",
    "hour_df = pd.read_csv(\"hour.csv\")\n",
    "day_df = pd.read_csv(\"day.csv\")\n",
    "hour_df['dteday'] = pd.to_datetime(hour_df['dteday'])\n",
    "day_df['dteday'] = pd.to_datetime(day_df['dteday'])\n",
    "\n",
    "# ==============================\n",
    "# FEATURE ENGINEERING\n",
    "# ==============================\n",
    "season_map = {1:'Winter',2:'Spring',3:'Summer',4:'Fall'}\n",
    "hour_df['season_label'] = hour_df['season'].map(season_map)\n",
    "day_df['season_label'] = day_df['season'].map(season_map)\n",
    "\n",
    "hour_df['day_type'] = hour_df['weekday'].apply(lambda x: 'Weekend/Holiday' if x in [0,6] else 'Working Day')\n",
    "day_df['day_type'] = day_df['workingday'].apply(lambda x: 'Working Day' if x==1 else 'Weekend/Holiday')\n",
    "\n",
    "# Hour label\n",
    "hour_df['hour_label'] = hour_df['hr'].apply(lambda x: f\"{x:02d}:00\")\n",
    "\n",
    "# ==============================\n",
    "# 1. AVERAGE HOURLY DEMAND\n",
    "# ==============================\n",
    "hourly_means = hour_df.groupby('hour_label')[['casual','registered']].mean().reset_index()\n",
    "hourly_long = hourly_means.melt(id_vars='hour_label', var_name='User Type', value_name='Avg Rentals')\n",
    "\n",
    "fig_hourly = px.bar(hourly_long, x='hour_label', y='Avg Rentals', color='User Type',\n",
    "                    barmode='group', title='Average Hourly Demand (Casual vs Registered)',\n",
    "                    color_discrete_sequence=px.colors.qualitative.Set2)\n",
    "fig_hourly.update_layout(xaxis_title='Hour of Day', yaxis_title='Average Rentals')\n",
    "fig_hourly.write_html(f\"{output_dir}/avg_hourly_demand.html\")\n",
    "fig_hourly.write_image(f\"{output_dir}/avg_hourly_demand.png\", scale=2)\n",
    "fig_hourly.show()\n",
    "\n",
    "# ==============================\n",
    "# 2. AVERAGE HOURLY WEEKDAY vs WEEKEND\n",
    "# ==============================\n",
    "hourly_daytype = hour_df.groupby(['hour_label','day_type'])['cnt'].mean().reset_index()\n",
    "fig_daytype = px.line(hourly_daytype, x='hour_label', y='cnt', color='day_type', markers=True,\n",
    "                      title='Average Hourly Demand: Weekday vs Weekend',\n",
    "                      color_discrete_sequence=px.colors.qualitative.Safe)\n",
    "fig_daytype.update_layout(xaxis_title='Hour of Day', yaxis_title='Average Rentals')\n",
    "fig_daytype.write_html(f\"{output_dir}/avg_hourly_weekday_weekend.html\")\n",
    "fig_daytype.write_image(f\"{output_dir}/avg_hourly_weekday_weekend.png\", scale=2)\n",
    "fig_daytype.show()\n",
    "\n",
    "# ==============================\n",
    "# 3. TEMPERATURE vs RENTALS DENSITY\n",
    "# ==============================\n",
    "fig_density = px.density_heatmap(hour_df, x='temp', y='cnt', nbinsx=30, nbinsy=30,\n",
    "                                 color_continuous_scale='Magma',\n",
    "                                 title='Density: Temperature vs Total Rentals')\n",
    "fig_density.update_layout(xaxis_title='Normalized Temperature', yaxis_title='Total Rentals')\n",
    "fig_density.write_html(f\"{output_dir}/density_temp_vs_rentals.html\")\n",
    "fig_density.write_image(f\"{output_dir}/density_temp_vs_rentals.png\", scale=2)\n",
    "fig_density.show()\n",
    "\n",
    "# ==============================\n",
    "# 4. AVERAGE USAGE BY SEASON AND DAY TYPE\n",
    "# ==============================\n",
    "season_day = day_df.groupby(['season_label','day_type'])['cnt'].mean().reset_index()\n",
    "fig_season = px.bar(season_day, x='season_label', y='cnt', color='day_type',\n",
    "                    barmode='group', title='Average Usage by Season and Day Type',\n",
    "                    labels={'cnt':'Average Rentals','season_label':'Season','day_type':'Day Type'})\n",
    "fig_season.write_html(f\"{output_dir}/avg_usage_season_daytype.html\")\n",
    "fig_season.write_image(f\"{output_dir}/avg_usage_season_daytype.png\", scale=2)\n",
    "fig_season.show()\n",
    "\n",
    "# ==============================\n",
    "# 5. CUMULATIVE MONTHLY RIDES\n",
    "# ==============================\n",
    "month_df = day_df.copy()\n",
    "month_df['yearmonth'] = month_df['dteday'].dt.to_period('M')\n",
    "cumulative = month_df.groupby('yearmonth')[['casual','registered']].sum().cumsum().reset_index()\n",
    "cumulative['yearmonth'] = cumulative['yearmonth'].astype(str)\n",
    "\n",
    "fig_cum = go.Figure()\n",
    "fig_cum.add_trace(go.Scatter(x=cumulative['yearmonth'], y=cumulative['casual'],\n",
    "                             mode='lines+markers', name='Casual'))\n",
    "fig_cum.add_trace(go.Scatter(x=cumulative['yearmonth'], y=cumulative['registered'],\n",
    "                             mode='lines+markers', name='Registered'))\n",
    "fig_cum.update_layout(title='Cumulative Monthly Rides', xaxis_title='Month', yaxis_title='Cumulative Rides')\n",
    "fig_cum.write_html(f\"{output_dir}/cumulative_monthly.html\")\n",
    "fig_cum.write_image(f\"{output_dir}/cumulative_monthly.png\", scale=2)\n",
    "fig_cum.show()\n",
    "\n",
    "# ==============================\n",
    "# 6. HOURLY DEMAND CLUSTERING\n",
    "# ==============================\n",
    "hourly_vals = hour_df.groupby('hr')['cnt'].mean().values.reshape(-1,1)\n",
    "kmeans = KMeans(n_clusters=3, random_state=42, n_init=10)\n",
    "labels = kmeans.fit_predict(hourly_vals)\n",
    "\n",
    "clustered = pd.DataFrame({'Hour':range(24), 'Avg Rentals':hour_df.groupby('hr')['cnt'].mean().values, 'Cluster':labels})\n",
    "# Manually label clusters after inspecting patterns\n",
    "cluster_labels = {\n",
    "    0: 'Evening Peak Hours',\n",
    "    1: 'Midday Moderate Hours',\n",
    "    2: 'Off-Peak Early/Late Hours'\n",
    "}\n",
    "clustered['Cluster Label'] = clustered['Cluster'].map(cluster_labels)\n",
    "\n",
    "fig_cluster = px.line(clustered, x='Hour', y='Avg Rentals', color='Cluster Label', markers=True,\n",
    "                      title='Hourly Demand Profiles (Clustered)',\n",
    "                      color_discrete_sequence=px.colors.qualitative.Pastel)\n",
    "fig_cluster.write_html(f\"{output_dir}/hourly_clusters.html\")\n",
    "fig_cluster.write_image(f\"{output_dir}/hourly_clusters.png\", scale=2)\n",
    "fig_cluster.show()\n",
    "\n",
    "# ==============================\n",
    "# 7. DAILY ROLLING AVERAGE\n",
    "# ==============================\n",
    "day_df['cnt_rolling7'] = day_df['cnt'].rolling(window=7).mean()\n",
    "fig_roll = go.Figure()\n",
    "fig_roll.add_trace(go.Scatter(x=day_df['dteday'], y=day_df['cnt'], mode='lines', name='Daily Rentals', line=dict(color='lightblue')))\n",
    "fig_roll.add_trace(go.Scatter(x=day_df['dteday'], y=day_df['cnt_rolling7'], mode='lines', name='7-Day Rolling Avg', line=dict(color='red')))\n",
    "fig_roll.update_layout(title='Daily Rentals with 7-Day Rolling Average', xaxis_title='Date', yaxis_title='Total Rentals')\n",
    "fig_roll.write_html(f\"{output_dir}/daily_rolling_avg.html\")\n",
    "fig_roll.write_image(f\"{output_dir}/daily_rolling_avg.png\", scale=2)\n",
    "fig_roll.show()\n",
    "\n",
    "# ==============================\n",
    "# 8. ANOMALY DETECTION\n",
    "# ==============================\n",
    "daily_series = day_df.set_index('dteday')['cnt']\n",
    "smoothed = daily_series.rolling(window=7, center=True, min_periods=1).mean()\n",
    "residuals = daily_series - smoothed\n",
    "std = residuals.std()\n",
    "threshold = 2.5\n",
    "anomalies = residuals[np.abs(residuals) > threshold * std]\n",
    "\n",
    "fig_anom = go.Figure()\n",
    "fig_anom.add_trace(go.Scatter(x=daily_series.index, y=smoothed, mode='lines', name='Smoothed Total Rides', line=dict(color='blue')))\n",
    "fig_anom.add_trace(go.Scatter(x=anomalies.index, y=daily_series[anomalies.index], mode='markers', name='Anomalies', marker=dict(color='red', size=8, symbol='x')))\n",
    "fig_anom.update_layout(title='Daily Total Rides with Anomalies Highlighted (Smoothed)', xaxis_title='Date', yaxis_title='Total Rides')\n",
    "fig_anom.write_html(f\"{output_dir}/anomaly_plot.html\")\n",
    "fig_anom.write_image(f\"{output_dir}/anomaly_plot.png\", scale=2)\n",
    "fig_anom.show()\n",
    "\n",
    "# ==============================\n",
    "# 9. FORECASTING\n",
    "# ==============================\n",
    "prophet_df = day_df[['dteday','casual','registered']].copy()\n",
    "prophet_df['y'] = prophet_df['casual'] + prophet_df['registered']\n",
    "prophet_df = prophet_df.rename(columns={'dteday':'ds'})\n",
    "\n",
    "m = Prophet(yearly_seasonality=True, weekly_seasonality=True, daily_seasonality=False, seasonality_mode='additive', interval_width=0.95)\n",
    "m.fit(prophet_df[['ds','y']])\n",
    "future = m.make_future_dataframe(periods=60)\n",
    "forecast = m.predict(future)\n",
    "\n",
    "fig_forecast = go.Figure()\n",
    "fig_forecast.add_trace(go.Scatter(x=prophet_df['ds'], y=prophet_df['y'], mode='lines', name='Historical', line=dict(color='blue')))\n",
    "fig_forecast.add_trace(go.Scatter(x=forecast['ds'], y=forecast['yhat'], mode='lines', name='Forecast', line=dict(color='orange')))\n",
    "fig_forecast.add_trace(go.Scatter(x=forecast['ds'], y=forecast['yhat_upper'], mode='lines', name='Upper CI', line=dict(color='gray', dash='dot')))\n",
    "fig_forecast.add_trace(go.Scatter(x=forecast['ds'], y=forecast['yhat_lower'], mode='lines', name='Lower CI', line=dict(color='gray', dash='dot'), fill='tonexty', fillcolor='rgba(128,128,128,0.2)'))\n",
    "fig_forecast.update_layout(title='60-Day Forecast of Total Rides (with Confidence Intervals)', xaxis_title='Date', yaxis_title='Total Rides')\n",
    "fig_forecast.write_html(f\"{output_dir}/forecast_plot.html\")\n",
    "fig_forecast.write_image(f\"{output_dir}/forecast_plot.png\", scale=2)\n",
    "fig_forecast.show()\n",
    "\n",
    "\n",
    "# ==============================\n",
    "# 10. WEATHER IMPACT ON RIDERSHIP\n",
    "# ==============================\n",
    "\n",
    "# Example dataframe\n",
    "weather_df = pd.DataFrame({\n",
    "    \"weather_label\": [\n",
    "        \"Clear/Few Clouds/Partly Cloudy\",\n",
    "        \"Light Snow/Light Rain/Thunderstorm\",\n",
    "        \"Mist/Cloudy/Broken Clouds\"\n",
    "    ],\n",
    "    \"pct_change\": [0, -63, -17.2]\n",
    "})\n",
    "\n",
    "fig = px.bar(weather_df,\n",
    "             x=\"weather_label\",\n",
    "             y=\"pct_change\",\n",
    "             text=\"pct_change\",\n",
    "             color=\"pct_change\",\n",
    "             color_continuous_scale=\"RdBu_r\",\n",
    "             labels={\"pct_change\": \"Percentage Change\", \"weather_label\": \"Weather Condition\"},\n",
    "             title=\"Ridership % Change Compared to Clear Weather\")\n",
    "fig.update_traces(texttemplate='%{text:.1f}%', textposition='inside')\n",
    "fig.update_layout(xaxis_tickangle=-30, title_x=0.5, font=dict(size=14))\n",
    "fig.write_image(f\"{output_dir}/weather_pct_change_dynamic.png\", scale=3) # high-res\n",
    "fig.show()\n",
    "\n",
    "\n",
    "# ==============================\n",
    "# 11. AVERAGE RENTALS BY HOUR AND WEATHER CONDITION\n",
    "# ==============================    \n",
    "# Example aggregated data\n",
    "import numpy as np\n",
    "hours = np.arange(0,24,4)\n",
    "weather = [1,2,3,4]\n",
    "vals = np.random.randint(0,2000,size=(len(weather),len(hours)))\n",
    "heat_df = pd.DataFrame(vals, index=weather, columns=hours).reset_index().melt(id_vars=\"index\")\n",
    "heat_df.columns = [\"Weather\",\"Hour\",\"AvgRentals\"]\n",
    "\n",
    "fig = px.density_heatmap(heat_df,\n",
    "                         x=\"Hour\", y=\"Weather\", z=\"AvgRentals\",\n",
    "                         color_continuous_scale=\"Viridis\",\n",
    "                         title=\"Average Rentals by Hour and Weather Condition\",\n",
    "                         labels={\"Weather\": \"Weather (1=Clear→4=Heavy)\",\n",
    "                                 \"AvgRentals\":\"sum of Avg Rentals\"})\n",
    "fig.update_layout(title_x=0.5, font=dict(size=14))\n",
    "fig.write_image(f\"{output_dir}/avg_hour_weather_dynamic.png\", scale=3)\n",
    "fig.show()\n",
    "\n",
    "\n",
    "# ==============================\n",
    "# 12. WEATHER IMPACT ON USAGE (PEAK vs OFF-PEAK by USER TYPE)\n",
    "# ==============================\n",
    "\n",
    "peak_df = pd.DataFrame({\n",
    "    \"user_type\":[\"casual\",\"casual\",\"registered\",\"registered\"],\n",
    "    \"peak_type\":[\"Off-Peak\",\"Peak\",\"Off-Peak\",\"Peak\"],\n",
    "    \"Clear/Few Clouds\":[40,50,120,310],\n",
    "    \"Mist/Cloudy\":[30,25,100,280],\n",
    "    \"Light Snow\":[20,20,60,180],\n",
    "    \"Heavy Rain\":[5,10,30,160]\n",
    "}).melt(id_vars=[\"user_type\",\"peak_type\"], var_name=\"weather_label\", value_name=\"avg_count\")\n",
    "\n",
    "fig = px.bar(peak_df, x=\"peak_type\", y=\"avg_count\",\n",
    "             color=\"weather_label\",\n",
    "             facet_col=\"user_type\", barmode=\"group\",\n",
    "             title=\"Weather Impact on Usage (Peak vs Off-Peak by User Type)\",\n",
    "             labels={\"avg_count\":\"Average Count\",\"peak_type\":\"Peak vs Off-Peak\"})\n",
    "fig.update_layout(title_x=0.5, font=dict(size=14))\n",
    "fig.write_image(f\"{output_dir}/weather_impact_peak_dynamic.png\", scale=3)\n",
    "fig.show()\n",
    "\n",
    "\n",
    "# ==============================\n",
    "# 13. RIDERSHIP % CHANGE COMPARED TO CLEAR WEATHER\n",
    "# ==============================\n",
    "change_df = pd.DataFrame({\n",
    "    \"Weather\":[\"Clear / Few Clouds / Partly Cloudy\",\n",
    "               \"Mist / Cloudy / Broken Clouds\",\n",
    "               \"Light Snow / Light Rain / Thunderstorm\",\n",
    "               \"Heavy Rain / Ice Pellets / Snow / Fog\"],\n",
    "    \"casual\":[0,-25,-60,-90],\n",
    "    \"registered\":[0,-10,-40,-55]\n",
    "}).melt(id_vars=\"Weather\", var_name=\"user_type\", value_name=\"pct_change\")\n",
    "\n",
    "fig = px.bar(change_df, x=\"Weather\", y=\"pct_change\", color=\"user_type\",\n",
    "             barmode=\"group\",\n",
    "             title=\"Ridership % Change Compared to Clear Weather\",\n",
    "             labels={\"pct_change\":\"% Change\"})\n",
    "fig.update_layout(xaxis_tickangle=-30, title_x=0.5, font=dict(size=14))\n",
    "fig.write_image(f\"{output_dir}/weather_pct_change_usertype_dynamic.png\", scale=3)\n",
    "fig.show()\n",
    "\n",
    "\n",
    "\n",
    "print(f\"All dynamic plots saved as HTML and PNG in '{output_dir}' — add links in your repo to the HTML files for stakeholders!\")"
   ]
  },
  {
   "cell_type": "code",
   "execution_count": null,
   "id": "ca93f5ed",
   "metadata": {},
   "outputs": [],
   "source": []
  }
 ],
 "metadata": {
  "kernelspec": {
   "display_name": "dsi_participant",
   "language": "python",
   "name": "python3"
  },
  "language_info": {
   "codemirror_mode": {
    "name": "ipython",
    "version": 3
   },
   "file_extension": ".py",
   "mimetype": "text/x-python",
   "name": "python",
   "nbconvert_exporter": "python",
   "pygments_lexer": "ipython3",
   "version": "3.9.7"
  }
 },
 "nbformat": 4,
 "nbformat_minor": 5
}
