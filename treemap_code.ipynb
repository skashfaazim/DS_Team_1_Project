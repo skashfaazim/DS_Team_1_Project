{
 "cells": [
  {
   "cell_type": "code",
   "execution_count": 4,
   "id": "ce817141",
   "metadata": {},
   "outputs": [
    {
     "name": "stdout",
     "output_type": "stream",
     "text": [
      "  user_type day_type season_label          weather_label  total_count\n",
      "0    Casual  Holiday         Fall       Clear/Few Clouds         3784\n",
      "1    Casual  Holiday         Fall  Light Snow/Light Rain          173\n",
      "2    Casual  Holiday         Fall            Mist/Cloudy         1483\n",
      "3    Casual  Holiday       Spring       Clear/Few Clouds         5575\n",
      "4    Casual  Holiday       Spring            Mist/Cloudy          371\n"
     ]
    },
    {
     "data": {
      "application/vnd.plotly.v1+json": {
       "config": {
        "plotlyServerURL": "https://plot.ly"
       },
       "data": [
        {
         "branchvalues": "total",
         "customdata": {
          "bdata": "AAAAAACQrUAAAAAAAKBlQAAAAAAALJdAAAAAAADHtUAAAAAAADB3QAAAAAAAErRAAAAAAAAAYkAAAAAAALSrQAAAAAAAgJlAAAAAAAAASUAAAAAAAPB8QAAAAACAVelAAAAAAADEkkAAAAAAgPDIQAAAAAAw+PFAAAAAAADopkAAAAAAAKvWQAAAAABw3fJAAAAAAADjt0AAAAAAgI3NQAAAAABAj9dAAAAAAAAA8D8AAAAAAGB7QAAAAAAAO7ZAAAAAAIBD4kAAAAAAAHqmQAAAAADAx9FAAAAAADCV8UAAAAAAAIGxQAAAAABA1NRAAAAAAFBd9kAAAAAAABirQAAAAABAHtdAAAAAAEBE0kAAAAAAAAAcQAAAAAAAQIxAAAAAAADPwEAAAAAAAJTHQAAAAAAAnJBAAAAAAADJtUAAAAAAgJXHQAAAAAAAQJlAAAAAAADSwEAAAAAAANBxQAAAAAAA8rNAAAAAAACRu0AAAAAAALB2QAAAAAAAlKFAAAAAAHCP/kAAAAAAADu4QAAAAABAGuRAAAAAALBA/UAAAAAAACS7QAAAAAAgbORAAAAAAPAOAkEAAAAAgNDGQAAAAABAXd5AAAAAAHBy8UAAAAAAAAA2QAAAAAAA8qpAAAAAAMAx1EAAAAAAMEwTQQAAAABAZt9AAAAAALAGBUEAAAAA8EYXQQAAAACApN9AAAAAACAO/UAAAAAAVMUcQQAAAADA/NdAAAAAAHhnAEEAAAAAwLEIQQAAAAAAIGhAAAAAAIAN0EAAAAAAQB/1QPf29vbGw6dAaF+cCEyCtEBMDKr6EUGxQOfPcv4s+5RAs2y9rOot5UB/G63N5zLtQMqC1N/L6e5A4QDoK3XW00CVl/lYbQjdQK5glo47QuxABXN8JQJu8kDMdOZ/SmXNQAJQF1lmk8JAtd+MFj4sxUAaQQ2pG/y7QOwVtvs6N7ZApd9Lj2af+EBx5ru6pGT3QDvLM7qqbf1ACfLfEzVT7EA5PV0g/KMOQRmzAGegZxJB7xjXUKpSF0GKoJitXHQDQTV+9/BGUq9AxIGNujz/6UBMtPdTvwfrQOFZwg8Lx8BAF3kiyrQo+EAb1hrl09IRQaVLtguyoulAgO9+bWFjDUE=",
          "dtype": "f8",
          "shape": "106, 1"
         },
         "domain": {
          "x": [
           0,
           1
          ],
          "y": [
           0,
           1
          ]
         },
         "hovertemplate": "labels=%{label}<br>total_count_sum=%{value}<br>parent=%{parent}<br>id=%{id}<br>total_count=%{color}<extra></extra>",
         "ids": [
          "Casual/Holiday/Fall/Clear/Few Clouds",
          "Casual/Holiday/Fall/Light Snow/Light Rain",
          "Casual/Holiday/Fall/Mist/Cloudy",
          "Casual/Holiday/Spring/Clear/Few Clouds",
          "Casual/Holiday/Spring/Mist/Cloudy",
          "Casual/Holiday/Summer/Clear/Few Clouds",
          "Casual/Holiday/Summer/Light Snow/Light Rain",
          "Casual/Holiday/Summer/Mist/Cloudy",
          "Casual/Holiday/Winter/Clear/Few Clouds",
          "Casual/Holiday/Winter/Light Snow/Light Rain",
          "Casual/Holiday/Winter/Mist/Cloudy",
          "Casual/Weekend/Fall/Clear/Few Clouds",
          "Casual/Weekend/Fall/Light Snow/Light Rain",
          "Casual/Weekend/Fall/Mist/Cloudy",
          "Casual/Weekend/Spring/Clear/Few Clouds",
          "Casual/Weekend/Spring/Light Snow/Light Rain",
          "Casual/Weekend/Spring/Mist/Cloudy",
          "Casual/Weekend/Summer/Clear/Few Clouds",
          "Casual/Weekend/Summer/Light Snow/Light Rain",
          "Casual/Weekend/Summer/Mist/Cloudy",
          "Casual/Weekend/Winter/Clear/Few Clouds",
          "Casual/Weekend/Winter/Heavy Rain/Fog",
          "Casual/Weekend/Winter/Light Snow/Light Rain",
          "Casual/Weekend/Winter/Mist/Cloudy",
          "Casual/Working Day/Fall/Clear/Few Clouds",
          "Casual/Working Day/Fall/Light Snow/Light Rain",
          "Casual/Working Day/Fall/Mist/Cloudy",
          "Casual/Working Day/Spring/Clear/Few Clouds",
          "Casual/Working Day/Spring/Light Snow/Light Rain",
          "Casual/Working Day/Spring/Mist/Cloudy",
          "Casual/Working Day/Summer/Clear/Few Clouds",
          "Casual/Working Day/Summer/Light Snow/Light Rain",
          "Casual/Working Day/Summer/Mist/Cloudy",
          "Casual/Working Day/Winter/Clear/Few Clouds",
          "Casual/Working Day/Winter/Heavy Rain/Fog",
          "Casual/Working Day/Winter/Light Snow/Light Rain",
          "Casual/Working Day/Winter/Mist/Cloudy",
          "Registered/Holiday/Fall/Clear/Few Clouds",
          "Registered/Holiday/Fall/Light Snow/Light Rain",
          "Registered/Holiday/Fall/Mist/Cloudy",
          "Registered/Holiday/Spring/Clear/Few Clouds",
          "Registered/Holiday/Spring/Mist/Cloudy",
          "Registered/Holiday/Summer/Clear/Few Clouds",
          "Registered/Holiday/Summer/Light Snow/Light Rain",
          "Registered/Holiday/Summer/Mist/Cloudy",
          "Registered/Holiday/Winter/Clear/Few Clouds",
          "Registered/Holiday/Winter/Light Snow/Light Rain",
          "Registered/Holiday/Winter/Mist/Cloudy",
          "Registered/Weekend/Fall/Clear/Few Clouds",
          "Registered/Weekend/Fall/Light Snow/Light Rain",
          "Registered/Weekend/Fall/Mist/Cloudy",
          "Registered/Weekend/Spring/Clear/Few Clouds",
          "Registered/Weekend/Spring/Light Snow/Light Rain",
          "Registered/Weekend/Spring/Mist/Cloudy",
          "Registered/Weekend/Summer/Clear/Few Clouds",
          "Registered/Weekend/Summer/Light Snow/Light Rain",
          "Registered/Weekend/Summer/Mist/Cloudy",
          "Registered/Weekend/Winter/Clear/Few Clouds",
          "Registered/Weekend/Winter/Heavy Rain/Fog",
          "Registered/Weekend/Winter/Light Snow/Light Rain",
          "Registered/Weekend/Winter/Mist/Cloudy",
          "Registered/Working Day/Fall/Clear/Few Clouds",
          "Registered/Working Day/Fall/Light Snow/Light Rain",
          "Registered/Working Day/Fall/Mist/Cloudy",
          "Registered/Working Day/Spring/Clear/Few Clouds",
          "Registered/Working Day/Spring/Light Snow/Light Rain",
          "Registered/Working Day/Spring/Mist/Cloudy",
          "Registered/Working Day/Summer/Clear/Few Clouds",
          "Registered/Working Day/Summer/Light Snow/Light Rain",
          "Registered/Working Day/Summer/Mist/Cloudy",
          "Registered/Working Day/Winter/Clear/Few Clouds",
          "Registered/Working Day/Winter/Heavy Rain/Fog",
          "Registered/Working Day/Winter/Light Snow/Light Rain",
          "Registered/Working Day/Winter/Mist/Cloudy",
          "Casual/Holiday/Fall",
          "Casual/Holiday/Spring",
          "Casual/Holiday/Summer",
          "Casual/Holiday/Winter",
          "Casual/Weekend/Fall",
          "Casual/Weekend/Spring",
          "Casual/Weekend/Summer",
          "Casual/Weekend/Winter",
          "Casual/Working Day/Fall",
          "Casual/Working Day/Spring",
          "Casual/Working Day/Summer",
          "Casual/Working Day/Winter",
          "Registered/Holiday/Fall",
          "Registered/Holiday/Spring",
          "Registered/Holiday/Summer",
          "Registered/Holiday/Winter",
          "Registered/Weekend/Fall",
          "Registered/Weekend/Spring",
          "Registered/Weekend/Summer",
          "Registered/Weekend/Winter",
          "Registered/Working Day/Fall",
          "Registered/Working Day/Spring",
          "Registered/Working Day/Summer",
          "Registered/Working Day/Winter",
          "Casual/Holiday",
          "Casual/Weekend",
          "Casual/Working Day",
          "Registered/Holiday",
          "Registered/Weekend",
          "Registered/Working Day",
          "Casual",
          "Registered"
         ],
         "labels": [
          "Clear/Few Clouds",
          "Light Snow/Light Rain",
          "Mist/Cloudy",
          "Clear/Few Clouds",
          "Mist/Cloudy",
          "Clear/Few Clouds",
          "Light Snow/Light Rain",
          "Mist/Cloudy",
          "Clear/Few Clouds",
          "Light Snow/Light Rain",
          "Mist/Cloudy",
          "Clear/Few Clouds",
          "Light Snow/Light Rain",
          "Mist/Cloudy",
          "Clear/Few Clouds",
          "Light Snow/Light Rain",
          "Mist/Cloudy",
          "Clear/Few Clouds",
          "Light Snow/Light Rain",
          "Mist/Cloudy",
          "Clear/Few Clouds",
          "Heavy Rain/Fog",
          "Light Snow/Light Rain",
          "Mist/Cloudy",
          "Clear/Few Clouds",
          "Light Snow/Light Rain",
          "Mist/Cloudy",
          "Clear/Few Clouds",
          "Light Snow/Light Rain",
          "Mist/Cloudy",
          "Clear/Few Clouds",
          "Light Snow/Light Rain",
          "Mist/Cloudy",
          "Clear/Few Clouds",
          "Heavy Rain/Fog",
          "Light Snow/Light Rain",
          "Mist/Cloudy",
          "Clear/Few Clouds",
          "Light Snow/Light Rain",
          "Mist/Cloudy",
          "Clear/Few Clouds",
          "Mist/Cloudy",
          "Clear/Few Clouds",
          "Light Snow/Light Rain",
          "Mist/Cloudy",
          "Clear/Few Clouds",
          "Light Snow/Light Rain",
          "Mist/Cloudy",
          "Clear/Few Clouds",
          "Light Snow/Light Rain",
          "Mist/Cloudy",
          "Clear/Few Clouds",
          "Light Snow/Light Rain",
          "Mist/Cloudy",
          "Clear/Few Clouds",
          "Light Snow/Light Rain",
          "Mist/Cloudy",
          "Clear/Few Clouds",
          "Heavy Rain/Fog",
          "Light Snow/Light Rain",
          "Mist/Cloudy",
          "Clear/Few Clouds",
          "Light Snow/Light Rain",
          "Mist/Cloudy",
          "Clear/Few Clouds",
          "Light Snow/Light Rain",
          "Mist/Cloudy",
          "Clear/Few Clouds",
          "Light Snow/Light Rain",
          "Mist/Cloudy",
          "Clear/Few Clouds",
          "Heavy Rain/Fog",
          "Light Snow/Light Rain",
          "Mist/Cloudy",
          "Fall",
          "Spring",
          "Summer",
          "Winter",
          "Fall",
          "Spring",
          "Summer",
          "Winter",
          "Fall",
          "Spring",
          "Summer",
          "Winter",
          "Fall",
          "Spring",
          "Summer",
          "Winter",
          "Fall",
          "Spring",
          "Summer",
          "Winter",
          "Fall",
          "Spring",
          "Summer",
          "Winter",
          "Holiday",
          "Weekend",
          "Working Day",
          "Holiday",
          "Weekend",
          "Working Day",
          "Casual",
          "Registered"
         ],
         "marker": {
          "coloraxis": "coloraxis",
          "colors": {
           "bdata": "AAAAAACQrUAAAAAAAKBlQAAAAAAALJdAAAAAAADHtUAAAAAAADB3QAAAAAAAErRAAAAAAAAAYkAAAAAAALSrQAAAAAAAgJlAAAAAAAAASUAAAAAAAPB8QAAAAACAVelAAAAAAADEkkAAAAAAgPDIQAAAAAAw+PFAAAAAAADopkAAAAAAAKvWQAAAAABw3fJAAAAAAADjt0AAAAAAgI3NQAAAAABAj9dAAAAAAAAA8D8AAAAAAGB7QAAAAAAAO7ZAAAAAAIBD4kAAAAAAAHqmQAAAAADAx9FAAAAAADCV8UAAAAAAAIGxQAAAAABA1NRAAAAAAFBd9kAAAAAAABirQAAAAABAHtdAAAAAAEBE0kAAAAAAAAAcQAAAAAAAQIxAAAAAAADPwEAAAAAAAJTHQAAAAAAAnJBAAAAAAADJtUAAAAAAgJXHQAAAAAAAQJlAAAAAAADSwEAAAAAAANBxQAAAAAAA8rNAAAAAAACRu0AAAAAAALB2QAAAAAAAlKFAAAAAAHCP/kAAAAAAADu4QAAAAABAGuRAAAAAALBA/UAAAAAAACS7QAAAAAAgbORAAAAAAPAOAkEAAAAAgNDGQAAAAABAXd5AAAAAAHBy8UAAAAAAAAA2QAAAAAAA8qpAAAAAAMAx1EAAAAAAMEwTQQAAAABAZt9AAAAAALAGBUEAAAAA8EYXQQAAAACApN9AAAAAACAO/UAAAAAAVMUcQQAAAADA/NdAAAAAAHhnAEEAAAAAwLEIQQAAAAAAIGhAAAAAAIAN0EAAAAAAQB/1QPf29vbGw6dAaF+cCEyCtEBMDKr6EUGxQOfPcv4s+5RAs2y9rOot5UB/G63N5zLtQMqC1N/L6e5A4QDoK3XW00CVl/lYbQjdQK5glo47QuxABXN8JQJu8kDMdOZ/SmXNQAJQF1lmk8JAtd+MFj4sxUAaQQ2pG/y7QOwVtvs6N7ZApd9Lj2af+EBx5ru6pGT3QDvLM7qqbf1ACfLfEzVT7EA5PV0g/KMOQRmzAGegZxJB7xjXUKpSF0GKoJitXHQDQTV+9/BGUq9AxIGNujz/6UBMtPdTvwfrQOFZwg8Lx8BAF3kiyrQo+EAb1hrl09IRQaVLtguyoulAgO9+bWFjDUE=",
           "dtype": "f8"
          }
         },
         "name": "",
         "parents": [
          "Casual/Holiday/Fall",
          "Casual/Holiday/Fall",
          "Casual/Holiday/Fall",
          "Casual/Holiday/Spring",
          "Casual/Holiday/Spring",
          "Casual/Holiday/Summer",
          "Casual/Holiday/Summer",
          "Casual/Holiday/Summer",
          "Casual/Holiday/Winter",
          "Casual/Holiday/Winter",
          "Casual/Holiday/Winter",
          "Casual/Weekend/Fall",
          "Casual/Weekend/Fall",
          "Casual/Weekend/Fall",
          "Casual/Weekend/Spring",
          "Casual/Weekend/Spring",
          "Casual/Weekend/Spring",
          "Casual/Weekend/Summer",
          "Casual/Weekend/Summer",
          "Casual/Weekend/Summer",
          "Casual/Weekend/Winter",
          "Casual/Weekend/Winter",
          "Casual/Weekend/Winter",
          "Casual/Weekend/Winter",
          "Casual/Working Day/Fall",
          "Casual/Working Day/Fall",
          "Casual/Working Day/Fall",
          "Casual/Working Day/Spring",
          "Casual/Working Day/Spring",
          "Casual/Working Day/Spring",
          "Casual/Working Day/Summer",
          "Casual/Working Day/Summer",
          "Casual/Working Day/Summer",
          "Casual/Working Day/Winter",
          "Casual/Working Day/Winter",
          "Casual/Working Day/Winter",
          "Casual/Working Day/Winter",
          "Registered/Holiday/Fall",
          "Registered/Holiday/Fall",
          "Registered/Holiday/Fall",
          "Registered/Holiday/Spring",
          "Registered/Holiday/Spring",
          "Registered/Holiday/Summer",
          "Registered/Holiday/Summer",
          "Registered/Holiday/Summer",
          "Registered/Holiday/Winter",
          "Registered/Holiday/Winter",
          "Registered/Holiday/Winter",
          "Registered/Weekend/Fall",
          "Registered/Weekend/Fall",
          "Registered/Weekend/Fall",
          "Registered/Weekend/Spring",
          "Registered/Weekend/Spring",
          "Registered/Weekend/Spring",
          "Registered/Weekend/Summer",
          "Registered/Weekend/Summer",
          "Registered/Weekend/Summer",
          "Registered/Weekend/Winter",
          "Registered/Weekend/Winter",
          "Registered/Weekend/Winter",
          "Registered/Weekend/Winter",
          "Registered/Working Day/Fall",
          "Registered/Working Day/Fall",
          "Registered/Working Day/Fall",
          "Registered/Working Day/Spring",
          "Registered/Working Day/Spring",
          "Registered/Working Day/Spring",
          "Registered/Working Day/Summer",
          "Registered/Working Day/Summer",
          "Registered/Working Day/Summer",
          "Registered/Working Day/Winter",
          "Registered/Working Day/Winter",
          "Registered/Working Day/Winter",
          "Registered/Working Day/Winter",
          "Casual/Holiday",
          "Casual/Holiday",
          "Casual/Holiday",
          "Casual/Holiday",
          "Casual/Weekend",
          "Casual/Weekend",
          "Casual/Weekend",
          "Casual/Weekend",
          "Casual/Working Day",
          "Casual/Working Day",
          "Casual/Working Day",
          "Casual/Working Day",
          "Registered/Holiday",
          "Registered/Holiday",
          "Registered/Holiday",
          "Registered/Holiday",
          "Registered/Weekend",
          "Registered/Weekend",
          "Registered/Weekend",
          "Registered/Weekend",
          "Registered/Working Day",
          "Registered/Working Day",
          "Registered/Working Day",
          "Registered/Working Day",
          "Casual",
          "Casual",
          "Casual",
          "Registered",
          "Registered",
          "Registered",
          "",
          ""
         ],
         "type": "treemap",
         "values": {
          "bdata": "AAAAAACQrUAAAAAAAKBlQAAAAAAALJdAAAAAAADHtUAAAAAAADB3QAAAAAAAErRAAAAAAAAAYkAAAAAAALSrQAAAAAAAgJlAAAAAAAAASUAAAAAAAPB8QAAAAACAVelAAAAAAADEkkAAAAAAgPDIQAAAAAAw+PFAAAAAAADopkAAAAAAAKvWQAAAAABw3fJAAAAAAADjt0AAAAAAgI3NQAAAAABAj9dAAAAAAAAA8D8AAAAAAGB7QAAAAAAAO7ZAAAAAAIBD4kAAAAAAAHqmQAAAAADAx9FAAAAAADCV8UAAAAAAAIGxQAAAAABA1NRAAAAAAFBd9kAAAAAAABirQAAAAABAHtdAAAAAAEBE0kAAAAAAAAAcQAAAAAAAQIxAAAAAAADPwEAAAAAAAJTHQAAAAAAAnJBAAAAAAADJtUAAAAAAgJXHQAAAAAAAQJlAAAAAAADSwEAAAAAAANBxQAAAAAAA8rNAAAAAAACRu0AAAAAAALB2QAAAAAAAlKFAAAAAAHCP/kAAAAAAADu4QAAAAABAGuRAAAAAALBA/UAAAAAAACS7QAAAAAAgbORAAAAAAPAOAkEAAAAAgNDGQAAAAABAXd5AAAAAAHBy8UAAAAAAAAA2QAAAAAAA8qpAAAAAAMAx1EAAAAAAMEwTQQAAAABAZt9AAAAAALAGBUEAAAAA8EYXQQAAAACApN9AAAAAACAO/UAAAAAAVMUcQQAAAADA/NdAAAAAAHhnAEEAAAAAwLEIQQAAAAAAIGhAAAAAAIAN0EAAAAAAQB/1QAAAAAAAQLVAAAAAAAA6t0AAAAAAAD7BQAAAAAAAwqBAAAAAAOAT8EAAAAAAMFr4QAAAAABQDfhAAAAAAMCL3UAAAAAAAI/sQAAAAABQ4vdAAAAAAKD9/EAAAAAAgI/bQAAAAAAARtJAAAAAAIC9ykAAAAAAgFnLQAAAAAAA48JAAAAAACAQBUEAAAAAgJQEQQAAAACgRwdBAAAAANBX90AAAAAA7MUfQQAAAABgQiBBAAAAAG48I0EAAAAAjKQSQQAAAADA1dVAAAAAAJT3EUEAAAAA1IISQQAAAACAYetAAAAAAAomI0EAAAAABVo+QQAAAADi6yJBAAAAAAtkREE=",
          "dtype": "f8"
         }
        }
       ],
       "layout": {
        "coloraxis": {
         "colorbar": {
          "title": {
           "text": "total_count"
          }
         },
         "colorscale": [
          [
           0,
           "rgb(247,251,255)"
          ],
          [
           0.125,
           "rgb(222,235,247)"
          ],
          [
           0.25,
           "rgb(198,219,239)"
          ],
          [
           0.375,
           "rgb(158,202,225)"
          ],
          [
           0.5,
           "rgb(107,174,214)"
          ],
          [
           0.625,
           "rgb(66,146,198)"
          ],
          [
           0.75,
           "rgb(33,113,181)"
          ],
          [
           0.875,
           "rgb(8,81,156)"
          ],
          [
           1,
           "rgb(8,48,107)"
          ]
         ]
        },
        "legend": {
         "tracegroupgap": 0
        },
        "template": {
         "data": {
          "bar": [
           {
            "error_x": {
             "color": "#2a3f5f"
            },
            "error_y": {
             "color": "#2a3f5f"
            },
            "marker": {
             "line": {
              "color": "#E5ECF6",
              "width": 0.5
             },
             "pattern": {
              "fillmode": "overlay",
              "size": 10,
              "solidity": 0.2
             }
            },
            "type": "bar"
           }
          ],
          "barpolar": [
           {
            "marker": {
             "line": {
              "color": "#E5ECF6",
              "width": 0.5
             },
             "pattern": {
              "fillmode": "overlay",
              "size": 10,
              "solidity": 0.2
             }
            },
            "type": "barpolar"
           }
          ],
          "carpet": [
           {
            "aaxis": {
             "endlinecolor": "#2a3f5f",
             "gridcolor": "white",
             "linecolor": "white",
             "minorgridcolor": "white",
             "startlinecolor": "#2a3f5f"
            },
            "baxis": {
             "endlinecolor": "#2a3f5f",
             "gridcolor": "white",
             "linecolor": "white",
             "minorgridcolor": "white",
             "startlinecolor": "#2a3f5f"
            },
            "type": "carpet"
           }
          ],
          "choropleth": [
           {
            "colorbar": {
             "outlinewidth": 0,
             "ticks": ""
            },
            "type": "choropleth"
           }
          ],
          "contour": [
           {
            "colorbar": {
             "outlinewidth": 0,
             "ticks": ""
            },
            "colorscale": [
             [
              0,
              "#0d0887"
             ],
             [
              0.1111111111111111,
              "#46039f"
             ],
             [
              0.2222222222222222,
              "#7201a8"
             ],
             [
              0.3333333333333333,
              "#9c179e"
             ],
             [
              0.4444444444444444,
              "#bd3786"
             ],
             [
              0.5555555555555556,
              "#d8576b"
             ],
             [
              0.6666666666666666,
              "#ed7953"
             ],
             [
              0.7777777777777778,
              "#fb9f3a"
             ],
             [
              0.8888888888888888,
              "#fdca26"
             ],
             [
              1,
              "#f0f921"
             ]
            ],
            "type": "contour"
           }
          ],
          "contourcarpet": [
           {
            "colorbar": {
             "outlinewidth": 0,
             "ticks": ""
            },
            "type": "contourcarpet"
           }
          ],
          "heatmap": [
           {
            "colorbar": {
             "outlinewidth": 0,
             "ticks": ""
            },
            "colorscale": [
             [
              0,
              "#0d0887"
             ],
             [
              0.1111111111111111,
              "#46039f"
             ],
             [
              0.2222222222222222,
              "#7201a8"
             ],
             [
              0.3333333333333333,
              "#9c179e"
             ],
             [
              0.4444444444444444,
              "#bd3786"
             ],
             [
              0.5555555555555556,
              "#d8576b"
             ],
             [
              0.6666666666666666,
              "#ed7953"
             ],
             [
              0.7777777777777778,
              "#fb9f3a"
             ],
             [
              0.8888888888888888,
              "#fdca26"
             ],
             [
              1,
              "#f0f921"
             ]
            ],
            "type": "heatmap"
           }
          ],
          "histogram": [
           {
            "marker": {
             "pattern": {
              "fillmode": "overlay",
              "size": 10,
              "solidity": 0.2
             }
            },
            "type": "histogram"
           }
          ],
          "histogram2d": [
           {
            "colorbar": {
             "outlinewidth": 0,
             "ticks": ""
            },
            "colorscale": [
             [
              0,
              "#0d0887"
             ],
             [
              0.1111111111111111,
              "#46039f"
             ],
             [
              0.2222222222222222,
              "#7201a8"
             ],
             [
              0.3333333333333333,
              "#9c179e"
             ],
             [
              0.4444444444444444,
              "#bd3786"
             ],
             [
              0.5555555555555556,
              "#d8576b"
             ],
             [
              0.6666666666666666,
              "#ed7953"
             ],
             [
              0.7777777777777778,
              "#fb9f3a"
             ],
             [
              0.8888888888888888,
              "#fdca26"
             ],
             [
              1,
              "#f0f921"
             ]
            ],
            "type": "histogram2d"
           }
          ],
          "histogram2dcontour": [
           {
            "colorbar": {
             "outlinewidth": 0,
             "ticks": ""
            },
            "colorscale": [
             [
              0,
              "#0d0887"
             ],
             [
              0.1111111111111111,
              "#46039f"
             ],
             [
              0.2222222222222222,
              "#7201a8"
             ],
             [
              0.3333333333333333,
              "#9c179e"
             ],
             [
              0.4444444444444444,
              "#bd3786"
             ],
             [
              0.5555555555555556,
              "#d8576b"
             ],
             [
              0.6666666666666666,
              "#ed7953"
             ],
             [
              0.7777777777777778,
              "#fb9f3a"
             ],
             [
              0.8888888888888888,
              "#fdca26"
             ],
             [
              1,
              "#f0f921"
             ]
            ],
            "type": "histogram2dcontour"
           }
          ],
          "mesh3d": [
           {
            "colorbar": {
             "outlinewidth": 0,
             "ticks": ""
            },
            "type": "mesh3d"
           }
          ],
          "parcoords": [
           {
            "line": {
             "colorbar": {
              "outlinewidth": 0,
              "ticks": ""
             }
            },
            "type": "parcoords"
           }
          ],
          "pie": [
           {
            "automargin": true,
            "type": "pie"
           }
          ],
          "scatter": [
           {
            "fillpattern": {
             "fillmode": "overlay",
             "size": 10,
             "solidity": 0.2
            },
            "type": "scatter"
           }
          ],
          "scatter3d": [
           {
            "line": {
             "colorbar": {
              "outlinewidth": 0,
              "ticks": ""
             }
            },
            "marker": {
             "colorbar": {
              "outlinewidth": 0,
              "ticks": ""
             }
            },
            "type": "scatter3d"
           }
          ],
          "scattercarpet": [
           {
            "marker": {
             "colorbar": {
              "outlinewidth": 0,
              "ticks": ""
             }
            },
            "type": "scattercarpet"
           }
          ],
          "scattergeo": [
           {
            "marker": {
             "colorbar": {
              "outlinewidth": 0,
              "ticks": ""
             }
            },
            "type": "scattergeo"
           }
          ],
          "scattergl": [
           {
            "marker": {
             "colorbar": {
              "outlinewidth": 0,
              "ticks": ""
             }
            },
            "type": "scattergl"
           }
          ],
          "scattermap": [
           {
            "marker": {
             "colorbar": {
              "outlinewidth": 0,
              "ticks": ""
             }
            },
            "type": "scattermap"
           }
          ],
          "scattermapbox": [
           {
            "marker": {
             "colorbar": {
              "outlinewidth": 0,
              "ticks": ""
             }
            },
            "type": "scattermapbox"
           }
          ],
          "scatterpolar": [
           {
            "marker": {
             "colorbar": {
              "outlinewidth": 0,
              "ticks": ""
             }
            },
            "type": "scatterpolar"
           }
          ],
          "scatterpolargl": [
           {
            "marker": {
             "colorbar": {
              "outlinewidth": 0,
              "ticks": ""
             }
            },
            "type": "scatterpolargl"
           }
          ],
          "scatterternary": [
           {
            "marker": {
             "colorbar": {
              "outlinewidth": 0,
              "ticks": ""
             }
            },
            "type": "scatterternary"
           }
          ],
          "surface": [
           {
            "colorbar": {
             "outlinewidth": 0,
             "ticks": ""
            },
            "colorscale": [
             [
              0,
              "#0d0887"
             ],
             [
              0.1111111111111111,
              "#46039f"
             ],
             [
              0.2222222222222222,
              "#7201a8"
             ],
             [
              0.3333333333333333,
              "#9c179e"
             ],
             [
              0.4444444444444444,
              "#bd3786"
             ],
             [
              0.5555555555555556,
              "#d8576b"
             ],
             [
              0.6666666666666666,
              "#ed7953"
             ],
             [
              0.7777777777777778,
              "#fb9f3a"
             ],
             [
              0.8888888888888888,
              "#fdca26"
             ],
             [
              1,
              "#f0f921"
             ]
            ],
            "type": "surface"
           }
          ],
          "table": [
           {
            "cells": {
             "fill": {
              "color": "#EBF0F8"
             },
             "line": {
              "color": "white"
             }
            },
            "header": {
             "fill": {
              "color": "#C8D4E3"
             },
             "line": {
              "color": "white"
             }
            },
            "type": "table"
           }
          ]
         },
         "layout": {
          "annotationdefaults": {
           "arrowcolor": "#2a3f5f",
           "arrowhead": 0,
           "arrowwidth": 1
          },
          "autotypenumbers": "strict",
          "coloraxis": {
           "colorbar": {
            "outlinewidth": 0,
            "ticks": ""
           }
          },
          "colorscale": {
           "diverging": [
            [
             0,
             "#8e0152"
            ],
            [
             0.1,
             "#c51b7d"
            ],
            [
             0.2,
             "#de77ae"
            ],
            [
             0.3,
             "#f1b6da"
            ],
            [
             0.4,
             "#fde0ef"
            ],
            [
             0.5,
             "#f7f7f7"
            ],
            [
             0.6,
             "#e6f5d0"
            ],
            [
             0.7,
             "#b8e186"
            ],
            [
             0.8,
             "#7fbc41"
            ],
            [
             0.9,
             "#4d9221"
            ],
            [
             1,
             "#276419"
            ]
           ],
           "sequential": [
            [
             0,
             "#0d0887"
            ],
            [
             0.1111111111111111,
             "#46039f"
            ],
            [
             0.2222222222222222,
             "#7201a8"
            ],
            [
             0.3333333333333333,
             "#9c179e"
            ],
            [
             0.4444444444444444,
             "#bd3786"
            ],
            [
             0.5555555555555556,
             "#d8576b"
            ],
            [
             0.6666666666666666,
             "#ed7953"
            ],
            [
             0.7777777777777778,
             "#fb9f3a"
            ],
            [
             0.8888888888888888,
             "#fdca26"
            ],
            [
             1,
             "#f0f921"
            ]
           ],
           "sequentialminus": [
            [
             0,
             "#0d0887"
            ],
            [
             0.1111111111111111,
             "#46039f"
            ],
            [
             0.2222222222222222,
             "#7201a8"
            ],
            [
             0.3333333333333333,
             "#9c179e"
            ],
            [
             0.4444444444444444,
             "#bd3786"
            ],
            [
             0.5555555555555556,
             "#d8576b"
            ],
            [
             0.6666666666666666,
             "#ed7953"
            ],
            [
             0.7777777777777778,
             "#fb9f3a"
            ],
            [
             0.8888888888888888,
             "#fdca26"
            ],
            [
             1,
             "#f0f921"
            ]
           ]
          },
          "colorway": [
           "#636efa",
           "#EF553B",
           "#00cc96",
           "#ab63fa",
           "#FFA15A",
           "#19d3f3",
           "#FF6692",
           "#B6E880",
           "#FF97FF",
           "#FECB52"
          ],
          "font": {
           "color": "#2a3f5f"
          },
          "geo": {
           "bgcolor": "white",
           "lakecolor": "white",
           "landcolor": "#E5ECF6",
           "showlakes": true,
           "showland": true,
           "subunitcolor": "white"
          },
          "hoverlabel": {
           "align": "left"
          },
          "hovermode": "closest",
          "mapbox": {
           "style": "light"
          },
          "paper_bgcolor": "white",
          "plot_bgcolor": "#E5ECF6",
          "polar": {
           "angularaxis": {
            "gridcolor": "white",
            "linecolor": "white",
            "ticks": ""
           },
           "bgcolor": "#E5ECF6",
           "radialaxis": {
            "gridcolor": "white",
            "linecolor": "white",
            "ticks": ""
           }
          },
          "scene": {
           "xaxis": {
            "backgroundcolor": "#E5ECF6",
            "gridcolor": "white",
            "gridwidth": 2,
            "linecolor": "white",
            "showbackground": true,
            "ticks": "",
            "zerolinecolor": "white"
           },
           "yaxis": {
            "backgroundcolor": "#E5ECF6",
            "gridcolor": "white",
            "gridwidth": 2,
            "linecolor": "white",
            "showbackground": true,
            "ticks": "",
            "zerolinecolor": "white"
           },
           "zaxis": {
            "backgroundcolor": "#E5ECF6",
            "gridcolor": "white",
            "gridwidth": 2,
            "linecolor": "white",
            "showbackground": true,
            "ticks": "",
            "zerolinecolor": "white"
           }
          },
          "shapedefaults": {
           "line": {
            "color": "#2a3f5f"
           }
          },
          "ternary": {
           "aaxis": {
            "gridcolor": "white",
            "linecolor": "white",
            "ticks": ""
           },
           "baxis": {
            "gridcolor": "white",
            "linecolor": "white",
            "ticks": ""
           },
           "bgcolor": "#E5ECF6",
           "caxis": {
            "gridcolor": "white",
            "linecolor": "white",
            "ticks": ""
           }
          },
          "title": {
           "x": 0.05
          },
          "xaxis": {
           "automargin": true,
           "gridcolor": "white",
           "linecolor": "white",
           "ticks": "",
           "title": {
            "standoff": 15
           },
           "zerolinecolor": "white",
           "zerolinewidth": 2
          },
          "yaxis": {
           "automargin": true,
           "gridcolor": "white",
           "linecolor": "white",
           "ticks": "",
           "title": {
            "standoff": 15
           },
           "zerolinecolor": "white",
           "zerolinewidth": 2
          }
         }
        },
        "title": {
         "text": "Treemap of Usage by User Type, Day Type, Season, and Weather"
        }
       }
      }
     },
     "metadata": {},
     "output_type": "display_data"
    }
   ],
   "source": [
    "import pandas as pd\n",
    "import plotly.express as px\n",
    "\n",
    "df = pd.read_csv(\"treemap_data.csv\")\n",
    "print(df.head())  # verify proper columns\n",
    "\n",
    "fig = px.treemap(\n",
    "    df,\n",
    "    path=['user_type', 'day_type', 'season_label', 'weather_label'],\n",
    "    values='total_count',\n",
    "    color='total_count',\n",
    "    color_continuous_scale='Blues',\n",
    "    title='Treemap of Usage by User Type, Day Type, Season, and Weather'\n",
    ")\n",
    "fig.show()"
   ]
  },
  {
   "cell_type": "code",
   "execution_count": 6,
   "id": "54434fa1",
   "metadata": {},
   "outputs": [
    {
     "data": {
      "text/html": [
       "\n",
       "        <iframe\n",
       "            width=\"100%\"\n",
       "            height=\"650\"\n",
       "            src=\"http://127.0.0.1:8050/\"\n",
       "            frameborder=\"0\"\n",
       "            allowfullscreen\n",
       "            \n",
       "        ></iframe>\n",
       "        "
      ],
      "text/plain": [
       "<IPython.lib.display.IFrame at 0x134705250>"
      ]
     },
     "metadata": {},
     "output_type": "display_data"
    }
   ],
   "source": [
    "import pandas as pd\n",
    "import plotly.express as px\n",
    "from dash import Dash, html, dcc\n",
    "\n",
    "# ==========================\n",
    "# 1. Load your clean CSV\n",
    "# ==========================\n",
    "df = pd.read_csv(\"treemap_data.csv\")\n",
    "\n",
    "# ==========================\n",
    "# 2. Build a Treemap\n",
    "# ==========================\n",
    "# Use a color scale that is colorblind-friendly like 'Viridis' or 'Cividis'\n",
    "fig = px.treemap(\n",
    "    df,\n",
    "    path=['user_type', 'day_type', 'season_label', 'weather_label'],\n",
    "    values='total_count',\n",
    "    color='total_count',\n",
    "    color_continuous_scale='Viridis',   # accessible color scheme\n",
    "    title='Treemap of Usage by User Type, Day Type, Season, and Weather',\n",
    "    hover_data={\n",
    "        'user_type': True,\n",
    "        'day_type': True,\n",
    "        'season_label': True,\n",
    "        'weather_label': True,\n",
    "        'total_count': True\n",
    "    }\n",
    ")\n",
    "\n",
    "# Remove in-plot labels to avoid clutter\n",
    "fig.update_traces(textinfo=\"none\")\n",
    "\n",
    "# ==========================\n",
    "# 3. Build a Dash app to host the dynamic plot\n",
    "# ==========================\n",
    "app = Dash(__name__)\n",
    "\n",
    "# Create explanatory info beside plot\n",
    "description = \"\"\"\n",
    "**What this shows:**  \n",
    "- User Type → Day Type → Season → Weather  \n",
    "- Size and color represent total rides.  \n",
    "**How to use:** Hover on segments to see details.\n",
    "\"\"\"\n",
    "\n",
    "app.layout = html.Div([\n",
    "    html.H1(\"Bike Share Treemap Dashboard\", style={'textAlign': 'center'}),\n",
    "    \n",
    "    html.Div([\n",
    "        # Left: Treemap plot\n",
    "        html.Div([\n",
    "            dcc.Graph(figure=fig, style={'height': '90vh'})\n",
    "        ], style={'flex': '2', 'padding': '10px'}),\n",
    "\n",
    "        # Right: Explanation panel\n",
    "        html.Div([\n",
    "            html.H3(\"📌 Information\", style={'marginTop': '20px'}),\n",
    "            dcc.Markdown(description, style={'whiteSpace': 'pre-line', 'fontSize': '16px'}),\n",
    "            html.H4(\"Legend / Notes:\"),\n",
    "            html.Ul([\n",
    "                html.Li(\"**User Type**: Casual or Registered\"),\n",
    "                html.Li(\"**Day Type**: Working Day, Weekend, or Holiday\"),\n",
    "                html.Li(\"**Season**: Winter, Spring, Summer, Fall\"),\n",
    "                html.Li(\"**Weather**: Clear, Mist/Cloudy, Light Rain/Snow, Heavy Rain/Fog\"),\n",
    "                html.Li(\"Hover over each section to see counts\")\n",
    "            ], style={'fontSize': '15px'}),\n",
    "        ], style={'flex': '1', 'padding': '10px', 'borderLeft': '2px solid #ccc'})\n",
    "    ], style={'display': 'flex', 'flexDirection': 'row'})\n",
    "])\n",
    "\n",
    "if __name__ == \"__main__\":\n",
    "    app.run(debug=True, port=8050)\n"
   ]
  }
 ],
 "metadata": {
  "kernelspec": {
   "display_name": "dsi_participant",
   "language": "python",
   "name": "python3"
  },
  "language_info": {
   "codemirror_mode": {
    "name": "ipython",
    "version": 3
   },
   "file_extension": ".py",
   "mimetype": "text/x-python",
   "name": "python",
   "nbconvert_exporter": "python",
   "pygments_lexer": "ipython3",
   "version": "3.9.7"
  }
 },
 "nbformat": 4,
 "nbformat_minor": 5
}
